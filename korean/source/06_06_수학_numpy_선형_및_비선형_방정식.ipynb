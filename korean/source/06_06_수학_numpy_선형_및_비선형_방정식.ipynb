{
  "nbformat": 4,
  "nbformat_minor": 0,
  "metadata": {
    "colab": {
      "provenance": [],
      "authorship_tag": "ABX9TyOCSHnndBmE32/qj7l4oXmI",
      "include_colab_link": true
    },
    "kernelspec": {
      "name": "python3",
      "display_name": "Python 3"
    },
    "language_info": {
      "name": "python"
    }
  },
  "cells": [
    {
      "cell_type": "markdown",
      "metadata": {
        "id": "view-in-github",
        "colab_type": "text"
      },
      "source": [
        "<a href=\"https://colab.research.google.com/github/yongjaeahn/python_coding/blob/main/korean/source/06_06_%EC%88%98%ED%95%99_numpy_%EC%84%A0%ED%98%95_%EB%B0%8F_%EB%B9%84%EC%84%A0%ED%98%95_%EB%B0%A9%EC%A0%95%EC%8B%9D.ipynb\" target=\"_parent\"><img src=\"https://colab.research.google.com/assets/colab-badge.svg\" alt=\"Open In Colab\"/></a>"
      ]
    },
    {
      "cell_type": "markdown",
      "source": [
        "\tnumpy 선형 및 비선형 방정식"
      ],
      "metadata": {
        "id": "PlijbeHBHVyA"
      }
    },
    {
      "cell_type": "markdown",
      "source": [
        "일차방정식"
      ],
      "metadata": {
        "id": "7NXqSOPGHYDN"
      }
    },
    {
      "cell_type": "code",
      "execution_count": null,
      "metadata": {
        "colab": {
          "base_uri": "https://localhost:8080/"
        },
        "id": "kWqCLTs3fEAe",
        "outputId": "db5b2d37-6798-485c-8bd7-cdacefdaca1c"
      },
      "outputs": [
        {
          "output_type": "stream",
          "name": "stdout",
          "text": [
            "x가 2일 때 f(x) = 2x - 3식의 계산 결과 : 1\n"
          ]
        }
      ],
      "source": [
        "x = 2\n",
        "y = 2 * x - 3\n",
        "print('x가 2일 때 f(x) = 2x - 3식의 계산 결과 :',y)"
      ]
    },
    {
      "cell_type": "code",
      "source": [
        "def f(x):\n",
        "  return 2 * x - 3\n",
        "\n",
        "x = 2\n",
        "y = f(x)\n",
        "print('x가 2일 때 f(x) = 2x - 3식의 계산 결과 :',y)\n",
        "x = 3\n",
        "y = f(x)\n",
        "print('x가 3일 때 f(x) = 2x - 3식의 계산 결과 :',y)"
      ],
      "metadata": {
        "colab": {
          "base_uri": "https://localhost:8080/"
        },
        "id": "-YHFEA5tOgaR",
        "outputId": "22cc71ae-f2c9-4808-bb37-33394d2b5de1"
      },
      "execution_count": null,
      "outputs": [
        {
          "output_type": "stream",
          "name": "stdout",
          "text": [
            "x가 2일 때 f(x) = 2x - 3식의 계산 결과 : 1\n",
            "x가 3일 때 f(x) = 2x - 3식의 계산 결과 : 3\n"
          ]
        }
      ]
    },
    {
      "cell_type": "code",
      "source": [
        "def fsolve():\n",
        "  return 3 / 2\n",
        "\n",
        "root = fsolve()\n",
        "print('f(x) = 2x - 3 식의 근 :',root)\n",
        "y = f(root)\n",
        "print('근을 사용한 f(x) = 2x - 3식의 계산 결과 :',y)"
      ],
      "metadata": {
        "colab": {
          "base_uri": "https://localhost:8080/"
        },
        "id": "S4jisM9iR3Fu",
        "outputId": "f1e8bee5-af90-4db1-9b8d-019e60847c90"
      },
      "execution_count": null,
      "outputs": [
        {
          "output_type": "stream",
          "name": "stdout",
          "text": [
            "f(x) = 2x - 3 식의 근 : 1.5\n",
            "근을 사용한 f(x) = 2x - 3식의 계산 결과 : 0.0\n"
          ]
        }
      ]
    },
    {
      "cell_type": "markdown",
      "source": [
        "이차방정식"
      ],
      "metadata": {
        "id": "gEomN2qyH9mF"
      }
    },
    {
      "cell_type": "code",
      "source": [
        "def f(x):\n",
        "  return x ** 2 + 2 * x + 1"
      ],
      "metadata": {
        "id": "VLs1e6vBW_GO"
      },
      "execution_count": null,
      "outputs": []
    },
    {
      "cell_type": "code",
      "source": [
        "import math\n",
        "\n",
        "def fsolve(a,b,c):\n",
        "  x1 = (-b + math.sqrt(b**2 - 4*a*c)) / (2*a)\n",
        "  x2 = (-b - math.sqrt(b**2 - 4*a*c)) / (2*a)\n",
        "  return x1, x2"
      ],
      "metadata": {
        "id": "Ss4SYoU5Zwz0"
      },
      "execution_count": null,
      "outputs": []
    },
    {
      "cell_type": "code",
      "source": [
        "root1, root2 = fsolve(1,2,1)\n",
        "print('f(x) = x**2 + 2x + 1식의 근 :',root1, root2)\n",
        "y = f(root1)\n",
        "print('근1을 사용한 f(x) = x**2 + 2x + 1식의 계산 결과 :',y)\n",
        "y = f(root2)\n",
        "print('근2을 사용한 f(x) = x**2 + 2x + 1식의 계산 결과 :',y)"
      ],
      "metadata": {
        "colab": {
          "base_uri": "https://localhost:8080/"
        },
        "id": "2Dz-6q3Jdvro",
        "outputId": "ce8bb8fe-aedf-4e03-c42c-81f2aa399a26"
      },
      "execution_count": null,
      "outputs": [
        {
          "output_type": "stream",
          "name": "stdout",
          "text": [
            "f(x) = x**2 + 2x + 1식의 근 : -1.0 -1.0\n",
            "근1을 사용한 f(x) = x**2 + 2x + 1식의 계산 결과 : 0.0\n",
            "근2을 사용한 f(x) = x**2 + 2x + 1식의 계산 결과 : 0.0\n"
          ]
        }
      ]
    },
    {
      "cell_type": "markdown",
      "source": [
        "함수의 개선과 확장 그리고 다차방정식"
      ],
      "metadata": {
        "id": "LdqLoSKEIMlk"
      }
    },
    {
      "cell_type": "code",
      "source": [
        "root1, root2 = fsolve(1,1,1)\n",
        "print('f(x) = x**2 + x + 1식의 근 :',root1, root2)"
      ],
      "metadata": {
        "colab": {
          "base_uri": "https://localhost:8080/",
          "height": 325
        },
        "id": "JHD60VCkvXPS",
        "outputId": "bbc5cab6-2a8e-4d00-ad79-a1f847f0ecb1"
      },
      "execution_count": null,
      "outputs": [
        {
          "output_type": "error",
          "ename": "ValueError",
          "evalue": "ignored",
          "traceback": [
            "\u001b[0;31m---------------------------------------------------------------------------\u001b[0m",
            "\u001b[0;31mValueError\u001b[0m                                Traceback (most recent call last)",
            "\u001b[0;32m<ipython-input-21-8fe687737f13>\u001b[0m in \u001b[0;36m<cell line: 1>\u001b[0;34m()\u001b[0m\n\u001b[0;32m----> 1\u001b[0;31m \u001b[0mroot1\u001b[0m\u001b[0;34m,\u001b[0m \u001b[0mroot2\u001b[0m \u001b[0;34m=\u001b[0m \u001b[0mfsolve\u001b[0m\u001b[0;34m(\u001b[0m\u001b[0;36m1\u001b[0m\u001b[0;34m,\u001b[0m\u001b[0;36m1\u001b[0m\u001b[0;34m,\u001b[0m\u001b[0;36m1\u001b[0m\u001b[0;34m)\u001b[0m\u001b[0;34m\u001b[0m\u001b[0;34m\u001b[0m\u001b[0m\n\u001b[0m\u001b[1;32m      2\u001b[0m \u001b[0mprint\u001b[0m\u001b[0;34m(\u001b[0m\u001b[0;34m'f(x) = x**2 + x + 1식의 근 :'\u001b[0m\u001b[0;34m,\u001b[0m\u001b[0mroot1\u001b[0m\u001b[0;34m,\u001b[0m \u001b[0mroot2\u001b[0m\u001b[0;34m)\u001b[0m\u001b[0;34m\u001b[0m\u001b[0;34m\u001b[0m\u001b[0m\n",
            "\u001b[0;32m<ipython-input-19-55f6c70618d6>\u001b[0m in \u001b[0;36mfsolve\u001b[0;34m(a, b, c)\u001b[0m\n\u001b[1;32m      2\u001b[0m \u001b[0;34m\u001b[0m\u001b[0m\n\u001b[1;32m      3\u001b[0m \u001b[0;32mdef\u001b[0m \u001b[0mfsolve\u001b[0m\u001b[0;34m(\u001b[0m\u001b[0ma\u001b[0m\u001b[0;34m,\u001b[0m\u001b[0mb\u001b[0m\u001b[0;34m,\u001b[0m\u001b[0mc\u001b[0m\u001b[0;34m)\u001b[0m\u001b[0;34m:\u001b[0m\u001b[0;34m\u001b[0m\u001b[0;34m\u001b[0m\u001b[0m\n\u001b[0;32m----> 4\u001b[0;31m   \u001b[0mx1\u001b[0m \u001b[0;34m=\u001b[0m \u001b[0;34m(\u001b[0m\u001b[0;34m-\u001b[0m\u001b[0mb\u001b[0m \u001b[0;34m+\u001b[0m \u001b[0mmath\u001b[0m\u001b[0;34m.\u001b[0m\u001b[0msqrt\u001b[0m\u001b[0;34m(\u001b[0m\u001b[0mb\u001b[0m\u001b[0;34m**\u001b[0m\u001b[0;36m2\u001b[0m \u001b[0;34m-\u001b[0m \u001b[0;36m4\u001b[0m\u001b[0;34m*\u001b[0m\u001b[0ma\u001b[0m\u001b[0;34m*\u001b[0m\u001b[0mc\u001b[0m\u001b[0;34m)\u001b[0m\u001b[0;34m)\u001b[0m \u001b[0;34m/\u001b[0m \u001b[0;34m(\u001b[0m\u001b[0;36m2\u001b[0m\u001b[0;34m*\u001b[0m\u001b[0ma\u001b[0m\u001b[0;34m)\u001b[0m\u001b[0;34m\u001b[0m\u001b[0;34m\u001b[0m\u001b[0m\n\u001b[0m\u001b[1;32m      5\u001b[0m   \u001b[0mx2\u001b[0m \u001b[0;34m=\u001b[0m \u001b[0;34m(\u001b[0m\u001b[0;34m-\u001b[0m\u001b[0mb\u001b[0m \u001b[0;34m-\u001b[0m \u001b[0mmath\u001b[0m\u001b[0;34m.\u001b[0m\u001b[0msqrt\u001b[0m\u001b[0;34m(\u001b[0m\u001b[0mb\u001b[0m\u001b[0;34m**\u001b[0m\u001b[0;36m2\u001b[0m \u001b[0;34m-\u001b[0m \u001b[0;36m4\u001b[0m\u001b[0;34m*\u001b[0m\u001b[0ma\u001b[0m\u001b[0;34m*\u001b[0m\u001b[0mc\u001b[0m\u001b[0;34m)\u001b[0m\u001b[0;34m)\u001b[0m \u001b[0;34m/\u001b[0m \u001b[0;34m(\u001b[0m\u001b[0;36m2\u001b[0m\u001b[0;34m*\u001b[0m\u001b[0ma\u001b[0m\u001b[0;34m)\u001b[0m\u001b[0;34m\u001b[0m\u001b[0;34m\u001b[0m\u001b[0m\n\u001b[1;32m      6\u001b[0m   \u001b[0;32mreturn\u001b[0m \u001b[0mx1\u001b[0m\u001b[0;34m,\u001b[0m \u001b[0mx2\u001b[0m\u001b[0;34m\u001b[0m\u001b[0;34m\u001b[0m\u001b[0m\n",
            "\u001b[0;31mValueError\u001b[0m: math domain error"
          ]
        }
      ]
    },
    {
      "cell_type": "code",
      "source": [
        "#import math\n",
        "\n",
        "def fsolve(a,b,c):\n",
        "  discriminant = (b**2 - 4*a*c) ** 0.5\n",
        "  x1 = (-b + discriminant) / (2*a)\n",
        "  x2 = (-b - discriminant) / (2*a)\n",
        "  return x1, x2\n",
        "\n",
        "root1, root2 = fsolve(1,2,1)\n",
        "print('f(x) = x**2 + 2x + 1식의 근 :',root1, root2)\n",
        "y = f(root1)\n",
        "print('근1을 사용한 f(x) = x**2 + 2x + 1식의 계산 결과 :',y)\n",
        "y = f(root2)\n",
        "print('근2을 사용한 f(x) = x**2 + 2x + 1식의 계산 결과 :',y)"
      ],
      "metadata": {
        "colab": {
          "base_uri": "https://localhost:8080/"
        },
        "id": "lnxI66vHqexH",
        "outputId": "4c606749-5129-4128-8e2d-ad066cc23eb5"
      },
      "execution_count": null,
      "outputs": [
        {
          "output_type": "stream",
          "name": "stdout",
          "text": [
            "f(x) = x**2 + 2x + 1식의 근 : -1.0 -1.0\n",
            "근1을 사용한 f(x) = x**2 + 2x + 1식의 계산 결과 : 0.0\n",
            "근2을 사용한 f(x) = x**2 + 2x + 1식의 계산 결과 : 0.0\n"
          ]
        }
      ]
    },
    {
      "cell_type": "code",
      "source": [
        "#import math\n",
        "\n",
        "def fsolve(a,b,c):\n",
        "  # x1 = (-b + math.sqrt(b**2 - 4*a*c)) / (2*a)\n",
        "  # x2 = (-b - math.sqrt(b**2 - 4*a*c)) / (2*a)\n",
        "  # discriminant 변수를 사용하여 중복된 코드를 제거하여 수행 속도와 코드 유지보수성을 향상시킴\n",
        "  # sqrt() 함수를 0.5를 거듭제곱하는 방식으로 수정하여 메모리 사용량을 줄임\n",
        "\n",
        "  discriminant = (b**2 - 4*a*c) ** 0.5\n",
        "  x1 = (-b + discriminant) / (2*a)\n",
        "  x2 = (-b - discriminant) / (2*a)\n",
        "\n",
        "  return x1, x2"
      ],
      "metadata": {
        "id": "mRirfXge5Pmm"
      },
      "execution_count": null,
      "outputs": []
    },
    {
      "cell_type": "markdown",
      "source": [
        "다항식"
      ],
      "metadata": {
        "id": "N1B-gbnYIWjd"
      }
    },
    {
      "cell_type": "code",
      "source": [
        "import numpy as np\n",
        "\n",
        "f = np.poly1d([2,-3])\n",
        "print('방정식 : f(x)=',f)\n",
        "root = np.roots(f)\n",
        "print('방정식의 근:', root)\n",
        "y = np.polyval(f,root)    # y = f(root)\n",
        "print('근을 사용한 방정식의 계산 결과 :', y)"
      ],
      "metadata": {
        "colab": {
          "base_uri": "https://localhost:8080/"
        },
        "id": "RIYaS8yFqg4I",
        "outputId": "9e8da217-0232-47b5-8794-18155a3fcb05"
      },
      "execution_count": null,
      "outputs": [
        {
          "output_type": "stream",
          "name": "stdout",
          "text": [
            "방정식 : f(x)=  \n",
            "2 x - 3\n",
            "방정식의 근: [1.5]\n",
            "근을 사용한 방정식의 계산 결과 : [0.]\n"
          ]
        }
      ]
    },
    {
      "cell_type": "code",
      "source": [
        "import numpy as np\n",
        "\n",
        "f = np.poly1d([1,2,1])\n",
        "print('방정식 : f(x)=')\n",
        "print(f)\n",
        "root = np.roots(f)\n",
        "print('방정식의 근:', root)\n",
        "y = np.polyval(f,root)    # y = f(root)\n",
        "print('근을 사용한 방정식의 계산 결과 :', y)"
      ],
      "metadata": {
        "colab": {
          "base_uri": "https://localhost:8080/"
        },
        "id": "W-EU7A-9vvzS",
        "outputId": "fbb73b58-0494-4d79-d475-87b55219b680"
      },
      "execution_count": null,
      "outputs": [
        {
          "output_type": "stream",
          "name": "stdout",
          "text": [
            "방정식 : f(x)=\n",
            "   2\n",
            "1 x + 2 x + 1\n",
            "방정식의 근: [-1. -1.]\n",
            "근을 사용한 방정식의 계산 결과 : [0. 0.]\n"
          ]
        }
      ]
    },
    {
      "cell_type": "code",
      "source": [
        "import numpy as np\n",
        "f = np.poly1d([1,2,1])\n",
        "print('np.poly1d() 함수로 생성된 방정식의 객체유형(클래스,class) :', type(f))\n",
        "print('근을 사용한 방정식의 계산 결과 :', f(root))\n",
        "print(f)\n",
        "f"
      ],
      "metadata": {
        "colab": {
          "base_uri": "https://localhost:8080/"
        },
        "id": "svkt4n_yZe7O",
        "outputId": "0e6f1c93-dc7f-4010-e967-46771b828db9"
      },
      "execution_count": null,
      "outputs": [
        {
          "output_type": "stream",
          "name": "stdout",
          "text": [
            "np.poly1d() 함수로 생성된 방정식의 객체유형(클래스,class) : <class 'numpy.poly1d'>\n",
            "근을 사용한 방정식의 계산 결과 : [0. 0.]\n",
            "   2\n",
            "1 x + 2 x + 1\n"
          ]
        },
        {
          "output_type": "execute_result",
          "data": {
            "text/plain": [
              "poly1d([1, 2, 1])"
            ]
          },
          "metadata": {},
          "execution_count": 27
        }
      ]
    },
    {
      "cell_type": "code",
      "source": [
        "import numpy as np\n",
        "\n",
        "f = np.poly1d([3,-2,0,4])\n",
        "print('방정식 : f(x)=')\n",
        "print(f)\n",
        "root = np.roots(f)\n",
        "print('방정식의 근:', root)\n",
        "y = np.polyval(f,root)\n",
        "print('근을 사용한 방정식의 계산 결과 :', y)"
      ],
      "metadata": {
        "colab": {
          "base_uri": "https://localhost:8080/"
        },
        "id": "wKM1EHluyNwm",
        "outputId": "d57d2b9f-c84e-46c4-d008-6cd7253b7569"
      },
      "execution_count": null,
      "outputs": [
        {
          "output_type": "stream",
          "name": "stdout",
          "text": [
            "방정식 : f(x)=\n",
            "   3     2\n",
            "3 x - 2 x + 4\n",
            "방정식의 근: [ 0.79205291+0.90883051j  0.79205291-0.90883051j -0.91743916+0.j        ]\n",
            "근을 사용한 방정식의 계산 결과 : [-4.4408921e-15+1.77635684e-15j -4.4408921e-15-1.77635684e-15j\n",
            "  8.8817842e-16+0.00000000e+00j]\n"
          ]
        }
      ]
    },
    {
      "cell_type": "code",
      "source": [
        "import math\n",
        "\n",
        "for i in y:\n",
        "  print('계산결과의 실수부', format(i.real,'.16f'),'이 0과 같은지 여부 :',math.isclose(i.real,0))\n",
        "  print('계산결과의 허수부', format(i.imag,'.16f'),'이 0과 같은지 여부 :',math.isclose(i.imag,0))"
      ],
      "metadata": {
        "colab": {
          "base_uri": "https://localhost:8080/"
        },
        "id": "woo19DUi1XrS",
        "outputId": "9de5f878-be2a-43e2-bbdd-dff77b973a15"
      },
      "execution_count": null,
      "outputs": [
        {
          "output_type": "stream",
          "name": "stdout",
          "text": [
            "계산결과의 실수부 -0.0000000000000044 이 0과 같은지 여부 : False\n",
            "계산결과의 허수부 0.0000000000000018 이 0과 같은지 여부 : False\n",
            "계산결과의 실수부 -0.0000000000000044 이 0과 같은지 여부 : False\n",
            "계산결과의 허수부 -0.0000000000000018 이 0과 같은지 여부 : False\n",
            "계산결과의 실수부 0.0000000000000009 이 0과 같은지 여부 : False\n",
            "계산결과의 허수부 0.0000000000000000 이 0과 같은지 여부 : True\n"
          ]
        }
      ]
    },
    {
      "cell_type": "code",
      "source": [
        "import math\n",
        "\n",
        "for i in y:\n",
        "  print('계산결과의 실수부', format(i.real,'.16f'),'이 0과 같은지 여부 :',math.isclose(i.real,0,abs_tol=1e-14))\n",
        "  print('계산결과의 허수부', format(i.imag,'.16f'),'이 0과 같은지 여부 :',math.isclose(i.imag,0,abs_tol=1e-14))"
      ],
      "metadata": {
        "colab": {
          "base_uri": "https://localhost:8080/"
        },
        "id": "HHO2P1qZFDfo",
        "outputId": "82c7e6bb-d056-44db-9cfb-811c2a67e5c7"
      },
      "execution_count": null,
      "outputs": [
        {
          "output_type": "stream",
          "name": "stdout",
          "text": [
            "계산결과의 실수부 -0.0000000000000044 이 0과 같은지 여부 : True\n",
            "계산결과의 허수부 0.0000000000000018 이 0과 같은지 여부 : True\n",
            "계산결과의 실수부 -0.0000000000000044 이 0과 같은지 여부 : True\n",
            "계산결과의 허수부 -0.0000000000000018 이 0과 같은지 여부 : True\n",
            "계산결과의 실수부 0.0000000000000009 이 0과 같은지 여부 : True\n",
            "계산결과의 허수부 0.0000000000000000 이 0과 같은지 여부 : True\n"
          ]
        }
      ]
    },
    {
      "cell_type": "code",
      "source": [
        "for i in y:\n",
        "  print(i,'계산결과가 0과 같은지 여부 :',math.isclose(abs(i),0,abs_tol=1e-14))"
      ],
      "metadata": {
        "colab": {
          "base_uri": "https://localhost:8080/"
        },
        "id": "rCHVmVlCsvKW",
        "outputId": "e73918d3-6806-4675-944c-fd608949eda2"
      },
      "execution_count": null,
      "outputs": [
        {
          "output_type": "stream",
          "name": "stdout",
          "text": [
            "(-4.440892098500626e-15+1.7763568394002505e-15j) 계산결과가 0과 같은지 여부 : True\n",
            "(-4.440892098500626e-15-1.7763568394002505e-15j) 계산결과가 0과 같은지 여부 : True\n",
            "(8.881784197001252e-16+0j) 계산결과가 0과 같은지 여부 : True\n"
          ]
        }
      ]
    },
    {
      "cell_type": "code",
      "source": [
        "import numpy as np\n",
        "\n",
        "f = np.poly1d([1,2,3-3j])\n",
        "print('방정식 : f(x)=')\n",
        "print(f)\n",
        "root = np.roots(f)\n",
        "print('방정식의 근:', root)\n",
        "y = np.polyval(f,root)\n",
        "print('근을 사용한 방정식의 계산 결과 :', y)"
      ],
      "metadata": {
        "colab": {
          "base_uri": "https://localhost:8080/"
        },
        "id": "Y7NyAnvOPKD7",
        "outputId": "ce372af0-916d-4027-e0f1-18b6167f6732"
      },
      "execution_count": null,
      "outputs": [
        {
          "output_type": "stream",
          "name": "stdout",
          "text": [
            "방정식 : f(x)=\n",
            "   2\n",
            "1 x + 2 x + (3 + -3j)\n",
            "방정식의 근: [-1.89597748-1.67414923j -0.10402252+1.67414923j]\n",
            "근을 사용한 방정식의 계산 결과 : [-4.44089210e-16+3.55271368e-15j -1.33226763e-15+4.44089210e-16j]\n"
          ]
        }
      ]
    },
    {
      "cell_type": "markdown",
      "source": [
        "회귀방정식을 만들어 예측하기"
      ],
      "metadata": {
        "id": "2wsdmI0UJGMe"
      }
    },
    {
      "cell_type": "code",
      "source": [
        "import numpy as np\n",
        "\n",
        "ages = np.array([10,17,27,24,38,35,29,40,12,32,23,21])\n",
        "weights = np.array([30,45,58,50,61,65,50,51,35,62,50,40])\n",
        "\n",
        "coefficients = np.polyfit(ages,weights,1)\n",
        "print('x의 계수 :',coefficients)"
      ],
      "metadata": {
        "colab": {
          "base_uri": "https://localhost:8080/"
        },
        "id": "g62kIY6o_1EW",
        "outputId": "aeb2a3e0-ff9f-4182-db71-d272daa7b0eb"
      },
      "execution_count": 2,
      "outputs": [
        {
          "output_type": "stream",
          "name": "stdout",
          "text": [
            "x의 계수 : [ 0.95016077 25.36254019]\n"
          ]
        }
      ]
    },
    {
      "cell_type": "code",
      "source": [
        "f = np.poly1d(coefficients)\n",
        "print('회귀방정식 :',f)\n",
        "expected_weight = np.polyval(f,30)\n",
        "print('30살일 때 예측되는 체중 :',expected_weight)"
      ],
      "metadata": {
        "colab": {
          "base_uri": "https://localhost:8080/"
        },
        "id": "G5MXW9B_sKvS",
        "outputId": "7a62c577-7717-4913-de14-fe76e99992ad"
      },
      "execution_count": 3,
      "outputs": [
        {
          "output_type": "stream",
          "name": "stdout",
          "text": [
            "회귀방정식 :  \n",
            "0.9502 x + 25.36\n",
            "30살일 때 예측되는 체중 : 53.86736334405144\n"
          ]
        }
      ]
    },
    {
      "cell_type": "code",
      "source": [
        "import matplotlib.pyplot as plt\n",
        "\n",
        "ages_for_prediction = np.arange(10,41)\n",
        "predicted_weights = np.polyval(f,ages_for_prediction)\n",
        "\n",
        "plt.scatter(ages,weights)\n",
        "plt.plot(ages_for_prediction,predicted_weights)\n",
        "plt.show()"
      ],
      "metadata": {
        "colab": {
          "base_uri": "https://localhost:8080/",
          "height": 430
        },
        "id": "NkeIcRZSytsD",
        "outputId": "d9eb140d-a15d-415d-beef-ab0497b18fac"
      },
      "execution_count": 4,
      "outputs": [
        {
          "output_type": "display_data",
          "data": {
            "text/plain": [
              "<Figure size 640x480 with 1 Axes>"
            ],
            "image/png": "[encoded data removed]"
          },
          "metadata": {}
        }
      ]
    },
    {
      "cell_type": "code",
      "source": [
        "coefficients1 = np.polyfit(ages,weights,1)\n",
        "coefficients2 = np.polyfit(ages,weights,2)\n",
        "coefficients3 = np.polyfit(ages,weights,3)\n",
        "\n",
        "f1 = np.poly1d(coefficients1)\n",
        "f2 = np.poly1d(coefficients2)\n",
        "f3 = np.poly1d(coefficients3)\n",
        "\n",
        "ages_for_prediction = np.arange(10,41)\n",
        "predicted_weights1 = np.polyval(f1,ages_for_prediction)\n",
        "predicted_weights2 = np.polyval(f2,ages_for_prediction)\n",
        "predicted_weights3 = np.polyval(f3,ages_for_prediction)\n",
        "\n",
        "plt.scatter(ages,weights)\n",
        "plt.plot(ages_for_prediction,predicted_weights1)\n",
        "plt.plot(ages_for_prediction,predicted_weights2)\n",
        "plt.plot(ages_for_prediction,predicted_weights3)\n",
        "plt.show()"
      ],
      "metadata": {
        "colab": {
          "base_uri": "https://localhost:8080/",
          "height": 430
        },
        "id": "dIitg2EbqlGN",
        "outputId": "cd85290d-466a-4682-ddb9-3f93e01916a2"
      },
      "execution_count": null,
      "outputs": [
        {
          "output_type": "display_data",
          "data": {
            "text/plain": [
              "<Figure size 640x480 with 1 Axes>"
            ],
            "image/png": "[encoded data removed]"
          },
          "metadata": {}
        }
      ]
    },
    {
      "cell_type": "markdown",
      "source": [
        "선형 연립방정식"
      ],
      "metadata": {
        "id": "wsRJVptBJpuD"
      }
    },
    {
      "cell_type": "code",
      "source": [
        "import numpy as np\n",
        "\n",
        "a = np.array([[4,-2,3],[3,1,5],[-2,2,-2]])\n",
        "b = np.array([9,8,5])\n",
        "x = np.linalg.solve(a,b)\n",
        "\n",
        "print('연립방정식의 해 :\\n',x)\n",
        "print('x1 :',x[0])\n",
        "print('x2 :',x[1])\n",
        "print('x3 :',x[2])"
      ],
      "metadata": {
        "colab": {
          "base_uri": "https://localhost:8080/"
        },
        "id": "iqbs5-NGjAPO",
        "outputId": "0d44d475-e0a5-4bf9-f845-50254c3bbc4b"
      },
      "execution_count": null,
      "outputs": [
        {
          "output_type": "stream",
          "name": "stdout",
          "text": [
            "연립방정식의 해 :\n",
            " [ 9.8125  6.6875 -5.625 ]\n",
            "x1 : 9.8125\n",
            "x2 : 6.6875\n",
            "x3 : -5.625\n"
          ]
        }
      ]
    },
    {
      "cell_type": "code",
      "source": [
        "print('ax =',a @ x)\n",
        "print('연립방정식의 해 일치 여부 :',np.allclose(a @ x, b))"
      ],
      "metadata": {
        "colab": {
          "base_uri": "https://localhost:8080/"
        },
        "id": "iqHI9IFftBtP",
        "outputId": "a8ba2ac9-f6a2-4275-93e4-6e9f2c6e0db7"
      },
      "execution_count": null,
      "outputs": [
        {
          "output_type": "stream",
          "name": "stdout",
          "text": [
            "ax = [9. 8. 5.]\n",
            "연립방정식의 해 일치 여부 : True\n"
          ]
        }
      ]
    },
    {
      "cell_type": "code",
      "source": [
        "x_for_verify = np.linalg.inv(a) @ b\n",
        "print('x_for_verify =',x_for_verify)\n",
        "print('a @ x_for_verify =',a @ x_for_verify)\n",
        "print('연립방정식의 검증해 일치 여부 :',np.allclose(a @ x_for_verify, b))\n",
        "print('연립방정식의 해 일치 여부 :',np.allclose(x, x_for_verify))"
      ],
      "metadata": {
        "colab": {
          "base_uri": "https://localhost:8080/"
        },
        "id": "p7AAGqsaweOY",
        "outputId": "2642a585-724a-4310-8049-a286524d744a"
      },
      "execution_count": null,
      "outputs": [
        {
          "output_type": "stream",
          "name": "stdout",
          "text": [
            "x_for_verify = [ 9.8125  6.6875 -5.625 ]\n",
            "a @ x_for_verify = [9. 8. 5.]\n",
            "연립방정식의 검증해 일치 여부 : True\n",
            "연립방정식의 해 일치 여부 : True\n"
          ]
        }
      ]
    }
  ]
}