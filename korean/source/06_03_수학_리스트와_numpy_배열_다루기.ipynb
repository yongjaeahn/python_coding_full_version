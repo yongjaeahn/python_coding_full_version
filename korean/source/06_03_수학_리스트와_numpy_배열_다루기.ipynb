{
  "nbformat": 4,
  "nbformat_minor": 0,
  "metadata": {
    "colab": {
      "provenance": [],
      "authorship_tag": "ABX9TyOKm2PUdsnWB+lQJwqee+Zs",
      "include_colab_link": true
    },
    "kernelspec": {
      "name": "python3",
      "display_name": "Python 3"
    },
    "language_info": {
      "name": "python"
    }
  },
  "cells": [
    {
      "cell_type": "markdown",
      "metadata": {
        "id": "view-in-github",
        "colab_type": "text"
      },
      "source": [
        "<a href=\"https://colab.research.google.com/github/yongjaeahn/python_coding/blob/main/korean/source/06_03_%EC%88%98%ED%95%99_%EB%A6%AC%EC%8A%A4%ED%8A%B8%EC%99%80_numpy_%EB%B0%B0%EC%97%B4_%EB%8B%A4%EB%A3%A8%EA%B8%B0.ipynb\" target=\"_parent\"><img src=\"https://colab.research.google.com/assets/colab-badge.svg\" alt=\"Open In Colab\"/></a>"
      ]
    },
    {
      "cell_type": "markdown",
      "source": [
        "\t리스트와 numpy 배열 다루기"
      ],
      "metadata": {
        "id": "B5JBGfgXzMho"
      }
    },
    {
      "cell_type": "markdown",
      "source": [
        "형상 확인"
      ],
      "metadata": {
        "id": "0BljQojHzRCo"
      }
    },
    {
      "cell_type": "code",
      "source": [
        "import numpy as np\n",
        "\n",
        "list_vector = [1,2,3,4,5]\n",
        "array_vector = np.arange(1,6)\n",
        "print(\"array_vector :\", array_vector)\n",
        "\n",
        "print(\"len(list_vector) :\", len(list_vector))\n",
        "print(\"len(array_vector) :\", len(array_vector))"
      ],
      "metadata": {
        "colab": {
          "base_uri": "https://localhost:8080/"
        },
        "id": "bjdynW-l_XmH",
        "outputId": "30eaf51b-9723-41c1-afc8-911fffede00c"
      },
      "execution_count": null,
      "outputs": [
        {
          "output_type": "stream",
          "name": "stdout",
          "text": [
            "array_vector : [1 2 3 4 5]\n",
            "len(list_vector) : 5\n",
            "len(array_vector) : 5\n"
          ]
        }
      ]
    },
    {
      "cell_type": "code",
      "source": [
        "import numpy as np\n",
        "\n",
        "list_matrix = [[1,2,3],[4,5,6]]\n",
        "array_matrix = np.arange(1,7).reshape(2,3)\n",
        "print(\"array_matrix :\\n\", array_matrix)\n",
        "\n",
        "print(\"np.ndim(list_matrix) :\", np.ndim(list_matrix))\n",
        "print(\"np.ndim(array_matrix) :\", np.ndim(array_matrix))\n",
        "print(\"np.size(list_matrix) :\", np.size(list_matrix))\n",
        "print(\"np.size(array_matrix) :\", np.size(array_matrix))\n",
        "print(\"np.shape(list_matrix) :\", np.shape(list_matrix))\n",
        "print(\"np.shape(array_matrix) :\", np.shape(array_matrix))"
      ],
      "metadata": {
        "colab": {
          "base_uri": "https://localhost:8080/"
        },
        "id": "8pHWqsoYo2zn",
        "outputId": "303e5a33-1c6d-4ae3-8fce-d4c8fc90a32d"
      },
      "execution_count": null,
      "outputs": [
        {
          "output_type": "stream",
          "name": "stdout",
          "text": [
            "array_matrix :\n",
            " [[1 2 3]\n",
            " [4 5 6]]\n",
            "np.ndim(list_matrix) : 2\n",
            "np.ndim(array_matrix) : 2\n",
            "np.size(list_matrix) : 6\n",
            "np.size(array_matrix) : 6\n",
            "np.shape(list_matrix) : (2, 3)\n",
            "np.shape(array_matrix) : (2, 3)\n"
          ]
        }
      ]
    },
    {
      "cell_type": "code",
      "source": [
        "shape = np.shape(array_matrix)\n",
        "print(\"type(shape) :\", type(shape))\n",
        "print(\"행의 길이 (shape[0]) :\", shape[0], \", 열의 길이 (shape[1]) :\", shape[1])\n",
        "\n",
        "row_len, column_len = np.shape(array_matrix)\n",
        "print(\"type(row_len) :\", type(row_len), \"type(column_len) :\", type(column_len))\n",
        "print(\"행의 길이 (row_len) :\", row_len, \", 열의 길이 (column_len) :\", column_len)"
      ],
      "metadata": {
        "colab": {
          "base_uri": "https://localhost:8080/"
        },
        "id": "5hnvsBN15EAB",
        "outputId": "c6857498-5483-4048-9c77-aa5a5c27a216"
      },
      "execution_count": null,
      "outputs": [
        {
          "output_type": "stream",
          "name": "stdout",
          "text": [
            "type(shape) : <class 'tuple'>\n",
            "행의 길이 (shape[0]) : 2 , 열의 길이 (shape[1]) : 3\n",
            "type(row_len) : <class 'int'> type(column_len) : <class 'int'>\n",
            "행의 길이 (row_len) : 2 , 열의 길이 (column_len) : 3\n"
          ]
        }
      ]
    },
    {
      "cell_type": "code",
      "source": [
        "import numpy as np\n",
        "\n",
        "array_matrix = np.arange(1,7).reshape(2,3)\n",
        "print(\"array_matrix :\\n\", array_matrix)\n",
        "\n",
        "print(\"array_matrix.ndim :\", array_matrix.ndim)\n",
        "print(\"array_matrix.size :\", array_matrix.size)\n",
        "print(\"array_matrix.shape :\", array_matrix.shape)\n",
        "print(\"array_matrix.shape :\", array_matrix.len)"
      ],
      "metadata": {
        "colab": {
          "base_uri": "https://localhost:8080/",
          "height": 335
        },
        "id": "--JcQFOKbj4-",
        "outputId": "dc530ab4-afc9-4199-e684-9991267691de"
      },
      "execution_count": null,
      "outputs": [
        {
          "output_type": "stream",
          "name": "stdout",
          "text": [
            "array_matrix :\n",
            " [[1 2 3]\n",
            " [4 5 6]]\n",
            "array_matrix.ndim : 2\n",
            "array_matrix.size : 6\n",
            "array_matrix.shape : (2, 3)\n"
          ]
        },
        {
          "output_type": "error",
          "ename": "AttributeError",
          "evalue": "ignored",
          "traceback": [
            "\u001b[0;31m---------------------------------------------------------------------------\u001b[0m",
            "\u001b[0;31mAttributeError\u001b[0m                            Traceback (most recent call last)",
            "\u001b[0;32m<ipython-input-4-e03b678c0406>\u001b[0m in \u001b[0;36m<cell line: 9>\u001b[0;34m()\u001b[0m\n\u001b[1;32m      7\u001b[0m \u001b[0mprint\u001b[0m\u001b[0;34m(\u001b[0m\u001b[0;34m\"array_matrix.size :\"\u001b[0m\u001b[0;34m,\u001b[0m \u001b[0marray_matrix\u001b[0m\u001b[0;34m.\u001b[0m\u001b[0msize\u001b[0m\u001b[0;34m)\u001b[0m\u001b[0;34m\u001b[0m\u001b[0;34m\u001b[0m\u001b[0m\n\u001b[1;32m      8\u001b[0m \u001b[0mprint\u001b[0m\u001b[0;34m(\u001b[0m\u001b[0;34m\"array_matrix.shape :\"\u001b[0m\u001b[0;34m,\u001b[0m \u001b[0marray_matrix\u001b[0m\u001b[0;34m.\u001b[0m\u001b[0mshape\u001b[0m\u001b[0;34m)\u001b[0m\u001b[0;34m\u001b[0m\u001b[0;34m\u001b[0m\u001b[0m\n\u001b[0;32m----> 9\u001b[0;31m \u001b[0mprint\u001b[0m\u001b[0;34m(\u001b[0m\u001b[0;34m\"array_matrix.shape :\"\u001b[0m\u001b[0;34m,\u001b[0m \u001b[0marray_matrix\u001b[0m\u001b[0;34m.\u001b[0m\u001b[0mlen\u001b[0m\u001b[0;34m)\u001b[0m\u001b[0;34m\u001b[0m\u001b[0;34m\u001b[0m\u001b[0m\n\u001b[0m",
            "\u001b[0;31mAttributeError\u001b[0m: 'numpy.ndarray' object has no attribute 'len'"
          ]
        }
      ]
    },
    {
      "cell_type": "code",
      "source": [
        "import numpy as np\n",
        "\n",
        "array3d = np.arange(1,25).reshape(2,4,3)\n",
        "print(\"array3d :\\n\", array3d)\n",
        "print(\"np.shape(array3d) :\", np.shape(array3d))\n",
        "\n",
        "shape = np.shape(array3d)\n",
        "print(\"x축의 길이 :\", shape[0], \", y축의 길이 :\", shape[1], \", z축의 길이 :\", shape[2])\n",
        "\n",
        "x_len, y_len, z_len = np.shape(array3d)\n",
        "print(\"x축의 길이 :\", x_len, \", y축의 길이 :\", y_len, \", z축의 길이 :\", z_len)"
      ],
      "metadata": {
        "colab": {
          "base_uri": "https://localhost:8080/"
        },
        "id": "-ppm8dXgfE7p",
        "outputId": "d48244f1-b681-4680-f7a6-897fd8d007aa"
      },
      "execution_count": null,
      "outputs": [
        {
          "output_type": "stream",
          "name": "stdout",
          "text": [
            "array3d :\n",
            " [[[ 1  2  3]\n",
            "  [ 4  5  6]\n",
            "  [ 7  8  9]\n",
            "  [10 11 12]]\n",
            "\n",
            " [[13 14 15]\n",
            "  [16 17 18]\n",
            "  [19 20 21]\n",
            "  [22 23 24]]]\n",
            "np.shape(array3d) : (2, 4, 3)\n",
            "x축의 길이 : 2 , y축의 길이 : 4 , z축의 길이 : 3\n",
            "x축의 길이 : 2 , y축의 길이 : 4 , z축의 길이 : 3\n"
          ]
        }
      ]
    },
    {
      "cell_type": "code",
      "source": [
        "for length in shape:\n",
        "  print(\"길이 :\", length)\n",
        "\n",
        "for i in range(len(shape)):\n",
        "  print(i+1, \"차원 길이 :\", shape[i])"
      ],
      "metadata": {
        "colab": {
          "base_uri": "https://localhost:8080/"
        },
        "id": "--muULUGL2IK",
        "outputId": "f8e41a4f-8cc0-48d1-dcf2-ffc8c1be104c"
      },
      "execution_count": null,
      "outputs": [
        {
          "output_type": "stream",
          "name": "stdout",
          "text": [
            "길이 : 2\n",
            "길이 : 4\n",
            "길이 : 3\n",
            "1 차원 길이 : 2\n",
            "2 차원 길이 : 4\n",
            "3 차원 길이 : 3\n"
          ]
        }
      ]
    },
    {
      "cell_type": "code",
      "source": [
        "print(\"enumerate(shape) :\", list(enumerate(shape)))\n",
        "\n",
        "for i, dim in enumerate(shape):\n",
        "  print(i+1, \"차원 길이 :\", dim)"
      ],
      "metadata": {
        "colab": {
          "base_uri": "https://localhost:8080/"
        },
        "id": "azo05KnVLGlk",
        "outputId": "1ce8b62c-6877-47c9-dba7-9bb92ab46f70"
      },
      "execution_count": null,
      "outputs": [
        {
          "output_type": "stream",
          "name": "stdout",
          "text": [
            "enumerate(shape) : [(0, 2), (1, 4), (2, 3)]\n",
            "1 차원 길이 : 2\n",
            "2 차원 길이 : 4\n",
            "3 차원 길이 : 3\n"
          ]
        }
      ]
    },
    {
      "cell_type": "code",
      "source": [
        "print(\"3차원 배열 :\\n\", array3d)\n",
        "print(\"하부 2차원 배열 :\\n\", array3d[0])\n",
        "print(\"하부 1차원 배열 :\\n\", array3d[0][0])"
      ],
      "metadata": {
        "colab": {
          "base_uri": "https://localhost:8080/"
        },
        "id": "nDZ7RhL9WAU_",
        "outputId": "bc044c8d-11a7-488e-e8b8-ea2987d0ff74"
      },
      "execution_count": null,
      "outputs": [
        {
          "output_type": "stream",
          "name": "stdout",
          "text": [
            "3차원 배열 :\n",
            " [[[ 1  2  3]\n",
            "  [ 4  5  6]\n",
            "  [ 7  8  9]\n",
            "  [10 11 12]]\n",
            "\n",
            " [[13 14 15]\n",
            "  [16 17 18]\n",
            "  [19 20 21]\n",
            "  [22 23 24]]]\n",
            "하부 2차원 배열 :\n",
            " [[ 1  2  3]\n",
            " [ 4  5  6]\n",
            " [ 7  8  9]\n",
            " [10 11 12]]\n",
            "하부 1차원 배열 :\n",
            " [1 2 3]\n"
          ]
        }
      ]
    },
    {
      "cell_type": "code",
      "source": [
        "print(\"1차원 길이 :\", len(array3d))\n",
        "print(\"2차원 길이 :\", len(array3d[0]))\n",
        "print(\"3차원 길이 :\", len(array3d[0][0]))"
      ],
      "metadata": {
        "colab": {
          "base_uri": "https://localhost:8080/"
        },
        "id": "KTDIbcmsd-Xo",
        "outputId": "d553ae2f-e8d8-4834-f273-321d298d78b8"
      },
      "execution_count": null,
      "outputs": [
        {
          "output_type": "stream",
          "name": "stdout",
          "text": [
            "1차원 길이 : 2\n",
            "2차원 길이 : 4\n",
            "3차원 길이 : 3\n"
          ]
        }
      ]
    },
    {
      "cell_type": "markdown",
      "source": [
        "조회"
      ],
      "metadata": {
        "id": "6xBkDAAABUKF"
      }
    },
    {
      "cell_type": "code",
      "source": [
        "import numpy as np\n",
        "\n",
        "list_vector = [1,2,3,4,5,6,7,8,9,10]\n",
        "array_vector = np.array([1,2,3,4,5,6,7,8,9,10])\n",
        "\n",
        "print(\"첫 요소 :\", list_vector[0], array_vector[0])\n",
        "print(\"마지막 요소 :\", list_vector[-1], array_vector[-1])\n",
        "print(\"3~7번째 요소 :\", list_vector[2:7], array_vector[2:7])\n",
        "print(\"1~7번째 요소 :\", list_vector[:7], array_vector[:7])\n",
        "print(\"7번째~마지막 요소 :\", list_vector[6:], array_vector[6:])\n",
        "print(\"2~8번째 요소 중 짝수번째 요소 : \", list_vector[1:8:2], array_vector[1:8:2])\n",
        "print(\"마지막에서 2~8번째 요소 중 짝수번째 요소 :\", list_vector[-2:-9:-2], array_vector[-2:-9:-2])\n",
        "print(\"전체 요소 중 홀수번째 요소 :\",list_vector[::2], array_vector[::2])"
      ],
      "metadata": {
        "colab": {
          "base_uri": "https://localhost:8080/"
        },
        "id": "mgW7uXTE9Tjy",
        "outputId": "37cc9179-d4fa-40de-f8e3-712480fcaae8"
      },
      "execution_count": null,
      "outputs": [
        {
          "output_type": "stream",
          "name": "stdout",
          "text": [
            "첫 요소 : 1 1\n",
            "마지막 요소 : 10 10\n",
            "3~7번째 요소 : [3, 4, 5, 6, 7] [3 4 5 6 7]\n",
            "1~7번째 요소 : [1, 2, 3, 4, 5, 6, 7] [1 2 3 4 5 6 7]\n",
            "7번째~마지막 요소 : [7, 8, 9, 10] [ 7  8  9 10]\n",
            "2~8번째 요소 중 짝수번째 요소 :  [2, 4, 6, 8] [2 4 6 8]\n",
            "마지막에서 2~8번째 요소 중 짝수번째 요소 : [9, 7, 5, 3] [9 7 5 3]\n",
            "전체 요소 중 홀수번째 요소 : [1, 3, 5, 7, 9] [1 3 5 7 9]\n"
          ]
        }
      ]
    },
    {
      "cell_type": "code",
      "source": [
        "print(\"첫 3개의 요소와 마지막 3개의 요소 : \", array_vector[[0,1,2,-1,-2,-3]])"
      ],
      "metadata": {
        "colab": {
          "base_uri": "https://localhost:8080/"
        },
        "id": "e1OM5lqymbnr",
        "outputId": "54c6c6ad-24a8-40cf-bf1e-df5d0ce53498"
      },
      "execution_count": null,
      "outputs": [
        {
          "output_type": "stream",
          "name": "stdout",
          "text": [
            "첫 3개의 요소와 마지막 3개의 요소 :  [ 1  2  3 10  9  8]\n"
          ]
        }
      ]
    },
    {
      "cell_type": "code",
      "source": [
        "sample_string = \"긴 문자열입니다.\"\n",
        "print(sample_string[2:5])"
      ],
      "metadata": {
        "colab": {
          "base_uri": "https://localhost:8080/"
        },
        "id": "GvK73S3oFBk4",
        "outputId": "ff5fd822-fd61-4f54-9014-43ad30cf9ff5"
      },
      "execution_count": null,
      "outputs": [
        {
          "output_type": "stream",
          "name": "stdout",
          "text": [
            "문자열\n"
          ]
        }
      ]
    },
    {
      "cell_type": "code",
      "source": [
        "import numpy as np\n",
        "\n",
        "list_matrix = [[1,2,3,4,5],[6,7,8,9,10],[11,12,13,14,15],[16,17,18,19,20],[21,22,23,24,25]]\n",
        "array_matrix = np.array([[1,2,3,4,5],[6,7,8,9,10],[11,12,13,14,15],[16,17,18,19,20],[21,22,23,24,25]])\n",
        "print(\"array_matrix :\\n\", array_matrix)\n",
        "\n",
        "print(\"첫 요소 :\", list_matrix[0][0], array_matrix[0][0], array_matrix[0,0])\n",
        "print(\"2행 3열 요소 :\", list_matrix[1][2], array_matrix[1][2], array_matrix[1,2])\n",
        "print(\"마지막 요소 :\", list_matrix[-1][-1], array_matrix[-1][-1], array_matrix[-1,-1])"
      ],
      "metadata": {
        "colab": {
          "base_uri": "https://localhost:8080/"
        },
        "id": "nlml7JP-DPQV",
        "outputId": "a96b5bce-3803-40f4-afc3-ec7018626f55"
      },
      "execution_count": null,
      "outputs": [
        {
          "output_type": "stream",
          "name": "stdout",
          "text": [
            "array_matrix :\n",
            " [[ 1  2  3  4  5]\n",
            " [ 6  7  8  9 10]\n",
            " [11 12 13 14 15]\n",
            " [16 17 18 19 20]\n",
            " [21 22 23 24 25]]\n",
            "첫 요소 : 1 1 1\n",
            "2행 3열 요소 : 8 8 8\n",
            "마지막 요소 : 25 25 25\n"
          ]
        }
      ]
    },
    {
      "cell_type": "code",
      "source": [
        "print(\"1행벡터 :\", list_matrix[0], array_matrix[0])\n",
        "print(\"3행벡터 :\", list_matrix[2][:], array_matrix[2][:])\n",
        "print(\"2~4행벡터(리스트) :\", list_matrix[1:4])\n",
        "print(\"2~4행벡터(배열) :\\n\", array_matrix[1:4,:])"
      ],
      "metadata": {
        "colab": {
          "base_uri": "https://localhost:8080/"
        },
        "id": "Bw8zsikTIYhH",
        "outputId": "a68f682a-c9bd-4cdb-b870-2448ab5fd10f"
      },
      "execution_count": null,
      "outputs": [
        {
          "output_type": "stream",
          "name": "stdout",
          "text": [
            "1행벡터 : [1, 2, 3, 4, 5] [1 2 3 4 5]\n",
            "3행벡터 : [11, 12, 13, 14, 15] [11 12 13 14 15]\n",
            "2~4행벡터(리스트) : [[6, 7, 8, 9, 10], [11, 12, 13, 14, 15], [16, 17, 18, 19, 20]]\n",
            "2~4행벡터(배열) :\n",
            " [[ 6  7  8  9 10]\n",
            " [11 12 13 14 15]\n",
            " [16 17 18 19 20]]\n"
          ]
        }
      ]
    },
    {
      "cell_type": "code",
      "source": [
        "print(\"1열벡터 :\", list_matrix[:][0], array_matrix[:][0])\n",
        "print(\"3열벡터 :\", list_matrix[:][2], array_matrix[:][2])\n",
        "print(\"2~4열벡터(리스트) :\", list_matrix[:][1:4])\n",
        "print(\"2~4열벡터(배열) :\\n\", array_matrix[:][1:4])"
      ],
      "metadata": {
        "colab": {
          "base_uri": "https://localhost:8080/"
        },
        "id": "LDCZjzkpK6gd",
        "outputId": "a0f2dc8f-63d6-4c3f-f374-0023b5237cd2"
      },
      "execution_count": null,
      "outputs": [
        {
          "output_type": "stream",
          "name": "stdout",
          "text": [
            "1열벡터 : [1, 2, 3, 4, 5] [1 2 3 4 5]\n",
            "3열벡터 : [11, 12, 13, 14, 15] [11 12 13 14 15]\n",
            "2~4열벡터(리스트) : [[6, 7, 8, 9, 10], [11, 12, 13, 14, 15], [16, 17, 18, 19, 20]]\n",
            "2~4열벡터(배열) :\n",
            " [[ 6  7  8  9 10]\n",
            " [11 12 13 14 15]\n",
            " [16 17 18 19 20]]\n"
          ]
        }
      ]
    },
    {
      "cell_type": "code",
      "source": [
        "print(\"1열벡터 :\", array_matrix[:,0])\n",
        "print(\"3열벡터 :\", array_matrix[:,2])\n",
        "print(\"2~4열벡터(배열) :\\n\", array_matrix[:,1:4])"
      ],
      "metadata": {
        "colab": {
          "base_uri": "https://localhost:8080/"
        },
        "id": "VBnz0M2IN-sL",
        "outputId": "fbba69d0-4529-406b-c340-d7ec8b4f223a"
      },
      "execution_count": null,
      "outputs": [
        {
          "output_type": "stream",
          "name": "stdout",
          "text": [
            "1열벡터 : [ 1  6 11 16 21]\n",
            "3열벡터 : [ 3  8 13 18 23]\n",
            "2~4열벡터(배열) :\n",
            " [[ 2  3  4]\n",
            " [ 7  8  9]\n",
            " [12 13 14]\n",
            " [17 18 19]\n",
            " [22 23 24]]\n"
          ]
        }
      ]
    },
    {
      "cell_type": "code",
      "source": [
        "print(\"2~3 행 슬라이싱(1:3) + 2~4 열 슬라이싱(1:4) :\\n\", array_matrix[1:3,1:4])"
      ],
      "metadata": {
        "colab": {
          "base_uri": "https://localhost:8080/"
        },
        "id": "WlCyRYQ8ZFGa",
        "outputId": "49c65f35-0c1a-4442-aecb-ec07fe0b7a21"
      },
      "execution_count": null,
      "outputs": [
        {
          "output_type": "stream",
          "name": "stdout",
          "text": [
            "2~3 행 슬라이싱(1:3) + 2~4 열 슬라이싱(1:4) :\n",
            " [[ 7  8  9]\n",
            " [12 13 14]]\n"
          ]
        }
      ]
    },
    {
      "cell_type": "code",
      "source": [
        "print(\"첫 1개의 요소 : \", array_matrix[0,0])"
      ],
      "metadata": {
        "colab": {
          "base_uri": "https://localhost:8080/"
        },
        "id": "u9JxuZ_V93u4",
        "outputId": "50bb50eb-d94a-4b7e-d1f1-ce56abbfab00"
      },
      "execution_count": null,
      "outputs": [
        {
          "output_type": "stream",
          "name": "stdout",
          "text": [
            "첫 1개의 요소 :  1\n"
          ]
        }
      ]
    },
    {
      "cell_type": "code",
      "source": [
        "print(\"첫 1개와 마지막 1개의 요소 : \", array_matrix[[0,-1],[0,-1]])"
      ],
      "metadata": {
        "colab": {
          "base_uri": "https://localhost:8080/"
        },
        "id": "DvAxE725-6LO",
        "outputId": "50cbfd68-15b6-4871-cabb-ac87c3d6b8d7"
      },
      "execution_count": null,
      "outputs": [
        {
          "output_type": "stream",
          "name": "stdout",
          "text": [
            "첫 1개와 마지막 1개의 요소 :  [ 1 25]\n"
          ]
        }
      ]
    },
    {
      "cell_type": "code",
      "source": [
        "print(\"첫 3개의 요소와 마지막 3개의 요소 : \", array_matrix[[0,0,0,-1,-1,-1],[0,1,2,-1,-2,-3]])"
      ],
      "metadata": {
        "colab": {
          "base_uri": "https://localhost:8080/"
        },
        "id": "e_VYrqtTot6S",
        "outputId": "a8c43b62-4336-43d8-de34-3fa624a10348"
      },
      "execution_count": null,
      "outputs": [
        {
          "output_type": "stream",
          "name": "stdout",
          "text": [
            "첫 3개의 요소와 마지막 3개의 요소 :  [ 1  2  3 25 24 23]\n"
          ]
        }
      ]
    },
    {
      "cell_type": "code",
      "source": [
        "print(\"2행과 4행 :\\n\", array_matrix[[1,3]])"
      ],
      "metadata": {
        "colab": {
          "base_uri": "https://localhost:8080/"
        },
        "id": "fU5UyTNdD5rH",
        "outputId": "ea934db9-4c1c-48db-f863-13de31fa7f57"
      },
      "execution_count": null,
      "outputs": [
        {
          "output_type": "stream",
          "name": "stdout",
          "text": [
            "2행과 4행 :\n",
            " [[ 6  7  8  9 10]\n",
            " [16 17 18 19 20]]\n"
          ]
        }
      ]
    },
    {
      "cell_type": "code",
      "source": [
        "print(\"2열과 4열 :\\n\", array_matrix[:,[1,3]])"
      ],
      "metadata": {
        "colab": {
          "base_uri": "https://localhost:8080/"
        },
        "id": "5bytd2x9Et01",
        "outputId": "8db9d720-d172-47f1-bc44-dcf004234c00"
      },
      "execution_count": null,
      "outputs": [
        {
          "output_type": "stream",
          "name": "stdout",
          "text": [
            "2열과 4열 :\n",
            " [[ 2  4]\n",
            " [ 7  9]\n",
            " [12 14]\n",
            " [17 19]\n",
            " [22 24]]\n"
          ]
        }
      ]
    },
    {
      "cell_type": "code",
      "source": [
        "print(array_matrix < 10)"
      ],
      "metadata": {
        "colab": {
          "base_uri": "https://localhost:8080/"
        },
        "id": "k9CnreA5f8XF",
        "outputId": "d54f9708-6c62-4329-83a5-74fe0ede6599"
      },
      "execution_count": null,
      "outputs": [
        {
          "output_type": "stream",
          "name": "stdout",
          "text": [
            "[[ True  True  True  True  True]\n",
            " [ True  True  True  True False]\n",
            " [False False False False False]\n",
            " [False False False False False]\n",
            " [False False False False False]]\n"
          ]
        }
      ]
    },
    {
      "cell_type": "code",
      "source": [
        "print(array_matrix[array_matrix < 10])\n",
        "\n",
        "mask = array_matrix < 10\n",
        "print(array_matrix[mask])"
      ],
      "metadata": {
        "colab": {
          "base_uri": "https://localhost:8080/"
        },
        "id": "k2nIajJgvQ6b",
        "outputId": "d1e773ad-1379-47bf-d6b2-26274df0cb12"
      },
      "execution_count": null,
      "outputs": [
        {
          "output_type": "stream",
          "name": "stdout",
          "text": [
            "[1 2 3 4 5 6 7 8 9]\n",
            "[1 2 3 4 5 6 7 8 9]\n"
          ]
        }
      ]
    },
    {
      "cell_type": "code",
      "source": [
        "mask = (array_matrix < 10) | (array_matrix > 20)\n",
        "print(array_matrix[mask])"
      ],
      "metadata": {
        "colab": {
          "base_uri": "https://localhost:8080/"
        },
        "id": "DSCYnZ0TzNbl",
        "outputId": "e3a9e7e6-fe9c-4a2d-fbec-beea32ad2331"
      },
      "execution_count": null,
      "outputs": [
        {
          "output_type": "stream",
          "name": "stdout",
          "text": [
            "[ 1  2  3  4  5  6  7  8  9 21 22 23 24 25]\n"
          ]
        }
      ]
    },
    {
      "cell_type": "code",
      "source": [
        "import numpy as np\n",
        "\n",
        "subjects = np.array([\"학번\",\"국어\",\"영어\",\"수학\",\"사탐\",\"과탐\"])\n",
        "scores = np.array([[1,90,80,95,100,95],[2,100,80,85,90,95],[3,95,100,80,85,90],[4,80,95,100,90,85],[5,85,80,90,100,95]])\n",
        "print(\"성적 :\\n\", scores)\n",
        "\n",
        "mask_column = (subjects == \"학번\") | (subjects == \"수학\") | (subjects == \"과탐\")\n",
        "print(scores[:,mask_column])"
      ],
      "metadata": {
        "colab": {
          "base_uri": "https://localhost:8080/"
        },
        "id": "DIOk4XIW334C",
        "outputId": "71d5f552-cbd7-4155-9c1e-19154f95e39e"
      },
      "execution_count": null,
      "outputs": [
        {
          "output_type": "stream",
          "name": "stdout",
          "text": [
            "성적 :\n",
            " [[  1  90  80  95 100  95]\n",
            " [  2 100  80  85  90  95]\n",
            " [  3  95 100  80  85  90]\n",
            " [  4  80  95 100  90  85]\n",
            " [  5  85  80  90 100  95]]\n",
            "[[  1  95  95]\n",
            " [  2  85  95]\n",
            " [  3  80  90]\n",
            " [  4 100  85]\n",
            " [  5  90  95]]\n"
          ]
        }
      ]
    },
    {
      "cell_type": "code",
      "source": [
        "mask_row = scores[:,4] == 100\n",
        "print(mask_row)\n",
        "print(scores[mask_row])"
      ],
      "metadata": {
        "colab": {
          "base_uri": "https://localhost:8080/"
        },
        "id": "pmsoD9E_IHfz",
        "outputId": "2e4ab714-a4d5-4517-8f7c-c5adc3c8323f"
      },
      "execution_count": null,
      "outputs": [
        {
          "output_type": "stream",
          "name": "stdout",
          "text": [
            "[ True False False False  True]\n",
            "[[  1  90  80  95 100  95]\n",
            " [  5  85  80  90 100  95]]\n"
          ]
        }
      ]
    },
    {
      "cell_type": "code",
      "source": [
        "import numpy as np\n",
        "\n",
        "employee_list = [320811, \"안용제\", \"010-1234-5678\", \"서울시 영등포구 당산동\", 99.5]\n",
        "print(\"리스트(list) : \", employee_list)\n",
        "\n",
        "employee_array = np.array([320811, \"안용제\", \"010-1234-5678\", \"서울시 영등포구 당산동\", 99.5])\n",
        "print(\"배열(array) : \", employee_array)"
      ],
      "metadata": {
        "colab": {
          "base_uri": "https://localhost:8080/"
        },
        "id": "5Mb4dyGu2wBg",
        "outputId": "bbacc93d-b493-4e57-8b8d-c87aa6dce729"
      },
      "execution_count": null,
      "outputs": [
        {
          "output_type": "stream",
          "name": "stdout",
          "text": [
            "리스트(list) :  [320811, '안용제', '010-1234-5678', '서울시 영등포구 당산동', 99.5]\n",
            "배열(array) :  ['320811' '안용제' '010-1234-5678' '서울시 영등포구 당산동' '99.5']\n"
          ]
        }
      ]
    },
    {
      "cell_type": "code",
      "source": [
        "print(\"리스트의 성적 - 10 : \", employee_list[4] - 10)\n",
        "\n",
        "print(\"배열의 성적 - 10 : \", employee_array[4] - 10)"
      ],
      "metadata": {
        "colab": {
          "base_uri": "https://localhost:8080/",
          "height": 242
        },
        "id": "2BlqvImVJyzY",
        "outputId": "a7d61a14-bbfd-44c0-bc53-7a114e25ecf9"
      },
      "execution_count": null,
      "outputs": [
        {
          "output_type": "stream",
          "name": "stdout",
          "text": [
            "리스트의 성적 - 10 :  89.5\n"
          ]
        },
        {
          "output_type": "error",
          "ename": "TypeError",
          "evalue": "ignored",
          "traceback": [
            "\u001b[0;31m---------------------------------------------------------------------------\u001b[0m",
            "\u001b[0;31mTypeError\u001b[0m                                 Traceback (most recent call last)",
            "\u001b[0;32m<ipython-input-33-52191058940d>\u001b[0m in \u001b[0;36m<cell line: 3>\u001b[0;34m()\u001b[0m\n\u001b[1;32m      1\u001b[0m \u001b[0mprint\u001b[0m\u001b[0;34m(\u001b[0m\u001b[0;34m\"리스트의 성적 - 10 : \"\u001b[0m\u001b[0;34m,\u001b[0m \u001b[0memployee_list\u001b[0m\u001b[0;34m[\u001b[0m\u001b[0;36m4\u001b[0m\u001b[0;34m]\u001b[0m \u001b[0;34m-\u001b[0m \u001b[0;36m10\u001b[0m\u001b[0;34m)\u001b[0m\u001b[0;34m\u001b[0m\u001b[0;34m\u001b[0m\u001b[0m\n\u001b[1;32m      2\u001b[0m \u001b[0;34m\u001b[0m\u001b[0m\n\u001b[0;32m----> 3\u001b[0;31m \u001b[0mprint\u001b[0m\u001b[0;34m(\u001b[0m\u001b[0;34m\"배열의 성적 - 10 : \"\u001b[0m\u001b[0;34m,\u001b[0m \u001b[0memployee_array\u001b[0m\u001b[0;34m[\u001b[0m\u001b[0;36m4\u001b[0m\u001b[0;34m]\u001b[0m \u001b[0;34m-\u001b[0m \u001b[0;36m10\u001b[0m\u001b[0;34m)\u001b[0m\u001b[0;34m\u001b[0m\u001b[0;34m\u001b[0m\u001b[0m\n\u001b[0m",
            "\u001b[0;31mTypeError\u001b[0m: unsupported operand type(s) for -: 'numpy.str_' and 'int'"
          ]
        }
      ]
    },
    {
      "cell_type": "markdown",
      "source": [
        "수정"
      ],
      "metadata": {
        "id": "sr1wjBx-EP-i"
      }
    },
    {
      "cell_type": "code",
      "source": [
        "list_matrix = [[1,2,3,4,5],[6,7,8,9,10],[11,12,13,14,15],[16,17,18,19,20],[21,22,23,24,25]]\n",
        "\n",
        "print(\"list_matrix (수정전):\\n\", list_matrix)\n",
        "list_matrix[0][0] = -999\n",
        "print(\"list_matrix (수정후):\\n\", list_matrix)"
      ],
      "metadata": {
        "colab": {
          "base_uri": "https://localhost:8080/"
        },
        "id": "pvyenq9b1qW_",
        "outputId": "ec0ef10b-a4a8-4089-a408-4faa8e34fccb"
      },
      "execution_count": null,
      "outputs": [
        {
          "output_type": "stream",
          "name": "stdout",
          "text": [
            "list_matrix (수정전):\n",
            " [[1, 2, 3, 4, 5], [6, 7, 8, 9, 10], [11, 12, 13, 14, 15], [16, 17, 18, 19, 20], [21, 22, 23, 24, 25]]\n",
            "list_matrix (수정후):\n",
            " [[-999, 2, 3, 4, 5], [6, 7, 8, 9, 10], [11, 12, 13, 14, 15], [16, 17, 18, 19, 20], [21, 22, 23, 24, 25]]\n"
          ]
        }
      ]
    },
    {
      "cell_type": "code",
      "source": [
        "import numpy as np\n",
        "\n",
        "array_matrix = np.array([[1,2,3,4,5],[6,7,8,9,10],[11,12,13,14,15],[16,17,18,19,20],[21,22,23,24,25]])\n",
        "\n",
        "print(\"array_matrix (수정전) :\\n\", array_matrix)\n",
        "array_matrix[1][2] = -888\n",
        "array_matrix[-1,-1] = -777\n",
        "print(\"array_matrix (수정후):\\n\", array_matrix)"
      ],
      "metadata": {
        "colab": {
          "base_uri": "https://localhost:8080/"
        },
        "id": "i8-0slyL4fgE",
        "outputId": "1315e3ad-b1cd-4bf1-fa85-fe368e6c0a2f"
      },
      "execution_count": null,
      "outputs": [
        {
          "output_type": "stream",
          "name": "stdout",
          "text": [
            "array_matrix (수정전) :\n",
            " [[ 1  2  3  4  5]\n",
            " [ 6  7  8  9 10]\n",
            " [11 12 13 14 15]\n",
            " [16 17 18 19 20]\n",
            " [21 22 23 24 25]]\n",
            "array_matrix (수정후):\n",
            " [[   1    2    3    4    5]\n",
            " [   6    7 -888    9   10]\n",
            " [  11   12   13   14   15]\n",
            " [  16   17   18   19   20]\n",
            " [  21   22   23   24 -777]]\n"
          ]
        }
      ]
    },
    {
      "cell_type": "code",
      "source": [
        "array_matrix[0] = 1\n",
        "array_matrix[2:3,:] = -1\n",
        "print(\"array_matrix (수정후):\\n\", array_matrix)"
      ],
      "metadata": {
        "colab": {
          "base_uri": "https://localhost:8080/"
        },
        "id": "yrSRTZ8n8tZQ",
        "outputId": "87b07f8d-461e-4f7b-9a08-a761af2bc6d9"
      },
      "execution_count": null,
      "outputs": [
        {
          "output_type": "stream",
          "name": "stdout",
          "text": [
            "array_matrix (수정후):\n",
            " [[   1    1    1    1    1]\n",
            " [   6    7 -888    9   10]\n",
            " [  -1   -1   -1   -1   -1]\n",
            " [  16   17   18   19   20]\n",
            " [  21   22   23   24 -777]]\n"
          ]
        }
      ]
    },
    {
      "cell_type": "code",
      "source": [
        "array_matrix[:,0] = 2\n",
        "array_matrix[:,2:3] = -2\n",
        "print(\"array_matrix (수정후):\\n\", array_matrix)"
      ],
      "metadata": {
        "colab": {
          "base_uri": "https://localhost:8080/"
        },
        "id": "xAuO_8Y4D1F1",
        "outputId": "2d79f6e4-9d20-40cd-998b-5242212e94e3"
      },
      "execution_count": null,
      "outputs": [
        {
          "output_type": "stream",
          "name": "stdout",
          "text": [
            "array_matrix (수정후):\n",
            " [[   2    1   -2    1    1]\n",
            " [   2    7   -2    9   10]\n",
            " [   2   -1   -2   -1   -1]\n",
            " [   2   17   -2   19   20]\n",
            " [   2   22   -2   24 -777]]\n"
          ]
        }
      ]
    },
    {
      "cell_type": "code",
      "source": [
        "array_matrix[1:3,1:4] = 100\n",
        "print(\"array_matrix (수정후):\\n\", array_matrix)"
      ],
      "metadata": {
        "colab": {
          "base_uri": "https://localhost:8080/"
        },
        "id": "nzo_2DjaE4Ch",
        "outputId": "14b231f0-b69d-4bfe-b817-dc3626d17cb9"
      },
      "execution_count": null,
      "outputs": [
        {
          "output_type": "stream",
          "name": "stdout",
          "text": [
            "array_matrix (수정후):\n",
            " [[   2    1   -2    1    1]\n",
            " [   2  100  100  100   10]\n",
            " [   2  100  100  100   -1]\n",
            " [   2   17   -2   19   20]\n",
            " [   2   22   -2   24 -777]]\n"
          ]
        }
      ]
    },
    {
      "cell_type": "code",
      "source": [
        "array_matrix[[0,0,0,-1,-1,-1],[0,1,2,-1,-2,-3]] = -100\n",
        "print(\"array_matrix (수정후):\\n\", array_matrix)"
      ],
      "metadata": {
        "colab": {
          "base_uri": "https://localhost:8080/"
        },
        "id": "aJ88p5G-IEVy",
        "outputId": "4709df88-26fd-4e37-deb3-f48417b8f279"
      },
      "execution_count": null,
      "outputs": [
        {
          "output_type": "stream",
          "name": "stdout",
          "text": [
            "array_matrix (수정후):\n",
            " [[-100 -100 -100    1    1]\n",
            " [   2  100  100  100   10]\n",
            " [   2  100  100  100   -1]\n",
            " [   2   17   -2   19   20]\n",
            " [   2   22 -100 -100 -100]]\n"
          ]
        }
      ]
    },
    {
      "cell_type": "code",
      "source": [
        "mask = array_matrix == -100\n",
        "array_matrix[mask] = 100\n",
        "print(\"array_matrix (수정후):\\n\", array_matrix)"
      ],
      "metadata": {
        "colab": {
          "base_uri": "https://localhost:8080/"
        },
        "id": "QXJZ4VFmOLfK",
        "outputId": "cccfdb02-788f-4076-dc13-0d025d10bee9"
      },
      "execution_count": null,
      "outputs": [
        {
          "output_type": "stream",
          "name": "stdout",
          "text": [
            "array_matrix (수정후):\n",
            " [[100 100 100   1   1]\n",
            " [  2 100 100 100  10]\n",
            " [  2 100 100 100  -1]\n",
            " [  2  17  -2  19  20]\n",
            " [  2  22 100 100 100]]\n"
          ]
        }
      ]
    },
    {
      "cell_type": "markdown",
      "source": [
        "삭제"
      ],
      "metadata": {
        "id": "0zn0e_GzE0pr"
      }
    },
    {
      "cell_type": "code",
      "source": [
        "list_vector = [1,2,3,4,5,6,7,8,9,10]\n",
        "print(\"list_vector (삭제전): \", list_vector)\n",
        "del list_vector[3]     # 인덱스로 삭제\n",
        "print(\"list_vector (인덱스 3 즉 4번째 요소 삭제후): \", list_vector)\n",
        "list_vector.remove(10) #  값으로 삭제\n",
        "print(\"list_vector (값 10으로 삭제후): \", list_vector)"
      ],
      "metadata": {
        "colab": {
          "base_uri": "https://localhost:8080/"
        },
        "id": "R9d_XSKMqYRa",
        "outputId": "114d1252-91dc-4da2-dedc-a54762df5dad"
      },
      "execution_count": null,
      "outputs": [
        {
          "output_type": "stream",
          "name": "stdout",
          "text": [
            "list_vector (삭제전):  [1, 2, 3, 4, 5, 6, 7, 8, 9, 10]\n",
            "list_vector (인덱스 3 즉 4번째 요소 삭제후):  [1, 2, 3, 5, 6, 7, 8, 9, 10]\n",
            "list_vector (값 10으로 삭제후):  [1, 2, 3, 5, 6, 7, 8, 9]\n"
          ]
        }
      ]
    },
    {
      "cell_type": "code",
      "source": [
        "import numpy as np\n",
        "\n",
        "array_matrix = np.array([[1,2,3,4,5],[6,7,8,9,10],[11,12,13,14,15],[16,17,18,19,20],[21,22,23,24,25]])\n",
        "print(\"array_matrix (삭제전) :\\n\", array_matrix)\n",
        "\n",
        "array_matrix = np.delete(array_matrix,1,axis=0)\n",
        "print(\"array_matrix (인덱스 1 즉 2행 삭제후) :\\n\", array_matrix)\n",
        "array_matrix = np.delete(array_matrix,-1,axis=1)\n",
        "print(\"array_matrix (인덱스 -1 즉 마지막열 삭제후) :\\n\", array_matrix)\n",
        "array_matrix = np.delete(array_matrix,[1,3],axis=0)\n",
        "print(\"array_matrix (인덱스 1과 3 즉 2행과 4행 삭제후) :\\n\", array_matrix)"
      ],
      "metadata": {
        "colab": {
          "base_uri": "https://localhost:8080/"
        },
        "id": "Iv6lpTc0soV9",
        "outputId": "a391fcd4-daf5-44a9-d9a5-5ceac07576ff"
      },
      "execution_count": null,
      "outputs": [
        {
          "output_type": "stream",
          "name": "stdout",
          "text": [
            "array_matrix (삭제전) :\n",
            " [[ 1  2  3  4  5]\n",
            " [ 6  7  8  9 10]\n",
            " [11 12 13 14 15]\n",
            " [16 17 18 19 20]\n",
            " [21 22 23 24 25]]\n",
            "array_matrix (인덱스 1 즉 2행 삭제후) :\n",
            " [[ 1  2  3  4  5]\n",
            " [11 12 13 14 15]\n",
            " [16 17 18 19 20]\n",
            " [21 22 23 24 25]]\n",
            "array_matrix (인덱스 -1 즉 마지막열 삭제후) :\n",
            " [[ 1  2  3  4]\n",
            " [11 12 13 14]\n",
            " [16 17 18 19]\n",
            " [21 22 23 24]]\n",
            "array_matrix (인덱스 1과 3 즉 2행과 4행 삭제후) :\n",
            " [[ 1  2  3  4]\n",
            " [16 17 18 19]]\n"
          ]
        }
      ]
    },
    {
      "cell_type": "markdown",
      "source": [
        "추가"
      ],
      "metadata": {
        "id": "trvZ_sqCGCIq"
      }
    },
    {
      "cell_type": "code",
      "source": [
        "list_vector = [1,2,4,5]\n",
        "print(\"list_vector (추가전): \", list_vector)\n",
        "list_vector.append(6)              # 리스트의 맨뒤에 값을 추가\n",
        "print(\"list_vector (6을 추가한 후): \", list_vector)\n",
        "list_vector.insert(2,3)            # 리스트의 3번째 요소로 3을 추가\n",
        "print(\"list_vector (3을 추가한 후): \", list_vector)\n",
        "list_vector.extend([7,8])          # 리스트의 맨뒤에 7과 8을 리스트로 확장\n",
        "print(\"list_vector (7과 8의 리스트를 확장한 후): \", list_vector)\n",
        "list_vector = [-1,0] + list_vector + [9,10]  # -1,0의 리스트와 9,10의 리스트를 앞뒤로 이어붙임\n",
        "print(\"list_vector (-1,0 리스트와 9~10 리스트를 이어붙인 후): \", list_vector)"
      ],
      "metadata": {
        "colab": {
          "base_uri": "https://localhost:8080/"
        },
        "id": "UBpyyY9iKXLn",
        "outputId": "9b9d5750-fb50-45d7-eda1-b1c3612836ac"
      },
      "execution_count": null,
      "outputs": [
        {
          "output_type": "stream",
          "name": "stdout",
          "text": [
            "list_vector (추가전):  [1, 2, 4, 5]\n",
            "list_vector (6을 추가한 후):  [1, 2, 4, 5, 6]\n",
            "list_vector (3을 추가한 후):  [1, 2, 3, 4, 5, 6]\n",
            "list_vector (7과 8의 리스트를 확장한 후):  [1, 2, 3, 4, 5, 6, 7, 8]\n",
            "list_vector (-1,0 리스트와 9~10 리스트를 이어붙인 후):  [-1, 0, 1, 2, 3, 4, 5, 6, 7, 8, 9, 10]\n"
          ]
        }
      ]
    },
    {
      "cell_type": "code",
      "source": [
        "import numpy as np\n",
        "\n",
        "array_matrix = np.array([[1,2,3,4,5],[6,7,8,9,10],[11,12,13,14,15],[16,17,18,19,20],[21,22,23,24,25]])\n",
        "print(\"array_matrix (추가전) :\\n\", array_matrix)\n",
        "new_row_2d = np.array([[26,27,28,29,30],[31,32,33,34,35]])\n",
        "print(\"new_row_2d :\\n\", new_row_2d)\n",
        "array_matrix = np.append(array_matrix,new_row_2d,axis=0)\n",
        "print(\"array_matrix (신규행 추가후) :\\n\", array_matrix)"
      ],
      "metadata": {
        "colab": {
          "base_uri": "https://localhost:8080/"
        },
        "id": "UFuRZm3CMkMX",
        "outputId": "4740a891-72d1-4348-d3c2-139dc69ec6a2"
      },
      "execution_count": null,
      "outputs": [
        {
          "output_type": "stream",
          "name": "stdout",
          "text": [
            "array_matrix (추가전) :\n",
            " [[ 1  2  3  4  5]\n",
            " [ 6  7  8  9 10]\n",
            " [11 12 13 14 15]\n",
            " [16 17 18 19 20]\n",
            " [21 22 23 24 25]]\n",
            "new_row_2d :\n",
            " [[26 27 28 29 30]\n",
            " [31 32 33 34 35]]\n",
            "array_matrix (신규행 추가후) :\n",
            " [[ 1  2  3  4  5]\n",
            " [ 6  7  8  9 10]\n",
            " [11 12 13 14 15]\n",
            " [16 17 18 19 20]\n",
            " [21 22 23 24 25]\n",
            " [26 27 28 29 30]\n",
            " [31 32 33 34 35]]\n"
          ]
        }
      ]
    },
    {
      "cell_type": "code",
      "source": [
        "import numpy as np\n",
        "\n",
        "array_matrix = np.array([[1,2,3,4,5],[6,7,8,9,10],[11,12,13,14,15],[16,17,18,19,20],[21,22,23,24,25]])\n",
        "print(\"array_matrix (추가전) :\\n\", array_matrix)\n",
        "new_row = np.array([26,27,28,29,30])\n",
        "print(\"new_row :\\n\", new_row)\n",
        "array_matrix = np.append(array_matrix,[new_row],axis=0)\n",
        "print(\"array_matrix (신규행 추가후) :\\n\", array_matrix)"
      ],
      "metadata": {
        "colab": {
          "base_uri": "https://localhost:8080/"
        },
        "id": "CiUpCdiPOO-g",
        "outputId": "cbe233ff-1e16-4a41-94c8-a4ecf0575611"
      },
      "execution_count": null,
      "outputs": [
        {
          "output_type": "stream",
          "name": "stdout",
          "text": [
            "array_matrix (추가전) :\n",
            " [[ 1  2  3  4  5]\n",
            " [ 6  7  8  9 10]\n",
            " [11 12 13 14 15]\n",
            " [16 17 18 19 20]\n",
            " [21 22 23 24 25]]\n",
            "new_row :\n",
            " [26 27 28 29 30]\n",
            "array_matrix (신규행 추가후) :\n",
            " [[ 1  2  3  4  5]\n",
            " [ 6  7  8  9 10]\n",
            " [11 12 13 14 15]\n",
            " [16 17 18 19 20]\n",
            " [21 22 23 24 25]\n",
            " [26 27 28 29 30]]\n"
          ]
        }
      ]
    },
    {
      "cell_type": "code",
      "source": [
        "import numpy as np\n",
        "\n",
        "array_matrix = np.array([[1,2,3,4,5],[6,7,8,9,10],[11,12,13,14,15],[16,17,18,19,20],[21,22,23,24,25]])\n",
        "print(\"array_matrix (추가전) :\\n\", array_matrix)\n",
        "new_rows = np.array([[26,27,28,29,30],[31,32,33,34,35]])\n",
        "print(\"new_rows :\\n\", new_row_2d)\n",
        "array_matrix = np.append(array_matrix,[new_rows],axis=0)\n",
        "print(\"array_matrix (신규행 추가후) :\\n\", array_matrix)"
      ],
      "metadata": {
        "colab": {
          "base_uri": "https://localhost:8080/",
          "height": 471
        },
        "id": "el4rhe14Tze4",
        "outputId": "15b238ff-b9e8-4cb0-c185-824ede347bb6"
      },
      "execution_count": null,
      "outputs": [
        {
          "output_type": "stream",
          "name": "stdout",
          "text": [
            "array_matrix (추가전) :\n",
            " [[ 1  2  3  4  5]\n",
            " [ 6  7  8  9 10]\n",
            " [11 12 13 14 15]\n",
            " [16 17 18 19 20]\n",
            " [21 22 23 24 25]]\n",
            "new_rows :\n",
            " [[26 27 28 29 30]\n",
            " [31 32 33 34 35]]\n"
          ]
        },
        {
          "output_type": "error",
          "ename": "ValueError",
          "evalue": "ignored",
          "traceback": [
            "\u001b[0;31m---------------------------------------------------------------------------\u001b[0m",
            "\u001b[0;31mValueError\u001b[0m                                Traceback (most recent call last)",
            "\u001b[0;32m<ipython-input-8-0c198747febb>\u001b[0m in \u001b[0;36m<cell line: 7>\u001b[0;34m()\u001b[0m\n\u001b[1;32m      5\u001b[0m \u001b[0mnew_rows\u001b[0m \u001b[0;34m=\u001b[0m \u001b[0mnp\u001b[0m\u001b[0;34m.\u001b[0m\u001b[0marray\u001b[0m\u001b[0;34m(\u001b[0m\u001b[0;34m[\u001b[0m\u001b[0;34m[\u001b[0m\u001b[0;36m26\u001b[0m\u001b[0;34m,\u001b[0m\u001b[0;36m27\u001b[0m\u001b[0;34m,\u001b[0m\u001b[0;36m28\u001b[0m\u001b[0;34m,\u001b[0m\u001b[0;36m29\u001b[0m\u001b[0;34m,\u001b[0m\u001b[0;36m30\u001b[0m\u001b[0;34m]\u001b[0m\u001b[0;34m,\u001b[0m\u001b[0;34m[\u001b[0m\u001b[0;36m31\u001b[0m\u001b[0;34m,\u001b[0m\u001b[0;36m32\u001b[0m\u001b[0;34m,\u001b[0m\u001b[0;36m33\u001b[0m\u001b[0;34m,\u001b[0m\u001b[0;36m34\u001b[0m\u001b[0;34m,\u001b[0m\u001b[0;36m35\u001b[0m\u001b[0;34m]\u001b[0m\u001b[0;34m]\u001b[0m\u001b[0;34m)\u001b[0m\u001b[0;34m\u001b[0m\u001b[0;34m\u001b[0m\u001b[0m\n\u001b[1;32m      6\u001b[0m \u001b[0mprint\u001b[0m\u001b[0;34m(\u001b[0m\u001b[0;34m\"new_rows :\\n\"\u001b[0m\u001b[0;34m,\u001b[0m \u001b[0mnew_row_2d\u001b[0m\u001b[0;34m)\u001b[0m\u001b[0;34m\u001b[0m\u001b[0;34m\u001b[0m\u001b[0m\n\u001b[0;32m----> 7\u001b[0;31m \u001b[0marray_matrix\u001b[0m \u001b[0;34m=\u001b[0m \u001b[0mnp\u001b[0m\u001b[0;34m.\u001b[0m\u001b[0mappend\u001b[0m\u001b[0;34m(\u001b[0m\u001b[0marray_matrix\u001b[0m\u001b[0;34m,\u001b[0m\u001b[0;34m[\u001b[0m\u001b[0mnew_rows\u001b[0m\u001b[0;34m]\u001b[0m\u001b[0;34m,\u001b[0m\u001b[0maxis\u001b[0m\u001b[0;34m=\u001b[0m\u001b[0;36m0\u001b[0m\u001b[0;34m)\u001b[0m\u001b[0;34m\u001b[0m\u001b[0;34m\u001b[0m\u001b[0m\n\u001b[0m\u001b[1;32m      8\u001b[0m \u001b[0mprint\u001b[0m\u001b[0;34m(\u001b[0m\u001b[0;34m\"array_matrix (신규행 추가후) :\\n\"\u001b[0m\u001b[0;34m,\u001b[0m \u001b[0marray_matrix\u001b[0m\u001b[0;34m)\u001b[0m\u001b[0;34m\u001b[0m\u001b[0;34m\u001b[0m\u001b[0m\n",
            "\u001b[0;32m/usr/local/lib/python3.10/dist-packages/numpy/core/overrides.py\u001b[0m in \u001b[0;36mappend\u001b[0;34m(*args, **kwargs)\u001b[0m\n",
            "\u001b[0;32m/usr/local/lib/python3.10/dist-packages/numpy/lib/function_base.py\u001b[0m in \u001b[0;36mappend\u001b[0;34m(arr, values, axis)\u001b[0m\n\u001b[1;32m   5442\u001b[0m         \u001b[0mvalues\u001b[0m \u001b[0;34m=\u001b[0m \u001b[0mravel\u001b[0m\u001b[0;34m(\u001b[0m\u001b[0mvalues\u001b[0m\u001b[0;34m)\u001b[0m\u001b[0;34m\u001b[0m\u001b[0;34m\u001b[0m\u001b[0m\n\u001b[1;32m   5443\u001b[0m         \u001b[0maxis\u001b[0m \u001b[0;34m=\u001b[0m \u001b[0marr\u001b[0m\u001b[0;34m.\u001b[0m\u001b[0mndim\u001b[0m\u001b[0;34m-\u001b[0m\u001b[0;36m1\u001b[0m\u001b[0;34m\u001b[0m\u001b[0;34m\u001b[0m\u001b[0m\n\u001b[0;32m-> 5444\u001b[0;31m     \u001b[0;32mreturn\u001b[0m \u001b[0mconcatenate\u001b[0m\u001b[0;34m(\u001b[0m\u001b[0;34m(\u001b[0m\u001b[0marr\u001b[0m\u001b[0;34m,\u001b[0m \u001b[0mvalues\u001b[0m\u001b[0;34m)\u001b[0m\u001b[0;34m,\u001b[0m \u001b[0maxis\u001b[0m\u001b[0;34m=\u001b[0m\u001b[0maxis\u001b[0m\u001b[0;34m)\u001b[0m\u001b[0;34m\u001b[0m\u001b[0;34m\u001b[0m\u001b[0m\n\u001b[0m\u001b[1;32m   5445\u001b[0m \u001b[0;34m\u001b[0m\u001b[0m\n\u001b[1;32m   5446\u001b[0m \u001b[0;34m\u001b[0m\u001b[0m\n",
            "\u001b[0;32m/usr/local/lib/python3.10/dist-packages/numpy/core/overrides.py\u001b[0m in \u001b[0;36mconcatenate\u001b[0;34m(*args, **kwargs)\u001b[0m\n",
            "\u001b[0;31mValueError\u001b[0m: all the input arrays must have same number of dimensions, but the array at index 0 has 2 dimension(s) and the array at index 1 has 3 dimension(s)"
          ]
        }
      ]
    },
    {
      "cell_type": "code",
      "source": [
        "import numpy as np\n",
        "\n",
        "array_matrix = np.array([[1,2,3,4,5],[6,7,8,9,10],[11,12,13,14,15],[16,17,18,19,20],[21,22,23,24,25]])\n",
        "print(\"array_matrix (추가전) :\\n\", array_matrix)\n",
        "new_row_2d = np.array([[26,27,28,29,30]])\n",
        "print(\"new_row_2d :\\n\", new_row_2d)\n",
        "array_matrix = np.append(array_matrix,new_row_2d,axis=0)\n",
        "print(\"array_matrix (신규행 추가후) :\\n\", array_matrix)"
      ],
      "metadata": {
        "colab": {
          "base_uri": "https://localhost:8080/"
        },
        "id": "Xxi1bZrAU9qE",
        "outputId": "cc15d54c-a6ae-40a0-ce8a-91fcee98c606"
      },
      "execution_count": null,
      "outputs": [
        {
          "output_type": "stream",
          "name": "stdout",
          "text": [
            "array_matrix (추가전) :\n",
            " [[ 1  2  3  4  5]\n",
            " [ 6  7  8  9 10]\n",
            " [11 12 13 14 15]\n",
            " [16 17 18 19 20]\n",
            " [21 22 23 24 25]]\n",
            "new_row_2d :\n",
            " [[26 27 28 29 30]]\n",
            "array_matrix (신규행 추가후) :\n",
            " [[ 1  2  3  4  5]\n",
            " [ 6  7  8  9 10]\n",
            " [11 12 13 14 15]\n",
            " [16 17 18 19 20]\n",
            " [21 22 23 24 25]\n",
            " [26 27 28 29 30]]\n"
          ]
        }
      ]
    },
    {
      "cell_type": "code",
      "source": [
        "import numpy as np\n",
        "\n",
        "array_matrix = np.array([[1,2,3,4,5],[6,7,8,9,10],[11,12,13,14,15],[16,17,18,19,20],[21,22,23,24,25]])\n",
        "print(\"array_matrix (추가전) :\\n\", array_matrix)\n",
        "new_column_2d = np.array([[26],[27],[28],[29],[30]])\n",
        "print(\"new_column_2d :\\n\", new_column_2d)\n",
        "array_matrix = np.append(array_matrix,new_column_2d,axis=1)\n",
        "print(\"array_matrix (신규열 추가후) :\\n\", array_matrix)"
      ],
      "metadata": {
        "colab": {
          "base_uri": "https://localhost:8080/"
        },
        "id": "cSji6WB6Wq27",
        "outputId": "d964a8ce-54ee-4d43-eb59-cd23df592155"
      },
      "execution_count": null,
      "outputs": [
        {
          "output_type": "stream",
          "name": "stdout",
          "text": [
            "array_matrix (추가전) :\n",
            " [[ 1  2  3  4  5]\n",
            " [ 6  7  8  9 10]\n",
            " [11 12 13 14 15]\n",
            " [16 17 18 19 20]\n",
            " [21 22 23 24 25]]\n",
            "new_column_2d :\n",
            " [[26]\n",
            " [27]\n",
            " [28]\n",
            " [29]\n",
            " [30]]\n",
            "array_matrix (신규열 추가후) :\n",
            " [[ 1  2  3  4  5 26]\n",
            " [ 6  7  8  9 10 27]\n",
            " [11 12 13 14 15 28]\n",
            " [16 17 18 19 20 29]\n",
            " [21 22 23 24 25 30]]\n"
          ]
        }
      ]
    },
    {
      "cell_type": "code",
      "source": [
        "import numpy as np\n",
        "\n",
        "array_matrix = np.array([[1,2,3,4,5],[6,7,8,9,10],[11,12,13,14,15],[16,17,18,19,20],[21,22,23,24,25]])\n",
        "print(\"array_matrix (추가전) :\\n\", array_matrix)\n",
        "new_row_2d = np.array([[26,27,28,29,30],[31,32,33,34,35]])\n",
        "print(\"new_row_2d :\\n\", new_row_2d)\n",
        "new_column_2d = np.transpose(new_row_2d)\n",
        "print(\"new_column_2d :\\n\", new_column_2d)\n",
        "array_matrix = np.append(array_matrix,new_column_2d,axis=1)\n",
        "print(\"array_matrix (신규열 추가후) :\\n\", array_matrix)"
      ],
      "metadata": {
        "colab": {
          "base_uri": "https://localhost:8080/"
        },
        "id": "sTXKSxeccxli",
        "outputId": "f16d0694-1049-4a00-aea7-a7ac755cbbd5"
      },
      "execution_count": null,
      "outputs": [
        {
          "output_type": "stream",
          "name": "stdout",
          "text": [
            "array_matrix (추가전) :\n",
            " [[ 1  2  3  4  5]\n",
            " [ 6  7  8  9 10]\n",
            " [11 12 13 14 15]\n",
            " [16 17 18 19 20]\n",
            " [21 22 23 24 25]]\n",
            "new_row_2d :\n",
            " [[26 27 28 29 30]\n",
            " [31 32 33 34 35]]\n",
            "new_column_2d :\n",
            " [[26 31]\n",
            " [27 32]\n",
            " [28 33]\n",
            " [29 34]\n",
            " [30 35]]\n",
            "array_matrix (신규열 추가후) :\n",
            " [[ 1  2  3  4  5 26 31]\n",
            " [ 6  7  8  9 10 27 32]\n",
            " [11 12 13 14 15 28 33]\n",
            " [16 17 18 19 20 29 34]\n",
            " [21 22 23 24 25 30 35]]\n"
          ]
        }
      ]
    },
    {
      "cell_type": "code",
      "source": [
        "import numpy as np\n",
        "\n",
        "array_matrix = np.array([[1,2,3,4,5],[6,7,8,9,10],[11,12,13,14,15],[16,17,18,19,20],[21,22,23,24,25]])\n",
        "\n",
        "new_row_2d01 = np.array([[26,27,28,29,30]])\n",
        "new_row_2d02 = np.array([[31,32,33,34,35],[36,37,38,39,40]])\n",
        "array_matrix = np.concatenate([array_matrix,new_row_2d01,new_row_2d02],axis= 0)\n",
        "array_matrix = np.vstack((array_matrix,new_row_2d01,new_row_2d02))\n",
        "\n",
        "array_matrix = np.array([[1,2,3,4,5],[6,7,8,9,10],[11,12,13,14,15],[16,17,18,19,20],[21,22,23,24,25]])\n",
        "\n",
        "new_column_2d01 = np.transpose(new_row_2d01)\n",
        "new_column_2d02 = np.transpose(new_row_2d02)\n",
        "array_matrix = np.concatenate([array_matrix,new_column_2d01,new_column_2d02],axis= 1)\n",
        "array_matrix = np.hstack((array_matrix,new_column_2d01,new_column_2d02))"
      ],
      "metadata": {
        "id": "np9dlFfkOY0r"
      },
      "execution_count": null,
      "outputs": []
    },
    {
      "cell_type": "code",
      "source": [
        "import numpy as np\n",
        "\n",
        "array_matrix = np.array([[1,2,3,4,5],[6,7,8,9,10],[11,12,13,14,15],[16,17,18,19,20],[21,22,23,24,25]])\n",
        "print(\"array_matrix (추가전) :\\n\", array_matrix)\n",
        "\n",
        "new_row_2d = np.array([[26,27,28,29,30],[31,32,33,34,35]])\n",
        "array_matrix = np.insert(array_matrix,1,new_row_2d,axis=0)\n",
        "print(\"array_matrix (2행으로 신규행 추가후) :\\n\", array_matrix)"
      ],
      "metadata": {
        "colab": {
          "base_uri": "https://localhost:8080/"
        },
        "id": "7f0Z8jsUh1cM",
        "outputId": "5eda751d-2371-4cfd-fd24-6210f002aafd"
      },
      "execution_count": null,
      "outputs": [
        {
          "output_type": "stream",
          "name": "stdout",
          "text": [
            "array_matrix (추가전) :\n",
            " [[ 1  2  3  4  5]\n",
            " [ 6  7  8  9 10]\n",
            " [11 12 13 14 15]\n",
            " [16 17 18 19 20]\n",
            " [21 22 23 24 25]]\n",
            "array_matrix (2행으로 신규행 추가후) :\n",
            " [[ 1  2  3  4  5]\n",
            " [26 27 28 29 30]\n",
            " [31 32 33 34 35]\n",
            " [ 6  7  8  9 10]\n",
            " [11 12 13 14 15]\n",
            " [16 17 18 19 20]\n",
            " [21 22 23 24 25]]\n"
          ]
        }
      ]
    },
    {
      "cell_type": "code",
      "source": [
        "import numpy as np\n",
        "\n",
        "array_matrix = np.array([[1,2,3,4,5],[6,7,8,9,10],[11,12,13,14,15],[16,17,18,19,20],[21,22,23,24,25]])\n",
        "print(\"array_matrix (추가전) :\\n\", array_matrix)\n",
        "\n",
        "new_row_2d = np.array([[26,27,28,29,30],[31,32,33,34,35]])\n",
        "new_column_2d = np.transpose(new_row_2d)\n",
        "array_matrix = np.insert(array_matrix,1,new_column_2d,axis=1)\n",
        "print(\"array_matrix (2열로 신규열 추가후) :\\n\", array_matrix)"
      ],
      "metadata": {
        "colab": {
          "base_uri": "https://localhost:8080/",
          "height": 509
        },
        "id": "EuLkcr7CseDK",
        "outputId": "92efdc72-9349-4fff-e007-23ae9648d54c"
      },
      "execution_count": null,
      "outputs": [
        {
          "output_type": "stream",
          "name": "stdout",
          "text": [
            "array_matrix (추가전) :\n",
            " [[ 1  2  3  4  5]\n",
            " [ 6  7  8  9 10]\n",
            " [11 12 13 14 15]\n",
            " [16 17 18 19 20]\n",
            " [21 22 23 24 25]]\n"
          ]
        },
        {
          "output_type": "error",
          "ename": "ValueError",
          "evalue": "ignored",
          "traceback": [
            "\u001b[0;31m---------------------------------------------------------------------------\u001b[0m",
            "\u001b[0;31mValueError\u001b[0m                                Traceback (most recent call last)",
            "\u001b[0;32m<ipython-input-13-9713b4c1b4e5>\u001b[0m in \u001b[0;36m<cell line: 8>\u001b[0;34m()\u001b[0m\n\u001b[1;32m      6\u001b[0m \u001b[0mnew_row_2d\u001b[0m \u001b[0;34m=\u001b[0m \u001b[0mnp\u001b[0m\u001b[0;34m.\u001b[0m\u001b[0marray\u001b[0m\u001b[0;34m(\u001b[0m\u001b[0;34m[\u001b[0m\u001b[0;34m[\u001b[0m\u001b[0;36m26\u001b[0m\u001b[0;34m,\u001b[0m\u001b[0;36m27\u001b[0m\u001b[0;34m,\u001b[0m\u001b[0;36m28\u001b[0m\u001b[0;34m,\u001b[0m\u001b[0;36m29\u001b[0m\u001b[0;34m,\u001b[0m\u001b[0;36m30\u001b[0m\u001b[0;34m]\u001b[0m\u001b[0;34m,\u001b[0m\u001b[0;34m[\u001b[0m\u001b[0;36m31\u001b[0m\u001b[0;34m,\u001b[0m\u001b[0;36m32\u001b[0m\u001b[0;34m,\u001b[0m\u001b[0;36m33\u001b[0m\u001b[0;34m,\u001b[0m\u001b[0;36m34\u001b[0m\u001b[0;34m,\u001b[0m\u001b[0;36m35\u001b[0m\u001b[0;34m]\u001b[0m\u001b[0;34m]\u001b[0m\u001b[0;34m)\u001b[0m\u001b[0;34m\u001b[0m\u001b[0;34m\u001b[0m\u001b[0m\n\u001b[1;32m      7\u001b[0m \u001b[0mnew_column_2d\u001b[0m \u001b[0;34m=\u001b[0m \u001b[0mnp\u001b[0m\u001b[0;34m.\u001b[0m\u001b[0mtranspose\u001b[0m\u001b[0;34m(\u001b[0m\u001b[0mnew_row_2d\u001b[0m\u001b[0;34m)\u001b[0m\u001b[0;34m\u001b[0m\u001b[0;34m\u001b[0m\u001b[0m\n\u001b[0;32m----> 8\u001b[0;31m \u001b[0marray_matrix\u001b[0m \u001b[0;34m=\u001b[0m \u001b[0mnp\u001b[0m\u001b[0;34m.\u001b[0m\u001b[0minsert\u001b[0m\u001b[0;34m(\u001b[0m\u001b[0marray_matrix\u001b[0m\u001b[0;34m,\u001b[0m\u001b[0;36m1\u001b[0m\u001b[0;34m,\u001b[0m\u001b[0mnew_column_2d\u001b[0m\u001b[0;34m,\u001b[0m\u001b[0maxis\u001b[0m\u001b[0;34m=\u001b[0m\u001b[0;36m1\u001b[0m\u001b[0;34m)\u001b[0m\u001b[0;34m\u001b[0m\u001b[0;34m\u001b[0m\u001b[0m\n\u001b[0m\u001b[1;32m      9\u001b[0m \u001b[0mprint\u001b[0m\u001b[0;34m(\u001b[0m\u001b[0;34m\"array_matrix (2열로 신규열 추가후) :\\n\"\u001b[0m\u001b[0;34m,\u001b[0m \u001b[0marray_matrix\u001b[0m\u001b[0;34m)\u001b[0m\u001b[0;34m\u001b[0m\u001b[0;34m\u001b[0m\u001b[0m\n",
            "\u001b[0;32m/usr/local/lib/python3.10/dist-packages/numpy/core/overrides.py\u001b[0m in \u001b[0;36minsert\u001b[0;34m(*args, **kwargs)\u001b[0m\n",
            "\u001b[0;32m/usr/local/lib/python3.10/dist-packages/numpy/lib/function_base.py\u001b[0m in \u001b[0;36minsert\u001b[0;34m(arr, obj, values, axis)\u001b[0m\n\u001b[1;32m   5349\u001b[0m         \u001b[0mnew\u001b[0m\u001b[0;34m[\u001b[0m\u001b[0mtuple\u001b[0m\u001b[0;34m(\u001b[0m\u001b[0mslobj\u001b[0m\u001b[0;34m)\u001b[0m\u001b[0;34m]\u001b[0m \u001b[0;34m=\u001b[0m \u001b[0marr\u001b[0m\u001b[0;34m[\u001b[0m\u001b[0mtuple\u001b[0m\u001b[0;34m(\u001b[0m\u001b[0mslobj\u001b[0m\u001b[0;34m)\u001b[0m\u001b[0;34m]\u001b[0m\u001b[0;34m\u001b[0m\u001b[0;34m\u001b[0m\u001b[0m\n\u001b[1;32m   5350\u001b[0m         \u001b[0mslobj\u001b[0m\u001b[0;34m[\u001b[0m\u001b[0maxis\u001b[0m\u001b[0;34m]\u001b[0m \u001b[0;34m=\u001b[0m \u001b[0mslice\u001b[0m\u001b[0;34m(\u001b[0m\u001b[0mindex\u001b[0m\u001b[0;34m,\u001b[0m \u001b[0mindex\u001b[0m\u001b[0;34m+\u001b[0m\u001b[0mnumnew\u001b[0m\u001b[0;34m)\u001b[0m\u001b[0;34m\u001b[0m\u001b[0;34m\u001b[0m\u001b[0m\n\u001b[0;32m-> 5351\u001b[0;31m         \u001b[0mnew\u001b[0m\u001b[0;34m[\u001b[0m\u001b[0mtuple\u001b[0m\u001b[0;34m(\u001b[0m\u001b[0mslobj\u001b[0m\u001b[0;34m)\u001b[0m\u001b[0;34m]\u001b[0m \u001b[0;34m=\u001b[0m \u001b[0mvalues\u001b[0m\u001b[0;34m\u001b[0m\u001b[0;34m\u001b[0m\u001b[0m\n\u001b[0m\u001b[1;32m   5352\u001b[0m         \u001b[0mslobj\u001b[0m\u001b[0;34m[\u001b[0m\u001b[0maxis\u001b[0m\u001b[0;34m]\u001b[0m \u001b[0;34m=\u001b[0m \u001b[0mslice\u001b[0m\u001b[0;34m(\u001b[0m\u001b[0mindex\u001b[0m\u001b[0;34m+\u001b[0m\u001b[0mnumnew\u001b[0m\u001b[0;34m,\u001b[0m \u001b[0;32mNone\u001b[0m\u001b[0;34m)\u001b[0m\u001b[0;34m\u001b[0m\u001b[0;34m\u001b[0m\u001b[0m\n\u001b[1;32m   5353\u001b[0m         \u001b[0mslobj2\u001b[0m \u001b[0;34m=\u001b[0m \u001b[0;34m[\u001b[0m\u001b[0mslice\u001b[0m\u001b[0;34m(\u001b[0m\u001b[0;32mNone\u001b[0m\u001b[0;34m)\u001b[0m\u001b[0;34m]\u001b[0m \u001b[0;34m*\u001b[0m \u001b[0mndim\u001b[0m\u001b[0;34m\u001b[0m\u001b[0;34m\u001b[0m\u001b[0m\n",
            "\u001b[0;31mValueError\u001b[0m: could not broadcast input array from shape (2,5) into shape (5,5)"
          ]
        }
      ]
    },
    {
      "cell_type": "code",
      "source": [
        "import numpy as np\n",
        "\n",
        "array_matrix = np.array([[1,2,3,4,5],[6,7,8,9,10],[11,12,13,14,15],[16,17,18,19,20],[21,22,23,24,25]])\n",
        "print(\"array_matrix (추가전) :\\n\", array_matrix)\n",
        "\n",
        "new_row_2d = np.array([[26,27,28,29,30],[31,32,33,34,35]])\n",
        "new_column_2d = np.transpose(new_row_2d)\n",
        "array_matrix = np.insert(array_matrix,[1,2],new_column_2d,axis=1)\n",
        "print(\"array_matrix (2열과 3열로 신규열 추가후) :\\n\", array_matrix)"
      ],
      "metadata": {
        "colab": {
          "base_uri": "https://localhost:8080/"
        },
        "id": "Cq1eEzaRuGj4",
        "outputId": "2e8c5ab9-8d4a-4f64-ba3a-81a06fb0bda0"
      },
      "execution_count": null,
      "outputs": [
        {
          "output_type": "stream",
          "name": "stdout",
          "text": [
            "array_matrix (추가전) :\n",
            " [[ 1  2  3  4  5]\n",
            " [ 6  7  8  9 10]\n",
            " [11 12 13 14 15]\n",
            " [16 17 18 19 20]\n",
            " [21 22 23 24 25]]\n",
            "array_matrix (2열과 3열로 신규열 추가후) :\n",
            " [[ 1 26  2 31  3  4  5]\n",
            " [ 6 27  7 32  8  9 10]\n",
            " [11 28 12 33 13 14 15]\n",
            " [16 29 17 34 18 19 20]\n",
            " [21 30 22 35 23 24 25]]\n"
          ]
        }
      ]
    },
    {
      "cell_type": "code",
      "source": [
        "import numpy as np\n",
        "\n",
        "array_matrix = np.array([[1,2,3,4,5],[6,7,8,9,10],[11,12,13,14,15],[16,17,18,19,20],[21,22,23,24,25]])\n",
        "print(\"array_matrix (추가전) :\\n\", array_matrix)\n",
        "\n",
        "new_row_2d = np.array([[26,27,28,29,30],[31,32,33,34,35]])\n",
        "new_column_2d = np.transpose(new_row_2d)\n",
        "array_matrix = np.insert(array_matrix,[1,1],new_column_2d,axis=1)\n",
        "print(\"array_matrix (2열로 신규열 추가후) :\\n\", array_matrix)"
      ],
      "metadata": {
        "colab": {
          "base_uri": "https://localhost:8080/"
        },
        "id": "axVN7iZGxMxr",
        "outputId": "40320737-a337-4a49-85d7-c34877386234"
      },
      "execution_count": null,
      "outputs": [
        {
          "output_type": "stream",
          "name": "stdout",
          "text": [
            "array_matrix (추가전) :\n",
            " [[ 1  2  3  4  5]\n",
            " [ 6  7  8  9 10]\n",
            " [11 12 13 14 15]\n",
            " [16 17 18 19 20]\n",
            " [21 22 23 24 25]]\n",
            "array_matrix (2열로 신규열 추가후) :\n",
            " [[ 1 26 31  2  3  4  5]\n",
            " [ 6 27 32  7  8  9 10]\n",
            " [11 28 33 12 13 14 15]\n",
            " [16 29 34 17 18 19 20]\n",
            " [21 30 35 22 23 24 25]]\n"
          ]
        }
      ]
    },
    {
      "cell_type": "code",
      "source": [
        "import numpy as np\n",
        "\n",
        "array_matrix = np.array([[1,2,3,4,5],[6,7,8,9,10],[11,12,13,14,15],[16,17,18,19,20],[21,22,23,24,25]])\n",
        "print(\"array_matrix (추가전) :\\n\", array_matrix)\n",
        "\n",
        "new_row_2d = np.array([[26,27,28,29,30]])\n",
        "new_column_2d = np.transpose(new_row_2d)\n",
        "\n",
        "array_matrix = np.insert(array_matrix,[0,2,3],new_column_2d,axis=1)\n",
        "print(\"array_matrix (1열과 3열과 4열에 신규열 추가후) :\\n\", array_matrix)"
      ],
      "metadata": {
        "colab": {
          "base_uri": "https://localhost:8080/"
        },
        "id": "PtpG6AOMiQr5",
        "outputId": "343d2ea0-cebb-4909-a232-36fd343310e0"
      },
      "execution_count": null,
      "outputs": [
        {
          "output_type": "stream",
          "name": "stdout",
          "text": [
            "array_matrix (추가전) :\n",
            " [[ 1  2  3  4  5]\n",
            " [ 6  7  8  9 10]\n",
            " [11 12 13 14 15]\n",
            " [16 17 18 19 20]\n",
            " [21 22 23 24 25]]\n",
            "array_matrix (1열과 3열과 4열에 신규열 추가후) :\n",
            " [[26  1  2 26  3 26  4  5]\n",
            " [27  6  7 27  8 27  9 10]\n",
            " [28 11 12 28 13 28 14 15]\n",
            " [29 16 17 29 18 29 19 20]\n",
            " [30 21 22 30 23 30 24 25]]\n"
          ]
        }
      ]
    },
    {
      "cell_type": "code",
      "source": [
        "import numpy as np\n",
        "\n",
        "array_matrix = np.array([[1,2,3,4,5],[6,7,8,9,10],[11,12,13,14,15],[16,17,18,19,20],[21,22,23,24,25]])\n",
        "print(\"array_matrix (추가전) :\\n\", array_matrix)\n",
        "\n",
        "new_row_2d = np.array([[26,27,28,29,30],[31,32,33,34,35]])\n",
        "array_matrix = np.insert(array_matrix,[1,3],new_row_2d,axis=0)\n",
        "print(\"array_matrix (2행과 4행으로 신규행 추가후) :\\n\", array_matrix)"
      ],
      "metadata": {
        "colab": {
          "base_uri": "https://localhost:8080/"
        },
        "id": "GxnUwpIr0D_3",
        "outputId": "6bc4833d-a2eb-4e3d-a75e-d8d2229ed974"
      },
      "execution_count": null,
      "outputs": [
        {
          "output_type": "stream",
          "name": "stdout",
          "text": [
            "array_matrix (추가전) :\n",
            " [[ 1  2  3  4  5]\n",
            " [ 6  7  8  9 10]\n",
            " [11 12 13 14 15]\n",
            " [16 17 18 19 20]\n",
            " [21 22 23 24 25]]\n",
            "array_matrix (2행과 4행으로 신규행 추가후) :\n",
            " [[ 1  2  3  4  5]\n",
            " [26 27 28 29 30]\n",
            " [ 6  7  8  9 10]\n",
            " [11 12 13 14 15]\n",
            " [31 32 33 34 35]\n",
            " [16 17 18 19 20]\n",
            " [21 22 23 24 25]]\n"
          ]
        }
      ]
    },
    {
      "cell_type": "code",
      "source": [
        "list_vector = []\n",
        "print(\"list_vector (빈 벡터) :\\n\", list_vector)\n",
        "\n",
        "list_vector.append(1)        # 벡터의 요소값들을 외부에서 읽어 온다고 가정\n",
        "list_vector.append(2)\n",
        "list_vector.append(3)\n",
        "print(\"list_vector (값을 읽어와 생성한 벡터) :\\n\", list_vector)"
      ],
      "metadata": {
        "colab": {
          "base_uri": "https://localhost:8080/"
        },
        "id": "D9_JmFoWEySM",
        "outputId": "67fa3dfa-2b6e-459b-9f5e-858ebeff450d"
      },
      "execution_count": null,
      "outputs": [
        {
          "output_type": "stream",
          "name": "stdout",
          "text": [
            "list_vector (빈 벡터) :\n",
            " []\n",
            "list_vector (값을 읽어와 생성한 벡터) :\n",
            " [1, 2, 3]\n"
          ]
        }
      ]
    },
    {
      "cell_type": "code",
      "source": [
        "import numpy as np\n",
        "\n",
        "# 행렬의 크기를 외부에서 읽어 온다고 가정\n",
        "row = 2\n",
        "column = 3\n",
        "\n",
        "array_matrix = np.empty(shape=(row, column))\n",
        "print(\"array_matrix (빈 배열) :\\n\", array_matrix)\n",
        "\n",
        "# 행렬의 요소값들을 외부에서 읽어 온다고 가정\n",
        "for i in range(row):\n",
        "  array_matrix[i] = np.array(np.arange(i * column,i * column + column))\n",
        "\n",
        "print(\"array_matrix (값을 읽어와 생성한 배열) :\\n\", array_matrix)"
      ],
      "metadata": {
        "colab": {
          "base_uri": "https://localhost:8080/"
        },
        "id": "QBoH7PX6Fue_",
        "outputId": "c71235c0-ac64-4531-eb1a-13c7ad0939d2"
      },
      "execution_count": null,
      "outputs": [
        {
          "output_type": "stream",
          "name": "stdout",
          "text": [
            "array_matrix (빈 배열) :\n",
            " [[4.75919759e-310 0.00000000e+000 0.00000000e+000]\n",
            " [0.00000000e+000 0.00000000e+000 0.00000000e+000]]\n",
            "array_matrix (값을 읽어와 생성한 배열) :\n",
            " [[0. 1. 2.]\n",
            " [3. 4. 5.]]\n"
          ]
        }
      ]
    },
    {
      "cell_type": "markdown",
      "source": [
        "numpy 기타"
      ],
      "metadata": {
        "id": "NNKGhXoRJmEB"
      }
    },
    {
      "cell_type": "code",
      "source": [
        "import numpy as np\n",
        "\n",
        "array_matrix = np.array([[1,2,3,4,5],[6,7,8,9,10],[11,12,13,14,15],[16,17,18,19,20],[21,22,23,24,25]])\n",
        "print(\"array_matrix (변경전) :\\n\", array_matrix)\n",
        "array_matrix = np.flipud(array_matrix)\n",
        "print(\"array_matrix (행렬의 상하 변경후) :\\n\", array_matrix)"
      ],
      "metadata": {
        "colab": {
          "base_uri": "https://localhost:8080/"
        },
        "id": "egeh6CGxYVxU",
        "outputId": "27aa534e-1e3d-4562-f3a5-830490576088"
      },
      "execution_count": null,
      "outputs": [
        {
          "output_type": "stream",
          "name": "stdout",
          "text": [
            "array_matrix (변경전) :\n",
            " [[ 1  2  3  4  5]\n",
            " [ 6  7  8  9 10]\n",
            " [11 12 13 14 15]\n",
            " [16 17 18 19 20]\n",
            " [21 22 23 24 25]]\n",
            "array_matrix (행렬의 상하 변경후) :\n",
            " [[21 22 23 24 25]\n",
            " [16 17 18 19 20]\n",
            " [11 12 13 14 15]\n",
            " [ 6  7  8  9 10]\n",
            " [ 1  2  3  4  5]]\n"
          ]
        }
      ]
    },
    {
      "cell_type": "code",
      "source": [
        "import numpy as np\n",
        "\n",
        "array_matrix = np.array([[1,2,3,4,5],[6,7,8,9,10],[11,12,13,14,15],[16,17,18,19,20],[21,22,23,24,25]])\n",
        "print(\"array_matrix (변경전) :\\n\", array_matrix)\n",
        "array_matrix = np.fliplr(array_matrix)\n",
        "print(\"array_matrix (행렬의 좌우 변경후) :\\n\", array_matrix)"
      ],
      "metadata": {
        "colab": {
          "base_uri": "https://localhost:8080/"
        },
        "id": "WXf_sPAJXSZQ",
        "outputId": "bdfa93f2-cfe4-4abe-e14e-14c98609913a"
      },
      "execution_count": null,
      "outputs": [
        {
          "output_type": "stream",
          "name": "stdout",
          "text": [
            "array_matrix (변경전) :\n",
            " [[ 1  2  3  4  5]\n",
            " [ 6  7  8  9 10]\n",
            " [11 12 13 14 15]\n",
            " [16 17 18 19 20]\n",
            " [21 22 23 24 25]]\n",
            "array_matrix (행렬의 좌우 변경후) :\n",
            " [[ 5  4  3  2  1]\n",
            " [10  9  8  7  6]\n",
            " [15 14 13 12 11]\n",
            " [20 19 18 17 16]\n",
            " [25 24 23 22 21]]\n"
          ]
        }
      ]
    },
    {
      "cell_type": "code",
      "source": [
        "import numpy as np\n",
        "\n",
        "array_matrix = np.array([[1,2,3,4,5],[6,7,8,9,10],[11,12,13,14,15],[16,17,18,19,20],[21,22,23,24,25]])\n",
        "print(\"array_matrix (변경전) :\\n\", array_matrix)\n",
        "array_matrix = np.flip(array_matrix)\n",
        "print(\"array_matrix (행렬의 앞뒤 변경후) :\\n\", array_matrix)"
      ],
      "metadata": {
        "colab": {
          "base_uri": "https://localhost:8080/"
        },
        "id": "kHIpc0hrZNSN",
        "outputId": "b5bd6885-1a07-4917-ee0f-d2230f183d40"
      },
      "execution_count": null,
      "outputs": [
        {
          "output_type": "stream",
          "name": "stdout",
          "text": [
            "array_matrix (변경전) :\n",
            " [[ 1  2  3  4  5]\n",
            " [ 6  7  8  9 10]\n",
            " [11 12 13 14 15]\n",
            " [16 17 18 19 20]\n",
            " [21 22 23 24 25]]\n",
            "array_matrix (행렬의 앞뒤 변경후) :\n",
            " [[25 24 23 22 21]\n",
            " [20 19 18 17 16]\n",
            " [15 14 13 12 11]\n",
            " [10  9  8  7  6]\n",
            " [ 5  4  3  2  1]]\n"
          ]
        }
      ]
    },
    {
      "cell_type": "code",
      "source": [
        "import numpy as np\n",
        "\n",
        "array3d = np.arange(1,28).reshape(3,3,3)\n",
        "print(\"array3d (변경전) :\\n\", array3d)\n",
        "array3d = np.flip(array3d,axis=2)\n",
        "print(\"array3d (3차원 행렬의 3번째 축 기준 앞뒤 변경후) :\\n\", array3d)"
      ],
      "metadata": {
        "colab": {
          "base_uri": "https://localhost:8080/"
        },
        "id": "PonnRUN1aFob",
        "outputId": "7ed3aa61-c30d-4a00-b85c-726ba1cdf862"
      },
      "execution_count": null,
      "outputs": [
        {
          "output_type": "stream",
          "name": "stdout",
          "text": [
            "array3d (변경전) :\n",
            " [[[ 1  2  3]\n",
            "  [ 4  5  6]\n",
            "  [ 7  8  9]]\n",
            "\n",
            " [[10 11 12]\n",
            "  [13 14 15]\n",
            "  [16 17 18]]\n",
            "\n",
            " [[19 20 21]\n",
            "  [22 23 24]\n",
            "  [25 26 27]]]\n",
            "array3d (3차원 행렬의 3번째 축 기준 앞뒤 변경후) :\n",
            " [[[ 3  2  1]\n",
            "  [ 6  5  4]\n",
            "  [ 9  8  7]]\n",
            "\n",
            " [[12 11 10]\n",
            "  [15 14 13]\n",
            "  [18 17 16]]\n",
            "\n",
            " [[21 20 19]\n",
            "  [24 23 22]\n",
            "  [27 26 25]]]\n"
          ]
        }
      ]
    },
    {
      "cell_type": "code",
      "source": [
        "import numpy as np\n",
        "\n",
        "array3d = np.arange(1,28).reshape(3,3,3)\n",
        "print(\"array3d (변경전) :\\n\", array3d)\n",
        "array3d = np.flip(array3d,axis=(0,2))\n",
        "print(\"array3d (3차원 행렬의 1,3번째 축 기준 앞뒤 변경후) :\\n\", array3d)"
      ],
      "metadata": {
        "colab": {
          "base_uri": "https://localhost:8080/"
        },
        "id": "bSKxNFICcsIJ",
        "outputId": "ac65981f-adef-4d25-d9aa-dd6dfa0925df"
      },
      "execution_count": null,
      "outputs": [
        {
          "output_type": "stream",
          "name": "stdout",
          "text": [
            "array3d (변경전) :\n",
            " [[[ 1  2  3]\n",
            "  [ 4  5  6]\n",
            "  [ 7  8  9]]\n",
            "\n",
            " [[10 11 12]\n",
            "  [13 14 15]\n",
            "  [16 17 18]]\n",
            "\n",
            " [[19 20 21]\n",
            "  [22 23 24]\n",
            "  [25 26 27]]]\n",
            "array3d (3차원 행렬의 1,3번째 축 기준 앞뒤 변경후) :\n",
            " [[[21 20 19]\n",
            "  [24 23 22]\n",
            "  [27 26 25]]\n",
            "\n",
            " [[12 11 10]\n",
            "  [15 14 13]\n",
            "  [18 17 16]]\n",
            "\n",
            " [[ 3  2  1]\n",
            "  [ 6  5  4]\n",
            "  [ 9  8  7]]]\n"
          ]
        }
      ]
    },
    {
      "cell_type": "code",
      "source": [
        "import numpy as np\n",
        "\n",
        "array_matrix = np.array([[1,2,3,4,5],[6,7,8,9,10],[11,12,13,14,15],[16,17,18,19,20],[21,22,23,24,25]])\n",
        "print(\"array_matrix (변경전) :\\n\", array_matrix)\n",
        "array_matrix = np.roll(array_matrix,shift=3)\n",
        "print(\"array_matrix (행렬의 앞뒤 변경후) :\\n\", array_matrix)"
      ],
      "metadata": {
        "colab": {
          "base_uri": "https://localhost:8080/"
        },
        "id": "7WS07BnNfWmq",
        "outputId": "10fa46e0-3e20-4028-b819-6b4bafbb36c9"
      },
      "execution_count": null,
      "outputs": [
        {
          "output_type": "stream",
          "name": "stdout",
          "text": [
            "array_matrix (변경전) :\n",
            " [[ 1  2  3  4  5]\n",
            " [ 6  7  8  9 10]\n",
            " [11 12 13 14 15]\n",
            " [16 17 18 19 20]\n",
            " [21 22 23 24 25]]\n",
            "array_matrix (행렬의 앞뒤 변경후) :\n",
            " [[23 24 25  1  2]\n",
            " [ 3  4  5  6  7]\n",
            " [ 8  9 10 11 12]\n",
            " [13 14 15 16 17]\n",
            " [18 19 20 21 22]]\n"
          ]
        }
      ]
    },
    {
      "cell_type": "code",
      "source": [
        "import numpy as np\n",
        "\n",
        "array_matrix = np.array([[1,2,3],[4,5,6],[7,8,9]])\n",
        "print(\"array_matrix (회전전) :\\n\", array_matrix)\n",
        "array_matrix = np.rot90(array_matrix,k=1)\n",
        "print(\"array_matrix (시계 반대방향 90도 회전후) :\\n\", array_matrix)\n",
        "array_matrix = np.rot90(array_matrix,k=-2)\n",
        "print(\"array_matrix (시계 방향 180도 회전후) :\\n\", array_matrix)"
      ],
      "metadata": {
        "colab": {
          "base_uri": "https://localhost:8080/"
        },
        "id": "5FWeBbw8qf3b",
        "outputId": "2c0fe76c-49af-4c22-e074-2e244a088848"
      },
      "execution_count": null,
      "outputs": [
        {
          "output_type": "stream",
          "name": "stdout",
          "text": [
            "array_matrix (회전전) :\n",
            " [[1 2 3]\n",
            " [4 5 6]\n",
            " [7 8 9]]\n",
            "array_matrix (시계 반대방향 90도 회전후) :\n",
            " [[3 6 9]\n",
            " [2 5 8]\n",
            " [1 4 7]]\n",
            "array_matrix (시계 방향 180도 회전후) :\n",
            " [[7 4 1]\n",
            " [8 5 2]\n",
            " [9 6 3]]\n"
          ]
        }
      ]
    },
    {
      "cell_type": "code",
      "source": [
        "import numpy as np\n",
        "\n",
        "array3d = np.arange(1,28).reshape(3,3,3)\n",
        "print(\"array3d (회전전) :\\n\", array3d)\n",
        "array3d = np.rot90(array3d,k=1,axes=(0,1))\n",
        "print(\"array3d (3차원 행렬의 1,2번째 축 기준 90도 회전후) :\\n\", array3d)"
      ],
      "metadata": {
        "colab": {
          "base_uri": "https://localhost:8080/"
        },
        "id": "c-CPULWAwB0-",
        "outputId": "83a7927f-e0ac-4966-b5cf-f7f7c286db78"
      },
      "execution_count": null,
      "outputs": [
        {
          "output_type": "stream",
          "name": "stdout",
          "text": [
            "array3d (회전전) :\n",
            " [[[ 1  2  3]\n",
            "  [ 4  5  6]\n",
            "  [ 7  8  9]]\n",
            "\n",
            " [[10 11 12]\n",
            "  [13 14 15]\n",
            "  [16 17 18]]\n",
            "\n",
            " [[19 20 21]\n",
            "  [22 23 24]\n",
            "  [25 26 27]]]\n",
            "array3d (3차원 행렬의 1,2번째 축 기준 90도 회전후) :\n",
            " [[[ 7  8  9]\n",
            "  [16 17 18]\n",
            "  [25 26 27]]\n",
            "\n",
            " [[ 4  5  6]\n",
            "  [13 14 15]\n",
            "  [22 23 24]]\n",
            "\n",
            " [[ 1  2  3]\n",
            "  [10 11 12]\n",
            "  [19 20 21]]]\n"
          ]
        }
      ]
    },
    {
      "cell_type": "code",
      "source": [
        "import numpy as np\n",
        "\n",
        "array_matrix = np.array([[1,2],[3,4]])\n",
        "print(\"array_matrix (반복전) :\\n\", array_matrix)\n",
        "array_matrix = np.tile(array_matrix, reps=3)\n",
        "print(\"array_matrix (3열로 반복후) :\\n\", array_matrix)\n",
        "\n",
        "array_matrix = np.array([[1,2],[3,4]])\n",
        "array_matrix = np.tile(array_matrix, reps=(2,3))\n",
        "print(\"array_matrix (2행 3열로 반복후) :\\n\", array_matrix)"
      ],
      "metadata": {
        "colab": {
          "base_uri": "https://localhost:8080/"
        },
        "id": "fpA-iqcSzUwE",
        "outputId": "b7cb2acd-4776-440a-f798-ba910ef50bd8"
      },
      "execution_count": null,
      "outputs": [
        {
          "output_type": "stream",
          "name": "stdout",
          "text": [
            "array_matrix (반복전) :\n",
            " [[1 2]\n",
            " [3 4]]\n",
            "array_matrix (3열로 반복후) :\n",
            " [[1 2 1 2 1 2]\n",
            " [3 4 3 4 3 4]]\n",
            "array_matrix (2행 3열로 반복후) :\n",
            " [[1 2 1 2 1 2]\n",
            " [3 4 3 4 3 4]\n",
            " [1 2 1 2 1 2]\n",
            " [3 4 3 4 3 4]]\n"
          ]
        }
      ]
    },
    {
      "cell_type": "code",
      "source": [
        "import numpy as np\n",
        "\n",
        "array_vector = np.arange(10)\n",
        "print(\"array_vector (섞기전) :\\n\", array_vector)\n",
        "np.random.shuffle(array_vector)\n",
        "print(\"array_vector (섞은후) :\\n\", array_vector)"
      ],
      "metadata": {
        "colab": {
          "base_uri": "https://localhost:8080/"
        },
        "id": "XKQnVfHs4IaC",
        "outputId": "8188f1ca-de19-4cb4-e747-7b5f95d8a3bb"
      },
      "execution_count": null,
      "outputs": [
        {
          "output_type": "stream",
          "name": "stdout",
          "text": [
            "array_vector (섞기전) :\n",
            " [0 1 2 3 4 5 6 7 8 9]\n",
            "array_vector (섞은후) :\n",
            " [3 0 7 1 9 6 5 4 2 8]\n"
          ]
        }
      ]
    },
    {
      "cell_type": "code",
      "source": [
        "import random\n",
        "\n",
        "list_vector = [0,1,2,3,4,5,6,7,8,9]\n",
        "print(\"list_vector (섞기전) :\\n\", list_vector)\n",
        "random.shuffle(list_vector)\n",
        "print(\"list_vector (섞은후) :\\n\", list_vector)"
      ],
      "metadata": {
        "colab": {
          "base_uri": "https://localhost:8080/"
        },
        "id": "X0kgEWbuA8nH",
        "outputId": "b2ab16dc-dfbe-4e15-e458-3fdfb02e8467"
      },
      "execution_count": null,
      "outputs": [
        {
          "output_type": "stream",
          "name": "stdout",
          "text": [
            "list_vector (섞기전) :\n",
            " [0, 1, 2, 3, 4, 5, 6, 7, 8, 9]\n",
            "list_vector (섞은후) :\n",
            " [0, 5, 3, 6, 4, 8, 9, 1, 2, 7]\n"
          ]
        }
      ]
    },
    {
      "cell_type": "code",
      "source": [
        "import numpy as np\n",
        "\n",
        "array_matrix = np.arange(1,37).reshape(6,6)\n",
        "print(\"array_matrix :\\n\", array_matrix)\n",
        "\n",
        "splited_matrix = np.split(array_matrix, 2, axis=0)\n",
        "print(\"splited_matrix[0] :\\n\", splited_matrix[0])\n",
        "print(\"splited_matrix[1] :\\n\", splited_matrix[1])"
      ],
      "metadata": {
        "colab": {
          "base_uri": "https://localhost:8080/"
        },
        "id": "M-kEEAz6PWFT",
        "outputId": "c13dddf2-9ecf-46aa-e4d4-3cb680496dd2"
      },
      "execution_count": null,
      "outputs": [
        {
          "output_type": "stream",
          "name": "stdout",
          "text": [
            "array_matrix :\n",
            " [[ 1  2  3  4  5  6]\n",
            " [ 7  8  9 10 11 12]\n",
            " [13 14 15 16 17 18]\n",
            " [19 20 21 22 23 24]\n",
            " [25 26 27 28 29 30]\n",
            " [31 32 33 34 35 36]]\n",
            "splited_matrix[0] :\n",
            " [[ 1  2  3  4  5  6]\n",
            " [ 7  8  9 10 11 12]\n",
            " [13 14 15 16 17 18]]\n",
            "splited_matrix[1] :\n",
            " [[19 20 21 22 23 24]\n",
            " [25 26 27 28 29 30]\n",
            " [31 32 33 34 35 36]]\n"
          ]
        }
      ]
    },
    {
      "cell_type": "code",
      "source": [
        "splited_matrix = np.split(array_matrix, (1,3), axis=0)\n",
        "print(\"splited_matrix[0] :\\n\", splited_matrix[0])\n",
        "print(\"splited_matrix[1] :\\n\", splited_matrix[1])\n",
        "print(\"splited_matrix[2] :\\n\", splited_matrix[2])"
      ],
      "metadata": {
        "colab": {
          "base_uri": "https://localhost:8080/"
        },
        "id": "Xznbe3lBWv0z",
        "outputId": "9a7fc9f5-02d2-44e2-c679-6aa421a4ebdf"
      },
      "execution_count": null,
      "outputs": [
        {
          "output_type": "stream",
          "name": "stdout",
          "text": [
            "splited_matrix[0] :\n",
            " [[1 2 3 4 5 6]]\n",
            "splited_matrix[1] :\n",
            " [[ 7  8  9 10 11 12]\n",
            " [13 14 15 16 17 18]]\n",
            "splited_matrix[2] :\n",
            " [[19 20 21 22 23 24]\n",
            " [25 26 27 28 29 30]\n",
            " [31 32 33 34 35 36]]\n"
          ]
        }
      ]
    },
    {
      "cell_type": "code",
      "source": [
        "import numpy as np\n",
        "\n",
        "array_vector = np.array([1,2,3,4,5])\n",
        "array_matrix = np.array([[-2,-1,0,1,2],[1,2,3,4,5]])\n",
        "\n",
        "print(np.any(array_vector < 0))        # 0보다 작은 값이 있는지 확인\n",
        "print(np.any(array_matrix < 0))\n",
        "\n",
        "# 두 배열의 요소가 같은 값이 하나라도 있는지 확인\n",
        "equal_boolean_idx = np.array([1,2,3]) == np.array([-1,2,-3])\n",
        "print(\"equal_boolean_idx :\\n\",equal_boolean_idx)\n",
        "np.any(equal_boolean_idx)"
      ],
      "metadata": {
        "colab": {
          "base_uri": "https://localhost:8080/"
        },
        "id": "Ddwol9m5IqH5",
        "outputId": "f38a593d-0c0f-4428-9653-86b2e915b559"
      },
      "execution_count": null,
      "outputs": [
        {
          "output_type": "stream",
          "name": "stdout",
          "text": [
            "False\n",
            "True\n",
            "equal_boolean_idx :\n",
            " [False  True False]\n"
          ]
        },
        {
          "output_type": "execute_result",
          "data": {
            "text/plain": [
              "True"
            ]
          },
          "metadata": {},
          "execution_count": 5
        }
      ]
    },
    {
      "cell_type": "code",
      "source": [
        "import numpy as np\n",
        "\n",
        "array_vector = np.array([1,0,0,0,0])\n",
        "array_matrix = np.zeros(shape=(2,3))\n",
        "print(\"array_matrix : \\n\", array_matrix)\n",
        "\n",
        "print(np.all(array_vector == 0))        # 모든 값이 0과 같은지 확인\n",
        "print(np.all(array_matrix == 0))\n",
        "\n",
        "# 두 배열의 요소가 모두 같은 값인지 확인\n",
        "equal_boolean_idx = np.array([1,2,3]) == np.array([-1,2,-3])\n",
        "print(\"equal_boolean_idx :\\n\",equal_boolean_idx)\n",
        "np.all(equal_boolean_idx)"
      ],
      "metadata": {
        "colab": {
          "base_uri": "https://localhost:8080/"
        },
        "id": "bS-PL3s-KrVG",
        "outputId": "8754e65a-f0ab-4b31-80b7-39f07610f645"
      },
      "execution_count": null,
      "outputs": [
        {
          "output_type": "stream",
          "name": "stdout",
          "text": [
            "array_matrix : \n",
            " [[0. 0. 0.]\n",
            " [0. 0. 0.]]\n",
            "False\n",
            "True\n",
            "equal_boolean_idx :\n",
            " [False  True False]\n"
          ]
        },
        {
          "output_type": "execute_result",
          "data": {
            "text/plain": [
              "False"
            ]
          },
          "metadata": {},
          "execution_count": 6
        }
      ]
    },
    {
      "cell_type": "code",
      "source": [
        "import numpy as np\n",
        "\n",
        "array_matrix01 = np.array([[-2,-1,0,1,2],[1,2,3,4,5]])\n",
        "array_matrix02 = np.array([[1,0,0,0,1],[5,4,3,2,1]])\n",
        "array_matrix03 = array_matrix01 / array_matrix02\n",
        "print(\"나누어진 행렬 : \\n\", array_matrix03)\n",
        "\n",
        "# Not a Number(nan)가 있는지 불리언 인덱스로 확인\n",
        "isnan_boolean_idx = np.isnan(array_matrix03)\n",
        "print(\"isnan_boolean_idx : \\n\", isnan_boolean_idx)\n",
        "print(\"nan이 없는 값만 발췌 : \\n\", array_matrix03[~isnan_boolean_idx])"
      ],
      "metadata": {
        "colab": {
          "base_uri": "https://localhost:8080/"
        },
        "id": "_-4mJWQCJrVp",
        "outputId": "247f9add-4218-4299-cb5d-14d60af5f891"
      },
      "execution_count": null,
      "outputs": [
        {
          "output_type": "stream",
          "name": "stdout",
          "text": [
            "나누어진 행렬 : \n",
            " [[-2.  -inf  nan  inf  2. ]\n",
            " [ 0.2  0.5  1.   2.   5. ]]\n",
            "isnan_boolean_idx : \n",
            " [[False False  True False False]\n",
            " [False False False False False]]\n",
            "nan이 없는 값만 발췌 : \n",
            " [-2.  -inf  inf  2.   0.2  0.5  1.   2.   5. ]\n"
          ]
        },
        {
          "output_type": "stream",
          "name": "stderr",
          "text": [
            "<ipython-input-7-11f0a4e4f238>:5: RuntimeWarning: divide by zero encountered in divide\n",
            "  array_matrix03 = array_matrix01 / array_matrix02\n",
            "<ipython-input-7-11f0a4e4f238>:5: RuntimeWarning: invalid value encountered in divide\n",
            "  array_matrix03 = array_matrix01 / array_matrix02\n"
          ]
        }
      ]
    },
    {
      "cell_type": "code",
      "source": [
        "# 무한대(inf,-inf)나 Not a Number(nan)가 없는지 불리언 인덱스로 확인\n",
        "isfinite_boolean_idx = np.isfinite(array_matrix03)\n",
        "print(\"isfinite_boolean_idx : \\n\", isfinite_boolean_idx)\n",
        "print(\"유한한 값만 발췌 : \\n\", array_matrix03[isfinite_boolean_idx])"
      ],
      "metadata": {
        "colab": {
          "base_uri": "https://localhost:8080/"
        },
        "id": "-3PZ6YzWNKoU",
        "outputId": "3b73c003-561a-4820-c8cd-17d03b6fca91"
      },
      "execution_count": null,
      "outputs": [
        {
          "output_type": "stream",
          "name": "stdout",
          "text": [
            "isfinite_boolean_idx : \n",
            " [[ True False False False  True]\n",
            " [ True  True  True  True  True]]\n",
            "유한한 값만 발췌 : \n",
            " [-2.   2.   0.2  0.5  1.   2.   5. ]\n"
          ]
        }
      ]
    },
    {
      "cell_type": "code",
      "source": [
        "print(\"nan이 포함되지 않은 배열 비교\\n\",array_matrix02 == array_matrix02)\n",
        "print(\"nan이 포함되지 않은 배열 비교\\n\",np.array_equal(array_matrix02,array_matrix02))\n",
        "\n",
        "print(\"nan이 포함된 배열 비교\\n\",array_matrix03 == array_matrix03)\n",
        "print(\"nan이 포함된 배열 비교\\n\",np.array_equal(array_matrix03,array_matrix03))"
      ],
      "metadata": {
        "colab": {
          "base_uri": "https://localhost:8080/"
        },
        "id": "KEzc09piDR6X",
        "outputId": "88ff649f-7a70-462a-e436-1fe6b41fa806"
      },
      "execution_count": null,
      "outputs": [
        {
          "output_type": "stream",
          "name": "stdout",
          "text": [
            "nan이 포함되지 않은 배열 비교\n",
            " [[ True  True  True  True  True]\n",
            " [ True  True  True  True  True]]\n",
            "nan이 포함되지 않은 배열 비교\n",
            " True\n",
            "nan이 포함된 배열 비교\n",
            " [[ True  True False  True  True]\n",
            " [ True  True  True  True  True]]\n",
            "nan이 포함된 배열 비교\n",
            " False\n"
          ]
        }
      ]
    },
    {
      "cell_type": "code",
      "source": [
        "print(\"nan인 값을 0으로 바꾼 행렬 :\\n\",np.where(np.isnan(array_matrix03), 0, array_matrix03))\n",
        "print(\"유한하지 않은 값을 0으로 바꾼 행렬 :\\n\",np.where(~np.isfinite(array_matrix03), 0, array_matrix03))"
      ],
      "metadata": {
        "colab": {
          "base_uri": "https://localhost:8080/"
        },
        "id": "8YeiA9SyR-Qg",
        "outputId": "fc698bd9-7610-459d-e603-99c21384bb32"
      },
      "execution_count": null,
      "outputs": [
        {
          "output_type": "stream",
          "name": "stdout",
          "text": [
            "nan인 값을 0으로 바꾼 행렬 :\n",
            " [[-2.  -inf  0.   inf  2. ]\n",
            " [ 0.2  0.5  1.   2.   5. ]]\n",
            "유한하지 않은 값을 0으로 바꾼 행렬 :\n",
            " [[-2.   0.   0.   0.   2. ]\n",
            " [ 0.2  0.5  1.   2.   5. ]]\n"
          ]
        }
      ]
    },
    {
      "cell_type": "code",
      "source": [
        "print(\"0보다 작은 값의 불리언 인덱스 : \\n\", array_matrix03 < 0)\n",
        "print(\"0보다 작은 값 : \\n\", array_matrix03[array_matrix03 < 0])\n",
        "\n",
        "print(\"0보다 작은 값의 인덱스 :\\n\",np.where(array_matrix03 < 0))\n",
        "print(\"0보다 작은 값 :\\n\", array_matrix03[np.where(array_matrix03 < 0)])"
      ],
      "metadata": {
        "colab": {
          "base_uri": "https://localhost:8080/"
        },
        "id": "KOKjqk8JMXqd",
        "outputId": "dc4f12bc-324b-40d6-dbac-7732117791cd"
      },
      "execution_count": null,
      "outputs": [
        {
          "output_type": "stream",
          "name": "stdout",
          "text": [
            "0보다 작은 값의 불리언 인덱스 : \n",
            " [[ True  True False False False]\n",
            " [False False False False False]]\n",
            "0보다 작은 값 : \n",
            " [ -2. -inf]\n",
            "0보다 작은 값의 인덱스 :\n",
            " (array([0, 0]), array([0, 1]))\n",
            "0보다 작은 값 :\n",
            " [ -2. -inf]\n"
          ]
        }
      ]
    }
  ]
}