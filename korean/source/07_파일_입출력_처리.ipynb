{
  "nbformat": 4,
  "nbformat_minor": 0,
  "metadata": {
    "colab": {
      "provenance": [],
      "authorship_tag": "ABX9TyMayRDx63p4zuQ985f5VD6y",
      "include_colab_link": true
    },
    "kernelspec": {
      "name": "python3",
      "display_name": "Python 3"
    },
    "language_info": {
      "name": "python"
    }
  },
  "cells": [
    {
      "cell_type": "markdown",
      "metadata": {
        "id": "view-in-github",
        "colab_type": "text"
      },
      "source": [
        "<a href=\"https://colab.research.google.com/github/yongjaeahn/python_coding/blob/main/korean/source/07_%ED%8C%8C%EC%9D%BC_%EC%9E%85%EC%B6%9C%EB%A0%A5_%EC%B2%98%EB%A6%AC.ipynb\" target=\"_parent\"><img src=\"https://colab.research.google.com/assets/colab-badge.svg\" alt=\"Open In Colab\"/></a>"
      ]
    },
    {
      "cell_type": "markdown",
      "source": [
        "\t파일 쓰기"
      ],
      "metadata": {
        "id": "TZx7uyXjTMcL"
      }
    },
    {
      "cell_type": "code",
      "source": [
        "f = open('파일이름.txt','r')"
      ],
      "metadata": {
        "colab": {
          "base_uri": "https://localhost:8080/",
          "height": 186
        },
        "id": "qFqfw2lwBwdD",
        "outputId": "44737f42-85c6-4a7e-c045-9cd7aebeecb7"
      },
      "execution_count": null,
      "outputs": [
        {
          "output_type": "error",
          "ename": "FileNotFoundError",
          "evalue": "ignored",
          "traceback": [
            "\u001b[0;31m---------------------------------------------------------------------------\u001b[0m",
            "\u001b[0;31mFileNotFoundError\u001b[0m                         Traceback (most recent call last)",
            "\u001b[0;32m<ipython-input-2-d11711f9c65a>\u001b[0m in \u001b[0;36m<cell line: 1>\u001b[0;34m()\u001b[0m\n\u001b[0;32m----> 1\u001b[0;31m \u001b[0mf\u001b[0m \u001b[0;34m=\u001b[0m \u001b[0mopen\u001b[0m\u001b[0;34m(\u001b[0m\u001b[0;34m'파일이름.txt'\u001b[0m\u001b[0;34m,\u001b[0m\u001b[0;34m'r'\u001b[0m\u001b[0;34m)\u001b[0m\u001b[0;34m\u001b[0m\u001b[0;34m\u001b[0m\u001b[0m\n\u001b[0m",
            "\u001b[0;31mFileNotFoundError\u001b[0m: [Errno 2] No such file or directory: '파일이름.txt'"
          ]
        }
      ]
    },
    {
      "cell_type": "code",
      "source": [
        "try:\n",
        "  print(\"try 블록은 예외가 발생할 것으로 예상되는 곳입니다.\")\n",
        "  result = True\n",
        "except IndexError:\n",
        "  print(\"except IndexError 블록은 인덱스가 허용한 범위를 벗어나는 예외가 발생할 때 실행됩니다.\")\n",
        "except ZeroDivisionError:\n",
        "  print(\"except ZeroDivisionError 블록은 0으로 나누는 예외가 발생할 때 실행됩니다.\")\n",
        "except Exception as e:\n",
        "  print(\"except 블록은 위의 두가지 이외의 예외가 발생할 때 실행됩니다.\")\n",
        "  print(\"예외 메세지 :\",e)\n",
        "else:\n",
        "  print(\"try 블록에서 예외가 발생하지 않을 경우에만 else 블록이 실행됩니다.\")\n",
        "finally:\n",
        "  print(\"finally 블록은 위의 블록들을 수행한 후 최종적으로 언제나 실행됩니다.\")"
      ],
      "metadata": {
        "colab": {
          "base_uri": "https://localhost:8080/"
        },
        "id": "6NxWLu5EyAAt",
        "outputId": "384777d5-84fa-4c43-e93f-8bbee9ddfcd3"
      },
      "execution_count": null,
      "outputs": [
        {
          "output_type": "stream",
          "name": "stdout",
          "text": [
            "try 블록은 예외가 발생할 것으로 예상되는 곳입니다.\n",
            "try 블록에서 예외가 발생하지 않을 경우에만 else 블록이 실행됩니다.\n",
            "finally 블록은 위의 블록들을 수행한 후 최종적으로 언제나 실행됩니다.\n"
          ]
        }
      ]
    },
    {
      "cell_type": "code",
      "source": [
        "try:\n",
        "  print(\"try 블록은 예외가 발생할 것으로 예상되는 곳입니다.\")\n",
        "  list_variable = [1,2,3]\n",
        "  result = list_variable[3]\n",
        "except IndexError:\n",
        "  print(\"except IndexError 블록은 인덱스가 허용한 범위를 벗어나는 예외가 발생할 때 실행됩니다.\")\n",
        "except ZeroDivisionError:\n",
        "  print(\"except ZeroDivisionError 블록은 0으로 나누는 예외가 발생할 때 실행됩니다.\")\n",
        "except Exception as e:\n",
        "  print(\"except 블록은 위의 두가지 이외의 예외가 발생할 때 실행됩니다.\")\n",
        "  print(\"예외 메세지 :\",e)\n",
        "else:\n",
        "  print(\"try 블록에서 예외가 발생하지 않을 경우에만 else 블록이 실행됩니다.\")\n",
        "finally:\n",
        "  print(\"finally 블록은 위의 블록들을 수행한 후 최종적으로 언제나 실행됩니다.\")"
      ],
      "metadata": {
        "colab": {
          "base_uri": "https://localhost:8080/"
        },
        "id": "6QTnqbjn96JA",
        "outputId": "ce1bee24-2c73-4c01-f716-43a1752a963e"
      },
      "execution_count": null,
      "outputs": [
        {
          "output_type": "stream",
          "name": "stdout",
          "text": [
            "try 블록은 예외가 발생할 것으로 예상되는 곳입니다.\n",
            "except IndexError 블록은 인덱스가 허용한 범위를 벗어나는 예외가 발생할 때 실행됩니다.\n",
            "finally 블록은 위의 블록들을 수행한 후 최종적으로 언제나 실행됩니다.\n"
          ]
        }
      ]
    },
    {
      "cell_type": "code",
      "source": [
        "try:\n",
        "  print(\"try 블록은 예외가 발생할 것으로 예상되는 곳입니다.\")\n",
        "  result = 1 / 0\n",
        "except IndexError:\n",
        "  print(\"except IndexError 블록은 인덱스가 허용한 범위를 벗어나는 예외가 발생할 때 실행됩니다.\")\n",
        "except ZeroDivisionError:\n",
        "  print(\"except ZeroDivisionError 블록은 0으로 나누는 예외가 발생할 때 실행됩니다.\")\n",
        "except Exception as e:\n",
        "  print(\"except 블록은 위의 두가지 이외의 예외가 발생할 때 실행됩니다.\")\n",
        "  print(\"예외 메세지 :\",e)\n",
        "else:\n",
        "  print(\"try 블록에서 예외가 발생하지 않을 경우에만 else 블록이 실행됩니다.\")\n",
        "finally:\n",
        "  print(\"finally 블록은 위의 블록들을 수행한 후 최종적으로 언제나 실행됩니다.\")"
      ],
      "metadata": {
        "colab": {
          "base_uri": "https://localhost:8080/"
        },
        "id": "0zC2-YBJ_wf4",
        "outputId": "c9910746-2a6b-4271-8d17-87fc6106c80b"
      },
      "execution_count": 5,
      "outputs": [
        {
          "output_type": "stream",
          "name": "stdout",
          "text": [
            "try 블록은 예외가 발생할 것으로 예상되는 곳입니다.\n",
            "except ZeroDivisionError 블록은 0으로 나누는 예외가 발생할 때 실행됩니다.\n",
            "finally 블록은 위의 블록들을 수행한 후 최종적으로 언제나 실행됩니다.\n"
          ]
        }
      ]
    },
    {
      "cell_type": "code",
      "source": [
        "try:\n",
        "  print(\"try 블록은 예외가 발생할 것으로 예상되는 곳입니다.\")\n",
        "  result = int(\"문자열\")\n",
        "except IndexError:\n",
        "  print(\"except IndexError 블록은 인덱스가 허용한 범위를 벗어나는 예외가 발생할 때 실행됩니다.\")\n",
        "except ZeroDivisionError:\n",
        "  print(\"except ZeroDivisionError 블록은 0으로 나누는 예외가 발생할 때 실행됩니다.\")\n",
        "except Exception as e:\n",
        "  print(\"except 블록은 위의 두가지 이외의 예외가 발생할 때 실행됩니다.\")\n",
        "  print(\"예외 메세지 :\",e)\n",
        "else:\n",
        "  print(\"try 블록에서 예외가 발생하지 않을 경우에만 else 블록이 실행됩니다.\")\n",
        "finally:\n",
        "  print(\"finally 블록은 위의 블록들을 수행한 후 최종적으로 언제나 실행됩니다.\")"
      ],
      "metadata": {
        "colab": {
          "base_uri": "https://localhost:8080/"
        },
        "id": "mQAN7-5RALoe",
        "outputId": "6fb9e997-6c90-49e1-8c55-6b0b253cf366"
      },
      "execution_count": null,
      "outputs": [
        {
          "output_type": "stream",
          "name": "stdout",
          "text": [
            "try 블록은 예외가 발생할 것으로 예상되는 곳입니다.\n",
            "except 블록은 위의 두가지 이외의 예외가 발생할 때 실행됩니다.\n",
            "예외 메세지 : invalid literal for int() with base 10: '문자열'\n",
            "finally 블록은 위의 블록들을 수행한 후 최종적으로 언제나 실행됩니다.\n"
          ]
        }
      ]
    },
    {
      "cell_type": "code",
      "source": [
        "try:\n",
        "  f = open('파일이름.txt','r')\n",
        "except FileNotFoundError:\n",
        "  print(\"파일이름.txt 파일이 존재하지 않습니다.\")\n",
        "  print(\"파일 쓰기 프로그램을 먼저 실행한 후 읽기 작업을 하기 바랍니다.\")"
      ],
      "metadata": {
        "colab": {
          "base_uri": "https://localhost:8080/"
        },
        "id": "RXrpYaXMBZBL",
        "outputId": "4ea04698-939f-45e1-d9ee-8d3ad7424e1e"
      },
      "execution_count": null,
      "outputs": [
        {
          "output_type": "stream",
          "name": "stdout",
          "text": [
            "파일이름.txt 파일이 존재하지 않습니다.\n",
            "파일 쓰기 프로그램을 먼저 실행한 후 읽기 작업을 하기 바랍니다.\n"
          ]
        }
      ]
    },
    {
      "cell_type": "code",
      "source": [
        "import math\n",
        "\n",
        "def devide(number,divisor):\n",
        "  try:\n",
        "    return number / divisor\n",
        "  except ZeroDivisionError:\n",
        "    if number < 0: return -math.inf\n",
        "    elif number == 0: return math.nan\n",
        "    else: return math.inf\n",
        "\n",
        "print('10 / 3 :',devide(10,3))\n",
        "print('-1 / 0 :',devide(-1,0))\n",
        "print('0 / 0 :',devide(0,0))\n",
        "print('1 / 0 :',devide(1,0))"
      ],
      "metadata": {
        "colab": {
          "base_uri": "https://localhost:8080/"
        },
        "id": "0-wOcdnp0tmn",
        "outputId": "51f075d6-1bef-4a58-eaaa-d1f4b1d2840c"
      },
      "execution_count": null,
      "outputs": [
        {
          "output_type": "stream",
          "name": "stdout",
          "text": [
            "10 / 3 : 3.3333333333333335\n",
            "-1 / 0 : -inf\n",
            "0 / 0 : nan\n",
            "1 / 0 : inf\n"
          ]
        }
      ]
    },
    {
      "cell_type": "code",
      "source": [
        "f = open('파일이름.txt','w')"
      ],
      "metadata": {
        "id": "3hUFGT5lF-eB"
      },
      "execution_count": null,
      "outputs": []
    },
    {
      "cell_type": "code",
      "source": [
        "f.write('첫번째줄\\n')\n",
        "f.write('두번째줄\\n')\n",
        "f.write('세번째줄\\n')"
      ],
      "metadata": {
        "colab": {
          "base_uri": "https://localhost:8080/"
        },
        "id": "NzeBhyk5Lhp2",
        "outputId": "008a693d-ed82-4c53-f3c5-967b56230a01"
      },
      "execution_count": null,
      "outputs": [
        {
          "output_type": "execute_result",
          "data": {
            "text/plain": [
              "5"
            ]
          },
          "metadata": {},
          "execution_count": 13
        }
      ]
    },
    {
      "cell_type": "code",
      "source": [
        "f.close()"
      ],
      "metadata": {
        "id": "HnApZSnJQaee"
      },
      "execution_count": null,
      "outputs": []
    },
    {
      "cell_type": "code",
      "source": [
        "try:\n",
        "    f = open('파일이름.txt','w')\n",
        "except IOError as e:\n",
        "    print(\"파일 열기 오류 :\",e)\n",
        "    print(\"편집 중인 파일이름.txt 파일을 닫고 프로그램을 다시 실행하세요.\")\n",
        "else:\n",
        "    f.write('첫번째줄\\n')\n",
        "    f.write('두번째줄\\n')\n",
        "    f.write('세번째줄\\n')\n",
        "\n",
        "    f.close()"
      ],
      "metadata": {
        "id": "tQVtwxhXFeR0"
      },
      "execution_count": null,
      "outputs": []
    },
    {
      "cell_type": "code",
      "source": [
        "while True:\n",
        "    try:\n",
        "        f = open('파일이름.txt','w')\n",
        "    except IOError as e:\n",
        "        print(\"파일 열기 오류 :\",e)\n",
        "        input(\"편집 중인 파일이름.txt 파일을 닫고 Enter 키를 치세요.\")\n",
        "    else:\n",
        "        f.write('첫번째줄\\n')\n",
        "        f.write('두번째줄\\n')\n",
        "        f.write('세번째줄\\n')\n",
        "\n",
        "        f.close()\n",
        "\n",
        "        break\n",
        "\n",
        "print(\"파일이름.txt 파일의 쓰기 작업이 완료되었습니다.\")"
      ],
      "metadata": {
        "id": "p9BDNn6rPdfB"
      },
      "execution_count": null,
      "outputs": []
    },
    {
      "cell_type": "code",
      "source": [
        "try:\n",
        "    f = open('파일이름.txt','w')\n",
        "except IOError as e:\n",
        "    print(\"파일 열기 오류 :\",e)\n",
        "    print(\"편집 중인 파일이름.txt 파일을 닫고 프로그램을 다시 실행하세요.\")\n",
        "else:\n",
        "    try:\n",
        "        f.write('첫번째줄\\n')\n",
        "        f.write('두번째줄\\n')\n",
        "        f.write('세번째줄\\n')\n",
        "    except Exception as e:\n",
        "        print(\"파일 출력 오류 :\",e)\n",
        "        print(\"파일이름.txt에 쓰기 작업을 하던 중 오류가 발생했습니다. 시스템 관리자에게 문의하세요.\")\n",
        "    finally:\n",
        "        f.close()"
      ],
      "metadata": {
        "id": "07k1HiCMTGUN"
      },
      "execution_count": null,
      "outputs": []
    },
    {
      "cell_type": "markdown",
      "source": [
        "\t파일 내용 추가하기"
      ],
      "metadata": {
        "id": "fMpDn4juTR2M"
      }
    },
    {
      "cell_type": "code",
      "source": [
        "f = open('파일이름.txt','a')\n",
        "\n",
        "f.write('네번째줄\\n')\n",
        "f.write('다섯번째줄\\n')\n",
        "\n",
        "f.close()"
      ],
      "metadata": {
        "id": "k_9KhPAiSItC"
      },
      "execution_count": null,
      "outputs": []
    },
    {
      "cell_type": "markdown",
      "source": [
        "\t파일 읽기"
      ],
      "metadata": {
        "id": "GfJQlDh6S9Ai"
      }
    },
    {
      "cell_type": "code",
      "source": [
        "f = open('파일이름.txt','r')\n",
        "\n",
        "text_data = f.read()\n",
        "\n",
        "f.close()\n",
        "\n",
        "print(text_data)\n",
        "print(repr(text_data))"
      ],
      "metadata": {
        "colab": {
          "base_uri": "https://localhost:8080/"
        },
        "id": "vDsezDrJS78L",
        "outputId": "96fb3888-99a4-4f9a-c496-35c104e751ba"
      },
      "execution_count": null,
      "outputs": [
        {
          "output_type": "stream",
          "name": "stdout",
          "text": [
            "첫번째줄\n",
            "두번째줄\n",
            "세번째줄\n",
            "네번째줄\n",
            "다섯번째줄\n",
            "\n",
            "'첫번째줄\\n두번째줄\\n세번째줄\\n네번째줄\\n다섯번째줄\\n'\n"
          ]
        }
      ]
    },
    {
      "cell_type": "code",
      "source": [
        "f = open('파일이름.txt','r')\n",
        "\n",
        "text_data = f.readline()\n",
        "\n",
        "f.close()\n",
        "\n",
        "print(text_data)\n",
        "print(repr(text_data))"
      ],
      "metadata": {
        "colab": {
          "base_uri": "https://localhost:8080/"
        },
        "id": "DIZAzRJoZ8_n",
        "outputId": "af300f7b-2ca1-4912-f64a-90d63d1cbeea"
      },
      "execution_count": null,
      "outputs": [
        {
          "output_type": "stream",
          "name": "stdout",
          "text": [
            "첫번째줄\n",
            "\n",
            "'첫번째줄\\n'\n"
          ]
        }
      ]
    },
    {
      "cell_type": "code",
      "source": [
        "f = open('파일이름.txt','r')\n",
        "\n",
        "while line := f.readline():\n",
        "  print(repr(line))\n",
        "\n",
        "f.close()"
      ],
      "metadata": {
        "colab": {
          "base_uri": "https://localhost:8080/"
        },
        "id": "w-_DRSBQ56JX",
        "outputId": "1ac78ff4-f763-4252-c686-5bd9859e0252"
      },
      "execution_count": null,
      "outputs": [
        {
          "output_type": "stream",
          "name": "stdout",
          "text": [
            "'첫번째줄\\n'\n",
            "'두번째줄\\n'\n",
            "'세번째줄\\n'\n",
            "'네번째줄\\n'\n",
            "'다섯번째줄\\n'\n"
          ]
        }
      ]
    },
    {
      "cell_type": "code",
      "source": [
        "f = open('파일이름.txt','r')\n",
        "\n",
        "while line := f.readline().rstrip():\n",
        "  print(repr(line))\n",
        "\n",
        "f.close()"
      ],
      "metadata": {
        "colab": {
          "base_uri": "https://localhost:8080/"
        },
        "id": "Uv66MI8GAumK",
        "outputId": "940f2f7e-186f-4891-a142-5b5524d16114"
      },
      "execution_count": null,
      "outputs": [
        {
          "output_type": "stream",
          "name": "stdout",
          "text": [
            "'첫번째줄'\n",
            "'두번째줄'\n",
            "'세번째줄'\n",
            "'네번째줄'\n",
            "'다섯번째줄'\n"
          ]
        }
      ]
    },
    {
      "cell_type": "code",
      "source": [
        "f = open('/content/파일이름.txt','r')\n",
        "\n",
        "while line := f.readline().rstrip():\n",
        "  print(line)\n",
        "\n",
        "f.close()"
      ],
      "metadata": {
        "colab": {
          "base_uri": "https://localhost:8080/"
        },
        "id": "UYIioclkksF8",
        "outputId": "aa7993e6-c5ce-4275-9122-b20061b4ef5b"
      },
      "execution_count": null,
      "outputs": [
        {
          "output_type": "stream",
          "name": "stdout",
          "text": [
            "첫번째줄\n",
            "두번째줄\n",
            "세번째줄\n",
            "네번째줄\n",
            "다섯번째줄\n"
          ]
        }
      ]
    },
    {
      "cell_type": "code",
      "source": [
        "f = open('C:\\\\Users\\\\00320811\\\\Documents\\\\python_coding\\\\파일이름.txt','r')\n",
        "\n",
        "while line := f.readline().rstrip():\n",
        "    print(line)\n",
        "\n",
        "f.close()"
      ],
      "metadata": {
        "id": "-i_itSDHnzo0"
      },
      "execution_count": null,
      "outputs": []
    },
    {
      "cell_type": "code",
      "source": [
        "f = open('C:/Users/00320811/Documents/python_coding/파일이름.txt','r')\n",
        "\n",
        "while line := f.readline().rstrip():\n",
        "    print(line)\n",
        "\n",
        "f.close()"
      ],
      "metadata": {
        "id": "HG3D7-FAql_A"
      },
      "execution_count": null,
      "outputs": []
    },
    {
      "cell_type": "code",
      "source": [
        "f = open('파일이름.txt','r')\n",
        "\n",
        "for line in f:\n",
        "  print(line.rstrip())\n",
        "\n",
        "f.close()"
      ],
      "metadata": {
        "colab": {
          "base_uri": "https://localhost:8080/"
        },
        "id": "vlffqfGcKXg7",
        "outputId": "33845ef9-421d-4f12-a955-42ca80040471"
      },
      "execution_count": null,
      "outputs": [
        {
          "output_type": "stream",
          "name": "stdout",
          "text": [
            "첫번째줄\n",
            "두번째줄\n",
            "세번째줄\n",
            "네번째줄\n",
            "다섯번째줄\n"
          ]
        }
      ]
    },
    {
      "cell_type": "code",
      "source": [
        "with open('파일이름.txt','w') as f:\n",
        "  f.write('첫번째줄\\n')\n",
        "  f.write('두번째줄\\n')\n",
        "  f.write('세번째줄\\n')\n",
        "\n",
        "with open('파일이름.txt','r') as f:\n",
        "  for line in f:\n",
        "    print(line.rstrip())"
      ],
      "metadata": {
        "colab": {
          "base_uri": "https://localhost:8080/"
        },
        "id": "0vEqHpFJIA1C",
        "outputId": "c55c5f8e-f525-42b8-db03-d695752add8c"
      },
      "execution_count": null,
      "outputs": [
        {
          "output_type": "stream",
          "name": "stdout",
          "text": [
            "첫번째줄\n",
            "두번째줄\n",
            "세번째줄\n"
          ]
        }
      ]
    },
    {
      "cell_type": "markdown",
      "source": [
        "\t파일 인코딩"
      ],
      "metadata": {
        "id": "hLkCT7ylpSru"
      }
    },
    {
      "cell_type": "code",
      "source": [
        "bin(ord('a'))   # 문자 'a'의 UTF-8 이진 코드\n",
        "bin(ord('5'))   # 문자 '5'의 UTF-8 이진 코드\n",
        "bin(5)          # 숫자 5의 UTF-8 이진 코드\n",
        "bin(ord('안'))  # 한글 '안'의 UTF-8 이진 코드"
      ],
      "metadata": {
        "id": "rjCinesOpgNs"
      },
      "execution_count": null,
      "outputs": []
    },
    {
      "cell_type": "code",
      "source": [
        "with open('파일이름.txt','r', encoding='utf-8') as f:\n",
        "  in_list1d_str = f.readlines()\n",
        "\n",
        "print(in_list1d_str)"
      ],
      "metadata": {
        "colab": {
          "base_uri": "https://localhost:8080/"
        },
        "id": "BmM_uia5xmHu",
        "outputId": "9aac9e52-15a3-4377-a7fc-2bd3b0e2fe7e"
      },
      "execution_count": null,
      "outputs": [
        {
          "output_type": "stream",
          "name": "stdout",
          "text": [
            "['첫번째줄\\n', '두번째줄\\n', '세번째줄\\n']\n"
          ]
        }
      ]
    },
    {
      "cell_type": "code",
      "source": [
        "with open('파일이름.txt','r', encoding='utf-8') as f:\n",
        "    in_list1d_str = f.readlines()\n",
        "\n",
        "print(in_list1d_str)"
      ],
      "metadata": {
        "id": "k8NefS5M3_UO"
      },
      "execution_count": null,
      "outputs": []
    },
    {
      "cell_type": "code",
      "source": [
        "with open('파일이름.txt','r', encoding='ansi') as f:\n",
        "    in_list1d_str = f.readlines()\n",
        "\n",
        "print(in_list1d_str)"
      ],
      "metadata": {
        "id": "ozl22kAXjxVi"
      },
      "execution_count": null,
      "outputs": []
    },
    {
      "cell_type": "code",
      "source": [
        "with open('파일이름.txt','w', encoding='utf-8') as f:\n",
        "    f.write('첫번째줄\\n')\n",
        "    f.write('두번째줄\\n')\n",
        "    f.write('세번째줄\\n')\n",
        "\n",
        "with open('파일이름.txt','r', encoding='utf-8') as f:\n",
        "    in_list1d_str = f.readlines()\n",
        "\n",
        "print(in_list1d_str)"
      ],
      "metadata": {
        "id": "492maH_knnAy"
      },
      "execution_count": null,
      "outputs": []
    },
    {
      "cell_type": "markdown",
      "source": [
        "\t리스트 입출력"
      ],
      "metadata": {
        "id": "0fFK7O9mEdjM"
      }
    },
    {
      "cell_type": "code",
      "source": [
        "out_list_values = ['첫번째줄','두번째줄','세번째줄']\n",
        "\n",
        "with open('파일이름.txt','w',encoding='utf-8') as f:\n",
        "    f.writelines(out_list_values)"
      ],
      "metadata": {
        "id": "ABsYLIvoEkoU"
      },
      "execution_count": null,
      "outputs": []
    },
    {
      "cell_type": "code",
      "source": [
        "with open('파일이름.txt','r',encoding='utf-8') as f:\n",
        "  in_list_values = f.readlines()\n",
        "\n",
        "print(in_list_values)"
      ],
      "metadata": {
        "colab": {
          "base_uri": "https://localhost:8080/"
        },
        "id": "b0t-dPLIKiQW",
        "outputId": "dbc6df9c-6d47-495c-eac4-186b7da5b46a"
      },
      "execution_count": null,
      "outputs": [
        {
          "output_type": "stream",
          "name": "stdout",
          "text": [
            "['첫번째줄두번째줄세번째줄']\n"
          ]
        }
      ]
    },
    {
      "cell_type": "code",
      "source": [
        "out_list_values = ['첫번째줄\\n','두번째줄\\n','세번째줄\\n']\n",
        "\n",
        "with open('파일이름.txt','w',encoding='utf-8') as f:\n",
        "  f.writelines(out_list_values)\n",
        "\n",
        "with open('파일이름.txt','r',encoding='utf-8') as f:\n",
        "  in_list_values = f.readlines()\n",
        "\n",
        "print(in_list_values)"
      ],
      "metadata": {
        "colab": {
          "base_uri": "https://localhost:8080/"
        },
        "id": "6Rg3KEEHLxP4",
        "outputId": "a97b0662-4300-4a60-ddc0-e3f6aefc2b36"
      },
      "execution_count": null,
      "outputs": [
        {
          "output_type": "stream",
          "name": "stdout",
          "text": [
            "['첫번째줄\\n', '두번째줄\\n', '세번째줄\\n']\n"
          ]
        }
      ]
    },
    {
      "cell_type": "code",
      "source": [
        "out_int_values = [10,20,30,40,50]\n",
        "\n",
        "with open('파일이름.txt','w',encoding='utf-8') as f:\n",
        "  f.writelines(out_int_values)"
      ],
      "metadata": {
        "colab": {
          "base_uri": "https://localhost:8080/",
          "height": 223
        },
        "id": "iTszbk1uM7bP",
        "outputId": "f5034bb5-3213-4390-de4d-93175c2dae67"
      },
      "execution_count": null,
      "outputs": [
        {
          "output_type": "error",
          "ename": "TypeError",
          "evalue": "ignored",
          "traceback": [
            "\u001b[0;31m---------------------------------------------------------------------------\u001b[0m",
            "\u001b[0;31mTypeError\u001b[0m                                 Traceback (most recent call last)",
            "\u001b[0;32m<ipython-input-19-d8a404796691>\u001b[0m in \u001b[0;36m<cell line: 3>\u001b[0;34m()\u001b[0m\n\u001b[1;32m      2\u001b[0m \u001b[0;34m\u001b[0m\u001b[0m\n\u001b[1;32m      3\u001b[0m \u001b[0;32mwith\u001b[0m \u001b[0mopen\u001b[0m\u001b[0;34m(\u001b[0m\u001b[0;34m'파일이름.txt'\u001b[0m\u001b[0;34m,\u001b[0m\u001b[0;34m'w'\u001b[0m\u001b[0;34m,\u001b[0m\u001b[0mencoding\u001b[0m\u001b[0;34m=\u001b[0m\u001b[0;34m'utf-8'\u001b[0m\u001b[0;34m)\u001b[0m \u001b[0;32mas\u001b[0m \u001b[0mf\u001b[0m\u001b[0;34m:\u001b[0m\u001b[0;34m\u001b[0m\u001b[0;34m\u001b[0m\u001b[0m\n\u001b[0;32m----> 4\u001b[0;31m   \u001b[0mf\u001b[0m\u001b[0;34m.\u001b[0m\u001b[0mwritelines\u001b[0m\u001b[0;34m(\u001b[0m\u001b[0mout_int_values\u001b[0m\u001b[0;34m)\u001b[0m\u001b[0;34m\u001b[0m\u001b[0;34m\u001b[0m\u001b[0m\n\u001b[0m",
            "\u001b[0;31mTypeError\u001b[0m: write() argument must be str, not int"
          ]
        }
      ]
    },
    {
      "cell_type": "code",
      "source": [
        "out_int_values = [10,20,30,40,50]\n",
        "out_string_values = [str(elem) for elem in out_int_values]\n",
        "formatted_out_string = '\\n'.join(out_string_values)\n",
        "\n",
        "print('Formatted Out String :',repr(formatted_out_string))\n",
        "\n",
        "with open('파일이름.txt','w',encoding='utf-8') as f:\n",
        "  f.write(formatted_out_string)\n",
        "\n",
        "with open('파일이름.txt','r',encoding='utf-8') as f:\n",
        "  in_string_values = f.readlines()\n",
        "\n",
        "print('In String Values :',in_string_values)\n",
        "in_int_values = [int(value) for value in in_string_values]\n",
        "print('In Integer Values :',in_int_values)"
      ],
      "metadata": {
        "colab": {
          "base_uri": "https://localhost:8080/"
        },
        "id": "DZmBCJh3ODXk",
        "outputId": "6b9520d7-b8b3-4e7f-8dd8-120730b17ff6"
      },
      "execution_count": null,
      "outputs": [
        {
          "output_type": "stream",
          "name": "stdout",
          "text": [
            "Formatted Out String : '10\\n20\\n30\\n40\\n50'\n",
            "In String Values : ['10\\n', '20\\n', '30\\n', '40\\n', '50']\n",
            "In Integer Values : [10, 20, 30, 40, 50]\n"
          ]
        }
      ]
    },
    {
      "cell_type": "code",
      "source": [
        "out_list2d_int = [[10,20,30,40,50],[60,70,80,90,100]]\n",
        "\n",
        "out_list2d_str = [[str(elem) for elem in sublist1d] for sublist1d in out_list2d_int]\n",
        "\n",
        "formatted_out_string_list = [','.join(sublist1d)+'\\n' for sublist1d in out_list2d_str]\n",
        "\n",
        "print('Out String Values :',out_list2d_str)\n",
        "print('Formatted Out String :',formatted_out_string_list)\n",
        "\n",
        "with open('파일이름.csv','w',encoding='utf-8') as f:\n",
        "  f.writelines(formatted_out_string_list)\n",
        "\n",
        "with open('파일이름.csv','r',encoding='utf-8') as f:\n",
        "  inList1dStr = f.readlines()\n",
        "\n",
        "print('In String Values 1d :',inList1dStr)\n",
        "in_list2d_string = [elem.split(',') for elem in inList1dStr]\n",
        "print('In Integer Values 2d :',in_list2d_string)\n",
        "in_list2d_int = [[int(elem) for elem in sublist1d] for sublist1d in in_list2d_string]\n",
        "print('In Integer Values :',in_list2d_int)"
      ],
      "metadata": {
        "colab": {
          "base_uri": "https://localhost:8080/"
        },
        "id": "T8qkbOdDUJZN",
        "outputId": "01f23bc1-8d1b-4177-f80b-04abc735fadc"
      },
      "execution_count": null,
      "outputs": [
        {
          "output_type": "stream",
          "name": "stdout",
          "text": [
            "Out String Values : [['10', '20', '30', '40', '50'], ['60', '70', '80', '90', '100']]\n",
            "Formatted Out String : ['10,20,30,40,50\\n', '60,70,80,90,100\\n']\n",
            "In String Values 1d : ['10,20,30,40,50\\n', '60,70,80,90,100\\n']\n",
            "In Integer Values 2d : [['10', '20', '30', '40', '50\\n'], ['60', '70', '80', '90', '100\\n']]\n",
            "In Integer Values : [[10, 20, 30, 40, 50], [60, 70, 80, 90, 100]]\n"
          ]
        }
      ]
    },
    {
      "cell_type": "code",
      "source": [
        "out_list2d_int = [[10,20,30,40,50],[60,70,80,90,100]]\n",
        "\n",
        "out_list2d_str = []\n",
        "for i,sublist1d in enumerate(out_list2d_int):\n",
        "  out_list2d_str.append([])\n",
        "  for elem in sublist1d:\n",
        "    out_list2d_str[i].append(str(elem))\n",
        "\n",
        "print('Out Integer Values :',out_list2d_str)"
      ],
      "metadata": {
        "colab": {
          "base_uri": "https://localhost:8080/"
        },
        "id": "hGfDkV40d1iB",
        "outputId": "e71e618e-1c88-4bd0-e5e7-434385bbe9cd"
      },
      "execution_count": null,
      "outputs": [
        {
          "output_type": "stream",
          "name": "stdout",
          "text": [
            "Out Integer Values : [['10', '20', '30', '40', '50'], ['60', '70', '80', '90', '100']]\n"
          ]
        }
      ]
    },
    {
      "cell_type": "markdown",
      "source": [
        "\tnumpy 배열 입출력"
      ],
      "metadata": {
        "id": "3_8Bhj8vEREg"
      }
    },
    {
      "cell_type": "code",
      "execution_count": null,
      "metadata": {
        "colab": {
          "base_uri": "https://localhost:8080/"
        },
        "id": "SZUr32xck29C",
        "outputId": "50042d4a-76aa-4530-b3f0-2141e8696e82"
      },
      "outputs": [
        {
          "output_type": "stream",
          "name": "stdout",
          "text": [
            "out_array_matrix :\n",
            " [[ 1  2  3  4  5  6  7  8  9 10]\n",
            " [11 12 13 14 15 16 17 18 19 20]\n",
            " [21 22 23 24 25 26 27 28 29 30]\n",
            " [31 32 33 34 35 36 37 38 39 40]\n",
            " [41 42 43 44 45 46 47 48 49 50]]\n",
            "in_array_matrix :\n",
            " [[ 1  2  3  4  5  6  7  8  9 10]\n",
            " [11 12 13 14 15 16 17 18 19 20]\n",
            " [21 22 23 24 25 26 27 28 29 30]\n",
            " [31 32 33 34 35 36 37 38 39 40]\n",
            " [41 42 43 44 45 46 47 48 49 50]]\n"
          ]
        }
      ],
      "source": [
        "import numpy as np\n",
        "\n",
        "out_array_matrix = np.arange(1,51).reshape(5,10)\n",
        "print(\"out_array_matrix :\\n\",out_array_matrix)\n",
        "\n",
        "np.savetxt(\"numpy배열.csv\",out_array_matrix,fmt='%d',delimiter=',',encoding='utf-8')\n",
        "\n",
        "in_array_matrix = np.loadtxt(\"numpy배열.csv\",dtype='int',delimiter=\",\",encoding='utf-8')\n",
        "\n",
        "print(\"in_array_matrix :\\n\",in_array_matrix)"
      ]
    },
    {
      "cell_type": "code",
      "source": [
        "out_list2d_int = [[10,20,30,40,50],[60,70,80,90,100]]\n",
        "\n",
        "with open('파일이름.csv','w',encoding='utf-8') as f:\n",
        "  for sublist1d in out_list2d_int:\n",
        "    out_list1d_str = [str(elem) for elem in sublist1d]\n",
        "    print('Out String Values :',out_list1d_str)\n",
        "    formatted_out_string = ','.join(out_list1d_str)+'\\n'\n",
        "    print('Formatted Out String :',repr(formatted_out_string))\n",
        "    f.write(formatted_out_string)\n",
        "print()\n",
        "in_list2d_int = []\n",
        "with open('파일이름.csv','r',encoding='utf-8') as f:\n",
        "  while in_string := f.readline():\n",
        "    print('In String Values :',repr(in_string))\n",
        "    in_sublist1d = in_string.split(',')\n",
        "    print('In Integer Values :',in_sublist1d)\n",
        "    in_list2d_int.append([int(elem) for elem in in_sublist1d])\n",
        "print('In Integer Values :',in_list2d_int)"
      ],
      "metadata": {
        "id": "Wg5OH_hYUiy5",
        "colab": {
          "base_uri": "https://localhost:8080/"
        },
        "outputId": "a67d87ed-c848-4671-e295-1f15f9abe763"
      },
      "execution_count": null,
      "outputs": [
        {
          "output_type": "stream",
          "name": "stdout",
          "text": [
            "Out String Values : ['10', '20', '30', '40', '50']\n",
            "Formatted Out String : '10,20,30,40,50\\n'\n",
            "Out String Values : ['60', '70', '80', '90', '100']\n",
            "Formatted Out String : '60,70,80,90,100\\n'\n",
            "\n",
            "In String Values : '10,20,30,40,50\\n'\n",
            "In Integer Values : ['10', '20', '30', '40', '50\\n']\n",
            "In String Values : '60,70,80,90,100\\n'\n",
            "In Integer Values : ['60', '70', '80', '90', '100\\n']\n",
            "In Integer Values : [[10, 20, 30, 40, 50], [60, 70, 80, 90, 100]]\n"
          ]
        }
      ]
    },
    {
      "cell_type": "code",
      "source": [
        "def whole_data_io():\n",
        "  out_list2d_int = [[10,20,30,40,50],[60,70,80,90,100]]\n",
        "  out_list2d_str = [[str(elem) for elem in sublist1d] for sublist1d in out_list2d_int]\n",
        "  formatted_out_string_list = [','.join(sublist1d)+'\\n' for sublist1d in out_list2d_str]\n",
        "\n",
        "  with open('파일이름.csv','w',encoding='utf-8') as f:\n",
        "    f.writelines(formatted_out_string_list)\n",
        "\n",
        "  with open('파일이름.csv','r',encoding='utf-8') as f:\n",
        "    in_list1d_str = f.readlines()\n",
        "\n",
        "  in_list2d_string = [elem.split(',') for elem in in_list1d_str]\n",
        "  in_list2d_int = [[int(elem) for elem in sublist1d] for sublist1d in in_list2d_string]\n",
        "\n",
        "def each_line_io():\n",
        "  out_list2d_int = [[10,20,30,40,50],[60,70,80,90,100]]\n",
        "\n",
        "  with open('파일이름.csv','w',encoding='utf-8') as f:\n",
        "    for sublist1d in out_list2d_int:\n",
        "      out_list1d_str = [str(elem) for elem in sublist1d]\n",
        "      formatted_out_string = ','.join(out_list1d_str)+'\\n'\n",
        "      f.write(formatted_out_string)\n",
        "\n",
        "  in_list2d_int = []\n",
        "  with open('파일이름.csv','r',encoding='utf-8') as f:\n",
        "    while in_string := f.readline():\n",
        "      in_sublist1d = in_string.split(',')\n",
        "      in_list2d_int.append([int(elem) for elem in in_sublist1d])"
      ],
      "metadata": {
        "id": "FVYZgMF2qCOF"
      },
      "execution_count": null,
      "outputs": []
    },
    {
      "cell_type": "code",
      "source": [
        "import time\n",
        "\n",
        "start = time.time()\n",
        "whole_data_io()\n",
        "end = time.time()\n",
        "\n",
        "print(f'whole_data_io() 수행 시간\\t: {end - start:.3f}초')\n",
        "\n",
        "start = time.time()\n",
        "each_line_io()\n",
        "end = time.time()\n",
        "\n",
        "print(f'each_line_io() 수행 시간\\t: {end - start:.3f}초')"
      ],
      "metadata": {
        "colab": {
          "base_uri": "https://localhost:8080/"
        },
        "id": "ovHzxhTGrcWG",
        "outputId": "d93832d2-69f8-447d-aecc-482356978f24"
      },
      "execution_count": null,
      "outputs": [
        {
          "output_type": "stream",
          "name": "stdout",
          "text": [
            "whole_data_io() 수행 시간\t: 0.001초\n",
            "each_line_io() 수행 시간\t: 0.002초\n"
          ]
        }
      ]
    },
    {
      "cell_type": "code",
      "source": [
        "!pip install memory_profiler"
      ],
      "metadata": {
        "colab": {
          "base_uri": "https://localhost:8080/"
        },
        "id": "QXwqFDXevG-l",
        "outputId": "458865de-98af-4752-b47b-7d5659f8f12d"
      },
      "execution_count": null,
      "outputs": [
        {
          "output_type": "stream",
          "name": "stdout",
          "text": [
            "Collecting memory_profiler\n",
            "  Downloading memory_profiler-0.61.0-py3-none-any.whl (31 kB)\n",
            "Requirement already satisfied: psutil in /usr/local/lib/python3.10/dist-packages (from memory_profiler) (5.9.5)\n",
            "Installing collected packages: memory_profiler\n",
            "Successfully installed memory_profiler-0.61.0\n"
          ]
        }
      ]
    },
    {
      "cell_type": "code",
      "source": [
        "from memory_profiler import memory_usage\n",
        "\n",
        "memory_usage_whole = memory_usage(whole_data_io)\n",
        "print(f\"whole_data_io() 메모리 사용량\\t: {max(memory_usage_whole) - min(memory_usage_whole)}MB\")\n",
        "\n",
        "memory_usage_each = memory_usage(each_line_io)\n",
        "print(f\"each_line_io() 메모리 사용량\\t: {max(memory_usage_each) - min(memory_usage_each)}MB\")"
      ],
      "metadata": {
        "colab": {
          "base_uri": "https://localhost:8080/"
        },
        "id": "uHnEFt0Zt6Od",
        "outputId": "e0423a18-17b9-401f-85b3-fdac0ab1dcd1"
      },
      "execution_count": null,
      "outputs": [
        {
          "output_type": "stream",
          "name": "stdout",
          "text": [
            "whole_data_io() 메모리 사용량\t: 0.00390625MB\n",
            "each_line_io() 메모리 사용량\t: 0.0MB\n"
          ]
        }
      ]
    },
    {
      "cell_type": "code",
      "source": [
        "import numpy as np\n",
        "\n",
        "out_array_matrix = np.arange(1,51).reshape(5,10)\n",
        "\n",
        "np.save(\"numpy배열.npy\",out_array_matrix)\n",
        "\n",
        "in_array_matrix = np.load(\"numpy배열.npy\")\n",
        "\n",
        "print(\"in_array_matrix :\\n\",in_array_matrix)\n",
        "type(in_array_matrix)"
      ],
      "metadata": {
        "colab": {
          "base_uri": "https://localhost:8080/"
        },
        "id": "9DvcV73qHkyE",
        "outputId": "f4f1da2d-bb4a-494a-d989-3d5e2b994155"
      },
      "execution_count": null,
      "outputs": [
        {
          "output_type": "stream",
          "name": "stdout",
          "text": [
            "in_array_matrix :\n",
            " [[ 1  2  3  4  5  6  7  8  9 10]\n",
            " [11 12 13 14 15 16 17 18 19 20]\n",
            " [21 22 23 24 25 26 27 28 29 30]\n",
            " [31 32 33 34 35 36 37 38 39 40]\n",
            " [41 42 43 44 45 46 47 48 49 50]]\n"
          ]
        },
        {
          "output_type": "execute_result",
          "data": {
            "text/plain": [
              "numpy.ndarray"
            ]
          },
          "metadata": {},
          "execution_count": 1
        }
      ]
    },
    {
      "cell_type": "code",
      "source": [
        "import numpy as np\n",
        "\n",
        "out_array_matrix01 = np.arange(1,51).reshape(5,10)\n",
        "out_array_matrix02 = np.arange(51,101).reshape(5,10)\n",
        "\n",
        "np.savez(\"numpy배열들.npz\",array01=out_array_matrix01,array02=out_array_matrix02)\n",
        "\n",
        "in_array_matrix = np.load(\"numpy배열들.npz\")\n",
        "\n",
        "print(\"in_array_matrix['array01'] :\\n\",in_array_matrix['array01'])\n",
        "print(\"in_array_matrix['array02'] :\\n\",in_array_matrix['array02'])\n",
        "in_array_matrix.close()\n",
        "type(in_array_matrix)"
      ],
      "metadata": {
        "colab": {
          "base_uri": "https://localhost:8080/"
        },
        "id": "OE-J2DuuWGoY",
        "outputId": "952fdcdf-1094-4234-98d4-52b9eb3c9c7b"
      },
      "execution_count": null,
      "outputs": [
        {
          "output_type": "stream",
          "name": "stdout",
          "text": [
            "in_array_matrix['array01'] :\n",
            " [[ 1  2  3  4  5  6  7  8  9 10]\n",
            " [11 12 13 14 15 16 17 18 19 20]\n",
            " [21 22 23 24 25 26 27 28 29 30]\n",
            " [31 32 33 34 35 36 37 38 39 40]\n",
            " [41 42 43 44 45 46 47 48 49 50]]\n",
            "in_array_matrix['array02'] :\n",
            " [[ 51  52  53  54  55  56  57  58  59  60]\n",
            " [ 61  62  63  64  65  66  67  68  69  70]\n",
            " [ 71  72  73  74  75  76  77  78  79  80]\n",
            " [ 81  82  83  84  85  86  87  88  89  90]\n",
            " [ 91  92  93  94  95  96  97  98  99 100]]\n"
          ]
        },
        {
          "output_type": "execute_result",
          "data": {
            "text/plain": [
              "numpy.lib.npyio.NpzFile"
            ]
          },
          "metadata": {},
          "execution_count": 2
        }
      ]
    },
    {
      "cell_type": "code",
      "source": [
        "import numpy as np\n",
        "\n",
        "out_array_matrix = np.arange(1,50001)\n",
        "\n",
        "np.savetxt(\"대용량numpy배열.csv\",out_array_matrix,fmt='%d',delimiter=',',encoding='utf-8')\n",
        "np.save(\"대용량numpy배열.npy\",out_array_matrix)\n",
        "np.savez(\"대용량numpy배열.npz\",array01=out_array_matrix)\n",
        "np.savez_compressed(\"대용량numpy배열-압축.npz\",array01=out_array_matrix)"
      ],
      "metadata": {
        "id": "EmGfs0P0gK4U"
      },
      "execution_count": null,
      "outputs": []
    },
    {
      "cell_type": "code",
      "source": [
        "import numpy as np\n",
        "import time\n",
        "\n",
        "out_array_matrix = np.arange(1,50001)\n",
        "\n",
        "start = time.time()\n",
        "np.savetxt(\"대용량numpy배열.csv\",out_array_matrix,fmt='%d',delimiter=',',encoding='utf-8')\n",
        "end = time.time()\n",
        "print(f'csv 파일 저장 시간\\t: {end - start:.3f}초')\n",
        "\n",
        "start = time.time()\n",
        "np.save(\"대용량numpy배열.npy\",out_array_matrix)\n",
        "end = time.time()\n",
        "print(f'바이너리 파일 저장 시간\\t: {end - start:.3f}초')\n",
        "\n",
        "start = time.time()\n",
        "np.savez_compressed(\"대용량numpy배열-압축.npz\",array01=out_array_matrix)\n",
        "end = time.time()\n",
        "print(f'압축 바이너리 파일 저장 시간\\t: {end - start:.3f}초')"
      ],
      "metadata": {
        "id": "59X1ShHLjTHd"
      },
      "execution_count": null,
      "outputs": []
    },
    {
      "cell_type": "markdown",
      "source": [
        "\t모니터링 로그 쓰기"
      ],
      "metadata": {
        "id": "y4y537xhX_Rl"
      }
    },
    {
      "cell_type": "code",
      "source": [
        "import logging\n",
        "\n",
        "logging.basicConfig(filename='monitoring.log',\n",
        "                    encoding='utf-8',\n",
        "                    format='%(asctime)s %(levelname)s %(message)s',\n",
        "                    level=logging.INFO)\n",
        "\n",
        "memory_usage = 10\n",
        "logging.debug(f'메모리 사용량 : {memory_usage}MB')\n",
        "logging.info('프로그램이 기동되었습니다.')\n",
        "logging.info(repr('\\t\\n과 같은 특수 문자가 포함된 로그의 출력은 repr() 함수를 사용합니다.'))\n",
        "logging.warning('나눗셈에 사용될 out_array_matrix 배열에 0이 포함되어 있습니다.')\n",
        "logging.error('나눗셈에 사용될 divisor 변수의 값이 0입니다.')\n",
        "logging.critical('프로그램이 정상 종료되지 않았습니다.')\n",
        "logging.info('프로그램이 종료되었습니다.')"
      ],
      "metadata": {
        "id": "RU3sHufpHzeV"
      },
      "execution_count": null,
      "outputs": []
    },
    {
      "cell_type": "code",
      "source": [
        "import logging\n",
        "\n",
        "logging.basicConfig(filename='monitoring.log',\n",
        "                    encoding='utf-8',\n",
        "                    format='%(asctime)s %(levelname)s %(message)s',\n",
        "                    #level=logging.INFO)\n",
        "                    level=logging.DEBUG)\n",
        "\n",
        "memory_usage = 10\n",
        "logging.debug(f'메모리 사용량 : {memory_usage}MB')\n",
        "logging.info('프로그램이 기동되었습니다.')\n",
        "logging.info(repr('\\t\\n과 같은 특수 문자가 포함된 로그의 출력은 repr() 함수를 사용합니다.'))\n",
        "logging.warning('나눗셈에 사용될 out_array_matrix 배열에 0이 포함되어 있습니다.')\n",
        "logging.error('나눗셈에 사용될 divisor 변수의 값이 0입니다.')\n",
        "logging.critical('프로그램이 정상 종료되지 않았습니다.')\n",
        "logging.info('프로그램이 종료되었습니다.')"
      ],
      "metadata": {
        "id": "7x94TcLmWLrF"
      },
      "execution_count": null,
      "outputs": []
    },
    {
      "cell_type": "code",
      "source": [
        "import logging\n",
        "\n",
        "logging.basicConfig(filename='monitoring.log',\n",
        "                    encoding='utf-8',\n",
        "                    format='%(asctime)s %(levelname)s %(message)s',\n",
        "                    #level=logging.INFO)\n",
        "                    level=logging.DEBUG)\n",
        "\n",
        "try:\n",
        "    result = 10 / 0\n",
        "except Exception:\n",
        "    logging.exception('처리할 수 없는 예외가 발생하여 프로그램의 실행을 종료합니다.')"
      ],
      "metadata": {
        "id": "f8fH1pOrrnvZ"
      },
      "execution_count": null,
      "outputs": []
    }
  ]
}