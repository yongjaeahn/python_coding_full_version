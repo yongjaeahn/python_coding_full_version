{
  "nbformat": 4,
  "nbformat_minor": 0,
  "metadata": {
    "colab": {
      "provenance": [],
      "authorship_tag": "ABX9TyOt/WcV5horjVcPt1wrBHxD",
      "include_colab_link": true
    },
    "kernelspec": {
      "name": "python3",
      "display_name": "Python 3"
    },
    "language_info": {
      "name": "python"
    }
  },
  "cells": [
    {
      "cell_type": "markdown",
      "metadata": {
        "id": "view-in-github",
        "colab_type": "text"
      },
      "source": [
        "<a href=\"https://colab.research.google.com/github/yongjaeahn/python_coding/blob/main/korean/source/06_01_%EC%88%98%ED%95%99_Python_%EC%88%98_%ED%91%9C%ED%98%84.ipynb\" target=\"_parent\"><img src=\"https://colab.research.google.com/assets/colab-badge.svg\" alt=\"Open In Colab\"/></a>"
      ]
    },
    {
      "cell_type": "markdown",
      "source": [
        "\tPython 수 표현"
      ],
      "metadata": {
        "id": "GnF2fA3MK02V"
      }
    },
    {
      "cell_type": "code",
      "source": [
        "print(type(1.01 + 1.02))\n",
        "print(1.01 + 1.02)"
      ],
      "metadata": {
        "colab": {
          "base_uri": "https://localhost:8080/"
        },
        "id": "OfTCgg57Pz7C",
        "outputId": "f8d09945-242b-4beb-b8e9-5b2bd6b4fb00"
      },
      "execution_count": null,
      "outputs": [
        {
          "output_type": "stream",
          "name": "stdout",
          "text": [
            "<class 'float'>\n",
            "2.0300000000000002\n"
          ]
        }
      ]
    },
    {
      "cell_type": "code",
      "execution_count": null,
      "metadata": {
        "colab": {
          "base_uri": "https://localhost:8080/",
          "height": 213
        },
        "id": "gFcK9h_yEq8k",
        "outputId": "939a206e-ba15-47fa-802b-60131b244088"
      },
      "outputs": [
        {
          "output_type": "stream",
          "name": "stdout",
          "text": [
            "<class 'int'>\n"
          ]
        },
        {
          "output_type": "error",
          "ename": "ValueError",
          "evalue": "ignored",
          "traceback": [
            "\u001b[0;31m---------------------------------------------------------------------------\u001b[0m",
            "\u001b[0;31mValueError\u001b[0m                                Traceback (most recent call last)",
            "\u001b[0;32m<ipython-input-28-f69e0b721e80>\u001b[0m in \u001b[0;36m<module>\u001b[0;34m\u001b[0m\n\u001b[1;32m      1\u001b[0m \u001b[0mprint\u001b[0m\u001b[0;34m(\u001b[0m\u001b[0mtype\u001b[0m\u001b[0;34m(\u001b[0m\u001b[0;36m7797\u001b[0m\u001b[0;34m)\u001b[0m\u001b[0;34m)\u001b[0m\u001b[0;34m\u001b[0m\u001b[0;34m\u001b[0m\u001b[0m\n\u001b[0;32m----> 2\u001b[0;31m \u001b[0mprint\u001b[0m\u001b[0;34m(\u001b[0m\u001b[0;36m7797\u001b[0m\u001b[0;34m**\u001b[0m\u001b[0;36m7797\u001b[0m\u001b[0;34m)\u001b[0m\u001b[0;34m\u001b[0m\u001b[0;34m\u001b[0m\u001b[0m\n\u001b[0m",
            "\u001b[0;31mValueError\u001b[0m: Exceeds the limit (4300) for integer string conversion; use sys.set_int_max_str_digits() to increase the limit"
          ]
        }
      ],
      "source": [
        "print(type(7797))\n",
        "print(7797**7797)"
      ]
    },
    {
      "cell_type": "code",
      "source": [
        "import sys\n",
        "\n",
        "print('float info:',sys.float_info)\n",
        "print('float 최대값:',sys.float_info.max)\n",
        "print('float 최소값:',sys.float_info.min)\n",
        "print('float 유효숫자 자리수:',sys.float_info.dig)\n",
        "print('float 오차:',sys.float_info.epsilon)"
      ],
      "metadata": {
        "colab": {
          "base_uri": "https://localhost:8080/"
        },
        "id": "eiHeaPGjon5s",
        "outputId": "052e2c74-b56e-4980-9e4c-7daac285a33e"
      },
      "execution_count": null,
      "outputs": [
        {
          "output_type": "stream",
          "name": "stdout",
          "text": [
            "float info: sys.float_info(max=1.7976931348623157e+308, max_exp=1024, max_10_exp=308, min=2.2250738585072014e-308, min_exp=-1021, min_10_exp=-307, dig=15, mant_dig=53, epsilon=2.220446049250313e-16, radix=2, rounds=1)\n",
            "float 최대값: 1.7976931348623157e+308\n",
            "float 최소값: 2.2250738585072014e-308\n",
            "float 유효숫자 자리수: 15\n",
            "float 오차: 2.220446049250313e-16\n"
          ]
        }
      ]
    },
    {
      "cell_type": "code",
      "source": [
        "result = 2.03\n",
        "print(1.01 + 1.02 == result)   # 실수를 처리할 때의 논리적 오류"
      ],
      "metadata": {
        "colab": {
          "base_uri": "https://localhost:8080/"
        },
        "id": "B2qBpHUvofaq",
        "outputId": "7dc96d1a-42d1-4681-9e42-4860ca7b8492"
      },
      "execution_count": 1,
      "outputs": [
        {
          "output_type": "stream",
          "name": "stdout",
          "text": [
            "False\n"
          ]
        }
      ]
    },
    {
      "cell_type": "code",
      "source": [
        "import math\n",
        "result = 2.03\n",
        "# Python의 부동소수점수 오차를 고려한 실수 비교 방법\n",
        "print(math.isclose(1.01 + 1.02, result))"
      ],
      "metadata": {
        "colab": {
          "base_uri": "https://localhost:8080/"
        },
        "id": "ktaOPwavo8lg",
        "outputId": "4a8c8a6c-ef22-4623-f3f4-3c36fb3c6022"
      },
      "execution_count": 2,
      "outputs": [
        {
          "output_type": "stream",
          "name": "stdout",
          "text": [
            "True\n"
          ]
        }
      ]
    },
    {
      "cell_type": "code",
      "source": [
        "from decimal import Decimal\n",
        "print(Decimal('1.01') + Decimal('1.02') == Decimal('2.03'))"
      ],
      "metadata": {
        "colab": {
          "base_uri": "https://localhost:8080/"
        },
        "id": "6SCiY117vrx8",
        "outputId": "96ca5833-460b-4e05-c954-87af1392b7d7"
      },
      "execution_count": 4,
      "outputs": [
        {
          "output_type": "stream",
          "name": "stdout",
          "text": [
            "True\n"
          ]
        }
      ]
    },
    {
      "cell_type": "code",
      "source": [
        "from fractions import Fraction\n",
        "print(Fraction(Decimal('1.01') + Decimal('1.02')) == Fraction(Decimal('2.03')))"
      ],
      "metadata": {
        "colab": {
          "base_uri": "https://localhost:8080/"
        },
        "id": "Q5HBOrxHwJFx",
        "outputId": "8d6d231f-b1c5-4a23-cb9d-afbff74519ea"
      },
      "execution_count": 5,
      "outputs": [
        {
          "output_type": "stream",
          "name": "stdout",
          "text": [
            "True\n"
          ]
        }
      ]
    },
    {
      "cell_type": "code",
      "source": [
        "print(Decimal(10) + Decimal(20) - Decimal(10) * Decimal(20) / Decimal(10) ** Decimal(2))\n",
        "Decimal(10) + Decimal(20) - Decimal(10) * Decimal(20) / Decimal(10) ** Decimal(2)"
      ],
      "metadata": {
        "colab": {
          "base_uri": "https://localhost:8080/"
        },
        "id": "M5Z70eSYJqXg",
        "outputId": "c397af06-a2fe-4286-ff6c-356dc1b8a1e6"
      },
      "execution_count": 6,
      "outputs": [
        {
          "output_type": "stream",
          "name": "stdout",
          "text": [
            "28\n"
          ]
        },
        {
          "output_type": "execute_result",
          "data": {
            "text/plain": [
              "Decimal('28')"
            ]
          },
          "metadata": {},
          "execution_count": 6
        }
      ]
    },
    {
      "cell_type": "code",
      "source": [
        "print(Fraction(20,2) + Fraction(40,2) - Fraction(20,2) * Fraction(40,2) / Fraction(20,2) ** Fraction(4,2))\n",
        "Fraction(20,2) + Fraction(40,2) - Fraction(20,2) * Fraction(40,2) / Fraction(20,2) ** Fraction(4,2)"
      ],
      "metadata": {
        "colab": {
          "base_uri": "https://localhost:8080/"
        },
        "id": "oBuWQAyxKxKv",
        "outputId": "7bf0243b-5230-4639-a072-8ec8141006f6"
      },
      "execution_count": 7,
      "outputs": [
        {
          "output_type": "stream",
          "name": "stdout",
          "text": [
            "28\n"
          ]
        },
        {
          "output_type": "execute_result",
          "data": {
            "text/plain": [
              "Fraction(28, 1)"
            ]
          },
          "metadata": {},
          "execution_count": 7
        }
      ]
    },
    {
      "cell_type": "code",
      "source": [
        "Fraction(4548,4503) + Decimal('1.02')"
      ],
      "metadata": {
        "colab": {
          "base_uri": "https://localhost:8080/",
          "height": 186
        },
        "id": "FuflFvffzrBB",
        "outputId": "5b9a244c-0e73-497e-dec5-5f3c4c4cab61"
      },
      "execution_count": 9,
      "outputs": [
        {
          "output_type": "error",
          "ename": "TypeError",
          "evalue": "ignored",
          "traceback": [
            "\u001b[0;31m---------------------------------------------------------------------------\u001b[0m",
            "\u001b[0;31mTypeError\u001b[0m                                 Traceback (most recent call last)",
            "\u001b[0;32m<ipython-input-9-883ccfb6e64c>\u001b[0m in \u001b[0;36m<cell line: 1>\u001b[0;34m()\u001b[0m\n\u001b[0;32m----> 1\u001b[0;31m \u001b[0mFraction\u001b[0m\u001b[0;34m(\u001b[0m\u001b[0;36m4548\u001b[0m\u001b[0;34m,\u001b[0m\u001b[0;36m4503\u001b[0m\u001b[0;34m)\u001b[0m \u001b[0;34m+\u001b[0m \u001b[0mDecimal\u001b[0m\u001b[0;34m(\u001b[0m\u001b[0;34m'1.02'\u001b[0m\u001b[0;34m)\u001b[0m\u001b[0;34m\u001b[0m\u001b[0;34m\u001b[0m\u001b[0m\n\u001b[0m",
            "\u001b[0;31mTypeError\u001b[0m: unsupported operand type(s) for +: 'Fraction' and 'decimal.Decimal'"
          ]
        }
      ]
    },
    {
      "cell_type": "code",
      "source": [
        "Fraction(Decimal('1.01')) + Fraction(Decimal('1.02'))"
      ],
      "metadata": {
        "colab": {
          "base_uri": "https://localhost:8080/"
        },
        "id": "CRNwvsGS0NZ_",
        "outputId": "988ad9f5-a826-4db4-d684-9e3d9cd8b483"
      },
      "execution_count": 8,
      "outputs": [
        {
          "output_type": "execute_result",
          "data": {
            "text/plain": [
              "Fraction(203, 100)"
            ]
          },
          "metadata": {},
          "execution_count": 8
        }
      ]
    },
    {
      "cell_type": "code",
      "source": [
        "print(Decimal('1.01'))"
      ],
      "metadata": {
        "colab": {
          "base_uri": "https://localhost:8080/"
        },
        "id": "Fv7fh5JwP0Na",
        "outputId": "fa19d246-2bc2-48ab-ab65-2f51a639faa6"
      },
      "execution_count": null,
      "outputs": [
        {
          "output_type": "stream",
          "name": "stdout",
          "text": [
            "1.01\n"
          ]
        }
      ]
    },
    {
      "cell_type": "code",
      "source": [
        "print(Decimal(1.01))"
      ],
      "metadata": {
        "colab": {
          "base_uri": "https://localhost:8080/"
        },
        "id": "QQ5x6mKjP7wc",
        "outputId": "e6088409-5a94-4990-8b93-eb3e5a531f75"
      },
      "execution_count": null,
      "outputs": [
        {
          "output_type": "stream",
          "name": "stdout",
          "text": [
            "1.0100000000000000088817841970012523233890533447265625\n"
          ]
        }
      ]
    }
  ]
}