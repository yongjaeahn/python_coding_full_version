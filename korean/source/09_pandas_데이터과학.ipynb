{
  "nbformat": 4,
  "nbformat_minor": 0,
  "metadata": {
    "colab": {
      "provenance": [],
      "authorship_tag": "ABX9TyOzUVZFx91UzBvWid7qdPsH",
      "include_colab_link": true
    },
    "kernelspec": {
      "name": "python3",
      "display_name": "Python 3"
    },
    "language_info": {
      "name": "python"
    }
  },
  "cells": [
    {
      "cell_type": "markdown",
      "metadata": {
        "id": "view-in-github",
        "colab_type": "text"
      },
      "source": [
        "<a href=\"https://colab.research.google.com/github/yongjaeahn/python_coding/blob/main/korean/source/09_pandas_%EB%8D%B0%EC%9D%B4%ED%84%B0%EA%B3%BC%ED%95%99.ipynb\" target=\"_parent\"><img src=\"https://colab.research.google.com/assets/colab-badge.svg\" alt=\"Open In Colab\"/></a>"
      ]
    },
    {
      "cell_type": "markdown",
      "source": [
        "\t형변환으로 이해하는 pandas"
      ],
      "metadata": {
        "id": "GJuH_PwnzN51"
      }
    },
    {
      "cell_type": "markdown",
      "source": [
        "데이터프레임"
      ],
      "metadata": {
        "id": "rdVwEYoDod2H"
      }
    },
    {
      "cell_type": "code",
      "execution_count": null,
      "metadata": {
        "colab": {
          "base_uri": "https://localhost:8080/"
        },
        "id": "UuKxq4bHbWcq",
        "outputId": "952457bd-c797-4b12-b6f2-1792cbd94b9f"
      },
      "outputs": [
        {
          "output_type": "stream",
          "name": "stdout",
          "text": [
            "pandas 데이터프레임\n",
            "     국어  영어  수학   사탐  과탐\n",
            "0  100  90  95  100  80\n",
            "1   95  95  90  100  85\n",
            "numpy 배열\n",
            " [[100  90  95 100  80]\n",
            " [ 95  95  90 100  85]]\n",
            "pandas 데이터프레임\n",
            "      0   1   2    3   4\n",
            "0  100  90  95  100  80\n",
            "1   95  95  90  100  85\n"
          ]
        }
      ],
      "source": [
        "import numpy as np\n",
        "import pandas as pd\n",
        "\n",
        "dict_var = {'국어':[100,95],'영어':[90,95],'수학':[95,90],'사탐':[100,100],'과탐':[80,85]}\n",
        "\n",
        "pandas_dataframe = pd.DataFrame(dict_var)\n",
        "print('pandas 데이터프레임\\n',pandas_dataframe)\n",
        "\n",
        "numpy_array = np.array(pandas_dataframe)\n",
        "print('numpy 배열\\n',numpy_array)\n",
        "\n",
        "pandas_dataframe = pd.DataFrame(numpy_array)\n",
        "print('pandas 데이터프레임\\n',pandas_dataframe)"
      ]
    },
    {
      "cell_type": "code",
      "source": [
        "import numpy as np\n",
        "import pandas as pd\n",
        "\n",
        "dict_var = {'이름':['홍길동','강감찬'],'국어':[100,95],'영어':[90,95]}\n",
        "\n",
        "pandas_dataframe = pd.DataFrame(dict_var)\n",
        "print('pandas 데이터프레임\\n',pandas_dataframe)\n",
        "print('이름',pandas_dataframe['이름'][0],'의 자료형:\\t',type(pandas_dataframe['이름'][0]))\n",
        "print('성적',pandas_dataframe['국어'][0],'의 자료형:\\t',type(pandas_dataframe['국어'][0]))\n",
        "\n",
        "numpy_array = np.array(pandas_dataframe)\n",
        "print('numpy 배열\\n',numpy_array)\n",
        "print('이름',numpy_array[0][0],'의 자료형:\\t',type(numpy_array[0][0]))\n",
        "print('성적',numpy_array[0][1],'의 자료형:\\t',type(numpy_array[0][1]))"
      ],
      "metadata": {
        "colab": {
          "base_uri": "https://localhost:8080/"
        },
        "id": "sqcvz8bJ2mZC",
        "outputId": "cdb9f660-89d1-456b-8e6b-c862468c3178"
      },
      "execution_count": null,
      "outputs": [
        {
          "output_type": "stream",
          "name": "stdout",
          "text": [
            "pandas 데이터프레임\n",
            "     이름   국어  영어\n",
            "0  홍길동  100  90\n",
            "1  강감찬   95  95\n",
            "이름 홍길동 의 자료형:\t <class 'str'>\n",
            "성적 100 의 자료형:\t <class 'numpy.int64'>\n",
            "numpy 배열\n",
            " [['홍길동' 100 90]\n",
            " ['강감찬' 95 95]]\n",
            "이름 홍길동 의 자료형:\t <class 'str'>\n",
            "성적 100 의 자료형:\t <class 'int'>\n"
          ]
        }
      ]
    },
    {
      "cell_type": "markdown",
      "source": [
        "시리즈"
      ],
      "metadata": {
        "id": "Wxy_4mg8okUH"
      }
    },
    {
      "cell_type": "code",
      "source": [
        "print('pandas 데이터프레임\\n',pandas_dataframe)\n",
        "print('pandas 열시리즈/열벡터')\n",
        "print(pandas_dataframe['이름'])\n",
        "print(pandas_dataframe['국어'])"
      ],
      "metadata": {
        "id": "IsomAVrTvjqu",
        "colab": {
          "base_uri": "https://localhost:8080/"
        },
        "outputId": "8053865f-c460-4a31-f738-46f0f15504f2"
      },
      "execution_count": null,
      "outputs": [
        {
          "output_type": "stream",
          "name": "stdout",
          "text": [
            "pandas 데이터프레임\n",
            "     이름   국어  영어\n",
            "0  홍길동  100  90\n",
            "1  강감찬   95  95\n",
            "pandas 열시리즈/열벡터\n",
            "0    홍길동\n",
            "1    강감찬\n",
            "Name: 이름, dtype: object\n",
            "0    100\n",
            "1     95\n",
            "Name: 국어, dtype: int64\n"
          ]
        }
      ]
    },
    {
      "cell_type": "code",
      "source": [
        "print(type(pandas_dataframe['이름']))\n",
        "print(type(pandas_dataframe['국어']))"
      ],
      "metadata": {
        "colab": {
          "base_uri": "https://localhost:8080/"
        },
        "id": "RCLBnCcIkd99",
        "outputId": "0c27209c-2dad-4a6c-b821-a21cfbac5a0a"
      },
      "execution_count": null,
      "outputs": [
        {
          "output_type": "stream",
          "name": "stdout",
          "text": [
            "<class 'pandas.core.series.Series'>\n",
            "<class 'pandas.core.series.Series'>\n"
          ]
        }
      ]
    },
    {
      "cell_type": "code",
      "source": [
        "print('pandas 데이터프레임\\n',pandas_dataframe)\n",
        "print('pandas 행시리즈/행벡터')\n",
        "print(pandas_dataframe[:,0])\n",
        "print(pandas_dataframe[:,1])"
      ],
      "metadata": {
        "colab": {
          "base_uri": "https://localhost:8080/",
          "height": 565
        },
        "id": "d1-PFehS6wNL",
        "outputId": "1375176a-c0a9-4daa-db50-3d6d716b9eed"
      },
      "execution_count": null,
      "outputs": [
        {
          "output_type": "stream",
          "name": "stdout",
          "text": [
            "pandas 데이터프레임\n",
            "     이름   국어  영어\n",
            "0  홍길동  100  90\n",
            "1  강감찬   95  95\n",
            "pandas 행시리즈/행벡터\n"
          ]
        },
        {
          "output_type": "error",
          "ename": "InvalidIndexError",
          "evalue": "ignored",
          "traceback": [
            "\u001b[0;31m---------------------------------------------------------------------------\u001b[0m",
            "\u001b[0;31mTypeError\u001b[0m                                 Traceback (most recent call last)",
            "\u001b[0;32m/usr/local/lib/python3.10/dist-packages/pandas/core/indexes/base.py\u001b[0m in \u001b[0;36mget_loc\u001b[0;34m(self, key, method, tolerance)\u001b[0m\n\u001b[1;32m   3801\u001b[0m             \u001b[0;32mtry\u001b[0m\u001b[0;34m:\u001b[0m\u001b[0;34m\u001b[0m\u001b[0;34m\u001b[0m\u001b[0m\n\u001b[0;32m-> 3802\u001b[0;31m                 \u001b[0;32mreturn\u001b[0m \u001b[0mself\u001b[0m\u001b[0;34m.\u001b[0m\u001b[0m_engine\u001b[0m\u001b[0;34m.\u001b[0m\u001b[0mget_loc\u001b[0m\u001b[0;34m(\u001b[0m\u001b[0mcasted_key\u001b[0m\u001b[0;34m)\u001b[0m\u001b[0;34m\u001b[0m\u001b[0;34m\u001b[0m\u001b[0m\n\u001b[0m\u001b[1;32m   3803\u001b[0m             \u001b[0;32mexcept\u001b[0m \u001b[0mKeyError\u001b[0m \u001b[0;32mas\u001b[0m \u001b[0merr\u001b[0m\u001b[0;34m:\u001b[0m\u001b[0;34m\u001b[0m\u001b[0;34m\u001b[0m\u001b[0m\n",
            "\u001b[0;32m/usr/local/lib/python3.10/dist-packages/pandas/_libs/index.pyx\u001b[0m in \u001b[0;36mpandas._libs.index.IndexEngine.get_loc\u001b[0;34m()\u001b[0m\n",
            "\u001b[0;32m/usr/local/lib/python3.10/dist-packages/pandas/_libs/index.pyx\u001b[0m in \u001b[0;36mpandas._libs.index.IndexEngine.get_loc\u001b[0;34m()\u001b[0m\n",
            "\u001b[0;31mTypeError\u001b[0m: '(slice(None, None, None), 0)' is an invalid key",
            "\nDuring handling of the above exception, another exception occurred:\n",
            "\u001b[0;31mInvalidIndexError\u001b[0m                         Traceback (most recent call last)",
            "\u001b[0;32m<ipython-input-5-e3bbfbde3a10>\u001b[0m in \u001b[0;36m<cell line: 3>\u001b[0;34m()\u001b[0m\n\u001b[1;32m      1\u001b[0m \u001b[0mprint\u001b[0m\u001b[0;34m(\u001b[0m\u001b[0;34m'pandas 데이터프레임\\n'\u001b[0m\u001b[0;34m,\u001b[0m\u001b[0mpandas_dataframe\u001b[0m\u001b[0;34m)\u001b[0m\u001b[0;34m\u001b[0m\u001b[0;34m\u001b[0m\u001b[0m\n\u001b[1;32m      2\u001b[0m \u001b[0mprint\u001b[0m\u001b[0;34m(\u001b[0m\u001b[0;34m'pandas 행시리즈/행벡터'\u001b[0m\u001b[0;34m)\u001b[0m\u001b[0;34m\u001b[0m\u001b[0;34m\u001b[0m\u001b[0m\n\u001b[0;32m----> 3\u001b[0;31m \u001b[0mprint\u001b[0m\u001b[0;34m(\u001b[0m\u001b[0mpandas_dataframe\u001b[0m\u001b[0;34m[\u001b[0m\u001b[0;34m:\u001b[0m\u001b[0;34m,\u001b[0m\u001b[0;36m0\u001b[0m\u001b[0;34m]\u001b[0m\u001b[0;34m)\u001b[0m\u001b[0;34m\u001b[0m\u001b[0;34m\u001b[0m\u001b[0m\n\u001b[0m\u001b[1;32m      4\u001b[0m \u001b[0mprint\u001b[0m\u001b[0;34m(\u001b[0m\u001b[0mpandas_dataframe\u001b[0m\u001b[0;34m[\u001b[0m\u001b[0;34m:\u001b[0m\u001b[0;34m,\u001b[0m\u001b[0;36m1\u001b[0m\u001b[0;34m]\u001b[0m\u001b[0;34m)\u001b[0m\u001b[0;34m\u001b[0m\u001b[0;34m\u001b[0m\u001b[0m\n",
            "\u001b[0;32m/usr/local/lib/python3.10/dist-packages/pandas/core/frame.py\u001b[0m in \u001b[0;36m__getitem__\u001b[0;34m(self, key)\u001b[0m\n\u001b[1;32m   3805\u001b[0m             \u001b[0;32mif\u001b[0m \u001b[0mself\u001b[0m\u001b[0;34m.\u001b[0m\u001b[0mcolumns\u001b[0m\u001b[0;34m.\u001b[0m\u001b[0mnlevels\u001b[0m \u001b[0;34m>\u001b[0m \u001b[0;36m1\u001b[0m\u001b[0;34m:\u001b[0m\u001b[0;34m\u001b[0m\u001b[0;34m\u001b[0m\u001b[0m\n\u001b[1;32m   3806\u001b[0m                 \u001b[0;32mreturn\u001b[0m \u001b[0mself\u001b[0m\u001b[0;34m.\u001b[0m\u001b[0m_getitem_multilevel\u001b[0m\u001b[0;34m(\u001b[0m\u001b[0mkey\u001b[0m\u001b[0;34m)\u001b[0m\u001b[0;34m\u001b[0m\u001b[0;34m\u001b[0m\u001b[0m\n\u001b[0;32m-> 3807\u001b[0;31m             \u001b[0mindexer\u001b[0m \u001b[0;34m=\u001b[0m \u001b[0mself\u001b[0m\u001b[0;34m.\u001b[0m\u001b[0mcolumns\u001b[0m\u001b[0;34m.\u001b[0m\u001b[0mget_loc\u001b[0m\u001b[0;34m(\u001b[0m\u001b[0mkey\u001b[0m\u001b[0;34m)\u001b[0m\u001b[0;34m\u001b[0m\u001b[0;34m\u001b[0m\u001b[0m\n\u001b[0m\u001b[1;32m   3808\u001b[0m             \u001b[0;32mif\u001b[0m \u001b[0mis_integer\u001b[0m\u001b[0;34m(\u001b[0m\u001b[0mindexer\u001b[0m\u001b[0;34m)\u001b[0m\u001b[0;34m:\u001b[0m\u001b[0;34m\u001b[0m\u001b[0;34m\u001b[0m\u001b[0m\n\u001b[1;32m   3809\u001b[0m                 \u001b[0mindexer\u001b[0m \u001b[0;34m=\u001b[0m \u001b[0;34m[\u001b[0m\u001b[0mindexer\u001b[0m\u001b[0;34m]\u001b[0m\u001b[0;34m\u001b[0m\u001b[0;34m\u001b[0m\u001b[0m\n",
            "\u001b[0;32m/usr/local/lib/python3.10/dist-packages/pandas/core/indexes/base.py\u001b[0m in \u001b[0;36mget_loc\u001b[0;34m(self, key, method, tolerance)\u001b[0m\n\u001b[1;32m   3807\u001b[0m                 \u001b[0;31m#  InvalidIndexError. Otherwise we fall through and re-raise\u001b[0m\u001b[0;34m\u001b[0m\u001b[0;34m\u001b[0m\u001b[0m\n\u001b[1;32m   3808\u001b[0m                 \u001b[0;31m#  the TypeError.\u001b[0m\u001b[0;34m\u001b[0m\u001b[0;34m\u001b[0m\u001b[0m\n\u001b[0;32m-> 3809\u001b[0;31m                 \u001b[0mself\u001b[0m\u001b[0;34m.\u001b[0m\u001b[0m_check_indexing_error\u001b[0m\u001b[0;34m(\u001b[0m\u001b[0mkey\u001b[0m\u001b[0;34m)\u001b[0m\u001b[0;34m\u001b[0m\u001b[0;34m\u001b[0m\u001b[0m\n\u001b[0m\u001b[1;32m   3810\u001b[0m                 \u001b[0;32mraise\u001b[0m\u001b[0;34m\u001b[0m\u001b[0;34m\u001b[0m\u001b[0m\n\u001b[1;32m   3811\u001b[0m \u001b[0;34m\u001b[0m\u001b[0m\n",
            "\u001b[0;32m/usr/local/lib/python3.10/dist-packages/pandas/core/indexes/base.py\u001b[0m in \u001b[0;36m_check_indexing_error\u001b[0;34m(self, key)\u001b[0m\n\u001b[1;32m   5923\u001b[0m             \u001b[0;31m# if key is not a scalar, directly raise an error (the code below\u001b[0m\u001b[0;34m\u001b[0m\u001b[0;34m\u001b[0m\u001b[0m\n\u001b[1;32m   5924\u001b[0m             \u001b[0;31m# would convert to numpy arrays and raise later any way) - GH29926\u001b[0m\u001b[0;34m\u001b[0m\u001b[0;34m\u001b[0m\u001b[0m\n\u001b[0;32m-> 5925\u001b[0;31m             \u001b[0;32mraise\u001b[0m \u001b[0mInvalidIndexError\u001b[0m\u001b[0;34m(\u001b[0m\u001b[0mkey\u001b[0m\u001b[0;34m)\u001b[0m\u001b[0;34m\u001b[0m\u001b[0;34m\u001b[0m\u001b[0m\n\u001b[0m\u001b[1;32m   5926\u001b[0m \u001b[0;34m\u001b[0m\u001b[0m\n\u001b[1;32m   5927\u001b[0m     \u001b[0;34m@\u001b[0m\u001b[0mcache_readonly\u001b[0m\u001b[0;34m\u001b[0m\u001b[0;34m\u001b[0m\u001b[0m\n",
            "\u001b[0;31mInvalidIndexError\u001b[0m: (slice(None, None, None), 0)"
          ]
        }
      ]
    },
    {
      "cell_type": "code",
      "source": [
        "print('pandas 데이터프레임\\n',pandas_dataframe)\n",
        "print('pandas 행시리즈/행벡터')\n",
        "print(pandas_dataframe.iloc[0])\n",
        "print(pandas_dataframe.iloc[1])"
      ],
      "metadata": {
        "colab": {
          "base_uri": "https://localhost:8080/"
        },
        "id": "r4frD5W24lce",
        "outputId": "0549d368-a243-4dae-f258-e18795cd5f02"
      },
      "execution_count": null,
      "outputs": [
        {
          "output_type": "stream",
          "name": "stdout",
          "text": [
            "pandas 데이터프레임\n",
            "     이름   국어  영어\n",
            "0  홍길동  100  90\n",
            "1  강감찬   95  95\n",
            "pandas 행시리즈/행벡터\n",
            "이름    홍길동\n",
            "국어    100\n",
            "영어     90\n",
            "Name: 0, dtype: object\n",
            "이름    강감찬\n",
            "국어     95\n",
            "영어     95\n",
            "Name: 1, dtype: object\n"
          ]
        }
      ]
    },
    {
      "cell_type": "code",
      "source": [
        "print(type(pandas_dataframe.iloc[0]))\n",
        "print(type(pandas_dataframe.iloc[1]))"
      ],
      "metadata": {
        "colab": {
          "base_uri": "https://localhost:8080/"
        },
        "id": "vCZpQPA69Pgu",
        "outputId": "8f02831d-3d5f-40bb-e556-b3b9c11acfed"
      },
      "execution_count": null,
      "outputs": [
        {
          "output_type": "stream",
          "name": "stdout",
          "text": [
            "<class 'pandas.core.series.Series'>\n",
            "<class 'pandas.core.series.Series'>\n"
          ]
        }
      ]
    },
    {
      "cell_type": "code",
      "source": [
        "import pandas as pd\n",
        "import numpy as np\n",
        "\n",
        "kor_scores = pd.Series([100,95])\n",
        "eng_scores = pd.Series([90,95])\n",
        "random_series =  pd.Series(np.random.randn(2))\n",
        "\n",
        "print('국어성적\\n',kor_scores)\n",
        "print('영어성적\\n',eng_scores)\n",
        "print('난수시리즈\\n',random_series)"
      ],
      "metadata": {
        "colab": {
          "base_uri": "https://localhost:8080/"
        },
        "id": "oMa5yDHUEOcx",
        "outputId": "050aa2c0-789d-4154-c72e-aecec8412af5"
      },
      "execution_count": null,
      "outputs": [
        {
          "output_type": "stream",
          "name": "stdout",
          "text": [
            "국어성적\n",
            " 0    100\n",
            "1     95\n",
            "dtype: int64\n",
            "영어성적\n",
            " 0    90\n",
            "1    95\n",
            "dtype: int64\n",
            "난수시리즈\n",
            " 0    0.104545\n",
            "1    0.702444\n",
            "dtype: float64\n"
          ]
        }
      ]
    },
    {
      "cell_type": "code",
      "source": [
        "pandas_dataframe = pd.DataFrame({'국어':kor_scores,'영어':eng_scores,'난수':random_series})\n",
        "print('pandas 데이터프레임\\n',pandas_dataframe)"
      ],
      "metadata": {
        "colab": {
          "base_uri": "https://localhost:8080/"
        },
        "id": "8LHax37MGYrR",
        "outputId": "1086494d-0fe5-41cb-8243-17452b3c6266"
      },
      "execution_count": null,
      "outputs": [
        {
          "output_type": "stream",
          "name": "stdout",
          "text": [
            "pandas 데이터프레임\n",
            "     국어  영어        난수\n",
            "0  100  90  0.104545\n",
            "1   95  95  0.702444\n"
          ]
        }
      ]
    },
    {
      "cell_type": "code",
      "source": [
        "print(pd.Series(np.arange(9).reshape(3,3)))"
      ],
      "metadata": {
        "colab": {
          "base_uri": "https://localhost:8080/",
          "height": 341
        },
        "id": "56NvlCjv3ZEl",
        "outputId": "c9275137-8472-4655-ae8b-1331cedd4633"
      },
      "execution_count": null,
      "outputs": [
        {
          "output_type": "error",
          "ename": "ValueError",
          "evalue": "ignored",
          "traceback": [
            "\u001b[0;31m---------------------------------------------------------------------------\u001b[0m",
            "\u001b[0;31mValueError\u001b[0m                                Traceback (most recent call last)",
            "\u001b[0;32m<ipython-input-10-a7d2dbc74df4>\u001b[0m in \u001b[0;36m<cell line: 1>\u001b[0;34m()\u001b[0m\n\u001b[0;32m----> 1\u001b[0;31m \u001b[0mprint\u001b[0m\u001b[0;34m(\u001b[0m\u001b[0mpd\u001b[0m\u001b[0;34m.\u001b[0m\u001b[0mSeries\u001b[0m\u001b[0;34m(\u001b[0m\u001b[0mnp\u001b[0m\u001b[0;34m.\u001b[0m\u001b[0marange\u001b[0m\u001b[0;34m(\u001b[0m\u001b[0;36m9\u001b[0m\u001b[0;34m)\u001b[0m\u001b[0;34m.\u001b[0m\u001b[0mreshape\u001b[0m\u001b[0;34m(\u001b[0m\u001b[0;36m3\u001b[0m\u001b[0;34m,\u001b[0m\u001b[0;36m3\u001b[0m\u001b[0;34m)\u001b[0m\u001b[0;34m)\u001b[0m\u001b[0;34m)\u001b[0m\u001b[0;34m\u001b[0m\u001b[0;34m\u001b[0m\u001b[0m\n\u001b[0m",
            "\u001b[0;32m/usr/local/lib/python3.10/dist-packages/pandas/core/series.py\u001b[0m in \u001b[0;36m__init__\u001b[0;34m(self, data, index, dtype, name, copy, fastpath)\u001b[0m\n\u001b[1;32m    468\u001b[0m                     \u001b[0mdata\u001b[0m \u001b[0;34m=\u001b[0m \u001b[0mdata\u001b[0m\u001b[0;34m.\u001b[0m\u001b[0mcopy\u001b[0m\u001b[0;34m(\u001b[0m\u001b[0;34m)\u001b[0m\u001b[0;34m\u001b[0m\u001b[0;34m\u001b[0m\u001b[0m\n\u001b[1;32m    469\u001b[0m             \u001b[0;32melse\u001b[0m\u001b[0;34m:\u001b[0m\u001b[0;34m\u001b[0m\u001b[0;34m\u001b[0m\u001b[0m\n\u001b[0;32m--> 470\u001b[0;31m                 \u001b[0mdata\u001b[0m \u001b[0;34m=\u001b[0m \u001b[0msanitize_array\u001b[0m\u001b[0;34m(\u001b[0m\u001b[0mdata\u001b[0m\u001b[0;34m,\u001b[0m \u001b[0mindex\u001b[0m\u001b[0;34m,\u001b[0m \u001b[0mdtype\u001b[0m\u001b[0;34m,\u001b[0m \u001b[0mcopy\u001b[0m\u001b[0;34m)\u001b[0m\u001b[0;34m\u001b[0m\u001b[0;34m\u001b[0m\u001b[0m\n\u001b[0m\u001b[1;32m    471\u001b[0m \u001b[0;34m\u001b[0m\u001b[0m\n\u001b[1;32m    472\u001b[0m                 \u001b[0mmanager\u001b[0m \u001b[0;34m=\u001b[0m \u001b[0mget_option\u001b[0m\u001b[0;34m(\u001b[0m\u001b[0;34m\"mode.data_manager\"\u001b[0m\u001b[0;34m)\u001b[0m\u001b[0;34m\u001b[0m\u001b[0;34m\u001b[0m\u001b[0m\n",
            "\u001b[0;32m/usr/local/lib/python3.10/dist-packages/pandas/core/construction.py\u001b[0m in \u001b[0;36msanitize_array\u001b[0;34m(data, index, dtype, copy, raise_cast_failure, allow_2d)\u001b[0m\n\u001b[1;32m    645\u001b[0m                 \u001b[0msubarr\u001b[0m \u001b[0;34m=\u001b[0m \u001b[0mmaybe_infer_to_datetimelike\u001b[0m\u001b[0;34m(\u001b[0m\u001b[0msubarr\u001b[0m\u001b[0;34m)\u001b[0m\u001b[0;34m\u001b[0m\u001b[0;34m\u001b[0m\u001b[0m\n\u001b[1;32m    646\u001b[0m \u001b[0;34m\u001b[0m\u001b[0m\n\u001b[0;32m--> 647\u001b[0;31m     \u001b[0msubarr\u001b[0m \u001b[0;34m=\u001b[0m \u001b[0m_sanitize_ndim\u001b[0m\u001b[0;34m(\u001b[0m\u001b[0msubarr\u001b[0m\u001b[0;34m,\u001b[0m \u001b[0mdata\u001b[0m\u001b[0;34m,\u001b[0m \u001b[0mdtype\u001b[0m\u001b[0;34m,\u001b[0m \u001b[0mindex\u001b[0m\u001b[0;34m,\u001b[0m \u001b[0mallow_2d\u001b[0m\u001b[0;34m=\u001b[0m\u001b[0mallow_2d\u001b[0m\u001b[0;34m)\u001b[0m\u001b[0;34m\u001b[0m\u001b[0;34m\u001b[0m\u001b[0m\n\u001b[0m\u001b[1;32m    648\u001b[0m \u001b[0;34m\u001b[0m\u001b[0m\n\u001b[1;32m    649\u001b[0m     \u001b[0;32mif\u001b[0m \u001b[0misinstance\u001b[0m\u001b[0;34m(\u001b[0m\u001b[0msubarr\u001b[0m\u001b[0;34m,\u001b[0m \u001b[0mnp\u001b[0m\u001b[0;34m.\u001b[0m\u001b[0mndarray\u001b[0m\u001b[0;34m)\u001b[0m\u001b[0;34m:\u001b[0m\u001b[0;34m\u001b[0m\u001b[0;34m\u001b[0m\u001b[0m\n",
            "\u001b[0;32m/usr/local/lib/python3.10/dist-packages/pandas/core/construction.py\u001b[0m in \u001b[0;36m_sanitize_ndim\u001b[0;34m(result, data, dtype, index, allow_2d)\u001b[0m\n\u001b[1;32m    696\u001b[0m             \u001b[0;32mif\u001b[0m \u001b[0mallow_2d\u001b[0m\u001b[0;34m:\u001b[0m\u001b[0;34m\u001b[0m\u001b[0;34m\u001b[0m\u001b[0m\n\u001b[1;32m    697\u001b[0m                 \u001b[0;32mreturn\u001b[0m \u001b[0mresult\u001b[0m\u001b[0;34m\u001b[0m\u001b[0;34m\u001b[0m\u001b[0m\n\u001b[0;32m--> 698\u001b[0;31m             \u001b[0;32mraise\u001b[0m \u001b[0mValueError\u001b[0m\u001b[0;34m(\u001b[0m\u001b[0;34m\"Data must be 1-dimensional\"\u001b[0m\u001b[0;34m)\u001b[0m\u001b[0;34m\u001b[0m\u001b[0;34m\u001b[0m\u001b[0m\n\u001b[0m\u001b[1;32m    699\u001b[0m         \u001b[0;32mif\u001b[0m \u001b[0mis_object_dtype\u001b[0m\u001b[0;34m(\u001b[0m\u001b[0mdtype\u001b[0m\u001b[0;34m)\u001b[0m \u001b[0;32mand\u001b[0m \u001b[0misinstance\u001b[0m\u001b[0;34m(\u001b[0m\u001b[0mdtype\u001b[0m\u001b[0;34m,\u001b[0m \u001b[0mExtensionDtype\u001b[0m\u001b[0;34m)\u001b[0m\u001b[0;34m:\u001b[0m\u001b[0;34m\u001b[0m\u001b[0;34m\u001b[0m\u001b[0m\n\u001b[1;32m    700\u001b[0m             \u001b[0;31m# i.e. PandasDtype(\"O\")\u001b[0m\u001b[0;34m\u001b[0m\u001b[0;34m\u001b[0m\u001b[0m\n",
            "\u001b[0;31mValueError\u001b[0m: Data must be 1-dimensional"
          ]
        }
      ]
    },
    {
      "cell_type": "code",
      "source": [
        "print(pd.DataFrame(np.arange(27).reshape(3,3,3)))"
      ],
      "metadata": {
        "colab": {
          "base_uri": "https://localhost:8080/",
          "height": 341
        },
        "id": "AQqnMmhB2MpF",
        "outputId": "650f72bb-682b-4b8d-aa52-9ffd411f404a"
      },
      "execution_count": null,
      "outputs": [
        {
          "output_type": "error",
          "ename": "ValueError",
          "evalue": "ignored",
          "traceback": [
            "\u001b[0;31m---------------------------------------------------------------------------\u001b[0m",
            "\u001b[0;31mValueError\u001b[0m                                Traceback (most recent call last)",
            "\u001b[0;32m<ipython-input-11-be8137e4cfef>\u001b[0m in \u001b[0;36m<cell line: 1>\u001b[0;34m()\u001b[0m\n\u001b[0;32m----> 1\u001b[0;31m \u001b[0mprint\u001b[0m\u001b[0;34m(\u001b[0m\u001b[0mpd\u001b[0m\u001b[0;34m.\u001b[0m\u001b[0mDataFrame\u001b[0m\u001b[0;34m(\u001b[0m\u001b[0mnp\u001b[0m\u001b[0;34m.\u001b[0m\u001b[0marange\u001b[0m\u001b[0;34m(\u001b[0m\u001b[0;36m27\u001b[0m\u001b[0;34m)\u001b[0m\u001b[0;34m.\u001b[0m\u001b[0mreshape\u001b[0m\u001b[0;34m(\u001b[0m\u001b[0;36m3\u001b[0m\u001b[0;34m,\u001b[0m\u001b[0;36m3\u001b[0m\u001b[0;34m,\u001b[0m\u001b[0;36m3\u001b[0m\u001b[0;34m)\u001b[0m\u001b[0;34m)\u001b[0m\u001b[0;34m)\u001b[0m\u001b[0;34m\u001b[0m\u001b[0;34m\u001b[0m\u001b[0m\n\u001b[0m",
            "\u001b[0;32m/usr/local/lib/python3.10/dist-packages/pandas/core/frame.py\u001b[0m in \u001b[0;36m__init__\u001b[0;34m(self, data, index, columns, dtype, copy)\u001b[0m\n\u001b[1;32m    720\u001b[0m                 )\n\u001b[1;32m    721\u001b[0m             \u001b[0;32melse\u001b[0m\u001b[0;34m:\u001b[0m\u001b[0;34m\u001b[0m\u001b[0;34m\u001b[0m\u001b[0m\n\u001b[0;32m--> 722\u001b[0;31m                 mgr = ndarray_to_mgr(\n\u001b[0m\u001b[1;32m    723\u001b[0m                     \u001b[0mdata\u001b[0m\u001b[0;34m,\u001b[0m\u001b[0;34m\u001b[0m\u001b[0;34m\u001b[0m\u001b[0m\n\u001b[1;32m    724\u001b[0m                     \u001b[0mindex\u001b[0m\u001b[0;34m,\u001b[0m\u001b[0;34m\u001b[0m\u001b[0;34m\u001b[0m\u001b[0m\n",
            "\u001b[0;32m/usr/local/lib/python3.10/dist-packages/pandas/core/internals/construction.py\u001b[0m in \u001b[0;36mndarray_to_mgr\u001b[0;34m(values, index, columns, dtype, copy, typ)\u001b[0m\n\u001b[1;32m    327\u001b[0m         \u001b[0;31m# by definition an array here\u001b[0m\u001b[0;34m\u001b[0m\u001b[0;34m\u001b[0m\u001b[0m\n\u001b[1;32m    328\u001b[0m         \u001b[0;31m# the dtypes will be coerced to a single dtype\u001b[0m\u001b[0;34m\u001b[0m\u001b[0;34m\u001b[0m\u001b[0m\n\u001b[0;32m--> 329\u001b[0;31m         \u001b[0mvalues\u001b[0m \u001b[0;34m=\u001b[0m \u001b[0m_prep_ndarraylike\u001b[0m\u001b[0;34m(\u001b[0m\u001b[0mvalues\u001b[0m\u001b[0;34m,\u001b[0m \u001b[0mcopy\u001b[0m\u001b[0;34m=\u001b[0m\u001b[0mcopy_on_sanitize\u001b[0m\u001b[0;34m)\u001b[0m\u001b[0;34m\u001b[0m\u001b[0;34m\u001b[0m\u001b[0m\n\u001b[0m\u001b[1;32m    330\u001b[0m \u001b[0;34m\u001b[0m\u001b[0m\n\u001b[1;32m    331\u001b[0m     \u001b[0;32mif\u001b[0m \u001b[0mdtype\u001b[0m \u001b[0;32mis\u001b[0m \u001b[0;32mnot\u001b[0m \u001b[0;32mNone\u001b[0m \u001b[0;32mand\u001b[0m \u001b[0;32mnot\u001b[0m \u001b[0mis_dtype_equal\u001b[0m\u001b[0;34m(\u001b[0m\u001b[0mvalues\u001b[0m\u001b[0;34m.\u001b[0m\u001b[0mdtype\u001b[0m\u001b[0;34m,\u001b[0m \u001b[0mdtype\u001b[0m\u001b[0;34m)\u001b[0m\u001b[0;34m:\u001b[0m\u001b[0;34m\u001b[0m\u001b[0;34m\u001b[0m\u001b[0m\n",
            "\u001b[0;32m/usr/local/lib/python3.10/dist-packages/pandas/core/internals/construction.py\u001b[0m in \u001b[0;36m_prep_ndarraylike\u001b[0;34m(values, copy)\u001b[0m\n\u001b[1;32m    581\u001b[0m         \u001b[0mvalues\u001b[0m \u001b[0;34m=\u001b[0m \u001b[0mvalues\u001b[0m\u001b[0;34m.\u001b[0m\u001b[0mreshape\u001b[0m\u001b[0;34m(\u001b[0m\u001b[0;34m(\u001b[0m\u001b[0mvalues\u001b[0m\u001b[0;34m.\u001b[0m\u001b[0mshape\u001b[0m\u001b[0;34m[\u001b[0m\u001b[0;36m0\u001b[0m\u001b[0;34m]\u001b[0m\u001b[0;34m,\u001b[0m \u001b[0;36m1\u001b[0m\u001b[0;34m)\u001b[0m\u001b[0;34m)\u001b[0m\u001b[0;34m\u001b[0m\u001b[0;34m\u001b[0m\u001b[0m\n\u001b[1;32m    582\u001b[0m     \u001b[0;32melif\u001b[0m \u001b[0mvalues\u001b[0m\u001b[0;34m.\u001b[0m\u001b[0mndim\u001b[0m \u001b[0;34m!=\u001b[0m \u001b[0;36m2\u001b[0m\u001b[0;34m:\u001b[0m\u001b[0;34m\u001b[0m\u001b[0;34m\u001b[0m\u001b[0m\n\u001b[0;32m--> 583\u001b[0;31m         \u001b[0;32mraise\u001b[0m \u001b[0mValueError\u001b[0m\u001b[0;34m(\u001b[0m\u001b[0;34mf\"Must pass 2-d input. shape={values.shape}\"\u001b[0m\u001b[0;34m)\u001b[0m\u001b[0;34m\u001b[0m\u001b[0;34m\u001b[0m\u001b[0m\n\u001b[0m\u001b[1;32m    584\u001b[0m \u001b[0;34m\u001b[0m\u001b[0m\n\u001b[1;32m    585\u001b[0m     \u001b[0;32mreturn\u001b[0m \u001b[0mvalues\u001b[0m\u001b[0;34m\u001b[0m\u001b[0;34m\u001b[0m\u001b[0m\n",
            "\u001b[0;31mValueError\u001b[0m: Must pass 2-d input. shape=(3, 3, 3)"
          ]
        }
      ]
    },
    {
      "cell_type": "code",
      "source": [
        "import pandas as pd\n",
        "\n",
        "pandas_dataframe = pd.DataFrame({'이름':['홍길동','강감찬'],'국어':[100,95],'영어':[90,95]})\n",
        "print('pandas 데이터프레임\\n',pandas_dataframe)\n",
        "\n",
        "print('데이터프레임의 덧셈\\n',pandas_dataframe + 3)\n",
        "print('데이터프레임의 뺄셈\\n',pandas_dataframe - 3)\n",
        "print('데이터프레임의 곱셈\\n',pandas_dataframe * 3)\n",
        "print('데이터프레임의 나눗셈\\n',pandas_dataframe / 3)\n",
        "print('데이터프레임의 자승\\n',pandas_dataframe ** 3)"
      ],
      "metadata": {
        "colab": {
          "base_uri": "https://localhost:8080/",
          "height": 546
        },
        "id": "HYxy6-HUB8uU",
        "outputId": "1f752569-aacd-433a-ba19-80c34a160f41"
      },
      "execution_count": null,
      "outputs": [
        {
          "output_type": "stream",
          "name": "stdout",
          "text": [
            "pandas 데이터프레임\n",
            "     이름   국어  영어\n",
            "0  홍길동  100  90\n",
            "1  강감찬   95  95\n"
          ]
        },
        {
          "output_type": "error",
          "ename": "TypeError",
          "evalue": "ignored",
          "traceback": [
            "\u001b[0;31m---------------------------------------------------------------------------\u001b[0m",
            "\u001b[0;31mTypeError\u001b[0m                                 Traceback (most recent call last)",
            "\u001b[0;32m/usr/local/lib/python3.10/dist-packages/pandas/core/ops/array_ops.py\u001b[0m in \u001b[0;36m_na_arithmetic_op\u001b[0;34m(left, right, op, is_cmp)\u001b[0m\n\u001b[1;32m    164\u001b[0m     \u001b[0;32mtry\u001b[0m\u001b[0;34m:\u001b[0m\u001b[0;34m\u001b[0m\u001b[0;34m\u001b[0m\u001b[0m\n\u001b[0;32m--> 165\u001b[0;31m         \u001b[0mresult\u001b[0m \u001b[0;34m=\u001b[0m \u001b[0mfunc\u001b[0m\u001b[0;34m(\u001b[0m\u001b[0mleft\u001b[0m\u001b[0;34m,\u001b[0m \u001b[0mright\u001b[0m\u001b[0;34m)\u001b[0m\u001b[0;34m\u001b[0m\u001b[0;34m\u001b[0m\u001b[0m\n\u001b[0m\u001b[1;32m    166\u001b[0m     \u001b[0;32mexcept\u001b[0m \u001b[0mTypeError\u001b[0m\u001b[0;34m:\u001b[0m\u001b[0;34m\u001b[0m\u001b[0;34m\u001b[0m\u001b[0m\n",
            "\u001b[0;32m/usr/local/lib/python3.10/dist-packages/pandas/core/computation/expressions.py\u001b[0m in \u001b[0;36mevaluate\u001b[0;34m(op, a, b, use_numexpr)\u001b[0m\n\u001b[1;32m    240\u001b[0m             \u001b[0;31m# error: \"None\" not callable\u001b[0m\u001b[0;34m\u001b[0m\u001b[0;34m\u001b[0m\u001b[0m\n\u001b[0;32m--> 241\u001b[0;31m             \u001b[0;32mreturn\u001b[0m \u001b[0m_evaluate\u001b[0m\u001b[0;34m(\u001b[0m\u001b[0mop\u001b[0m\u001b[0;34m,\u001b[0m \u001b[0mop_str\u001b[0m\u001b[0;34m,\u001b[0m \u001b[0ma\u001b[0m\u001b[0;34m,\u001b[0m \u001b[0mb\u001b[0m\u001b[0;34m)\u001b[0m  \u001b[0;31m# type: ignore[misc]\u001b[0m\u001b[0;34m\u001b[0m\u001b[0;34m\u001b[0m\u001b[0m\n\u001b[0m\u001b[1;32m    242\u001b[0m     \u001b[0;32mreturn\u001b[0m \u001b[0m_evaluate_standard\u001b[0m\u001b[0;34m(\u001b[0m\u001b[0mop\u001b[0m\u001b[0;34m,\u001b[0m \u001b[0mop_str\u001b[0m\u001b[0;34m,\u001b[0m \u001b[0ma\u001b[0m\u001b[0;34m,\u001b[0m \u001b[0mb\u001b[0m\u001b[0;34m)\u001b[0m\u001b[0;34m\u001b[0m\u001b[0;34m\u001b[0m\u001b[0m\n",
            "\u001b[0;32m/usr/local/lib/python3.10/dist-packages/pandas/core/computation/expressions.py\u001b[0m in \u001b[0;36m_evaluate_numexpr\u001b[0;34m(op, op_str, a, b)\u001b[0m\n\u001b[1;32m    128\u001b[0m     \u001b[0;32mif\u001b[0m \u001b[0mresult\u001b[0m \u001b[0;32mis\u001b[0m \u001b[0;32mNone\u001b[0m\u001b[0;34m:\u001b[0m\u001b[0;34m\u001b[0m\u001b[0;34m\u001b[0m\u001b[0m\n\u001b[0;32m--> 129\u001b[0;31m         \u001b[0mresult\u001b[0m \u001b[0;34m=\u001b[0m \u001b[0m_evaluate_standard\u001b[0m\u001b[0;34m(\u001b[0m\u001b[0mop\u001b[0m\u001b[0;34m,\u001b[0m \u001b[0mop_str\u001b[0m\u001b[0;34m,\u001b[0m \u001b[0ma\u001b[0m\u001b[0;34m,\u001b[0m \u001b[0mb\u001b[0m\u001b[0;34m)\u001b[0m\u001b[0;34m\u001b[0m\u001b[0;34m\u001b[0m\u001b[0m\n\u001b[0m\u001b[1;32m    130\u001b[0m \u001b[0;34m\u001b[0m\u001b[0m\n",
            "\u001b[0;32m/usr/local/lib/python3.10/dist-packages/pandas/core/computation/expressions.py\u001b[0m in \u001b[0;36m_evaluate_standard\u001b[0;34m(op, op_str, a, b)\u001b[0m\n\u001b[1;32m     69\u001b[0m         \u001b[0m_store_test_result\u001b[0m\u001b[0;34m(\u001b[0m\u001b[0;32mFalse\u001b[0m\u001b[0;34m)\u001b[0m\u001b[0;34m\u001b[0m\u001b[0;34m\u001b[0m\u001b[0m\n\u001b[0;32m---> 70\u001b[0;31m     \u001b[0;32mreturn\u001b[0m \u001b[0mop\u001b[0m\u001b[0;34m(\u001b[0m\u001b[0ma\u001b[0m\u001b[0;34m,\u001b[0m \u001b[0mb\u001b[0m\u001b[0;34m)\u001b[0m\u001b[0;34m\u001b[0m\u001b[0;34m\u001b[0m\u001b[0m\n\u001b[0m\u001b[1;32m     71\u001b[0m \u001b[0;34m\u001b[0m\u001b[0m\n",
            "\u001b[0;31mTypeError\u001b[0m: can only concatenate str (not \"int\") to str",
            "\nDuring handling of the above exception, another exception occurred:\n",
            "\u001b[0;31mTypeError\u001b[0m                                 Traceback (most recent call last)",
            "\u001b[0;32m<ipython-input-13-e32db3dbc457>\u001b[0m in \u001b[0;36m<cell line: 6>\u001b[0;34m()\u001b[0m\n\u001b[1;32m      4\u001b[0m \u001b[0mprint\u001b[0m\u001b[0;34m(\u001b[0m\u001b[0;34m'pandas 데이터프레임\\n'\u001b[0m\u001b[0;34m,\u001b[0m\u001b[0mpandas_dataframe\u001b[0m\u001b[0;34m)\u001b[0m\u001b[0;34m\u001b[0m\u001b[0;34m\u001b[0m\u001b[0m\n\u001b[1;32m      5\u001b[0m \u001b[0;34m\u001b[0m\u001b[0m\n\u001b[0;32m----> 6\u001b[0;31m \u001b[0mprint\u001b[0m\u001b[0;34m(\u001b[0m\u001b[0;34m'데이터프레임의 덧셈\\n'\u001b[0m\u001b[0;34m,\u001b[0m\u001b[0mpandas_dataframe\u001b[0m \u001b[0;34m+\u001b[0m \u001b[0;36m3\u001b[0m\u001b[0;34m)\u001b[0m\u001b[0;34m\u001b[0m\u001b[0;34m\u001b[0m\u001b[0m\n\u001b[0m\u001b[1;32m      7\u001b[0m \u001b[0mprint\u001b[0m\u001b[0;34m(\u001b[0m\u001b[0;34m'데이터프레임의 뺄셈\\n'\u001b[0m\u001b[0;34m,\u001b[0m\u001b[0mpandas_dataframe\u001b[0m \u001b[0;34m-\u001b[0m \u001b[0;36m3\u001b[0m\u001b[0;34m)\u001b[0m\u001b[0;34m\u001b[0m\u001b[0;34m\u001b[0m\u001b[0m\n\u001b[1;32m      8\u001b[0m \u001b[0mprint\u001b[0m\u001b[0;34m(\u001b[0m\u001b[0;34m'데이터프레임의 곱셈\\n'\u001b[0m\u001b[0;34m,\u001b[0m\u001b[0mpandas_dataframe\u001b[0m \u001b[0;34m*\u001b[0m \u001b[0;36m3\u001b[0m\u001b[0;34m)\u001b[0m\u001b[0;34m\u001b[0m\u001b[0;34m\u001b[0m\u001b[0m\n",
            "\u001b[0;32m/usr/local/lib/python3.10/dist-packages/pandas/core/ops/common.py\u001b[0m in \u001b[0;36mnew_method\u001b[0;34m(self, other)\u001b[0m\n\u001b[1;32m     70\u001b[0m         \u001b[0mother\u001b[0m \u001b[0;34m=\u001b[0m \u001b[0mitem_from_zerodim\u001b[0m\u001b[0;34m(\u001b[0m\u001b[0mother\u001b[0m\u001b[0;34m)\u001b[0m\u001b[0;34m\u001b[0m\u001b[0;34m\u001b[0m\u001b[0m\n\u001b[1;32m     71\u001b[0m \u001b[0;34m\u001b[0m\u001b[0m\n\u001b[0;32m---> 72\u001b[0;31m         \u001b[0;32mreturn\u001b[0m \u001b[0mmethod\u001b[0m\u001b[0;34m(\u001b[0m\u001b[0mself\u001b[0m\u001b[0;34m,\u001b[0m \u001b[0mother\u001b[0m\u001b[0;34m)\u001b[0m\u001b[0;34m\u001b[0m\u001b[0;34m\u001b[0m\u001b[0m\n\u001b[0m\u001b[1;32m     73\u001b[0m \u001b[0;34m\u001b[0m\u001b[0m\n\u001b[1;32m     74\u001b[0m     \u001b[0;32mreturn\u001b[0m \u001b[0mnew_method\u001b[0m\u001b[0;34m\u001b[0m\u001b[0;34m\u001b[0m\u001b[0m\n",
            "\u001b[0;32m/usr/local/lib/python3.10/dist-packages/pandas/core/arraylike.py\u001b[0m in \u001b[0;36m__add__\u001b[0;34m(self, other)\u001b[0m\n\u001b[1;32m    100\u001b[0m     \u001b[0;34m@\u001b[0m\u001b[0munpack_zerodim_and_defer\u001b[0m\u001b[0;34m(\u001b[0m\u001b[0;34m\"__add__\"\u001b[0m\u001b[0;34m)\u001b[0m\u001b[0;34m\u001b[0m\u001b[0;34m\u001b[0m\u001b[0m\n\u001b[1;32m    101\u001b[0m     \u001b[0;32mdef\u001b[0m \u001b[0m__add__\u001b[0m\u001b[0;34m(\u001b[0m\u001b[0mself\u001b[0m\u001b[0;34m,\u001b[0m \u001b[0mother\u001b[0m\u001b[0;34m)\u001b[0m\u001b[0;34m:\u001b[0m\u001b[0;34m\u001b[0m\u001b[0;34m\u001b[0m\u001b[0m\n\u001b[0;32m--> 102\u001b[0;31m         \u001b[0;32mreturn\u001b[0m \u001b[0mself\u001b[0m\u001b[0;34m.\u001b[0m\u001b[0m_arith_method\u001b[0m\u001b[0;34m(\u001b[0m\u001b[0mother\u001b[0m\u001b[0;34m,\u001b[0m \u001b[0moperator\u001b[0m\u001b[0;34m.\u001b[0m\u001b[0madd\u001b[0m\u001b[0;34m)\u001b[0m\u001b[0;34m\u001b[0m\u001b[0;34m\u001b[0m\u001b[0m\n\u001b[0m\u001b[1;32m    103\u001b[0m \u001b[0;34m\u001b[0m\u001b[0m\n\u001b[1;32m    104\u001b[0m     \u001b[0;34m@\u001b[0m\u001b[0munpack_zerodim_and_defer\u001b[0m\u001b[0;34m(\u001b[0m\u001b[0;34m\"__radd__\"\u001b[0m\u001b[0;34m)\u001b[0m\u001b[0;34m\u001b[0m\u001b[0;34m\u001b[0m\u001b[0m\n",
            "\u001b[0;32m/usr/local/lib/python3.10/dist-packages/pandas/core/frame.py\u001b[0m in \u001b[0;36m_arith_method\u001b[0;34m(self, other, op)\u001b[0m\n\u001b[1;32m   7592\u001b[0m         \u001b[0mself\u001b[0m\u001b[0;34m,\u001b[0m \u001b[0mother\u001b[0m \u001b[0;34m=\u001b[0m \u001b[0mops\u001b[0m\u001b[0;34m.\u001b[0m\u001b[0malign_method_FRAME\u001b[0m\u001b[0;34m(\u001b[0m\u001b[0mself\u001b[0m\u001b[0;34m,\u001b[0m \u001b[0mother\u001b[0m\u001b[0;34m,\u001b[0m \u001b[0maxis\u001b[0m\u001b[0;34m,\u001b[0m \u001b[0mflex\u001b[0m\u001b[0;34m=\u001b[0m\u001b[0;32mTrue\u001b[0m\u001b[0;34m,\u001b[0m \u001b[0mlevel\u001b[0m\u001b[0;34m=\u001b[0m\u001b[0;32mNone\u001b[0m\u001b[0;34m)\u001b[0m\u001b[0;34m\u001b[0m\u001b[0;34m\u001b[0m\u001b[0m\n\u001b[1;32m   7593\u001b[0m \u001b[0;34m\u001b[0m\u001b[0m\n\u001b[0;32m-> 7594\u001b[0;31m         \u001b[0mnew_data\u001b[0m \u001b[0;34m=\u001b[0m \u001b[0mself\u001b[0m\u001b[0;34m.\u001b[0m\u001b[0m_dispatch_frame_op\u001b[0m\u001b[0;34m(\u001b[0m\u001b[0mother\u001b[0m\u001b[0;34m,\u001b[0m \u001b[0mop\u001b[0m\u001b[0;34m,\u001b[0m \u001b[0maxis\u001b[0m\u001b[0;34m=\u001b[0m\u001b[0maxis\u001b[0m\u001b[0;34m)\u001b[0m\u001b[0;34m\u001b[0m\u001b[0;34m\u001b[0m\u001b[0m\n\u001b[0m\u001b[1;32m   7595\u001b[0m         \u001b[0;32mreturn\u001b[0m \u001b[0mself\u001b[0m\u001b[0;34m.\u001b[0m\u001b[0m_construct_result\u001b[0m\u001b[0;34m(\u001b[0m\u001b[0mnew_data\u001b[0m\u001b[0;34m)\u001b[0m\u001b[0;34m\u001b[0m\u001b[0;34m\u001b[0m\u001b[0m\n\u001b[1;32m   7596\u001b[0m \u001b[0;34m\u001b[0m\u001b[0m\n",
            "\u001b[0;32m/usr/local/lib/python3.10/dist-packages/pandas/core/frame.py\u001b[0m in \u001b[0;36m_dispatch_frame_op\u001b[0;34m(self, right, func, axis)\u001b[0m\n\u001b[1;32m   7619\u001b[0m             \u001b[0;31m# i.e. scalar, faster than checking np.ndim(right) == 0\u001b[0m\u001b[0;34m\u001b[0m\u001b[0;34m\u001b[0m\u001b[0m\n\u001b[1;32m   7620\u001b[0m             \u001b[0;32mwith\u001b[0m \u001b[0mnp\u001b[0m\u001b[0;34m.\u001b[0m\u001b[0merrstate\u001b[0m\u001b[0;34m(\u001b[0m\u001b[0mall\u001b[0m\u001b[0;34m=\u001b[0m\u001b[0;34m\"ignore\"\u001b[0m\u001b[0;34m)\u001b[0m\u001b[0;34m:\u001b[0m\u001b[0;34m\u001b[0m\u001b[0;34m\u001b[0m\u001b[0m\n\u001b[0;32m-> 7621\u001b[0;31m                 \u001b[0mbm\u001b[0m \u001b[0;34m=\u001b[0m \u001b[0mself\u001b[0m\u001b[0;34m.\u001b[0m\u001b[0m_mgr\u001b[0m\u001b[0;34m.\u001b[0m\u001b[0mapply\u001b[0m\u001b[0;34m(\u001b[0m\u001b[0marray_op\u001b[0m\u001b[0;34m,\u001b[0m \u001b[0mright\u001b[0m\u001b[0;34m=\u001b[0m\u001b[0mright\u001b[0m\u001b[0;34m)\u001b[0m\u001b[0;34m\u001b[0m\u001b[0;34m\u001b[0m\u001b[0m\n\u001b[0m\u001b[1;32m   7622\u001b[0m             \u001b[0;32mreturn\u001b[0m \u001b[0mself\u001b[0m\u001b[0;34m.\u001b[0m\u001b[0m_constructor\u001b[0m\u001b[0;34m(\u001b[0m\u001b[0mbm\u001b[0m\u001b[0;34m)\u001b[0m\u001b[0;34m\u001b[0m\u001b[0;34m\u001b[0m\u001b[0m\n\u001b[1;32m   7623\u001b[0m \u001b[0;34m\u001b[0m\u001b[0m\n",
            "\u001b[0;32m/usr/local/lib/python3.10/dist-packages/pandas/core/internals/managers.py\u001b[0m in \u001b[0;36mapply\u001b[0;34m(self, f, align_keys, ignore_failures, **kwargs)\u001b[0m\n\u001b[1;32m    348\u001b[0m             \u001b[0;32mtry\u001b[0m\u001b[0;34m:\u001b[0m\u001b[0;34m\u001b[0m\u001b[0;34m\u001b[0m\u001b[0m\n\u001b[1;32m    349\u001b[0m                 \u001b[0;32mif\u001b[0m \u001b[0mcallable\u001b[0m\u001b[0;34m(\u001b[0m\u001b[0mf\u001b[0m\u001b[0;34m)\u001b[0m\u001b[0;34m:\u001b[0m\u001b[0;34m\u001b[0m\u001b[0;34m\u001b[0m\u001b[0m\n\u001b[0;32m--> 350\u001b[0;31m                     \u001b[0mapplied\u001b[0m \u001b[0;34m=\u001b[0m \u001b[0mb\u001b[0m\u001b[0;34m.\u001b[0m\u001b[0mapply\u001b[0m\u001b[0;34m(\u001b[0m\u001b[0mf\u001b[0m\u001b[0;34m,\u001b[0m \u001b[0;34m**\u001b[0m\u001b[0mkwargs\u001b[0m\u001b[0;34m)\u001b[0m\u001b[0;34m\u001b[0m\u001b[0;34m\u001b[0m\u001b[0m\n\u001b[0m\u001b[1;32m    351\u001b[0m                 \u001b[0;32melse\u001b[0m\u001b[0;34m:\u001b[0m\u001b[0;34m\u001b[0m\u001b[0;34m\u001b[0m\u001b[0m\n\u001b[1;32m    352\u001b[0m                     \u001b[0mapplied\u001b[0m \u001b[0;34m=\u001b[0m \u001b[0mgetattr\u001b[0m\u001b[0;34m(\u001b[0m\u001b[0mb\u001b[0m\u001b[0;34m,\u001b[0m \u001b[0mf\u001b[0m\u001b[0;34m)\u001b[0m\u001b[0;34m(\u001b[0m\u001b[0;34m**\u001b[0m\u001b[0mkwargs\u001b[0m\u001b[0;34m)\u001b[0m\u001b[0;34m\u001b[0m\u001b[0;34m\u001b[0m\u001b[0m\n",
            "\u001b[0;32m/usr/local/lib/python3.10/dist-packages/pandas/core/internals/blocks.py\u001b[0m in \u001b[0;36mapply\u001b[0;34m(self, func, **kwargs)\u001b[0m\n\u001b[1;32m    349\u001b[0m         \u001b[0mone\u001b[0m\u001b[0;34m\u001b[0m\u001b[0;34m\u001b[0m\u001b[0m\n\u001b[1;32m    350\u001b[0m         \"\"\"\n\u001b[0;32m--> 351\u001b[0;31m         \u001b[0mresult\u001b[0m \u001b[0;34m=\u001b[0m \u001b[0mfunc\u001b[0m\u001b[0;34m(\u001b[0m\u001b[0mself\u001b[0m\u001b[0;34m.\u001b[0m\u001b[0mvalues\u001b[0m\u001b[0;34m,\u001b[0m \u001b[0;34m**\u001b[0m\u001b[0mkwargs\u001b[0m\u001b[0;34m)\u001b[0m\u001b[0;34m\u001b[0m\u001b[0;34m\u001b[0m\u001b[0m\n\u001b[0m\u001b[1;32m    352\u001b[0m \u001b[0;34m\u001b[0m\u001b[0m\n\u001b[1;32m    353\u001b[0m         \u001b[0;32mreturn\u001b[0m \u001b[0mself\u001b[0m\u001b[0;34m.\u001b[0m\u001b[0m_split_op_result\u001b[0m\u001b[0;34m(\u001b[0m\u001b[0mresult\u001b[0m\u001b[0;34m)\u001b[0m\u001b[0;34m\u001b[0m\u001b[0;34m\u001b[0m\u001b[0m\n",
            "\u001b[0;32m/usr/local/lib/python3.10/dist-packages/pandas/core/ops/array_ops.py\u001b[0m in \u001b[0;36marithmetic_op\u001b[0;34m(left, right, op)\u001b[0m\n\u001b[1;32m    224\u001b[0m         \u001b[0;31m# error: Argument 1 to \"_na_arithmetic_op\" has incompatible type\u001b[0m\u001b[0;34m\u001b[0m\u001b[0;34m\u001b[0m\u001b[0m\n\u001b[1;32m    225\u001b[0m         \u001b[0;31m# \"Union[ExtensionArray, ndarray[Any, Any]]\"; expected \"ndarray[Any, Any]\"\u001b[0m\u001b[0;34m\u001b[0m\u001b[0;34m\u001b[0m\u001b[0m\n\u001b[0;32m--> 226\u001b[0;31m         \u001b[0mres_values\u001b[0m \u001b[0;34m=\u001b[0m \u001b[0m_na_arithmetic_op\u001b[0m\u001b[0;34m(\u001b[0m\u001b[0mleft\u001b[0m\u001b[0;34m,\u001b[0m \u001b[0mright\u001b[0m\u001b[0;34m,\u001b[0m \u001b[0mop\u001b[0m\u001b[0;34m)\u001b[0m  \u001b[0;31m# type: ignore[arg-type]\u001b[0m\u001b[0;34m\u001b[0m\u001b[0;34m\u001b[0m\u001b[0m\n\u001b[0m\u001b[1;32m    227\u001b[0m \u001b[0;34m\u001b[0m\u001b[0m\n\u001b[1;32m    228\u001b[0m     \u001b[0;32mreturn\u001b[0m \u001b[0mres_values\u001b[0m\u001b[0;34m\u001b[0m\u001b[0;34m\u001b[0m\u001b[0m\n",
            "\u001b[0;32m/usr/local/lib/python3.10/dist-packages/pandas/core/ops/array_ops.py\u001b[0m in \u001b[0;36m_na_arithmetic_op\u001b[0;34m(left, right, op, is_cmp)\u001b[0m\n\u001b[1;32m    170\u001b[0m             \u001b[0;31m# Don't do this for comparisons, as that will handle complex numbers\u001b[0m\u001b[0;34m\u001b[0m\u001b[0;34m\u001b[0m\u001b[0m\n\u001b[1;32m    171\u001b[0m             \u001b[0;31m#  incorrectly, see GH#32047\u001b[0m\u001b[0;34m\u001b[0m\u001b[0;34m\u001b[0m\u001b[0m\n\u001b[0;32m--> 172\u001b[0;31m             \u001b[0mresult\u001b[0m \u001b[0;34m=\u001b[0m \u001b[0m_masked_arith_op\u001b[0m\u001b[0;34m(\u001b[0m\u001b[0mleft\u001b[0m\u001b[0;34m,\u001b[0m \u001b[0mright\u001b[0m\u001b[0;34m,\u001b[0m \u001b[0mop\u001b[0m\u001b[0;34m)\u001b[0m\u001b[0;34m\u001b[0m\u001b[0;34m\u001b[0m\u001b[0m\n\u001b[0m\u001b[1;32m    173\u001b[0m         \u001b[0;32melse\u001b[0m\u001b[0;34m:\u001b[0m\u001b[0;34m\u001b[0m\u001b[0;34m\u001b[0m\u001b[0m\n\u001b[1;32m    174\u001b[0m             \u001b[0;32mraise\u001b[0m\u001b[0;34m\u001b[0m\u001b[0;34m\u001b[0m\u001b[0m\n",
            "\u001b[0;32m/usr/local/lib/python3.10/dist-packages/pandas/core/ops/array_ops.py\u001b[0m in \u001b[0;36m_masked_arith_op\u001b[0;34m(x, y, op)\u001b[0m\n\u001b[1;32m    127\u001b[0m \u001b[0;34m\u001b[0m\u001b[0m\n\u001b[1;32m    128\u001b[0m         \u001b[0;32mif\u001b[0m \u001b[0mmask\u001b[0m\u001b[0;34m.\u001b[0m\u001b[0many\u001b[0m\u001b[0;34m(\u001b[0m\u001b[0;34m)\u001b[0m\u001b[0;34m:\u001b[0m\u001b[0;34m\u001b[0m\u001b[0;34m\u001b[0m\u001b[0m\n\u001b[0;32m--> 129\u001b[0;31m             \u001b[0mresult\u001b[0m\u001b[0;34m[\u001b[0m\u001b[0mmask\u001b[0m\u001b[0;34m]\u001b[0m \u001b[0;34m=\u001b[0m \u001b[0mop\u001b[0m\u001b[0;34m(\u001b[0m\u001b[0mxrav\u001b[0m\u001b[0;34m[\u001b[0m\u001b[0mmask\u001b[0m\u001b[0;34m]\u001b[0m\u001b[0;34m,\u001b[0m \u001b[0my\u001b[0m\u001b[0;34m)\u001b[0m\u001b[0;34m\u001b[0m\u001b[0;34m\u001b[0m\u001b[0m\n\u001b[0m\u001b[1;32m    130\u001b[0m \u001b[0;34m\u001b[0m\u001b[0m\n\u001b[1;32m    131\u001b[0m     \u001b[0mnp\u001b[0m\u001b[0;34m.\u001b[0m\u001b[0mputmask\u001b[0m\u001b[0;34m(\u001b[0m\u001b[0mresult\u001b[0m\u001b[0;34m,\u001b[0m \u001b[0;34m~\u001b[0m\u001b[0mmask\u001b[0m\u001b[0;34m,\u001b[0m \u001b[0mnp\u001b[0m\u001b[0;34m.\u001b[0m\u001b[0mnan\u001b[0m\u001b[0;34m)\u001b[0m\u001b[0;34m\u001b[0m\u001b[0;34m\u001b[0m\u001b[0m\n",
            "\u001b[0;31mTypeError\u001b[0m: can only concatenate str (not \"int\") to str"
          ]
        }
      ]
    },
    {
      "cell_type": "code",
      "source": [
        "print('시리즈와 스칼라 연산\\n',pandas_dataframe['국어'] * 0.1)\n",
        "print('시리즈간의 연산\\n',pandas_dataframe['국어'] + pandas_dataframe['영어'])\n",
        "print('시리즈를 대상으로 함수 호출:', sum(pandas_dataframe['국어']))"
      ],
      "metadata": {
        "colab": {
          "base_uri": "https://localhost:8080/"
        },
        "id": "z9KkJe5XFnvK",
        "outputId": "13d66150-7df0-4b4c-c37d-409f7e48c651"
      },
      "execution_count": null,
      "outputs": [
        {
          "output_type": "stream",
          "name": "stdout",
          "text": [
            "시리즈와 스칼라 연산\n",
            " 0    10.0\n",
            "1     9.5\n",
            "Name: 국어, dtype: float64\n",
            "시리즈간의 연산\n",
            " 0    190\n",
            "1    190\n",
            "dtype: int64\n",
            "시리즈를 대상으로 함수 호출: 195\n"
          ]
        }
      ]
    },
    {
      "cell_type": "code",
      "source": [
        "import pandas as pd\n",
        "\n",
        "pandas_dataframe = pd.DataFrame({'국어':[100,95],'영어':[90,95]})\n",
        "print('pandas 데이터프레임\\n',pandas_dataframe)\n",
        "\n",
        "print('데이터프레임과 스칼라 덧셈\\n',pandas_dataframe + 3)\n",
        "print('데이터프레임과 스칼라 뺄셈\\n',pandas_dataframe - 3)\n",
        "print('데이터프레임과 스칼라 곱셈\\n',pandas_dataframe * 3)\n",
        "print('데이터프레임과 스칼라 나눗셈\\n',pandas_dataframe / 3)\n",
        "print('데이터프레임과 스칼라 자승\\n',pandas_dataframe ** 3)"
      ],
      "metadata": {
        "colab": {
          "base_uri": "https://localhost:8080/"
        },
        "id": "oila05QVCjPN",
        "outputId": "642f2ab5-04e4-4c3f-b9c7-2197aaee04e3"
      },
      "execution_count": null,
      "outputs": [
        {
          "output_type": "stream",
          "name": "stdout",
          "text": [
            "pandas 데이터프레임\n",
            "     국어  영어\n",
            "0  100  90\n",
            "1   95  95\n",
            "데이터프레임과 스칼라 덧셈\n",
            "     국어  영어\n",
            "0  103  93\n",
            "1   98  98\n",
            "데이터프레임과 스칼라 뺄셈\n",
            "    국어  영어\n",
            "0  97  87\n",
            "1  92  92\n",
            "데이터프레임과 스칼라 곱셈\n",
            "     국어   영어\n",
            "0  300  270\n",
            "1  285  285\n",
            "데이터프레임과 스칼라 나눗셈\n",
            "           국어         영어\n",
            "0  33.333333  30.000000\n",
            "1  31.666667  31.666667\n",
            "데이터프레임과 스칼라 자승\n",
            "         국어      영어\n",
            "0  1000000  729000\n",
            "1   857375  857375\n"
          ]
        }
      ]
    },
    {
      "cell_type": "code",
      "source": [
        "print('데이터프레임간 덧셈\\n',pandas_dataframe + pandas_dataframe)\n",
        "print('데이터프레임간 뺄셈\\n',pandas_dataframe - pandas_dataframe)\n",
        "print('데이터프레임간 곱셈\\n',pandas_dataframe * pandas_dataframe)\n",
        "print('데이터프레임간 나눗셈\\n',pandas_dataframe / pandas_dataframe)"
      ],
      "metadata": {
        "colab": {
          "base_uri": "https://localhost:8080/"
        },
        "id": "Bqrp3FeEIBle",
        "outputId": "147819c8-3f64-4a85-9a92-9ee912fbc33e"
      },
      "execution_count": null,
      "outputs": [
        {
          "output_type": "stream",
          "name": "stdout",
          "text": [
            "데이터프레임간 덧셈\n",
            "     국어   영어\n",
            "0  200  180\n",
            "1  190  190\n",
            "데이터프레임간 뺄셈\n",
            "    국어  영어\n",
            "0   0   0\n",
            "1   0   0\n",
            "데이터프레임간 곱셈\n",
            "       국어    영어\n",
            "0  10000  8100\n",
            "1   9025  9025\n",
            "데이터프레임간 나눗셈\n",
            "     국어   영어\n",
            "0  1.0  1.0\n",
            "1  1.0  1.0\n"
          ]
        }
      ]
    },
    {
      "cell_type": "code",
      "source": [
        "print('데이터프레임간 행렬곱\\n',pandas_dataframe @ pandas_dataframe)"
      ],
      "metadata": {
        "colab": {
          "base_uri": "https://localhost:8080/",
          "height": 341
        },
        "id": "w3-BtqDXIhlp",
        "outputId": "010f4768-4c7d-491e-b0d2-542db7ffde3b"
      },
      "execution_count": null,
      "outputs": [
        {
          "output_type": "error",
          "ename": "ValueError",
          "evalue": "ignored",
          "traceback": [
            "\u001b[0;31m---------------------------------------------------------------------------\u001b[0m",
            "\u001b[0;31mValueError\u001b[0m                                Traceback (most recent call last)",
            "\u001b[0;32m<ipython-input-17-680f2d2bae18>\u001b[0m in \u001b[0;36m<cell line: 1>\u001b[0;34m()\u001b[0m\n\u001b[0;32m----> 1\u001b[0;31m \u001b[0mprint\u001b[0m\u001b[0;34m(\u001b[0m\u001b[0;34m'데이터프레임간 행렬곱\\n'\u001b[0m\u001b[0;34m,\u001b[0m\u001b[0mpandas_dataframe\u001b[0m \u001b[0;34m@\u001b[0m \u001b[0mpandas_dataframe\u001b[0m\u001b[0;34m)\u001b[0m\u001b[0;34m\u001b[0m\u001b[0;34m\u001b[0m\u001b[0m\n\u001b[0m",
            "\u001b[0;32m/usr/local/lib/python3.10/dist-packages/pandas/core/frame.py\u001b[0m in \u001b[0;36m__matmul__\u001b[0;34m(self, other)\u001b[0m\n\u001b[1;32m   1632\u001b[0m         \u001b[0mMatrix\u001b[0m \u001b[0mmultiplication\u001b[0m \u001b[0musing\u001b[0m \u001b[0mbinary\u001b[0m\u001b[0;31m \u001b[0m\u001b[0;31m`\u001b[0m\u001b[0;34m@\u001b[0m\u001b[0;31m`\u001b[0m \u001b[0moperator\u001b[0m \u001b[0;32min\u001b[0m \u001b[0mPython\u001b[0m\u001b[0;34m>=\u001b[0m\u001b[0;36m3.5\u001b[0m\u001b[0;34m.\u001b[0m\u001b[0;34m\u001b[0m\u001b[0;34m\u001b[0m\u001b[0m\n\u001b[1;32m   1633\u001b[0m         \"\"\"\n\u001b[0;32m-> 1634\u001b[0;31m         \u001b[0;32mreturn\u001b[0m \u001b[0mself\u001b[0m\u001b[0;34m.\u001b[0m\u001b[0mdot\u001b[0m\u001b[0;34m(\u001b[0m\u001b[0mother\u001b[0m\u001b[0;34m)\u001b[0m\u001b[0;34m\u001b[0m\u001b[0;34m\u001b[0m\u001b[0m\n\u001b[0m\u001b[1;32m   1635\u001b[0m \u001b[0;34m\u001b[0m\u001b[0m\n\u001b[1;32m   1636\u001b[0m     \u001b[0;32mdef\u001b[0m \u001b[0m__rmatmul__\u001b[0m\u001b[0;34m(\u001b[0m\u001b[0mself\u001b[0m\u001b[0;34m,\u001b[0m \u001b[0mother\u001b[0m\u001b[0;34m)\u001b[0m \u001b[0;34m->\u001b[0m \u001b[0mDataFrame\u001b[0m\u001b[0;34m:\u001b[0m\u001b[0;34m\u001b[0m\u001b[0;34m\u001b[0m\u001b[0m\n",
            "\u001b[0;32m/usr/local/lib/python3.10/dist-packages/pandas/core/frame.py\u001b[0m in \u001b[0;36mdot\u001b[0;34m(self, other)\u001b[0m\n\u001b[1;32m   1590\u001b[0m             \u001b[0mcommon\u001b[0m \u001b[0;34m=\u001b[0m \u001b[0mself\u001b[0m\u001b[0;34m.\u001b[0m\u001b[0mcolumns\u001b[0m\u001b[0;34m.\u001b[0m\u001b[0munion\u001b[0m\u001b[0;34m(\u001b[0m\u001b[0mother\u001b[0m\u001b[0;34m.\u001b[0m\u001b[0mindex\u001b[0m\u001b[0;34m)\u001b[0m\u001b[0;34m\u001b[0m\u001b[0;34m\u001b[0m\u001b[0m\n\u001b[1;32m   1591\u001b[0m             \u001b[0;32mif\u001b[0m \u001b[0mlen\u001b[0m\u001b[0;34m(\u001b[0m\u001b[0mcommon\u001b[0m\u001b[0;34m)\u001b[0m \u001b[0;34m>\u001b[0m \u001b[0mlen\u001b[0m\u001b[0;34m(\u001b[0m\u001b[0mself\u001b[0m\u001b[0;34m.\u001b[0m\u001b[0mcolumns\u001b[0m\u001b[0;34m)\u001b[0m \u001b[0;32mor\u001b[0m \u001b[0mlen\u001b[0m\u001b[0;34m(\u001b[0m\u001b[0mcommon\u001b[0m\u001b[0;34m)\u001b[0m \u001b[0;34m>\u001b[0m \u001b[0mlen\u001b[0m\u001b[0;34m(\u001b[0m\u001b[0mother\u001b[0m\u001b[0;34m.\u001b[0m\u001b[0mindex\u001b[0m\u001b[0;34m)\u001b[0m\u001b[0;34m:\u001b[0m\u001b[0;34m\u001b[0m\u001b[0;34m\u001b[0m\u001b[0m\n\u001b[0;32m-> 1592\u001b[0;31m                 \u001b[0;32mraise\u001b[0m \u001b[0mValueError\u001b[0m\u001b[0;34m(\u001b[0m\u001b[0;34m\"matrices are not aligned\"\u001b[0m\u001b[0;34m)\u001b[0m\u001b[0;34m\u001b[0m\u001b[0;34m\u001b[0m\u001b[0m\n\u001b[0m\u001b[1;32m   1593\u001b[0m \u001b[0;34m\u001b[0m\u001b[0m\n\u001b[1;32m   1594\u001b[0m             \u001b[0mleft\u001b[0m \u001b[0;34m=\u001b[0m \u001b[0mself\u001b[0m\u001b[0;34m.\u001b[0m\u001b[0mreindex\u001b[0m\u001b[0;34m(\u001b[0m\u001b[0mcolumns\u001b[0m\u001b[0;34m=\u001b[0m\u001b[0mcommon\u001b[0m\u001b[0;34m,\u001b[0m \u001b[0mcopy\u001b[0m\u001b[0;34m=\u001b[0m\u001b[0;32mFalse\u001b[0m\u001b[0;34m)\u001b[0m\u001b[0;34m\u001b[0m\u001b[0;34m\u001b[0m\u001b[0m\n",
            "\u001b[0;31mValueError\u001b[0m: matrices are not aligned"
          ]
        }
      ]
    },
    {
      "cell_type": "markdown",
      "source": [
        "\tnumpy 패키지의 공통 기능으로 이해하는 pandas"
      ],
      "metadata": {
        "id": "jrptP1LtiOjC"
      }
    },
    {
      "cell_type": "markdown",
      "source": [
        "형상 확인"
      ],
      "metadata": {
        "id": "zrSuT56BjMDX"
      }
    },
    {
      "cell_type": "code",
      "source": [
        "import pandas as pd\n",
        "\n",
        "pandas_dataframe = pd.DataFrame({'이름':['홍길동','강감찬'],'국어':[100,95],'영어':[90,95]})\n",
        "print('pandas 데이터프레임 길이:\\t',len(pandas_dataframe))\n",
        "print('pandas 시리즈 길이:\\t\\t',    len(pandas_dataframe['국어']))"
      ],
      "metadata": {
        "colab": {
          "base_uri": "https://localhost:8080/"
        },
        "id": "BPCEpjKrfV4L",
        "outputId": "31207843-4441-4756-dcc3-a22b68439bba"
      },
      "execution_count": null,
      "outputs": [
        {
          "output_type": "stream",
          "name": "stdout",
          "text": [
            "pandas 데이터프레임 길이:\t 2\n",
            "pandas 시리즈 길이:\t\t 2\n"
          ]
        }
      ]
    },
    {
      "cell_type": "code",
      "source": [
        "print('pandas 데이터프레임의 크기:',pandas_dataframe.size)\n",
        "print('pandas 데이터프레임의 형상:',pandas_dataframe.shape)\n",
        "print('pandas 데이터프레임의 형상:',pd.shape(pandas_dataframe))"
      ],
      "metadata": {
        "colab": {
          "base_uri": "https://localhost:8080/",
          "height": 391
        },
        "id": "e2cAX3_7SBgc",
        "outputId": "4220fdd0-32c5-439c-d96b-dd75d4e1582e"
      },
      "execution_count": null,
      "outputs": [
        {
          "output_type": "stream",
          "name": "stdout",
          "text": [
            "pandas 데이터프레임의 크기: 6\n",
            "pandas 데이터프레임의 형상: (2, 3)\n"
          ]
        },
        {
          "output_type": "error",
          "ename": "AttributeError",
          "evalue": "ignored",
          "traceback": [
            "\u001b[0;31m---------------------------------------------------------------------------\u001b[0m",
            "\u001b[0;31mAttributeError\u001b[0m                            Traceback (most recent call last)",
            "\u001b[0;32m<ipython-input-19-6bb765017c0d>\u001b[0m in \u001b[0;36m<cell line: 3>\u001b[0;34m()\u001b[0m\n\u001b[1;32m      1\u001b[0m \u001b[0mprint\u001b[0m\u001b[0;34m(\u001b[0m\u001b[0;34m'pandas 데이터프레임의 크기:'\u001b[0m\u001b[0;34m,\u001b[0m\u001b[0mpandas_dataframe\u001b[0m\u001b[0;34m.\u001b[0m\u001b[0msize\u001b[0m\u001b[0;34m)\u001b[0m\u001b[0;34m\u001b[0m\u001b[0;34m\u001b[0m\u001b[0m\n\u001b[1;32m      2\u001b[0m \u001b[0mprint\u001b[0m\u001b[0;34m(\u001b[0m\u001b[0;34m'pandas 데이터프레임의 형상:'\u001b[0m\u001b[0;34m,\u001b[0m\u001b[0mpandas_dataframe\u001b[0m\u001b[0;34m.\u001b[0m\u001b[0mshape\u001b[0m\u001b[0;34m)\u001b[0m\u001b[0;34m\u001b[0m\u001b[0;34m\u001b[0m\u001b[0m\n\u001b[0;32m----> 3\u001b[0;31m \u001b[0mprint\u001b[0m\u001b[0;34m(\u001b[0m\u001b[0;34m'pandas 데이터프레임의 형상:'\u001b[0m\u001b[0;34m,\u001b[0m\u001b[0mpd\u001b[0m\u001b[0;34m.\u001b[0m\u001b[0mshape\u001b[0m\u001b[0;34m(\u001b[0m\u001b[0mpandas_dataframe\u001b[0m\u001b[0;34m)\u001b[0m\u001b[0;34m)\u001b[0m\u001b[0;34m\u001b[0m\u001b[0;34m\u001b[0m\u001b[0m\n\u001b[0m",
            "\u001b[0;32m/usr/local/lib/python3.10/dist-packages/pandas/__init__.py\u001b[0m in \u001b[0;36m__getattr__\u001b[0;34m(name)\u001b[0m\n\u001b[1;32m    262\u001b[0m         \u001b[0;32mreturn\u001b[0m \u001b[0m_SparseArray\u001b[0m\u001b[0;34m\u001b[0m\u001b[0;34m\u001b[0m\u001b[0m\n\u001b[1;32m    263\u001b[0m \u001b[0;34m\u001b[0m\u001b[0m\n\u001b[0;32m--> 264\u001b[0;31m     \u001b[0;32mraise\u001b[0m \u001b[0mAttributeError\u001b[0m\u001b[0;34m(\u001b[0m\u001b[0;34mf\"module 'pandas' has no attribute '{name}'\"\u001b[0m\u001b[0;34m)\u001b[0m\u001b[0;34m\u001b[0m\u001b[0;34m\u001b[0m\u001b[0m\n\u001b[0m\u001b[1;32m    265\u001b[0m \u001b[0;34m\u001b[0m\u001b[0m\n\u001b[1;32m    266\u001b[0m \u001b[0;34m\u001b[0m\u001b[0m\n",
            "\u001b[0;31mAttributeError\u001b[0m: module 'pandas' has no attribute 'shape'"
          ]
        }
      ]
    },
    {
      "cell_type": "markdown",
      "source": [
        "조회"
      ],
      "metadata": {
        "id": "GTDNW2AkjBOp"
      }
    },
    {
      "cell_type": "code",
      "source": [
        "import pandas as pd\n",
        "\n",
        "pandas_dataframe = pd.DataFrame({'국어':[100,95,80,95,90,85],'영어':[90,95,100,70,75,100]})\n",
        "print('pandas 데이터프레임\\n',pandas_dataframe)\n",
        "\n",
        "print(\"열 첫 요소 :\", pandas_dataframe['국어'][0], pandas_dataframe['영어'][0])\n",
        "#print(\"열 마지막 요소 :\", pandas_dataframe['국어'][-1], pandas_dataframe['영어'][-1])\n",
        "print(\"국어 열 3~5번째 요소 :\\n\", pandas_dataframe['국어'][2:5])\n",
        "print(\"영어 열 1~5번째 요소 :\\n\", pandas_dataframe['영어'][:5])\n",
        "print(\"국어 열 5번째~마지막 요소 :\\n\", pandas_dataframe['국어'][4:])\n",
        "print(\"영어 열 2~5번째 요소 중 짝수번째 요소 :\\n\", pandas_dataframe['영어'][1:5:2])\n",
        "#print(\"국어 열 마지막에서 2~5번째 요소 중 짝수번째 요소 :\\n\", pandas_dataframe['국어'][-2:-5:-2])\n",
        "print(\"영어 열 전체 요소 중 홀수번째 요소 :\\n\", pandas_dataframe['영어'][::2])"
      ],
      "metadata": {
        "colab": {
          "base_uri": "https://localhost:8080/"
        },
        "id": "QZHYX05HMwQn",
        "outputId": "b0b50b4d-d4ec-4857-d899-30313690effd"
      },
      "execution_count": null,
      "outputs": [
        {
          "output_type": "stream",
          "name": "stdout",
          "text": [
            "pandas 데이터프레임\n",
            "     국어   영어\n",
            "0  100   90\n",
            "1   95   95\n",
            "2   80  100\n",
            "3   95   70\n",
            "4   90   75\n",
            "5   85  100\n",
            "열 첫 요소 : 100 90\n",
            "국어 열 3~5번째 요소 :\n",
            " 2    80\n",
            "3    95\n",
            "4    90\n",
            "Name: 국어, dtype: int64\n",
            "영어 열 1~5번째 요소 :\n",
            " 0     90\n",
            "1     95\n",
            "2    100\n",
            "3     70\n",
            "4     75\n",
            "Name: 영어, dtype: int64\n",
            "국어 열 5번째~마지막 요소 :\n",
            " 4    90\n",
            "5    85\n",
            "Name: 국어, dtype: int64\n",
            "영어 열 2~5번째 요소 중 짝수번째 요소 :\n",
            " 1    95\n",
            "3    70\n",
            "Name: 영어, dtype: int64\n",
            "영어 열 전체 요소 중 홀수번째 요소 :\n",
            " 0     90\n",
            "2    100\n",
            "4     75\n",
            "Name: 영어, dtype: int64\n"
          ]
        }
      ]
    },
    {
      "cell_type": "code",
      "source": [
        "print(\"열 마지막 요소 :\", pandas_dataframe['국어'].iloc[-1], pandas_dataframe['영어'].iloc[-1])\n",
        "print(\"국어 열 마지막에서 2~5번째 요소 중 짝수번째 요소 :\\n\", pandas_dataframe['국어'].iloc[-2:-5:-2])"
      ],
      "metadata": {
        "colab": {
          "base_uri": "https://localhost:8080/"
        },
        "id": "Bf7sWGm2X16O",
        "outputId": "24dde28f-ff2d-4645-f18e-07c73910cd01"
      },
      "execution_count": null,
      "outputs": [
        {
          "output_type": "stream",
          "name": "stdout",
          "text": [
            "열 마지막 요소 : 85 100\n",
            "국어 열 마지막에서 2~5번째 요소 중 짝수번째 요소 :\n",
            " 4    90\n",
            "2    80\n",
            "Name: 국어, dtype: int64\n"
          ]
        }
      ]
    },
    {
      "cell_type": "code",
      "source": [
        "print(\"1행 시리즈 :\\n\", pandas_dataframe.iloc[0])\n",
        "print(\"2~4행 시리즈 :\\n\", pandas_dataframe.iloc[1:4])\n",
        "print(\"마지막행 시리즈 :\\n\", pandas_dataframe.iloc[-1])"
      ],
      "metadata": {
        "colab": {
          "base_uri": "https://localhost:8080/"
        },
        "id": "t3Ha2MGpafPo",
        "outputId": "a5530929-3b07-4f06-e7e5-a9347fdf2fb7"
      },
      "execution_count": null,
      "outputs": [
        {
          "output_type": "stream",
          "name": "stdout",
          "text": [
            "1행 시리즈 :\n",
            " 국어    100\n",
            "영어     90\n",
            "Name: 0, dtype: int64\n",
            "2~4행 시리즈 :\n",
            "    국어   영어\n",
            "1  95   95\n",
            "2  80  100\n",
            "3  95   70\n",
            "마지막행 시리즈 :\n",
            " 국어     85\n",
            "영어    100\n",
            "Name: 5, dtype: int64\n"
          ]
        }
      ]
    },
    {
      "cell_type": "code",
      "source": [
        "import pandas as pd\n",
        "\n",
        "pandas_dataframe = pd.DataFrame({'국어':[100,95,80,95,90,85],\n",
        "                                 '영어':[90,95,100,70,75,100],\n",
        "                                 '수학':[50,60,70,80,90,100],\n",
        "                                 '과탐':[100,90,80,70,60,50],\n",
        "                                 '사탐':[99,88,77,66,55,44]})\n",
        "print('pandas 데이터프레임\\n',pandas_dataframe)\n",
        "\n",
        "print(\"1열 시리즈 :\\n\", pandas_dataframe.iloc[:,0])\n",
        "print(\"2~4열 시리즈 :\\n\", pandas_dataframe.iloc[:,1:4])\n",
        "print(\"마지막열 시리즈 :\\n\", pandas_dataframe.iloc[:,-1])"
      ],
      "metadata": {
        "colab": {
          "base_uri": "https://localhost:8080/"
        },
        "id": "1J2k9zbNggW-",
        "outputId": "cde8437a-11e3-49e9-c06a-0b483bf41854"
      },
      "execution_count": null,
      "outputs": [
        {
          "output_type": "stream",
          "name": "stdout",
          "text": [
            "pandas 데이터프레임\n",
            "     국어   영어   수학   과탐  사탐\n",
            "0  100   90   50  100  99\n",
            "1   95   95   60   90  88\n",
            "2   80  100   70   80  77\n",
            "3   95   70   80   70  66\n",
            "4   90   75   90   60  55\n",
            "5   85  100  100   50  44\n",
            "1열 시리즈 :\n",
            " 0    100\n",
            "1     95\n",
            "2     80\n",
            "3     95\n",
            "4     90\n",
            "5     85\n",
            "Name: 국어, dtype: int64\n",
            "2~4열 시리즈 :\n",
            "     영어   수학   과탐\n",
            "0   90   50  100\n",
            "1   95   60   90\n",
            "2  100   70   80\n",
            "3   70   80   70\n",
            "4   75   90   60\n",
            "5  100  100   50\n",
            "마지막열 시리즈 :\n",
            " 0    99\n",
            "1    88\n",
            "2    77\n",
            "3    66\n",
            "4    55\n",
            "5    44\n",
            "Name: 사탐, dtype: int64\n"
          ]
        }
      ]
    },
    {
      "cell_type": "code",
      "source": [
        "print(\"2~3행([1:3,)과 2~4열(,1:4]) 교차 슬라이싱 :\\n\", pandas_dataframe.iloc[1:3,1:4])"
      ],
      "metadata": {
        "colab": {
          "base_uri": "https://localhost:8080/"
        },
        "id": "xevtk-6rlOdy",
        "outputId": "684d8c55-1dae-41e2-d820-e070552489bd"
      },
      "execution_count": null,
      "outputs": [
        {
          "output_type": "stream",
          "name": "stdout",
          "text": [
            "2~3행([1:3,)과 2~4열(,1:4]) 교차 슬라이싱 :\n",
            "     영어  수학  과탐\n",
            "1   95  60  90\n",
            "2  100  70  80\n"
          ]
        }
      ]
    },
    {
      "cell_type": "code",
      "source": [
        "print(\"첫 1개와 마지막 1개의 교차 요소 :\\n\", pandas_dataframe.iloc[[0,-1],[0,-1]])"
      ],
      "metadata": {
        "colab": {
          "base_uri": "https://localhost:8080/"
        },
        "id": "cb7tIhUACsQo",
        "outputId": "6f10ea3e-7d0c-480a-8d5f-4a40f34a930e"
      },
      "execution_count": null,
      "outputs": [
        {
          "output_type": "stream",
          "name": "stdout",
          "text": [
            "첫 1개와 마지막 1개의 교차 요소 :\n",
            "     국어  사탐\n",
            "0  100  99\n",
            "5   85  44\n"
          ]
        }
      ]
    },
    {
      "cell_type": "code",
      "source": [
        "print(\"첫 1개와 마지막 1개의 교차 요소 :\\n\", pandas_dataframe.loc[[0,5],['국어','사탐']])"
      ],
      "metadata": {
        "colab": {
          "base_uri": "https://localhost:8080/"
        },
        "id": "9_7QJj9JrlTA",
        "outputId": "ffe54023-1e2b-4eb1-af27-0223eaa3d3cd"
      },
      "execution_count": null,
      "outputs": [
        {
          "output_type": "stream",
          "name": "stdout",
          "text": [
            "첫 1개와 마지막 1개의 교차 요소 :\n",
            "     국어  사탐\n",
            "0  100  99\n",
            "5   85  44\n"
          ]
        }
      ]
    },
    {
      "cell_type": "code",
      "source": [
        "print(\"2행과 4행 :\\n\", pandas_dataframe.iloc[[1,3]])"
      ],
      "metadata": {
        "colab": {
          "base_uri": "https://localhost:8080/"
        },
        "id": "ccjXCl8ik0Mr",
        "outputId": "8993ee08-2396-4d9c-8e82-24a5ba82107e"
      },
      "execution_count": null,
      "outputs": [
        {
          "output_type": "stream",
          "name": "stdout",
          "text": [
            "2행과 4행 :\n",
            "    국어  영어  수학  과탐  사탐\n",
            "1  95  95  60  90  88\n",
            "3  95  70  80  70  66\n"
          ]
        }
      ]
    },
    {
      "cell_type": "code",
      "source": [
        "print(\"2열과 4열 :\\n\", pandas_dataframe.iloc[:,[1,3]])"
      ],
      "metadata": {
        "colab": {
          "base_uri": "https://localhost:8080/"
        },
        "id": "GaQ16wNmFzkx",
        "outputId": "5aacc53f-4f64-4dfe-a435-ebcbd11548a7"
      },
      "execution_count": null,
      "outputs": [
        {
          "output_type": "stream",
          "name": "stdout",
          "text": [
            "2열과 4열 :\n",
            "     영어   과탐\n",
            "0   90  100\n",
            "1   95   90\n",
            "2  100   80\n",
            "3   70   70\n",
            "4   75   60\n",
            "5  100   50\n"
          ]
        }
      ]
    },
    {
      "cell_type": "code",
      "source": [
        "print(\"국어,수학 및 사탐 발췌\\n\", pandas_dataframe[['국어','수학','사탐']])"
      ],
      "metadata": {
        "colab": {
          "base_uri": "https://localhost:8080/"
        },
        "id": "4EzzstshqIEB",
        "outputId": "2ce0c71d-e619-43b7-bee6-2b37d5450bb3"
      },
      "execution_count": null,
      "outputs": [
        {
          "output_type": "stream",
          "name": "stdout",
          "text": [
            "국어,수학 및 사탐 발췌\n",
            "     국어   수학  사탐\n",
            "0  100   50  99\n",
            "1   95   60  88\n",
            "2   80   70  77\n",
            "3   95   80  66\n",
            "4   90   90  55\n",
            "5   85  100  44\n"
          ]
        }
      ]
    },
    {
      "cell_type": "code",
      "source": [
        "print('60점 이하 점수\\n',pandas_dataframe[pandas_dataframe <= 60])"
      ],
      "metadata": {
        "colab": {
          "base_uri": "https://localhost:8080/"
        },
        "id": "yq-ZXd6mKtzk",
        "outputId": "fb291f8b-9e9c-4c28-9752-f3251f5a81fb"
      },
      "execution_count": null,
      "outputs": [
        {
          "output_type": "stream",
          "name": "stdout",
          "text": [
            "60점 이하 점수\n",
            "    국어  영어    수학    과탐    사탐\n",
            "0 NaN NaN  50.0   NaN   NaN\n",
            "1 NaN NaN  60.0   NaN   NaN\n",
            "2 NaN NaN   NaN   NaN   NaN\n",
            "3 NaN NaN   NaN   NaN   NaN\n",
            "4 NaN NaN   NaN  60.0  55.0\n",
            "5 NaN NaN   NaN  50.0  44.0\n"
          ]
        }
      ]
    },
    {
      "cell_type": "code",
      "source": [
        "print(\"영어 성적이 100점인 행들\\n\", pandas_dataframe[pandas_dataframe['영어'] == 100])"
      ],
      "metadata": {
        "colab": {
          "base_uri": "https://localhost:8080/"
        },
        "id": "gI6xNhtbH4c1",
        "outputId": "9ff69e7b-9bf6-4515-a5ab-680335945dfc"
      },
      "execution_count": null,
      "outputs": [
        {
          "output_type": "stream",
          "name": "stdout",
          "text": [
            "영어 성적이 100점인 행들\n",
            "    국어   영어   수학  과탐  사탐\n",
            "2  80  100   70  80  77\n",
            "5  85  100  100  50  44\n"
          ]
        }
      ]
    },
    {
      "cell_type": "code",
      "source": [
        "print(\"영어 성적이 100점인 행들\\n\", pandas_dataframe[pandas_dataframe.영어 == 100])\n",
        "print(\"pandas_dataframe['영어']의 Type:\",type(pandas_dataframe['영어']))\n",
        "print(\"pandas_dataframe.영어의 Type:\",type(pandas_dataframe.영어))"
      ],
      "metadata": {
        "colab": {
          "base_uri": "https://localhost:8080/"
        },
        "id": "_KZluHU9tsOp",
        "outputId": "c5d46e8c-ce57-47b2-ac62-d61e2025daeb"
      },
      "execution_count": null,
      "outputs": [
        {
          "output_type": "stream",
          "name": "stdout",
          "text": [
            "영어 성적이 100점인 행들\n",
            "    국어   영어   수학  과탐  사탐\n",
            "2  80  100   70  80  77\n",
            "5  85  100  100  50  44\n",
            "pandas_dataframe['영어']의 Type: <class 'pandas.core.series.Series'>\n",
            "pandas_dataframe.영어의 Type: <class 'pandas.core.series.Series'>\n"
          ]
        }
      ]
    },
    {
      "cell_type": "code",
      "source": [
        "print('성적이 80점 이상인 영어 열의 요소:\\n',pandas_dataframe.영어[pandas_dataframe.영어 >= 80])"
      ],
      "metadata": {
        "colab": {
          "base_uri": "https://localhost:8080/"
        },
        "id": "0laiAHIl4kMI",
        "outputId": "a21aaeda-0317-4dbc-a2a6-efa63da14903"
      },
      "execution_count": null,
      "outputs": [
        {
          "output_type": "stream",
          "name": "stdout",
          "text": [
            "성적이 80점 이상인 영어 열의 요소:\n",
            " 0     90\n",
            "1     95\n",
            "2    100\n",
            "5    100\n",
            "Name: 영어, dtype: int64\n"
          ]
        }
      ]
    },
    {
      "cell_type": "code",
      "source": [
        "print('6번째 시험 성적이 100점인 행의 요소:\\n',pandas_dataframe.loc[5,pandas_dataframe.loc[5] == 100])"
      ],
      "metadata": {
        "colab": {
          "base_uri": "https://localhost:8080/"
        },
        "id": "GrrZoBNJ5QMu",
        "outputId": "4902beb4-8623-43a7-a12a-5cabd679749b"
      },
      "execution_count": null,
      "outputs": [
        {
          "output_type": "stream",
          "name": "stdout",
          "text": [
            "6번째 시험 성적이 100점인 행의 요소:\n",
            " 영어    100\n",
            "수학    100\n",
            "Name: 5, dtype: int64\n"
          ]
        }
      ]
    },
    {
      "cell_type": "code",
      "source": [
        "import pandas as pd\n",
        "\n",
        "sixth_exam_scores = pd.Series([85,100,100,50,44])\n",
        "print('6번째 시험 성적이 100점인 행의 요소:\\n',sixth_exam_scores[sixth_exam_scores == 100])"
      ],
      "metadata": {
        "colab": {
          "base_uri": "https://localhost:8080/"
        },
        "id": "PdgmuTXOwJSZ",
        "outputId": "64891819-c75c-41cf-b14a-a9ebb3632dc8"
      },
      "execution_count": null,
      "outputs": [
        {
          "output_type": "stream",
          "name": "stdout",
          "text": [
            "6번째 시험 성적이 100점인 행의 요소:\n",
            " 1    100\n",
            "2    100\n",
            "dtype: int64\n"
          ]
        }
      ]
    },
    {
      "cell_type": "code",
      "source": [
        "import pandas as pd\n",
        "\n",
        "pandas_dataframe = pd.DataFrame({'이름':['강감찬','황희','이순신','공민왕','안중근'],\n",
        "                                 '시대':['고려 초기','조선 초기','조선 중기','고려 말기','조선 말기'],\n",
        "                                 '출생':[948,1561,1545,1330,1879],\n",
        "                                 '사망':[1031,1613,1598,1374,1910]})\n",
        "print('pandas 데이터프레임\\n',pandas_dataframe)\n",
        "print('강감찬의 정보\\n',pandas_dataframe[pandas_dataframe['이름'] == \"강감찬\"])\n",
        "print('고려시대 인물\\n',pandas_dataframe[pandas_dataframe['시대'].str.contains(\"고려\")])"
      ],
      "metadata": {
        "colab": {
          "base_uri": "https://localhost:8080/"
        },
        "id": "Ue47O6GY02UT",
        "outputId": "6b9daeed-b2fb-448e-9eb4-fcf7def596af"
      },
      "execution_count": null,
      "outputs": [
        {
          "output_type": "stream",
          "name": "stdout",
          "text": [
            "pandas 데이터프레임\n",
            "     이름     시대    출생    사망\n",
            "0  강감찬  고려 초기   948  1031\n",
            "1   황희  조선 초기  1561  1613\n",
            "2  이순신  조선 중기  1545  1598\n",
            "3  공민왕  고려 말기  1330  1374\n",
            "4  안중근  조선 말기  1879  1910\n",
            "강감찬의 정보\n",
            "     이름     시대   출생    사망\n",
            "0  강감찬  고려 초기  948  1031\n",
            "고려시대 인물\n",
            "     이름     시대    출생    사망\n",
            "0  강감찬  고려 초기   948  1031\n",
            "3  공민왕  고려 말기  1330  1374\n"
          ]
        }
      ]
    },
    {
      "cell_type": "markdown",
      "source": [
        "삭제"
      ],
      "metadata": {
        "id": "gXU8OXcaSnGA"
      }
    },
    {
      "cell_type": "code",
      "source": [
        "import pandas as pd\n",
        "\n",
        "pandas_series = pd.Series([1,2,3,4,5])\n",
        "print('삭제전:\\n',pandas_series)\n",
        "del pandas_series[3]\n",
        "print('삭제후:\\n',pandas_series)"
      ],
      "metadata": {
        "colab": {
          "base_uri": "https://localhost:8080/"
        },
        "id": "YqIqsYIIb95F",
        "outputId": "3924d993-5ac1-4eab-86b4-7a89ddd3cdab"
      },
      "execution_count": null,
      "outputs": [
        {
          "output_type": "stream",
          "name": "stdout",
          "text": [
            "삭제전:\n",
            " 0    1\n",
            "1    2\n",
            "2    3\n",
            "3    4\n",
            "4    5\n",
            "dtype: int64\n",
            "삭제후:\n",
            " 0    1\n",
            "1    2\n",
            "2    3\n",
            "4    5\n",
            "dtype: int64\n"
          ]
        }
      ]
    },
    {
      "cell_type": "code",
      "source": [
        "print(pandas_series[3])"
      ],
      "metadata": {
        "colab": {
          "base_uri": "https://localhost:8080/",
          "height": 546
        },
        "id": "fPJLBZrveGse",
        "outputId": "299557ed-de65-47bb-da58-162414a9ee0a"
      },
      "execution_count": null,
      "outputs": [
        {
          "output_type": "error",
          "ename": "KeyError",
          "evalue": "ignored",
          "traceback": [
            "\u001b[0;31m---------------------------------------------------------------------------\u001b[0m",
            "\u001b[0;31mKeyError\u001b[0m                                  Traceback (most recent call last)",
            "\u001b[0;32m/usr/local/lib/python3.10/dist-packages/pandas/core/indexes/base.py\u001b[0m in \u001b[0;36mget_loc\u001b[0;34m(self, key, method, tolerance)\u001b[0m\n\u001b[1;32m   3801\u001b[0m             \u001b[0;32mtry\u001b[0m\u001b[0;34m:\u001b[0m\u001b[0;34m\u001b[0m\u001b[0;34m\u001b[0m\u001b[0m\n\u001b[0;32m-> 3802\u001b[0;31m                 \u001b[0;32mreturn\u001b[0m \u001b[0mself\u001b[0m\u001b[0;34m.\u001b[0m\u001b[0m_engine\u001b[0m\u001b[0;34m.\u001b[0m\u001b[0mget_loc\u001b[0m\u001b[0;34m(\u001b[0m\u001b[0mcasted_key\u001b[0m\u001b[0;34m)\u001b[0m\u001b[0;34m\u001b[0m\u001b[0;34m\u001b[0m\u001b[0m\n\u001b[0m\u001b[1;32m   3803\u001b[0m             \u001b[0;32mexcept\u001b[0m \u001b[0mKeyError\u001b[0m \u001b[0;32mas\u001b[0m \u001b[0merr\u001b[0m\u001b[0;34m:\u001b[0m\u001b[0;34m\u001b[0m\u001b[0;34m\u001b[0m\u001b[0m\n",
            "\u001b[0;32m/usr/local/lib/python3.10/dist-packages/pandas/_libs/index.pyx\u001b[0m in \u001b[0;36mpandas._libs.index.IndexEngine.get_loc\u001b[0;34m()\u001b[0m\n",
            "\u001b[0;32m/usr/local/lib/python3.10/dist-packages/pandas/_libs/index.pyx\u001b[0m in \u001b[0;36mpandas._libs.index.IndexEngine.get_loc\u001b[0;34m()\u001b[0m\n",
            "\u001b[0;32mpandas/_libs/hashtable_class_helper.pxi\u001b[0m in \u001b[0;36mpandas._libs.hashtable.Int64HashTable.get_item\u001b[0;34m()\u001b[0m\n",
            "\u001b[0;32mpandas/_libs/hashtable_class_helper.pxi\u001b[0m in \u001b[0;36mpandas._libs.hashtable.Int64HashTable.get_item\u001b[0;34m()\u001b[0m\n",
            "\u001b[0;31mKeyError\u001b[0m: 3",
            "\nThe above exception was the direct cause of the following exception:\n",
            "\u001b[0;31mKeyError\u001b[0m                                  Traceback (most recent call last)",
            "\u001b[0;32m<ipython-input-28-d0ec826a1728>\u001b[0m in \u001b[0;36m<cell line: 1>\u001b[0;34m()\u001b[0m\n\u001b[0;32m----> 1\u001b[0;31m \u001b[0mprint\u001b[0m\u001b[0;34m(\u001b[0m\u001b[0mpandas_series\u001b[0m\u001b[0;34m[\u001b[0m\u001b[0;36m3\u001b[0m\u001b[0;34m]\u001b[0m\u001b[0;34m)\u001b[0m\u001b[0;34m\u001b[0m\u001b[0;34m\u001b[0m\u001b[0m\n\u001b[0m",
            "\u001b[0;32m/usr/local/lib/python3.10/dist-packages/pandas/core/series.py\u001b[0m in \u001b[0;36m__getitem__\u001b[0;34m(self, key)\u001b[0m\n\u001b[1;32m    979\u001b[0m \u001b[0;34m\u001b[0m\u001b[0m\n\u001b[1;32m    980\u001b[0m         \u001b[0;32melif\u001b[0m \u001b[0mkey_is_scalar\u001b[0m\u001b[0;34m:\u001b[0m\u001b[0;34m\u001b[0m\u001b[0;34m\u001b[0m\u001b[0m\n\u001b[0;32m--> 981\u001b[0;31m             \u001b[0;32mreturn\u001b[0m \u001b[0mself\u001b[0m\u001b[0;34m.\u001b[0m\u001b[0m_get_value\u001b[0m\u001b[0;34m(\u001b[0m\u001b[0mkey\u001b[0m\u001b[0;34m)\u001b[0m\u001b[0;34m\u001b[0m\u001b[0;34m\u001b[0m\u001b[0m\n\u001b[0m\u001b[1;32m    982\u001b[0m \u001b[0;34m\u001b[0m\u001b[0m\n\u001b[1;32m    983\u001b[0m         \u001b[0;32mif\u001b[0m \u001b[0mis_hashable\u001b[0m\u001b[0;34m(\u001b[0m\u001b[0mkey\u001b[0m\u001b[0;34m)\u001b[0m\u001b[0;34m:\u001b[0m\u001b[0;34m\u001b[0m\u001b[0;34m\u001b[0m\u001b[0m\n",
            "\u001b[0;32m/usr/local/lib/python3.10/dist-packages/pandas/core/series.py\u001b[0m in \u001b[0;36m_get_value\u001b[0;34m(self, label, takeable)\u001b[0m\n\u001b[1;32m   1087\u001b[0m \u001b[0;34m\u001b[0m\u001b[0m\n\u001b[1;32m   1088\u001b[0m         \u001b[0;31m# Similar to Index.get_value, but we do not fall back to positional\u001b[0m\u001b[0;34m\u001b[0m\u001b[0;34m\u001b[0m\u001b[0m\n\u001b[0;32m-> 1089\u001b[0;31m         \u001b[0mloc\u001b[0m \u001b[0;34m=\u001b[0m \u001b[0mself\u001b[0m\u001b[0;34m.\u001b[0m\u001b[0mindex\u001b[0m\u001b[0;34m.\u001b[0m\u001b[0mget_loc\u001b[0m\u001b[0;34m(\u001b[0m\u001b[0mlabel\u001b[0m\u001b[0;34m)\u001b[0m\u001b[0;34m\u001b[0m\u001b[0;34m\u001b[0m\u001b[0m\n\u001b[0m\u001b[1;32m   1090\u001b[0m         \u001b[0;32mreturn\u001b[0m \u001b[0mself\u001b[0m\u001b[0;34m.\u001b[0m\u001b[0mindex\u001b[0m\u001b[0;34m.\u001b[0m\u001b[0m_get_values_for_loc\u001b[0m\u001b[0;34m(\u001b[0m\u001b[0mself\u001b[0m\u001b[0;34m,\u001b[0m \u001b[0mloc\u001b[0m\u001b[0;34m,\u001b[0m \u001b[0mlabel\u001b[0m\u001b[0;34m)\u001b[0m\u001b[0;34m\u001b[0m\u001b[0;34m\u001b[0m\u001b[0m\n\u001b[1;32m   1091\u001b[0m \u001b[0;34m\u001b[0m\u001b[0m\n",
            "\u001b[0;32m/usr/local/lib/python3.10/dist-packages/pandas/core/indexes/base.py\u001b[0m in \u001b[0;36mget_loc\u001b[0;34m(self, key, method, tolerance)\u001b[0m\n\u001b[1;32m   3802\u001b[0m                 \u001b[0;32mreturn\u001b[0m \u001b[0mself\u001b[0m\u001b[0;34m.\u001b[0m\u001b[0m_engine\u001b[0m\u001b[0;34m.\u001b[0m\u001b[0mget_loc\u001b[0m\u001b[0;34m(\u001b[0m\u001b[0mcasted_key\u001b[0m\u001b[0;34m)\u001b[0m\u001b[0;34m\u001b[0m\u001b[0;34m\u001b[0m\u001b[0m\n\u001b[1;32m   3803\u001b[0m             \u001b[0;32mexcept\u001b[0m \u001b[0mKeyError\u001b[0m \u001b[0;32mas\u001b[0m \u001b[0merr\u001b[0m\u001b[0;34m:\u001b[0m\u001b[0;34m\u001b[0m\u001b[0;34m\u001b[0m\u001b[0m\n\u001b[0;32m-> 3804\u001b[0;31m                 \u001b[0;32mraise\u001b[0m \u001b[0mKeyError\u001b[0m\u001b[0;34m(\u001b[0m\u001b[0mkey\u001b[0m\u001b[0;34m)\u001b[0m \u001b[0;32mfrom\u001b[0m \u001b[0merr\u001b[0m\u001b[0;34m\u001b[0m\u001b[0;34m\u001b[0m\u001b[0m\n\u001b[0m\u001b[1;32m   3805\u001b[0m             \u001b[0;32mexcept\u001b[0m \u001b[0mTypeError\u001b[0m\u001b[0;34m:\u001b[0m\u001b[0;34m\u001b[0m\u001b[0;34m\u001b[0m\u001b[0m\n\u001b[1;32m   3806\u001b[0m                 \u001b[0;31m# If we have a listlike key, _check_indexing_error will raise\u001b[0m\u001b[0;34m\u001b[0m\u001b[0;34m\u001b[0m\u001b[0m\n",
            "\u001b[0;31mKeyError\u001b[0m: 3"
          ]
        }
      ]
    },
    {
      "cell_type": "code",
      "source": [
        "print(pandas_series.iloc[3])\n",
        "print(pandas_series[4])\n",
        "print(pandas_series.loc[4])"
      ],
      "metadata": {
        "colab": {
          "base_uri": "https://localhost:8080/"
        },
        "id": "uKjJWLwQd9G4",
        "outputId": "0801ad69-bd7e-4366-a562-a2806f9841f8"
      },
      "execution_count": null,
      "outputs": [
        {
          "output_type": "stream",
          "name": "stdout",
          "text": [
            "5\n",
            "5\n",
            "5\n"
          ]
        }
      ]
    },
    {
      "cell_type": "code",
      "source": [
        "import pandas as pd\n",
        "\n",
        "pandas_dataframe = pd.DataFrame({'국어':[100,95,80,95,90,85],\n",
        "                                 '영어':[90,95,100,70,75,100],\n",
        "                                 '수학':[50,60,70,80,90,100]})\n",
        "print('삭제전\\n',pandas_dataframe)\n",
        "del pandas_dataframe['국어']\n",
        "print('삭제후\\n',pandas_dataframe)"
      ],
      "metadata": {
        "colab": {
          "base_uri": "https://localhost:8080/"
        },
        "id": "lhi1GrehUlAs",
        "outputId": "bc6fa378-da8c-4a03-9780-d664c0721842"
      },
      "execution_count": null,
      "outputs": [
        {
          "output_type": "stream",
          "name": "stdout",
          "text": [
            "삭제전\n",
            "     국어   영어   수학\n",
            "0  100   90   50\n",
            "1   95   95   60\n",
            "2   80  100   70\n",
            "3   95   70   80\n",
            "4   90   75   90\n",
            "5   85  100  100\n",
            "삭제후\n",
            "     영어   수학\n",
            "0   90   50\n",
            "1   95   60\n",
            "2  100   70\n",
            "3   70   80\n",
            "4   75   90\n",
            "5  100  100\n"
          ]
        }
      ]
    },
    {
      "cell_type": "code",
      "source": [
        "import pandas as pd\n",
        "\n",
        "pandas_dataframe = pd.DataFrame({'국어':[100,95,80,95,90,85],\n",
        "                                 '영어':[90,95,100,70,75,100],\n",
        "                                 '수학':[50,60,70,80,90,100]})\n",
        "print('삭제전\\n',pandas_dataframe)\n",
        "pandas_dataframe = pandas_dataframe.drop(2)\n",
        "pandas_dataframe = pandas_dataframe.drop([1,3])\n",
        "print('삭제후\\n',pandas_dataframe)"
      ],
      "metadata": {
        "colab": {
          "base_uri": "https://localhost:8080/"
        },
        "id": "sKE4x0z7ihxM",
        "outputId": "b872bdc8-4d18-4541-cfde-559ad8d838c0"
      },
      "execution_count": null,
      "outputs": [
        {
          "output_type": "stream",
          "name": "stdout",
          "text": [
            "삭제전\n",
            "     국어   영어   수학\n",
            "0  100   90   50\n",
            "1   95   95   60\n",
            "2   80  100   70\n",
            "3   95   70   80\n",
            "4   90   75   90\n",
            "5   85  100  100\n",
            "삭제후\n",
            "     국어   영어   수학\n",
            "0  100   90   50\n",
            "4   90   75   90\n",
            "5   85  100  100\n"
          ]
        }
      ]
    },
    {
      "cell_type": "code",
      "source": [
        "import pandas as pd\n",
        "\n",
        "pandas_series = pd.Series([1,2,3,4,5])\n",
        "print('삭제전:\\n',pandas_series)\n",
        "pandas_series = pandas_series.drop([1,2,3])\n",
        "print('삭제후:\\n',pandas_series)"
      ],
      "metadata": {
        "colab": {
          "base_uri": "https://localhost:8080/"
        },
        "id": "V1c_t6Li4xqA",
        "outputId": "e0f2b991-9d12-42fb-9e2b-af86051d73ab"
      },
      "execution_count": null,
      "outputs": [
        {
          "output_type": "stream",
          "name": "stdout",
          "text": [
            "삭제전:\n",
            " 0    1\n",
            "1    2\n",
            "2    3\n",
            "3    4\n",
            "4    5\n",
            "dtype: int64\n",
            "삭제후:\n",
            " 0    1\n",
            "4    5\n",
            "dtype: int64\n"
          ]
        }
      ]
    },
    {
      "cell_type": "code",
      "source": [
        "import pandas as pd\n",
        "\n",
        "pandas_dataframe = pd.DataFrame({'국어':[100,95,80,95,90,85],\n",
        "                                 '영어':[90,95,100,70,75,100],\n",
        "                                 '수학':[50,60,70,80,90,100]})\n",
        "print('삭제전\\n',pandas_dataframe)\n",
        "pandas_dataframe = pandas_dataframe.drop(['국어','영어'],axis=1)\n",
        "print('삭제후\\n',pandas_dataframe)"
      ],
      "metadata": {
        "colab": {
          "base_uri": "https://localhost:8080/"
        },
        "id": "iH665dBY6Mr3",
        "outputId": "fbd4b3b0-4c30-4949-ac17-513ab5ee372a"
      },
      "execution_count": null,
      "outputs": [
        {
          "output_type": "stream",
          "name": "stdout",
          "text": [
            "삭제전\n",
            "     국어   영어   수학\n",
            "0  100   90   50\n",
            "1   95   95   60\n",
            "2   80  100   70\n",
            "3   95   70   80\n",
            "4   90   75   90\n",
            "5   85  100  100\n",
            "삭제후\n",
            "     수학\n",
            "0   50\n",
            "1   60\n",
            "2   70\n",
            "3   80\n",
            "4   90\n",
            "5  100\n"
          ]
        }
      ]
    },
    {
      "cell_type": "markdown",
      "source": [
        "추가"
      ],
      "metadata": {
        "id": "2_qVfZ-XkMiD"
      }
    },
    {
      "cell_type": "code",
      "source": [
        "import pandas as pd\n",
        "\n",
        "pandas_series = pd.Series([1,2,3])\n",
        "print('추가전:\\n',pandas_series)\n",
        "pandas_series[3] = 4\n",
        "pandas_series.loc[9] = 10\n",
        "print('추가후:\\n',pandas_series)"
      ],
      "metadata": {
        "colab": {
          "base_uri": "https://localhost:8080/"
        },
        "id": "Mp4ZHvKFy8RP",
        "outputId": "9d6e9ed6-066c-4984-f049-624ff3662af7"
      },
      "execution_count": null,
      "outputs": [
        {
          "output_type": "stream",
          "name": "stdout",
          "text": [
            "추가전:\n",
            " 0    1\n",
            "1    2\n",
            "2    3\n",
            "dtype: int64\n",
            "추가후:\n",
            " 0     1\n",
            "1     2\n",
            "2     3\n",
            "3     4\n",
            "9    10\n",
            "dtype: int64\n"
          ]
        }
      ]
    },
    {
      "cell_type": "code",
      "source": [
        "import pandas as pd\n",
        "\n",
        "pandas_series = pd.Series([1,2,3,4,5])\n",
        "print('삭제전:\\n',pandas_series)\n",
        "del pandas_series[1]\n",
        "del pandas_series[2]\n",
        "del pandas_series[3]\n",
        "print('삭제후:\\n',pandas_series)\n",
        "pandas_series[2] = 3\n",
        "print('추가후:\\n',pandas_series)"
      ],
      "metadata": {
        "colab": {
          "base_uri": "https://localhost:8080/"
        },
        "id": "lk9i19wL2RNJ",
        "outputId": "fcc38cd3-4185-44be-93f1-2863cb5eb339"
      },
      "execution_count": null,
      "outputs": [
        {
          "output_type": "stream",
          "name": "stdout",
          "text": [
            "삭제전:\n",
            " 0    1\n",
            "1    2\n",
            "2    3\n",
            "3    4\n",
            "4    5\n",
            "dtype: int64\n",
            "삭제후:\n",
            " 0    1\n",
            "4    5\n",
            "dtype: int64\n",
            "추가후:\n",
            " 0    1\n",
            "4    5\n",
            "2    3\n",
            "dtype: int64\n"
          ]
        }
      ]
    },
    {
      "cell_type": "code",
      "source": [
        "import pandas as pd\n",
        "\n",
        "pandas_dataframe = pd.DataFrame({'국어':[100,95,80,95,90,85],\n",
        "                                 '영어':[90,95,100,70,75,100],\n",
        "                                 '수학':[50,60,70,80,90,100]})\n",
        "print('추가전\\n',pandas_dataframe)\n",
        "pandas_dataframe['과탐'] = [100,90,80,70,60,50]  # 열추가\n",
        "pandas_dataframe.loc[6] = [99,99,99,99]          # 행추가\n",
        "print('추가후\\n',pandas_dataframe)"
      ],
      "metadata": {
        "colab": {
          "base_uri": "https://localhost:8080/"
        },
        "id": "SZhAQW1__a-A",
        "outputId": "d3058363-bd4b-4522-9bd5-c3883459ee61"
      },
      "execution_count": null,
      "outputs": [
        {
          "output_type": "stream",
          "name": "stdout",
          "text": [
            "추가전\n",
            "     국어   영어   수학\n",
            "0  100   90   50\n",
            "1   95   95   60\n",
            "2   80  100   70\n",
            "3   95   70   80\n",
            "4   90   75   90\n",
            "5   85  100  100\n",
            "추가후\n",
            "     국어   영어   수학   과탐\n",
            "0  100   90   50  100\n",
            "1   95   95   60   90\n",
            "2   80  100   70   80\n",
            "3   95   70   80   70\n",
            "4   90   75   90   60\n",
            "5   85  100  100   50\n",
            "6   99   99   99   99\n"
          ]
        }
      ]
    },
    {
      "cell_type": "code",
      "source": [
        "import pandas as pd\n",
        "\n",
        "pandas_dataframe = pd.DataFrame({'이름':['홍길동','강감찬'],'국어':[100,95],'영어':[90,95]})\n",
        "print('전치전\\n',pandas_dataframe)\n",
        "print(\"영어 성적이 100점인 행들\\n\", pandas_dataframe[pandas_dataframe['영어'] == 90])\n",
        "print('60점 이하 점수\\n',pandas_dataframe[pandas_dataframe <= 60])"
      ],
      "metadata": {
        "colab": {
          "base_uri": "https://localhost:8080/",
          "height": 415
        },
        "id": "f5J4eW0o4bcr",
        "outputId": "972653c7-cf06-42d7-d68d-ef4753a23fc6"
      },
      "execution_count": null,
      "outputs": [
        {
          "output_type": "stream",
          "name": "stdout",
          "text": [
            "전치전\n",
            "     이름   국어  영어\n",
            "0  홍길동  100  90\n",
            "1  강감찬   95  95\n",
            "영어 성적이 100점인 행들\n",
            "     이름   국어  영어\n",
            "0  홍길동  100  90\n"
          ]
        },
        {
          "output_type": "error",
          "ename": "TypeError",
          "evalue": "ignored",
          "traceback": [
            "\u001b[0;31m---------------------------------------------------------------------------\u001b[0m",
            "\u001b[0;31mTypeError\u001b[0m                                 Traceback (most recent call last)",
            "\u001b[0;32m<ipython-input-25-e0d7bc7b1fd8>\u001b[0m in \u001b[0;36m<cell line: 6>\u001b[0;34m()\u001b[0m\n\u001b[1;32m      4\u001b[0m \u001b[0mprint\u001b[0m\u001b[0;34m(\u001b[0m\u001b[0;34m'전치전\\n'\u001b[0m\u001b[0;34m,\u001b[0m\u001b[0mpandas_dataframe\u001b[0m\u001b[0;34m)\u001b[0m\u001b[0;34m\u001b[0m\u001b[0;34m\u001b[0m\u001b[0m\n\u001b[1;32m      5\u001b[0m \u001b[0mprint\u001b[0m\u001b[0;34m(\u001b[0m\u001b[0;34m\"영어 성적이 100점인 행들\\n\"\u001b[0m\u001b[0;34m,\u001b[0m \u001b[0mpandas_dataframe\u001b[0m\u001b[0;34m[\u001b[0m\u001b[0mpandas_dataframe\u001b[0m\u001b[0;34m[\u001b[0m\u001b[0;34m'영어'\u001b[0m\u001b[0;34m]\u001b[0m \u001b[0;34m==\u001b[0m \u001b[0;36m90\u001b[0m\u001b[0;34m]\u001b[0m\u001b[0;34m)\u001b[0m\u001b[0;34m\u001b[0m\u001b[0;34m\u001b[0m\u001b[0m\n\u001b[0;32m----> 6\u001b[0;31m \u001b[0mprint\u001b[0m\u001b[0;34m(\u001b[0m\u001b[0;34m'60점 이하 점수\\n'\u001b[0m\u001b[0;34m,\u001b[0m\u001b[0mpandas_dataframe\u001b[0m\u001b[0;34m[\u001b[0m\u001b[0mpandas_dataframe\u001b[0m \u001b[0;34m<=\u001b[0m \u001b[0;36m60\u001b[0m\u001b[0;34m]\u001b[0m\u001b[0;34m)\u001b[0m\u001b[0;34m\u001b[0m\u001b[0;34m\u001b[0m\u001b[0m\n\u001b[0m",
            "\u001b[0;32m/usr/local/lib/python3.10/dist-packages/pandas/core/ops/common.py\u001b[0m in \u001b[0;36mnew_method\u001b[0;34m(self, other)\u001b[0m\n\u001b[1;32m     70\u001b[0m         \u001b[0mother\u001b[0m \u001b[0;34m=\u001b[0m \u001b[0mitem_from_zerodim\u001b[0m\u001b[0;34m(\u001b[0m\u001b[0mother\u001b[0m\u001b[0;34m)\u001b[0m\u001b[0;34m\u001b[0m\u001b[0;34m\u001b[0m\u001b[0m\n\u001b[1;32m     71\u001b[0m \u001b[0;34m\u001b[0m\u001b[0m\n\u001b[0;32m---> 72\u001b[0;31m         \u001b[0;32mreturn\u001b[0m \u001b[0mmethod\u001b[0m\u001b[0;34m(\u001b[0m\u001b[0mself\u001b[0m\u001b[0;34m,\u001b[0m \u001b[0mother\u001b[0m\u001b[0;34m)\u001b[0m\u001b[0;34m\u001b[0m\u001b[0;34m\u001b[0m\u001b[0m\n\u001b[0m\u001b[1;32m     73\u001b[0m \u001b[0;34m\u001b[0m\u001b[0m\n\u001b[1;32m     74\u001b[0m     \u001b[0;32mreturn\u001b[0m \u001b[0mnew_method\u001b[0m\u001b[0;34m\u001b[0m\u001b[0;34m\u001b[0m\u001b[0m\n",
            "\u001b[0;32m/usr/local/lib/python3.10/dist-packages/pandas/core/arraylike.py\u001b[0m in \u001b[0;36m__le__\u001b[0;34m(self, other)\u001b[0m\n\u001b[1;32m     52\u001b[0m     \u001b[0;34m@\u001b[0m\u001b[0munpack_zerodim_and_defer\u001b[0m\u001b[0;34m(\u001b[0m\u001b[0;34m\"__le__\"\u001b[0m\u001b[0;34m)\u001b[0m\u001b[0;34m\u001b[0m\u001b[0;34m\u001b[0m\u001b[0m\n\u001b[1;32m     53\u001b[0m     \u001b[0;32mdef\u001b[0m \u001b[0m__le__\u001b[0m\u001b[0;34m(\u001b[0m\u001b[0mself\u001b[0m\u001b[0;34m,\u001b[0m \u001b[0mother\u001b[0m\u001b[0;34m)\u001b[0m\u001b[0;34m:\u001b[0m\u001b[0;34m\u001b[0m\u001b[0;34m\u001b[0m\u001b[0m\n\u001b[0;32m---> 54\u001b[0;31m         \u001b[0;32mreturn\u001b[0m \u001b[0mself\u001b[0m\u001b[0;34m.\u001b[0m\u001b[0m_cmp_method\u001b[0m\u001b[0;34m(\u001b[0m\u001b[0mother\u001b[0m\u001b[0;34m,\u001b[0m \u001b[0moperator\u001b[0m\u001b[0;34m.\u001b[0m\u001b[0mle\u001b[0m\u001b[0;34m)\u001b[0m\u001b[0;34m\u001b[0m\u001b[0;34m\u001b[0m\u001b[0m\n\u001b[0m\u001b[1;32m     55\u001b[0m \u001b[0;34m\u001b[0m\u001b[0m\n\u001b[1;32m     56\u001b[0m     \u001b[0;34m@\u001b[0m\u001b[0munpack_zerodim_and_defer\u001b[0m\u001b[0;34m(\u001b[0m\u001b[0;34m\"__gt__\"\u001b[0m\u001b[0;34m)\u001b[0m\u001b[0;34m\u001b[0m\u001b[0;34m\u001b[0m\u001b[0m\n",
            "\u001b[0;32m/usr/local/lib/python3.10/dist-packages/pandas/core/frame.py\u001b[0m in \u001b[0;36m_cmp_method\u001b[0;34m(self, other, op)\u001b[0m\n\u001b[1;32m   7580\u001b[0m \u001b[0;34m\u001b[0m\u001b[0m\n\u001b[1;32m   7581\u001b[0m         \u001b[0;31m# See GH#4537 for discussion of scalar op behavior\u001b[0m\u001b[0;34m\u001b[0m\u001b[0;34m\u001b[0m\u001b[0m\n\u001b[0;32m-> 7582\u001b[0;31m         \u001b[0mnew_data\u001b[0m \u001b[0;34m=\u001b[0m \u001b[0mself\u001b[0m\u001b[0;34m.\u001b[0m\u001b[0m_dispatch_frame_op\u001b[0m\u001b[0;34m(\u001b[0m\u001b[0mother\u001b[0m\u001b[0;34m,\u001b[0m \u001b[0mop\u001b[0m\u001b[0;34m,\u001b[0m \u001b[0maxis\u001b[0m\u001b[0;34m=\u001b[0m\u001b[0maxis\u001b[0m\u001b[0;34m)\u001b[0m\u001b[0;34m\u001b[0m\u001b[0;34m\u001b[0m\u001b[0m\n\u001b[0m\u001b[1;32m   7583\u001b[0m         \u001b[0;32mreturn\u001b[0m \u001b[0mself\u001b[0m\u001b[0;34m.\u001b[0m\u001b[0m_construct_result\u001b[0m\u001b[0;34m(\u001b[0m\u001b[0mnew_data\u001b[0m\u001b[0;34m)\u001b[0m\u001b[0;34m\u001b[0m\u001b[0;34m\u001b[0m\u001b[0m\n\u001b[1;32m   7584\u001b[0m \u001b[0;34m\u001b[0m\u001b[0m\n",
            "\u001b[0;32m/usr/local/lib/python3.10/dist-packages/pandas/core/frame.py\u001b[0m in \u001b[0;36m_dispatch_frame_op\u001b[0;34m(self, right, func, axis)\u001b[0m\n\u001b[1;32m   7619\u001b[0m             \u001b[0;31m# i.e. scalar, faster than checking np.ndim(right) == 0\u001b[0m\u001b[0;34m\u001b[0m\u001b[0;34m\u001b[0m\u001b[0m\n\u001b[1;32m   7620\u001b[0m             \u001b[0;32mwith\u001b[0m \u001b[0mnp\u001b[0m\u001b[0;34m.\u001b[0m\u001b[0merrstate\u001b[0m\u001b[0;34m(\u001b[0m\u001b[0mall\u001b[0m\u001b[0;34m=\u001b[0m\u001b[0;34m\"ignore\"\u001b[0m\u001b[0;34m)\u001b[0m\u001b[0;34m:\u001b[0m\u001b[0;34m\u001b[0m\u001b[0;34m\u001b[0m\u001b[0m\n\u001b[0;32m-> 7621\u001b[0;31m                 \u001b[0mbm\u001b[0m \u001b[0;34m=\u001b[0m \u001b[0mself\u001b[0m\u001b[0;34m.\u001b[0m\u001b[0m_mgr\u001b[0m\u001b[0;34m.\u001b[0m\u001b[0mapply\u001b[0m\u001b[0;34m(\u001b[0m\u001b[0marray_op\u001b[0m\u001b[0;34m,\u001b[0m \u001b[0mright\u001b[0m\u001b[0;34m=\u001b[0m\u001b[0mright\u001b[0m\u001b[0;34m)\u001b[0m\u001b[0;34m\u001b[0m\u001b[0;34m\u001b[0m\u001b[0m\n\u001b[0m\u001b[1;32m   7622\u001b[0m             \u001b[0;32mreturn\u001b[0m \u001b[0mself\u001b[0m\u001b[0;34m.\u001b[0m\u001b[0m_constructor\u001b[0m\u001b[0;34m(\u001b[0m\u001b[0mbm\u001b[0m\u001b[0;34m)\u001b[0m\u001b[0;34m\u001b[0m\u001b[0;34m\u001b[0m\u001b[0m\n\u001b[1;32m   7623\u001b[0m \u001b[0;34m\u001b[0m\u001b[0m\n",
            "\u001b[0;32m/usr/local/lib/python3.10/dist-packages/pandas/core/internals/managers.py\u001b[0m in \u001b[0;36mapply\u001b[0;34m(self, f, align_keys, ignore_failures, **kwargs)\u001b[0m\n\u001b[1;32m    348\u001b[0m             \u001b[0;32mtry\u001b[0m\u001b[0;34m:\u001b[0m\u001b[0;34m\u001b[0m\u001b[0;34m\u001b[0m\u001b[0m\n\u001b[1;32m    349\u001b[0m                 \u001b[0;32mif\u001b[0m \u001b[0mcallable\u001b[0m\u001b[0;34m(\u001b[0m\u001b[0mf\u001b[0m\u001b[0;34m)\u001b[0m\u001b[0;34m:\u001b[0m\u001b[0;34m\u001b[0m\u001b[0;34m\u001b[0m\u001b[0m\n\u001b[0;32m--> 350\u001b[0;31m                     \u001b[0mapplied\u001b[0m \u001b[0;34m=\u001b[0m \u001b[0mb\u001b[0m\u001b[0;34m.\u001b[0m\u001b[0mapply\u001b[0m\u001b[0;34m(\u001b[0m\u001b[0mf\u001b[0m\u001b[0;34m,\u001b[0m \u001b[0;34m**\u001b[0m\u001b[0mkwargs\u001b[0m\u001b[0;34m)\u001b[0m\u001b[0;34m\u001b[0m\u001b[0;34m\u001b[0m\u001b[0m\n\u001b[0m\u001b[1;32m    351\u001b[0m                 \u001b[0;32melse\u001b[0m\u001b[0;34m:\u001b[0m\u001b[0;34m\u001b[0m\u001b[0;34m\u001b[0m\u001b[0m\n\u001b[1;32m    352\u001b[0m                     \u001b[0mapplied\u001b[0m \u001b[0;34m=\u001b[0m \u001b[0mgetattr\u001b[0m\u001b[0;34m(\u001b[0m\u001b[0mb\u001b[0m\u001b[0;34m,\u001b[0m \u001b[0mf\u001b[0m\u001b[0;34m)\u001b[0m\u001b[0;34m(\u001b[0m\u001b[0;34m**\u001b[0m\u001b[0mkwargs\u001b[0m\u001b[0;34m)\u001b[0m\u001b[0;34m\u001b[0m\u001b[0;34m\u001b[0m\u001b[0m\n",
            "\u001b[0;32m/usr/local/lib/python3.10/dist-packages/pandas/core/internals/blocks.py\u001b[0m in \u001b[0;36mapply\u001b[0;34m(self, func, **kwargs)\u001b[0m\n\u001b[1;32m    349\u001b[0m         \u001b[0mone\u001b[0m\u001b[0;34m\u001b[0m\u001b[0;34m\u001b[0m\u001b[0m\n\u001b[1;32m    350\u001b[0m         \"\"\"\n\u001b[0;32m--> 351\u001b[0;31m         \u001b[0mresult\u001b[0m \u001b[0;34m=\u001b[0m \u001b[0mfunc\u001b[0m\u001b[0;34m(\u001b[0m\u001b[0mself\u001b[0m\u001b[0;34m.\u001b[0m\u001b[0mvalues\u001b[0m\u001b[0;34m,\u001b[0m \u001b[0;34m**\u001b[0m\u001b[0mkwargs\u001b[0m\u001b[0;34m)\u001b[0m\u001b[0;34m\u001b[0m\u001b[0;34m\u001b[0m\u001b[0m\n\u001b[0m\u001b[1;32m    352\u001b[0m \u001b[0;34m\u001b[0m\u001b[0m\n\u001b[1;32m    353\u001b[0m         \u001b[0;32mreturn\u001b[0m \u001b[0mself\u001b[0m\u001b[0;34m.\u001b[0m\u001b[0m_split_op_result\u001b[0m\u001b[0;34m(\u001b[0m\u001b[0mresult\u001b[0m\u001b[0;34m)\u001b[0m\u001b[0;34m\u001b[0m\u001b[0;34m\u001b[0m\u001b[0m\n",
            "\u001b[0;32m/usr/local/lib/python3.10/dist-packages/pandas/core/ops/array_ops.py\u001b[0m in \u001b[0;36mcomparison_op\u001b[0;34m(left, right, op)\u001b[0m\n\u001b[1;32m    285\u001b[0m \u001b[0;34m\u001b[0m\u001b[0m\n\u001b[1;32m    286\u001b[0m     \u001b[0;32melif\u001b[0m \u001b[0mis_object_dtype\u001b[0m\u001b[0;34m(\u001b[0m\u001b[0mlvalues\u001b[0m\u001b[0;34m.\u001b[0m\u001b[0mdtype\u001b[0m\u001b[0;34m)\u001b[0m \u001b[0;32mor\u001b[0m \u001b[0misinstance\u001b[0m\u001b[0;34m(\u001b[0m\u001b[0mrvalues\u001b[0m\u001b[0;34m,\u001b[0m \u001b[0mstr\u001b[0m\u001b[0;34m)\u001b[0m\u001b[0;34m:\u001b[0m\u001b[0;34m\u001b[0m\u001b[0;34m\u001b[0m\u001b[0m\n\u001b[0;32m--> 287\u001b[0;31m         \u001b[0mres_values\u001b[0m \u001b[0;34m=\u001b[0m \u001b[0mcomp_method_OBJECT_ARRAY\u001b[0m\u001b[0;34m(\u001b[0m\u001b[0mop\u001b[0m\u001b[0;34m,\u001b[0m \u001b[0mlvalues\u001b[0m\u001b[0;34m,\u001b[0m \u001b[0mrvalues\u001b[0m\u001b[0;34m)\u001b[0m\u001b[0;34m\u001b[0m\u001b[0;34m\u001b[0m\u001b[0m\n\u001b[0m\u001b[1;32m    288\u001b[0m \u001b[0;34m\u001b[0m\u001b[0m\n\u001b[1;32m    289\u001b[0m     \u001b[0;32melse\u001b[0m\u001b[0;34m:\u001b[0m\u001b[0;34m\u001b[0m\u001b[0;34m\u001b[0m\u001b[0m\n",
            "\u001b[0;32m/usr/local/lib/python3.10/dist-packages/pandas/core/ops/array_ops.py\u001b[0m in \u001b[0;36mcomp_method_OBJECT_ARRAY\u001b[0;34m(op, x, y)\u001b[0m\n\u001b[1;32m     73\u001b[0m         \u001b[0mresult\u001b[0m \u001b[0;34m=\u001b[0m \u001b[0mlibops\u001b[0m\u001b[0;34m.\u001b[0m\u001b[0mvec_compare\u001b[0m\u001b[0;34m(\u001b[0m\u001b[0mx\u001b[0m\u001b[0;34m.\u001b[0m\u001b[0mravel\u001b[0m\u001b[0;34m(\u001b[0m\u001b[0;34m)\u001b[0m\u001b[0;34m,\u001b[0m \u001b[0my\u001b[0m\u001b[0;34m.\u001b[0m\u001b[0mravel\u001b[0m\u001b[0;34m(\u001b[0m\u001b[0;34m)\u001b[0m\u001b[0;34m,\u001b[0m \u001b[0mop\u001b[0m\u001b[0;34m)\u001b[0m\u001b[0;34m\u001b[0m\u001b[0;34m\u001b[0m\u001b[0m\n\u001b[1;32m     74\u001b[0m     \u001b[0;32melse\u001b[0m\u001b[0;34m:\u001b[0m\u001b[0;34m\u001b[0m\u001b[0;34m\u001b[0m\u001b[0m\n\u001b[0;32m---> 75\u001b[0;31m         \u001b[0mresult\u001b[0m \u001b[0;34m=\u001b[0m \u001b[0mlibops\u001b[0m\u001b[0;34m.\u001b[0m\u001b[0mscalar_compare\u001b[0m\u001b[0;34m(\u001b[0m\u001b[0mx\u001b[0m\u001b[0;34m.\u001b[0m\u001b[0mravel\u001b[0m\u001b[0;34m(\u001b[0m\u001b[0;34m)\u001b[0m\u001b[0;34m,\u001b[0m \u001b[0my\u001b[0m\u001b[0;34m,\u001b[0m \u001b[0mop\u001b[0m\u001b[0;34m)\u001b[0m\u001b[0;34m\u001b[0m\u001b[0;34m\u001b[0m\u001b[0m\n\u001b[0m\u001b[1;32m     76\u001b[0m     \u001b[0;32mreturn\u001b[0m \u001b[0mresult\u001b[0m\u001b[0;34m.\u001b[0m\u001b[0mreshape\u001b[0m\u001b[0;34m(\u001b[0m\u001b[0mx\u001b[0m\u001b[0;34m.\u001b[0m\u001b[0mshape\u001b[0m\u001b[0;34m)\u001b[0m\u001b[0;34m\u001b[0m\u001b[0;34m\u001b[0m\u001b[0m\n\u001b[1;32m     77\u001b[0m \u001b[0;34m\u001b[0m\u001b[0m\n",
            "\u001b[0;32m/usr/local/lib/python3.10/dist-packages/pandas/_libs/ops.pyx\u001b[0m in \u001b[0;36mpandas._libs.ops.scalar_compare\u001b[0;34m()\u001b[0m\n",
            "\u001b[0;31mTypeError\u001b[0m: '<=' not supported between instances of 'str' and 'int'"
          ]
        }
      ]
    },
    {
      "cell_type": "markdown",
      "source": [
        "matplotlib 그래프 그리기"
      ],
      "metadata": {
        "id": "XH27bHACRiAF"
      }
    },
    {
      "cell_type": "code",
      "source": [
        "import pandas as pd\n",
        "import matplotlib.pyplot as plt\n",
        "\n",
        "pandas_dataframe = pd.DataFrame({'국어':[100,95,80,95,90,85],\n",
        "                                 '사탐':[99,88,77,66,55,44]})\n",
        "\n",
        "plt.figure(figsize=(3,3))\n",
        "plt.scatter(pandas_dataframe['국어'],pandas_dataframe['사탐'])\n",
        "plt.show()"
      ],
      "metadata": {
        "colab": {
          "base_uri": "https://localhost:8080/",
          "height": 291
        },
        "id": "43DJAHOARnMq",
        "outputId": "8dea13dd-b7ac-4e97-b26b-d936e9fe2281"
      },
      "execution_count": null,
      "outputs": [
        {
          "output_type": "display_data",
          "data": {
            "text/plain": [
              "<Figure size 300x300 with 1 Axes>"
            ],
            "image/png": "[encoded data removed]"
          },
          "metadata": {}
        }
      ]
    },
    {
      "cell_type": "markdown",
      "source": [
        "파일 입출력"
      ],
      "metadata": {
        "id": "qt6jXmFv8lyd"
      }
    },
    {
      "cell_type": "code",
      "source": [
        "import pandas as pd\n",
        "\n",
        "pandas_dataframe = pd.DataFrame({'국어':[100,95,80,95,90,85],\n",
        "                                 '영어':[90,95,100,70,75,100],\n",
        "                                 '수학':[50,60,70,80,90,100],\n",
        "                                 '과탐':[100,90,80,70,60,50],\n",
        "                                 '사탐':[99,88,77,66,55,44]})\n",
        "\n",
        "pandas_dataframe = pandas_dataframe.drop(3)\n",
        "print('pandas 데이터프레임\\n',pandas_dataframe)\n",
        "pandas_dataframe.to_csv('scores.csv',index_label='index',encoding='utf8')"
      ],
      "metadata": {
        "colab": {
          "base_uri": "https://localhost:8080/"
        },
        "id": "yOnJE0MZKVHr",
        "outputId": "04318cdd-6490-4542-8a95-9edac0dbb7c1"
      },
      "execution_count": null,
      "outputs": [
        {
          "output_type": "stream",
          "name": "stdout",
          "text": [
            "pandas 데이터프레임\n",
            "     국어   영어   수학   과탐  사탐\n",
            "0  100   90   50  100  99\n",
            "1   95   95   60   90  88\n",
            "2   80  100   70   80  77\n",
            "4   90   75   90   60  55\n",
            "5   85  100  100   50  44\n"
          ]
        }
      ]
    },
    {
      "cell_type": "code",
      "source": [
        "import pandas as pd\n",
        "\n",
        "pandas_dataframe = pd.read_csv('scores.csv',index_col='index',encoding='utf8')\n",
        "print('pandas 데이터프레임\\n',pandas_dataframe)"
      ],
      "metadata": {
        "colab": {
          "base_uri": "https://localhost:8080/"
        },
        "id": "uJzTRU45NvG3",
        "outputId": "a786beea-a5cb-4dde-84da-95052194da83"
      },
      "execution_count": null,
      "outputs": [
        {
          "output_type": "stream",
          "name": "stdout",
          "text": [
            "pandas 데이터프레임\n",
            "         국어   영어   수학   과탐  사탐\n",
            "index                        \n",
            "0      100   90   50  100  99\n",
            "1       95   95   60   90  88\n",
            "2       80  100   70   80  77\n",
            "4       90   75   90   60  55\n",
            "5       85  100  100   50  44\n"
          ]
        }
      ]
    },
    {
      "cell_type": "markdown",
      "source": [
        "반복 연산"
      ],
      "metadata": {
        "id": "Dx9jcAdIhopt"
      }
    },
    {
      "cell_type": "code",
      "source": [
        "import pandas as pd\n",
        "\n",
        "pandas_dataframe = pd.DataFrame({'국어':[100,95,80,95,90,85],\n",
        "                                '영어':[90,95,100,70,75,100],\n",
        "                                '수학':[50,60,70,80,90,100]})\n",
        "print('pandas 데이터프레임\\n',pandas_dataframe)\n",
        "\n",
        "print('국어 성적 최소값:',min(pandas_dataframe['국어']))\n",
        "print('첫번째 시험 성적 최대값:',max(pandas_dataframe.loc[0]))\n",
        "print('과목별 성적 최소값:\\n',pandas_dataframe.min(axis=0))\n",
        "print('시험별 성적 최대값:\\n',pandas_dataframe.max(axis=1))"
      ],
      "metadata": {
        "colab": {
          "base_uri": "https://localhost:8080/"
        },
        "id": "xMYNg3hnhjx5",
        "outputId": "174955a7-b4cb-4205-9199-63af2779d1a6"
      },
      "execution_count": null,
      "outputs": [
        {
          "output_type": "stream",
          "name": "stdout",
          "text": [
            "pandas 데이터프레임\n",
            "     국어   영어   수학\n",
            "0  100   90   50\n",
            "1   95   95   60\n",
            "2   80  100   70\n",
            "3   95   70   80\n",
            "4   90   75   90\n",
            "5   85  100  100\n",
            "국어 성적 최소값: 80\n",
            "첫번째 시험 성적 최대값: 100\n",
            "과목별 성적 최소값:\n",
            " 국어    80\n",
            "영어    70\n",
            "수학    50\n",
            "dtype: int64\n",
            "시험별 성적 최대값:\n",
            " 0    100\n",
            "1     95\n",
            "2    100\n",
            "3     95\n",
            "4     90\n",
            "5    100\n",
            "dtype: int64\n"
          ]
        }
      ]
    },
    {
      "cell_type": "markdown",
      "source": [
        "이상치 처리"
      ],
      "metadata": {
        "id": "MOWQcdjnUBJX"
      }
    },
    {
      "cell_type": "code",
      "source": [
        "import pandas as pd\n",
        "\n",
        "pandas_dataframe = pd.DataFrame({'이름':['홍길동','강감찬','아사녀'],'국어':[100,-95,95],'영어':[90,95,195]})\n",
        "print('pandas 데이터프레임\\n',pandas_dataframe)\n",
        "\n",
        "print('성적이 0점 미만 혹은 100점 초과인 불리언 인덱스',(pandas_dataframe < 0) | (pandas_dataframe > 100))"
      ],
      "metadata": {
        "colab": {
          "base_uri": "https://localhost:8080/",
          "height": 378
        },
        "id": "tkeb1s7GUAj0",
        "outputId": "e826bfcd-168f-40cd-bb12-59e35e74d363"
      },
      "execution_count": null,
      "outputs": [
        {
          "output_type": "stream",
          "name": "stdout",
          "text": [
            "pandas 데이터프레임\n",
            "     이름   국어   영어\n",
            "0  홍길동  100   90\n",
            "1  강감찬  -95   95\n",
            "2  아사녀   95  195\n"
          ]
        },
        {
          "output_type": "error",
          "ename": "TypeError",
          "evalue": "ignored",
          "traceback": [
            "\u001b[0;31m---------------------------------------------------------------------------\u001b[0m",
            "\u001b[0;31mTypeError\u001b[0m                                 Traceback (most recent call last)",
            "\u001b[0;32m<ipython-input-32-709184419411>\u001b[0m in \u001b[0;36m<cell line: 6>\u001b[0;34m()\u001b[0m\n\u001b[1;32m      4\u001b[0m \u001b[0mprint\u001b[0m\u001b[0;34m(\u001b[0m\u001b[0;34m'pandas 데이터프레임\\n'\u001b[0m\u001b[0;34m,\u001b[0m\u001b[0mpandas_dataframe\u001b[0m\u001b[0;34m)\u001b[0m\u001b[0;34m\u001b[0m\u001b[0;34m\u001b[0m\u001b[0m\n\u001b[1;32m      5\u001b[0m \u001b[0;34m\u001b[0m\u001b[0m\n\u001b[0;32m----> 6\u001b[0;31m \u001b[0mprint\u001b[0m\u001b[0;34m(\u001b[0m\u001b[0;34m'성적이 0점 미만 혹은 100점 초과인 불리언 인덱스'\u001b[0m\u001b[0;34m,\u001b[0m\u001b[0;34m(\u001b[0m\u001b[0mpandas_dataframe\u001b[0m \u001b[0;34m<\u001b[0m \u001b[0;36m0\u001b[0m\u001b[0;34m)\u001b[0m \u001b[0;34m|\u001b[0m \u001b[0;34m(\u001b[0m\u001b[0mpandas_dataframe\u001b[0m \u001b[0;34m>\u001b[0m \u001b[0;36m100\u001b[0m\u001b[0;34m)\u001b[0m\u001b[0;34m)\u001b[0m\u001b[0;34m\u001b[0m\u001b[0;34m\u001b[0m\u001b[0m\n\u001b[0m",
            "\u001b[0;32m/usr/local/lib/python3.10/dist-packages/pandas/core/ops/common.py\u001b[0m in \u001b[0;36mnew_method\u001b[0;34m(self, other)\u001b[0m\n\u001b[1;32m     70\u001b[0m         \u001b[0mother\u001b[0m \u001b[0;34m=\u001b[0m \u001b[0mitem_from_zerodim\u001b[0m\u001b[0;34m(\u001b[0m\u001b[0mother\u001b[0m\u001b[0;34m)\u001b[0m\u001b[0;34m\u001b[0m\u001b[0;34m\u001b[0m\u001b[0m\n\u001b[1;32m     71\u001b[0m \u001b[0;34m\u001b[0m\u001b[0m\n\u001b[0;32m---> 72\u001b[0;31m         \u001b[0;32mreturn\u001b[0m \u001b[0mmethod\u001b[0m\u001b[0;34m(\u001b[0m\u001b[0mself\u001b[0m\u001b[0;34m,\u001b[0m \u001b[0mother\u001b[0m\u001b[0;34m)\u001b[0m\u001b[0;34m\u001b[0m\u001b[0;34m\u001b[0m\u001b[0m\n\u001b[0m\u001b[1;32m     73\u001b[0m \u001b[0;34m\u001b[0m\u001b[0m\n\u001b[1;32m     74\u001b[0m     \u001b[0;32mreturn\u001b[0m \u001b[0mnew_method\u001b[0m\u001b[0;34m\u001b[0m\u001b[0;34m\u001b[0m\u001b[0m\n",
            "\u001b[0;32m/usr/local/lib/python3.10/dist-packages/pandas/core/arraylike.py\u001b[0m in \u001b[0;36m__lt__\u001b[0;34m(self, other)\u001b[0m\n\u001b[1;32m     48\u001b[0m     \u001b[0;34m@\u001b[0m\u001b[0munpack_zerodim_and_defer\u001b[0m\u001b[0;34m(\u001b[0m\u001b[0;34m\"__lt__\"\u001b[0m\u001b[0;34m)\u001b[0m\u001b[0;34m\u001b[0m\u001b[0;34m\u001b[0m\u001b[0m\n\u001b[1;32m     49\u001b[0m     \u001b[0;32mdef\u001b[0m \u001b[0m__lt__\u001b[0m\u001b[0;34m(\u001b[0m\u001b[0mself\u001b[0m\u001b[0;34m,\u001b[0m \u001b[0mother\u001b[0m\u001b[0;34m)\u001b[0m\u001b[0;34m:\u001b[0m\u001b[0;34m\u001b[0m\u001b[0;34m\u001b[0m\u001b[0m\n\u001b[0;32m---> 50\u001b[0;31m         \u001b[0;32mreturn\u001b[0m \u001b[0mself\u001b[0m\u001b[0;34m.\u001b[0m\u001b[0m_cmp_method\u001b[0m\u001b[0;34m(\u001b[0m\u001b[0mother\u001b[0m\u001b[0;34m,\u001b[0m \u001b[0moperator\u001b[0m\u001b[0;34m.\u001b[0m\u001b[0mlt\u001b[0m\u001b[0;34m)\u001b[0m\u001b[0;34m\u001b[0m\u001b[0;34m\u001b[0m\u001b[0m\n\u001b[0m\u001b[1;32m     51\u001b[0m \u001b[0;34m\u001b[0m\u001b[0m\n\u001b[1;32m     52\u001b[0m     \u001b[0;34m@\u001b[0m\u001b[0munpack_zerodim_and_defer\u001b[0m\u001b[0;34m(\u001b[0m\u001b[0;34m\"__le__\"\u001b[0m\u001b[0;34m)\u001b[0m\u001b[0;34m\u001b[0m\u001b[0;34m\u001b[0m\u001b[0m\n",
            "\u001b[0;32m/usr/local/lib/python3.10/dist-packages/pandas/core/frame.py\u001b[0m in \u001b[0;36m_cmp_method\u001b[0;34m(self, other, op)\u001b[0m\n\u001b[1;32m   7580\u001b[0m \u001b[0;34m\u001b[0m\u001b[0m\n\u001b[1;32m   7581\u001b[0m         \u001b[0;31m# See GH#4537 for discussion of scalar op behavior\u001b[0m\u001b[0;34m\u001b[0m\u001b[0;34m\u001b[0m\u001b[0m\n\u001b[0;32m-> 7582\u001b[0;31m         \u001b[0mnew_data\u001b[0m \u001b[0;34m=\u001b[0m \u001b[0mself\u001b[0m\u001b[0;34m.\u001b[0m\u001b[0m_dispatch_frame_op\u001b[0m\u001b[0;34m(\u001b[0m\u001b[0mother\u001b[0m\u001b[0;34m,\u001b[0m \u001b[0mop\u001b[0m\u001b[0;34m,\u001b[0m \u001b[0maxis\u001b[0m\u001b[0;34m=\u001b[0m\u001b[0maxis\u001b[0m\u001b[0;34m)\u001b[0m\u001b[0;34m\u001b[0m\u001b[0;34m\u001b[0m\u001b[0m\n\u001b[0m\u001b[1;32m   7583\u001b[0m         \u001b[0;32mreturn\u001b[0m \u001b[0mself\u001b[0m\u001b[0;34m.\u001b[0m\u001b[0m_construct_result\u001b[0m\u001b[0;34m(\u001b[0m\u001b[0mnew_data\u001b[0m\u001b[0;34m)\u001b[0m\u001b[0;34m\u001b[0m\u001b[0;34m\u001b[0m\u001b[0m\n\u001b[1;32m   7584\u001b[0m \u001b[0;34m\u001b[0m\u001b[0m\n",
            "\u001b[0;32m/usr/local/lib/python3.10/dist-packages/pandas/core/frame.py\u001b[0m in \u001b[0;36m_dispatch_frame_op\u001b[0;34m(self, right, func, axis)\u001b[0m\n\u001b[1;32m   7619\u001b[0m             \u001b[0;31m# i.e. scalar, faster than checking np.ndim(right) == 0\u001b[0m\u001b[0;34m\u001b[0m\u001b[0;34m\u001b[0m\u001b[0m\n\u001b[1;32m   7620\u001b[0m             \u001b[0;32mwith\u001b[0m \u001b[0mnp\u001b[0m\u001b[0;34m.\u001b[0m\u001b[0merrstate\u001b[0m\u001b[0;34m(\u001b[0m\u001b[0mall\u001b[0m\u001b[0;34m=\u001b[0m\u001b[0;34m\"ignore\"\u001b[0m\u001b[0;34m)\u001b[0m\u001b[0;34m:\u001b[0m\u001b[0;34m\u001b[0m\u001b[0;34m\u001b[0m\u001b[0m\n\u001b[0;32m-> 7621\u001b[0;31m                 \u001b[0mbm\u001b[0m \u001b[0;34m=\u001b[0m \u001b[0mself\u001b[0m\u001b[0;34m.\u001b[0m\u001b[0m_mgr\u001b[0m\u001b[0;34m.\u001b[0m\u001b[0mapply\u001b[0m\u001b[0;34m(\u001b[0m\u001b[0marray_op\u001b[0m\u001b[0;34m,\u001b[0m \u001b[0mright\u001b[0m\u001b[0;34m=\u001b[0m\u001b[0mright\u001b[0m\u001b[0;34m)\u001b[0m\u001b[0;34m\u001b[0m\u001b[0;34m\u001b[0m\u001b[0m\n\u001b[0m\u001b[1;32m   7622\u001b[0m             \u001b[0;32mreturn\u001b[0m \u001b[0mself\u001b[0m\u001b[0;34m.\u001b[0m\u001b[0m_constructor\u001b[0m\u001b[0;34m(\u001b[0m\u001b[0mbm\u001b[0m\u001b[0;34m)\u001b[0m\u001b[0;34m\u001b[0m\u001b[0;34m\u001b[0m\u001b[0m\n\u001b[1;32m   7623\u001b[0m \u001b[0;34m\u001b[0m\u001b[0m\n",
            "\u001b[0;32m/usr/local/lib/python3.10/dist-packages/pandas/core/internals/managers.py\u001b[0m in \u001b[0;36mapply\u001b[0;34m(self, f, align_keys, ignore_failures, **kwargs)\u001b[0m\n\u001b[1;32m    348\u001b[0m             \u001b[0;32mtry\u001b[0m\u001b[0;34m:\u001b[0m\u001b[0;34m\u001b[0m\u001b[0;34m\u001b[0m\u001b[0m\n\u001b[1;32m    349\u001b[0m                 \u001b[0;32mif\u001b[0m \u001b[0mcallable\u001b[0m\u001b[0;34m(\u001b[0m\u001b[0mf\u001b[0m\u001b[0;34m)\u001b[0m\u001b[0;34m:\u001b[0m\u001b[0;34m\u001b[0m\u001b[0;34m\u001b[0m\u001b[0m\n\u001b[0;32m--> 350\u001b[0;31m                     \u001b[0mapplied\u001b[0m \u001b[0;34m=\u001b[0m \u001b[0mb\u001b[0m\u001b[0;34m.\u001b[0m\u001b[0mapply\u001b[0m\u001b[0;34m(\u001b[0m\u001b[0mf\u001b[0m\u001b[0;34m,\u001b[0m \u001b[0;34m**\u001b[0m\u001b[0mkwargs\u001b[0m\u001b[0;34m)\u001b[0m\u001b[0;34m\u001b[0m\u001b[0;34m\u001b[0m\u001b[0m\n\u001b[0m\u001b[1;32m    351\u001b[0m                 \u001b[0;32melse\u001b[0m\u001b[0;34m:\u001b[0m\u001b[0;34m\u001b[0m\u001b[0;34m\u001b[0m\u001b[0m\n\u001b[1;32m    352\u001b[0m                     \u001b[0mapplied\u001b[0m \u001b[0;34m=\u001b[0m \u001b[0mgetattr\u001b[0m\u001b[0;34m(\u001b[0m\u001b[0mb\u001b[0m\u001b[0;34m,\u001b[0m \u001b[0mf\u001b[0m\u001b[0;34m)\u001b[0m\u001b[0;34m(\u001b[0m\u001b[0;34m**\u001b[0m\u001b[0mkwargs\u001b[0m\u001b[0;34m)\u001b[0m\u001b[0;34m\u001b[0m\u001b[0;34m\u001b[0m\u001b[0m\n",
            "\u001b[0;32m/usr/local/lib/python3.10/dist-packages/pandas/core/internals/blocks.py\u001b[0m in \u001b[0;36mapply\u001b[0;34m(self, func, **kwargs)\u001b[0m\n\u001b[1;32m    349\u001b[0m         \u001b[0mone\u001b[0m\u001b[0;34m\u001b[0m\u001b[0;34m\u001b[0m\u001b[0m\n\u001b[1;32m    350\u001b[0m         \"\"\"\n\u001b[0;32m--> 351\u001b[0;31m         \u001b[0mresult\u001b[0m \u001b[0;34m=\u001b[0m \u001b[0mfunc\u001b[0m\u001b[0;34m(\u001b[0m\u001b[0mself\u001b[0m\u001b[0;34m.\u001b[0m\u001b[0mvalues\u001b[0m\u001b[0;34m,\u001b[0m \u001b[0;34m**\u001b[0m\u001b[0mkwargs\u001b[0m\u001b[0;34m)\u001b[0m\u001b[0;34m\u001b[0m\u001b[0;34m\u001b[0m\u001b[0m\n\u001b[0m\u001b[1;32m    352\u001b[0m \u001b[0;34m\u001b[0m\u001b[0m\n\u001b[1;32m    353\u001b[0m         \u001b[0;32mreturn\u001b[0m \u001b[0mself\u001b[0m\u001b[0;34m.\u001b[0m\u001b[0m_split_op_result\u001b[0m\u001b[0;34m(\u001b[0m\u001b[0mresult\u001b[0m\u001b[0;34m)\u001b[0m\u001b[0;34m\u001b[0m\u001b[0;34m\u001b[0m\u001b[0m\n",
            "\u001b[0;32m/usr/local/lib/python3.10/dist-packages/pandas/core/ops/array_ops.py\u001b[0m in \u001b[0;36mcomparison_op\u001b[0;34m(left, right, op)\u001b[0m\n\u001b[1;32m    285\u001b[0m \u001b[0;34m\u001b[0m\u001b[0m\n\u001b[1;32m    286\u001b[0m     \u001b[0;32melif\u001b[0m \u001b[0mis_object_dtype\u001b[0m\u001b[0;34m(\u001b[0m\u001b[0mlvalues\u001b[0m\u001b[0;34m.\u001b[0m\u001b[0mdtype\u001b[0m\u001b[0;34m)\u001b[0m \u001b[0;32mor\u001b[0m \u001b[0misinstance\u001b[0m\u001b[0;34m(\u001b[0m\u001b[0mrvalues\u001b[0m\u001b[0;34m,\u001b[0m \u001b[0mstr\u001b[0m\u001b[0;34m)\u001b[0m\u001b[0;34m:\u001b[0m\u001b[0;34m\u001b[0m\u001b[0;34m\u001b[0m\u001b[0m\n\u001b[0;32m--> 287\u001b[0;31m         \u001b[0mres_values\u001b[0m \u001b[0;34m=\u001b[0m \u001b[0mcomp_method_OBJECT_ARRAY\u001b[0m\u001b[0;34m(\u001b[0m\u001b[0mop\u001b[0m\u001b[0;34m,\u001b[0m \u001b[0mlvalues\u001b[0m\u001b[0;34m,\u001b[0m \u001b[0mrvalues\u001b[0m\u001b[0;34m)\u001b[0m\u001b[0;34m\u001b[0m\u001b[0;34m\u001b[0m\u001b[0m\n\u001b[0m\u001b[1;32m    288\u001b[0m \u001b[0;34m\u001b[0m\u001b[0m\n\u001b[1;32m    289\u001b[0m     \u001b[0;32melse\u001b[0m\u001b[0;34m:\u001b[0m\u001b[0;34m\u001b[0m\u001b[0;34m\u001b[0m\u001b[0m\n",
            "\u001b[0;32m/usr/local/lib/python3.10/dist-packages/pandas/core/ops/array_ops.py\u001b[0m in \u001b[0;36mcomp_method_OBJECT_ARRAY\u001b[0;34m(op, x, y)\u001b[0m\n\u001b[1;32m     73\u001b[0m         \u001b[0mresult\u001b[0m \u001b[0;34m=\u001b[0m \u001b[0mlibops\u001b[0m\u001b[0;34m.\u001b[0m\u001b[0mvec_compare\u001b[0m\u001b[0;34m(\u001b[0m\u001b[0mx\u001b[0m\u001b[0;34m.\u001b[0m\u001b[0mravel\u001b[0m\u001b[0;34m(\u001b[0m\u001b[0;34m)\u001b[0m\u001b[0;34m,\u001b[0m \u001b[0my\u001b[0m\u001b[0;34m.\u001b[0m\u001b[0mravel\u001b[0m\u001b[0;34m(\u001b[0m\u001b[0;34m)\u001b[0m\u001b[0;34m,\u001b[0m \u001b[0mop\u001b[0m\u001b[0;34m)\u001b[0m\u001b[0;34m\u001b[0m\u001b[0;34m\u001b[0m\u001b[0m\n\u001b[1;32m     74\u001b[0m     \u001b[0;32melse\u001b[0m\u001b[0;34m:\u001b[0m\u001b[0;34m\u001b[0m\u001b[0;34m\u001b[0m\u001b[0m\n\u001b[0;32m---> 75\u001b[0;31m         \u001b[0mresult\u001b[0m \u001b[0;34m=\u001b[0m \u001b[0mlibops\u001b[0m\u001b[0;34m.\u001b[0m\u001b[0mscalar_compare\u001b[0m\u001b[0;34m(\u001b[0m\u001b[0mx\u001b[0m\u001b[0;34m.\u001b[0m\u001b[0mravel\u001b[0m\u001b[0;34m(\u001b[0m\u001b[0;34m)\u001b[0m\u001b[0;34m,\u001b[0m \u001b[0my\u001b[0m\u001b[0;34m,\u001b[0m \u001b[0mop\u001b[0m\u001b[0;34m)\u001b[0m\u001b[0;34m\u001b[0m\u001b[0;34m\u001b[0m\u001b[0m\n\u001b[0m\u001b[1;32m     76\u001b[0m     \u001b[0;32mreturn\u001b[0m \u001b[0mresult\u001b[0m\u001b[0;34m.\u001b[0m\u001b[0mreshape\u001b[0m\u001b[0;34m(\u001b[0m\u001b[0mx\u001b[0m\u001b[0;34m.\u001b[0m\u001b[0mshape\u001b[0m\u001b[0;34m)\u001b[0m\u001b[0;34m\u001b[0m\u001b[0;34m\u001b[0m\u001b[0m\n\u001b[1;32m     77\u001b[0m \u001b[0;34m\u001b[0m\u001b[0m\n",
            "\u001b[0;32m/usr/local/lib/python3.10/dist-packages/pandas/_libs/ops.pyx\u001b[0m in \u001b[0;36mpandas._libs.ops.scalar_compare\u001b[0;34m()\u001b[0m\n",
            "\u001b[0;31mTypeError\u001b[0m: '<' not supported between instances of 'str' and 'int'"
          ]
        }
      ]
    },
    {
      "cell_type": "code",
      "source": [
        "target_column = ['국어','영어']\n",
        "print('성적이 0점 미만 혹은 100점 초과인 불리언 인덱스\\n',\n",
        "      (pandas_dataframe[target_column] < 0) | (pandas_dataframe[target_column] > 100))"
      ],
      "metadata": {
        "colab": {
          "base_uri": "https://localhost:8080/"
        },
        "id": "79V13j82O8fW",
        "outputId": "ecd13d75-5849-4c2b-b002-37cd58e744b6"
      },
      "execution_count": null,
      "outputs": [
        {
          "output_type": "stream",
          "name": "stdout",
          "text": [
            "성적이 0점 미만 혹은 100점 초과인 불리언 인덱스\n",
            "       국어     영어\n",
            "0  False  False\n",
            "1   True  False\n",
            "2  False   True\n"
          ]
        }
      ]
    },
    {
      "cell_type": "code",
      "source": [
        "import numpy as np\n",
        "\n",
        "pandas_dataframe[(pandas_dataframe[target_column] < 0) | (pandas_dataframe[target_column] > 100)] = np.nan\n",
        "print('pandas 데이터프레임\\n',pandas_dataframe)"
      ],
      "metadata": {
        "colab": {
          "base_uri": "https://localhost:8080/"
        },
        "id": "5v6PgKzHSsFr",
        "outputId": "bea0fdc5-93d6-4029-93af-079e004e7ee2"
      },
      "execution_count": null,
      "outputs": [
        {
          "output_type": "stream",
          "name": "stdout",
          "text": [
            "pandas 데이터프레임\n",
            "     이름     국어    영어\n",
            "0  홍길동  100.0  90.0\n",
            "1  강감찬    NaN  95.0\n",
            "2  아사녀   95.0   NaN\n"
          ]
        }
      ]
    },
    {
      "cell_type": "code",
      "source": [
        "import pandas as pd\n",
        "\n",
        "pandas_dataframe = pd.DataFrame({'이름':['아사달','아사녀','아무개'],'성별':['남','녀','난'],'국어':[100,95,95]})\n",
        "print('처리전 pandas 데이터프레임\\n',pandas_dataframe)\n",
        "\n",
        "target_column = ['성별']\n",
        "valid_sex = ['남','녀']\n",
        "pandas_dataframe[~(pandas_dataframe[target_column].isin(valid_sex))] = np.nan\n",
        "print('처리후 pandas 데이터프레임\\n',pandas_dataframe)"
      ],
      "metadata": {
        "colab": {
          "base_uri": "https://localhost:8080/"
        },
        "id": "-r9FFHu1VxlY",
        "outputId": "e395c518-e116-4147-d668-98257c5b1c32"
      },
      "execution_count": null,
      "outputs": [
        {
          "output_type": "stream",
          "name": "stdout",
          "text": [
            "처리전 pandas 데이터프레임\n",
            "     이름 성별   국어\n",
            "0  아사달  남  100\n",
            "1  아사녀  녀   95\n",
            "2  아무개  난   95\n",
            "처리후 pandas 데이터프레임\n",
            "     이름   성별   국어\n",
            "0  아사달    남  100\n",
            "1  아사녀    녀   95\n",
            "2  아무개  NaN   95\n"
          ]
        }
      ]
    },
    {
      "cell_type": "code",
      "source": [
        "import pandas as pd\n",
        "import matplotlib.pyplot as plt\n",
        "\n",
        "heights = pd.Series([180,165,150,175,185,200,170,169,177,181])\n",
        "\n",
        "plt.boxplot(heights)\n",
        "plt.show()"
      ],
      "metadata": {
        "colab": {
          "base_uri": "https://localhost:8080/",
          "height": 430
        },
        "id": "SwtxX3E347IY",
        "outputId": "324f40fa-610f-4df3-83f1-83e6b5cc5778"
      },
      "execution_count": null,
      "outputs": [
        {
          "output_type": "display_data",
          "data": {
            "text/plain": [
              "<Figure size 640x480 with 1 Axes>"
            ],
            "image/png": "[encoded data removed]"
          },
          "metadata": {}
        }
      ]
    },
    {
      "cell_type": "code",
      "source": [
        "import numpy as np\n",
        "\n",
        "Q1 = heights.quantile(0.25)\n",
        "Q3 = heights.quantile(0.75)\n",
        "IQR = Q3 - Q1       # InterQuartile Range\n",
        "lower_bound = Q1 - 1.5 * IQR\n",
        "upper_bound = Q3 + 1.5 * IQR\n",
        "print('1사분위:',Q1,', 3사분위:',Q3,', IQR:',IQR)\n",
        "print('하위 이상치 경계값:',lower_bound,', 하위 이상치 경계값:',upper_bound)\n",
        "\n",
        "heights[(heights < lower_bound) | (heights > upper_bound)] = np.nan\n",
        "print(heights)"
      ],
      "metadata": {
        "colab": {
          "base_uri": "https://localhost:8080/"
        },
        "id": "JxMsOVPEEjyl",
        "outputId": "d692b45e-205d-42f2-ad8b-1eea1fa8caa2"
      },
      "execution_count": null,
      "outputs": [
        {
          "output_type": "stream",
          "name": "stdout",
          "text": [
            "1사분위: 169.75 , 3사분위: 180.25 , IQR: 10.5\n",
            "하위 이상치 경계값: 154.0 , 하위 이상치 경계값: 196.0\n",
            "0    180.0\n",
            "1    165.0\n",
            "2      NaN\n",
            "3    175.0\n",
            "4    185.0\n",
            "5      NaN\n",
            "6    170.0\n",
            "7    169.0\n",
            "8    177.0\n",
            "9    181.0\n",
            "dtype: float64\n"
          ]
        }
      ]
    },
    {
      "cell_type": "markdown",
      "source": [
        "\tpandas 패키지의 고유 기능"
      ],
      "metadata": {
        "id": "vO2IOIBH8o6k"
      }
    },
    {
      "cell_type": "markdown",
      "source": [
        "다양한 인덱스"
      ],
      "metadata": {
        "id": "S1xjZU7q8u86"
      }
    },
    {
      "cell_type": "code",
      "source": [
        "import pandas as pd\n",
        "\n",
        "pandas_dataframe = pd.DataFrame({'국어':[100,95,80,95,90,85],\n",
        "                                 '영어':[90,95,100,70,75,100],\n",
        "                                 '수학':[50,60,70,80,90,100]})\n",
        "\n",
        "print('pandas 데이터프레임\\n',pandas_dataframe)\n",
        "print('데이터프레임의 인덱스:',pandas_dataframe.index)\n",
        "print('데이터프레임의 열 이름:',pandas_dataframe.columns)\n",
        "print('데이터프레임의 값\\n',pandas_dataframe.values)\n",
        "print('데이터프레임의 값의 자료형:',type(pandas_dataframe.values))"
      ],
      "metadata": {
        "colab": {
          "base_uri": "https://localhost:8080/"
        },
        "id": "S1x8RL_A9Nab",
        "outputId": "991cfe0e-2bc7-411b-b00d-88649d83cb69"
      },
      "execution_count": null,
      "outputs": [
        {
          "output_type": "stream",
          "name": "stdout",
          "text": [
            "pandas 데이터프레임\n",
            "     국어   영어   수학\n",
            "0  100   90   50\n",
            "1   95   95   60\n",
            "2   80  100   70\n",
            "3   95   70   80\n",
            "4   90   75   90\n",
            "5   85  100  100\n",
            "데이터프레임의 인덱스: RangeIndex(start=0, stop=6, step=1)\n",
            "데이터프레임의 열 이름: Index(['국어', '영어', '수학'], dtype='object')\n",
            "데이터프레임의 값\n",
            " [[100  90  50]\n",
            " [ 95  95  60]\n",
            " [ 80 100  70]\n",
            " [ 95  70  80]\n",
            " [ 90  75  90]\n",
            " [ 85 100 100]]\n",
            "데이터프레임의 값의 자료형: <class 'numpy.ndarray'>\n"
          ]
        }
      ]
    },
    {
      "cell_type": "code",
      "source": [
        "import pandas as pd\n",
        "\n",
        "exams = ['1차퀴즈','2차퀴즈','중간고사','3차퀴즈','4차퀴즈','기말고사']\n",
        "pandas_dataframe = pd.DataFrame({'국어':[100,95,80,95,90,85],\n",
        "                                 '영어':[90,95,100,70,75,100],\n",
        "                                 '수학':[50,60,70,80,90,100]},\n",
        "                                index=exams)\n",
        "\n",
        "print('pandas 데이터프레임\\n',pandas_dataframe)\n",
        "print('데이터프레임의 인덱스:',pandas_dataframe.index)"
      ],
      "metadata": {
        "colab": {
          "base_uri": "https://localhost:8080/"
        },
        "id": "q0MMOtxdEZcL",
        "outputId": "01784657-b1f0-46a8-f74b-1c278e3121f7"
      },
      "execution_count": null,
      "outputs": [
        {
          "output_type": "stream",
          "name": "stdout",
          "text": [
            "pandas 데이터프레임\n",
            "        국어   영어   수학\n",
            "1차퀴즈  100   90   50\n",
            "2차퀴즈   95   95   60\n",
            "중간고사   80  100   70\n",
            "3차퀴즈   95   70   80\n",
            "4차퀴즈   90   75   90\n",
            "기말고사   85  100  100\n",
            "데이터프레임의 인덱스: Index(['1차퀴즈', '2차퀴즈', '중간고사', '3차퀴즈', '4차퀴즈', '기말고사'], dtype='object')\n"
          ]
        }
      ]
    },
    {
      "cell_type": "code",
      "source": [
        "print('중간고사 성적\\n',pandas_dataframe.loc['중간고사'])\n",
        "print('중간고사 영어 성적:',pandas_dataframe.loc['중간고사','영어'])"
      ],
      "metadata": {
        "colab": {
          "base_uri": "https://localhost:8080/"
        },
        "id": "TCy3OYZeJtFW",
        "outputId": "dab006b1-c57c-4a52-e045-a34e839e4d7e"
      },
      "execution_count": null,
      "outputs": [
        {
          "output_type": "stream",
          "name": "stdout",
          "text": [
            "중간고사 성적\n",
            " 국어     80\n",
            "영어    100\n",
            "수학     70\n",
            "Name: 중간고사, dtype: int64\n",
            "중간고사 영어 성적: 100\n"
          ]
        }
      ]
    },
    {
      "cell_type": "markdown",
      "source": [
        "시계열 데이터 처리"
      ],
      "metadata": {
        "id": "GMtoZIhFYwrE"
      }
    },
    {
      "cell_type": "code",
      "source": [
        "from datetime import datetime\n",
        "\n",
        "now = datetime.now()\n",
        "print(\"현재의 datetime:\",now)"
      ],
      "metadata": {
        "colab": {
          "base_uri": "https://localhost:8080/"
        },
        "id": "3lOEhqA2d4zC",
        "outputId": "1ce80f8d-6622-460b-a97d-f3cf1181536b"
      },
      "execution_count": null,
      "outputs": [
        {
          "output_type": "stream",
          "name": "stdout",
          "text": [
            "현재의 datetime: 2023-04-06 07:58:54.542829\n"
          ]
        }
      ]
    },
    {
      "cell_type": "code",
      "source": [
        "from datetime import datetime\n",
        "\n",
        "now = datetime.now()\n",
        "print(\"현재의 datetime:\",now)"
      ],
      "metadata": {
        "id": "NzhPnbADkl_l"
      },
      "execution_count": null,
      "outputs": []
    },
    {
      "cell_type": "code",
      "source": [
        "print(\"현재 날짜:\",now.date())\n",
        "print(\"현재 시간:\",now.time())\n",
        "\n",
        "print(\"현재 년:\",now.year)\n",
        "print(\"현재 월:\",now.month)\n",
        "print(\"현재 일:\",now.day)\n",
        "print(\"현재 시:\",now.hour)\n",
        "print(\"현재 분:\",now.minute)\n",
        "print(\"현재 초:\",now.second)"
      ],
      "metadata": {
        "colab": {
          "base_uri": "https://localhost:8080/"
        },
        "id": "-mowyefYkmzr",
        "outputId": "e8239354-b4dd-4bb1-8b12-129f936b62b6"
      },
      "execution_count": null,
      "outputs": [
        {
          "output_type": "stream",
          "name": "stdout",
          "text": [
            "현재 날짜: 2023-04-06\n",
            "현재 시간: 07:58:54.542829\n",
            "현재 년: 2023\n",
            "현재 월: 4\n",
            "현재 일: 6\n",
            "현재 시: 7\n",
            "현재 분: 58\n",
            "현재 초: 54\n"
          ]
        }
      ]
    },
    {
      "cell_type": "code",
      "source": [
        "from datetime import datetime\n",
        "\n",
        "start_datetime = datetime(2023,4,7,9,0)\n",
        "end_datetime = datetime(2023,4,16,17,30)\n",
        "\n",
        "print(\"시작일시:\",start_datetime)\n",
        "print(\"종료일시:\",end_datetime)\n",
        "print(\"소요일시:\",end_datetime - start_datetime)"
      ],
      "metadata": {
        "colab": {
          "base_uri": "https://localhost:8080/"
        },
        "id": "kohPzBG19Zi4",
        "outputId": "48864a72-180f-4a05-ff1a-cac278ae8f8c"
      },
      "execution_count": null,
      "outputs": [
        {
          "output_type": "stream",
          "name": "stdout",
          "text": [
            "시작일시: 2023-04-07 09:00:00\n",
            "종료일시: 2023-04-16 17:30:00\n",
            "소요일시: 9 days, 8:30:00\n"
          ]
        }
      ]
    },
    {
      "cell_type": "code",
      "source": [
        "from datetime import date\n",
        "\n",
        "start_date = date(2023,4,7)\n",
        "end_date = date(2023,4,16)\n",
        "\n",
        "print(\"시작일:\",start_date)\n",
        "print(\"종료일:\",end_date)\n",
        "print(\"소요일:\",end_date - start_date)\n",
        "print(\"소요일의 자료형:\",type(end_date - start_date))"
      ],
      "metadata": {
        "colab": {
          "base_uri": "https://localhost:8080/"
        },
        "id": "QkY9OdMpBS09",
        "outputId": "88d07dd6-9276-40de-b2b1-9627f47059a0"
      },
      "execution_count": null,
      "outputs": [
        {
          "output_type": "stream",
          "name": "stdout",
          "text": [
            "시작일: 2023-04-07\n",
            "종료일: 2023-04-16\n",
            "소요일: 9 days, 0:00:00\n",
            "소요일의 자료형: <class 'datetime.timedelta'>\n"
          ]
        }
      ]
    },
    {
      "cell_type": "code",
      "source": [
        "from datetime import date, timedelta\n",
        "\n",
        "start_date = date(2023,4,7)\n",
        "end_date = date(2023,4,16)\n",
        "\n",
        "print(\"시작일:\",start_date)\n",
        "print(\"종료일:\",end_date)\n",
        "print(\"소요일:\",end_date - start_date + timedelta(days=1))"
      ],
      "metadata": {
        "colab": {
          "base_uri": "https://localhost:8080/"
        },
        "id": "A5IKaALkEndQ",
        "outputId": "e637ab72-960d-44b9-b8c3-e39dbb88f687"
      },
      "execution_count": null,
      "outputs": [
        {
          "output_type": "stream",
          "name": "stdout",
          "text": [
            "시작일: 2023-04-07\n",
            "종료일: 2023-04-16\n",
            "소요일: 10 days, 0:00:00\n"
          ]
        }
      ]
    },
    {
      "cell_type": "code",
      "source": [
        "from datetime import date, timedelta\n",
        "\n",
        "today = date.today()\n",
        "day_delta = timedelta(days=10)\n",
        "print('오늘 날짜:',today)\n",
        "print('10일전 날짜:',today - day_delta)\n",
        "print('10일후 날짜:',today + day_delta)"
      ],
      "metadata": {
        "colab": {
          "base_uri": "https://localhost:8080/"
        },
        "id": "Obv0ydi2Y_ME",
        "outputId": "b5920455-4780-4919-d863-81c7846b5ca0"
      },
      "execution_count": null,
      "outputs": [
        {
          "output_type": "stream",
          "name": "stdout",
          "text": [
            "오늘 날짜: 2023-08-31\n",
            "10일전 날짜: 2023-08-21\n",
            "10일후 날짜: 2023-09-10\n"
          ]
        }
      ]
    },
    {
      "cell_type": "code",
      "source": [
        "from datetime import datetime, timedelta\n",
        "from dateutil.relativedelta import relativedelta\n",
        "\n",
        "now = datetime.now()\n",
        "\n",
        "print('현재일시:',now)\n",
        "print('10년전:',now - relativedelta(years=10))\n",
        "print('10개월후:',now + relativedelta(months=10))\n",
        "print('10시간전:',now - timedelta(hours=10))\n",
        "print('10분후:',now + timedelta(minutes=10))\n",
        "print('10초전:',now - timedelta(seconds=10))\n",
        "print('10마이크로초후:',now + timedelta(microseconds=10))"
      ],
      "metadata": {
        "colab": {
          "base_uri": "https://localhost:8080/"
        },
        "id": "X552cU5UMAfP",
        "outputId": "3016c546-aece-415f-a24a-74ed29ae86bd"
      },
      "execution_count": null,
      "outputs": [
        {
          "output_type": "stream",
          "name": "stdout",
          "text": [
            "현재일시: 2023-08-31 02:39:27.997769\n",
            "10년전: 2013-08-31 02:39:27.997769\n",
            "10개월후: 2024-06-30 02:39:27.997769\n",
            "10시간전: 2023-08-30 16:39:27.997769\n",
            "10분후: 2023-08-31 02:49:27.997769\n",
            "10초전: 2023-08-31 02:39:17.997769\n",
            "10마이크로초후: 2023-08-31 02:39:27.997779\n"
          ]
        }
      ]
    },
    {
      "cell_type": "code",
      "source": [
        "from datetime import date\n",
        "\n",
        "weekday_dict = { 0: '월요일',\n",
        "                 1: '화요일',\n",
        "                 2: '수요일',\n",
        "                 3: '목요일',\n",
        "                 4: '금요일',\n",
        "                 5: '토요일',\n",
        "                 6: '일요일' }\n",
        "\n",
        "print('현재요일:',weekday_dict[date.today().weekday()])"
      ],
      "metadata": {
        "colab": {
          "base_uri": "https://localhost:8080/"
        },
        "id": "3bfj6ZzqafdF",
        "outputId": "8321a74c-fd7e-4a89-f3a4-ffec6dc79f9b"
      },
      "execution_count": null,
      "outputs": [
        {
          "output_type": "stream",
          "name": "stdout",
          "text": [
            "현재요일: 목요일\n"
          ]
        }
      ]
    },
    {
      "cell_type": "code",
      "source": [
        "import time\n",
        "\n",
        "print('Enter 키 입력전 현재 초:', before_seconds := time.time())\n",
        "input('Enter 키를 치세요.')\n",
        "print('Enter 키 입력후 현재 초:', after_seconds := time.time())\n",
        "print('Enter 키 입력을 위하여 걸린 초:', after_seconds - before_seconds)"
      ],
      "metadata": {
        "colab": {
          "base_uri": "https://localhost:8080/"
        },
        "id": "fP-Bo6fazyxY",
        "outputId": "868dedc5-17ea-46a6-f4ae-4bbcd8b2a37f"
      },
      "execution_count": null,
      "outputs": [
        {
          "output_type": "stream",
          "name": "stdout",
          "text": [
            "Enter 키 입력전 현재 초: 1693449803.06651\n",
            "Enter 키를 치세요.\n",
            "Enter 키 입력후 현재 초: 1693449808.8644805\n",
            "Enter 키 입력을 위하여 걸린 초: 5.797970533370972\n"
          ]
        }
      ]
    },
    {
      "cell_type": "code",
      "source": [
        "import pandas as pd\n",
        "\n",
        "exam_dates = ['2022-09-20','2022-10-01','2022-10-25','2022-11-15','2022-11-25','2022-12-02']\n",
        "pandas_dataframe = pd.DataFrame({'국어':[100,95,80,95,90,85],\n",
        "                                 '영어':[90,95,100,70,75,100],\n",
        "                                 '수학':[50,60,70,80,90,100]},\n",
        "                                index=exam_dates)\n",
        "\n",
        "print('pandas 데이터프레임\\n',pandas_dataframe)\n",
        "print('데이터프레임의 인덱스:',pandas_dataframe.index)\n",
        "print('2022년 10월 25일이후의 시험 성적:\\n',pandas_dataframe.loc['2022-10-25':])"
      ],
      "metadata": {
        "colab": {
          "base_uri": "https://localhost:8080/"
        },
        "id": "O6iUb6hAYz-v",
        "outputId": "c2d5288a-d8a9-4cf9-a68c-f9c1ef1ffcaf"
      },
      "execution_count": null,
      "outputs": [
        {
          "output_type": "stream",
          "name": "stdout",
          "text": [
            "pandas 데이터프레임\n",
            "              국어   영어   수학\n",
            "2022-09-20  100   90   50\n",
            "2022-10-01   95   95   60\n",
            "2022-10-25   80  100   70\n",
            "2022-11-15   95   70   80\n",
            "2022-11-25   90   75   90\n",
            "2022-12-02   85  100  100\n",
            "데이터프레임의 인덱스: Index(['2022-09-20', '2022-10-01', '2022-10-25', '2022-11-15', '2022-11-25',\n",
            "       '2022-12-02'],\n",
            "      dtype='object')\n",
            "2022년 10월 25일이후의 시험 성적:\n",
            "             국어   영어   수학\n",
            "2022-10-25  80  100   70\n",
            "2022-11-15  95   70   80\n",
            "2022-11-25  90   75   90\n",
            "2022-12-02  85  100  100\n"
          ]
        }
      ]
    },
    {
      "cell_type": "code",
      "source": [
        "import pandas as pd\n",
        "from datetime import date, datetime, timedelta\n",
        "\n",
        "exam_dates = [datetime(2022,9,20),datetime(2022,10,1),datetime(2022,10,25),\n",
        "              datetime(2022,11,15),datetime(2022,11,25),datetime(2022,12,2)]\n",
        "pandas_dataframe = pd.DataFrame({'국어':[100,95,80,95,90,85],\n",
        "                                 '영어':[90,95,100,70,75,100],\n",
        "                                 '수학':[50,60,70,80,90,100]},\n",
        "                                index=exam_dates)\n",
        "\n",
        "print('pandas 데이터프레임\\n',pandas_dataframe)\n",
        "print('데이터프레임의 인덱스:',pandas_dataframe.index)\n",
        "print('현재~180일 이전의 시험 성적\\n',pandas_dataframe.loc[date.today() - timedelta(days=180):date.today()])"
      ],
      "metadata": {
        "colab": {
          "base_uri": "https://localhost:8080/"
        },
        "id": "K4tb_sxAj4QD",
        "outputId": "1f732d25-da5c-4ba8-ace4-075c98a41219"
      },
      "execution_count": null,
      "outputs": [
        {
          "output_type": "stream",
          "name": "stdout",
          "text": [
            "pandas 데이터프레임\n",
            "              국어   영어   수학\n",
            "2022-09-20  100   90   50\n",
            "2022-10-01   95   95   60\n",
            "2022-10-25   80  100   70\n",
            "2022-11-15   95   70   80\n",
            "2022-11-25   90   75   90\n",
            "2022-12-02   85  100  100\n",
            "데이터프레임의 인덱스: DatetimeIndex(['2022-09-20', '2022-10-01', '2022-10-25', '2022-11-15',\n",
            "               '2022-11-25', '2022-12-02'],\n",
            "              dtype='datetime64[ns]', freq=None)\n",
            "현재~180일 이전의 시험 성적\n",
            " Empty DataFrame\n",
            "Columns: [국어, 영어, 수학]\n",
            "Index: []\n"
          ]
        }
      ]
    },
    {
      "cell_type": "code",
      "source": [
        "import pandas as pd\n",
        "\n",
        "exam_dates = pd.to_datetime(['2022-09-20','2022-10-01','2022-10-25','2022-11-15','2022-11-25','2022-12-02'])\n",
        "pandas_dataframe = pd.DataFrame({'국어':[100,95,80,95,90,85],\n",
        "                                 '영어':[90,95,100,70,75,100],\n",
        "                                 '수학':[50,60,70,80,90,100]},\n",
        "                                index=exam_dates)\n",
        "\n",
        "print('pandas 데이터프레임\\n',pandas_dataframe)\n",
        "print('데이터프레임의 인덱스:',pandas_dataframe.index)\n",
        "print('현재~180일 이전의 시험 성적\\n',pandas_dataframe.loc[date.today() - timedelta(days=180):date.today()])"
      ],
      "metadata": {
        "colab": {
          "base_uri": "https://localhost:8080/"
        },
        "id": "gjtvzPe0q7SV",
        "outputId": "6ce07c1c-c1aa-4164-df86-c0f4c219308c"
      },
      "execution_count": null,
      "outputs": [
        {
          "output_type": "stream",
          "name": "stdout",
          "text": [
            "pandas 데이터프레임\n",
            "              국어   영어   수학\n",
            "2022-09-20  100   90   50\n",
            "2022-10-01   95   95   60\n",
            "2022-10-25   80  100   70\n",
            "2022-11-15   95   70   80\n",
            "2022-11-25   90   75   90\n",
            "2022-12-02   85  100  100\n",
            "데이터프레임의 인덱스: DatetimeIndex(['2022-09-20', '2022-10-01', '2022-10-25', '2022-11-15',\n",
            "               '2022-11-25', '2022-12-02'],\n",
            "              dtype='datetime64[ns]', freq=None)\n",
            "현재~180일 이전의 시험 성적\n",
            " Empty DataFrame\n",
            "Columns: [국어, 영어, 수학]\n",
            "Index: []\n"
          ]
        }
      ]
    },
    {
      "cell_type": "code",
      "source": [
        "import pandas as pd\n",
        "\n",
        "exam_dates = pd.date_range('2022-07-15',periods=6,freq='D')\n",
        "print('2022년 7월 15일부터 6일간:',exam_dates)\n",
        "exam_dates = pd.date_range('2022-07-15','2022-07-17',freq='D')\n",
        "print('2022년 7월 15일부터 7월 17일까지 매일:',exam_dates)\n",
        "\n",
        "exam_dates = pd.date_range('2022-07-15 09:00',periods=4,freq='H')\n",
        "print('2022년 7월 15일 9시부터 4시간:',exam_dates)\n",
        "exam_dates = pd.date_range('2022-07-15 09:00','2022-07-15 12:00',freq='H')\n",
        "print('2022년 7월 15일 9시부터 12시까지 매시간:',exam_dates)"
      ],
      "metadata": {
        "colab": {
          "base_uri": "https://localhost:8080/"
        },
        "id": "-N0D-ph4bmBa",
        "outputId": "51f1c345-abcc-4c30-9c06-517f713cc223"
      },
      "execution_count": null,
      "outputs": [
        {
          "output_type": "stream",
          "name": "stdout",
          "text": [
            "2022년 7월 15일부터 6일간: DatetimeIndex(['2022-07-15', '2022-07-16', '2022-07-17', '2022-07-18',\n",
            "               '2022-07-19', '2022-07-20'],\n",
            "              dtype='datetime64[ns]', freq='D')\n",
            "2022년 7월 15일부터 7월 17일까지 매일: DatetimeIndex(['2022-07-15', '2022-07-16', '2022-07-17'], dtype='datetime64[ns]', freq='D')\n",
            "2022년 7월 15일 9시부터 4시간: DatetimeIndex(['2022-07-15 09:00:00', '2022-07-15 10:00:00',\n",
            "               '2022-07-15 11:00:00', '2022-07-15 12:00:00'],\n",
            "              dtype='datetime64[ns]', freq='H')\n",
            "2022년 7월 15일 9시부터 12시까지 매시간: DatetimeIndex(['2022-07-15 09:00:00', '2022-07-15 10:00:00',\n",
            "               '2022-07-15 11:00:00', '2022-07-15 12:00:00'],\n",
            "              dtype='datetime64[ns]', freq='H')\n"
          ]
        }
      ]
    },
    {
      "cell_type": "markdown",
      "source": [
        "결측치 처리"
      ],
      "metadata": {
        "id": "Ca7mx7RS6zJi"
      }
    },
    {
      "cell_type": "code",
      "source": [
        "import pandas as pd\n",
        "\n",
        "pandas_dataframe = pd.DataFrame({'국어':[100,95,None,95,90,85],\n",
        "                                 '영어':[90,95,None,70,75,100],\n",
        "                                 '수학':[50,60,None,80,90,100]})\n",
        "print('pandas 데이터프레임\\n',pandas_dataframe)"
      ],
      "metadata": {
        "colab": {
          "base_uri": "https://localhost:8080/"
        },
        "id": "9zIBJUyq7QGQ",
        "outputId": "15ef63f0-2284-4980-88f4-7925b7bee374"
      },
      "execution_count": null,
      "outputs": [
        {
          "output_type": "stream",
          "name": "stdout",
          "text": [
            "pandas 데이터프레임\n",
            "       국어     영어     수학\n",
            "0  100.0   90.0   50.0\n",
            "1   95.0   95.0   60.0\n",
            "2    NaN    NaN    NaN\n",
            "3   95.0   70.0   80.0\n",
            "4   90.0   75.0   90.0\n",
            "5   85.0  100.0  100.0\n"
          ]
        }
      ]
    },
    {
      "cell_type": "code",
      "source": [
        "print('pandas_dataframe.isna()\\n',pandas_dataframe.isna())\n",
        "print('pandas_dataframe.isnull()\\n',pandas_dataframe.isnull())"
      ],
      "metadata": {
        "colab": {
          "base_uri": "https://localhost:8080/"
        },
        "id": "EWPA7X0ElEnh",
        "outputId": "aaaf32fa-c885-4d12-fae6-bbe15f7a8c38"
      },
      "execution_count": null,
      "outputs": [
        {
          "output_type": "stream",
          "name": "stdout",
          "text": [
            "pandas_dataframe.isna()\n",
            "       국어     영어     수학\n",
            "0  False  False  False\n",
            "1  False  False  False\n",
            "2   True   True   True\n",
            "3  False  False  False\n",
            "4  False  False  False\n",
            "5  False  False  False\n",
            "pandas_dataframe.isnull()\n",
            "       국어     영어     수학\n",
            "0  False  False  False\n",
            "1  False  False  False\n",
            "2   True   True   True\n",
            "3  False  False  False\n",
            "4  False  False  False\n",
            "5  False  False  False\n"
          ]
        }
      ]
    },
    {
      "cell_type": "code",
      "source": [
        "pandas_dataframe['국어'][5] = pandas_dataframe['국어'][5]/0\n",
        "pandas_dataframe['영어'][0] = 0\n",
        "pandas_dataframe['영어'][0] = pandas_dataframe['영어'][0]/0\n",
        "pandas_dataframe['수학'][1] = -1\n",
        "pandas_dataframe['수학'][1] = pandas_dataframe['수학'][1]/0\n",
        "print('pandas 데이터프레임\\n',pandas_dataframe)"
      ],
      "metadata": {
        "colab": {
          "base_uri": "https://localhost:8080/"
        },
        "id": "lCRllxts86g-",
        "outputId": "301da476-61bc-4514-c5b9-3b9308b3026e"
      },
      "execution_count": null,
      "outputs": [
        {
          "output_type": "stream",
          "name": "stdout",
          "text": [
            "pandas 데이터프레임\n",
            "       국어     영어     수학\n",
            "0  100.0    NaN   50.0\n",
            "1   95.0   95.0   -inf\n",
            "2    NaN    NaN    NaN\n",
            "3   95.0   70.0   80.0\n",
            "4   90.0   75.0   90.0\n",
            "5    inf  100.0  100.0\n"
          ]
        },
        {
          "output_type": "stream",
          "name": "stderr",
          "text": [
            "<ipython-input-9-cb71ba0e41a6>:1: RuntimeWarning: divide by zero encountered in double_scalars\n",
            "  pandas_dataframe['국어'][5] = pandas_dataframe['국어'][5]/0\n",
            "<ipython-input-9-cb71ba0e41a6>:3: RuntimeWarning: invalid value encountered in double_scalars\n",
            "  pandas_dataframe['영어'][0] = pandas_dataframe['영어'][0]/0\n",
            "<ipython-input-9-cb71ba0e41a6>:5: RuntimeWarning: divide by zero encountered in double_scalars\n",
            "  pandas_dataframe['수학'][1] = pandas_dataframe['수학'][1]/0\n"
          ]
        }
      ]
    },
    {
      "cell_type": "code",
      "source": [
        "print('Nan 값의 개수\\n',pandas_dataframe.isna().sum())"
      ],
      "metadata": {
        "colab": {
          "base_uri": "https://localhost:8080/"
        },
        "id": "x4lAtJL6BOOn",
        "outputId": "aa52b506-9d58-4d24-d3e0-3709ca282832"
      },
      "execution_count": null,
      "outputs": [
        {
          "output_type": "stream",
          "name": "stdout",
          "text": [
            "Nan 값의 개수\n",
            " 국어    1\n",
            "영어    2\n",
            "수학    1\n",
            "dtype: int64\n"
          ]
        }
      ]
    },
    {
      "cell_type": "code",
      "source": [
        "print('Nan 값의 개수\\n',pandas_dataframe.isna().sum().sum())"
      ],
      "metadata": {
        "colab": {
          "base_uri": "https://localhost:8080/"
        },
        "id": "MhLOlPGCB78n",
        "outputId": "be14a483-421d-448c-a5f2-5e83cf9196b5"
      },
      "execution_count": null,
      "outputs": [
        {
          "output_type": "stream",
          "name": "stdout",
          "text": [
            "Nan 값의 개수\n",
            " 4\n"
          ]
        }
      ]
    },
    {
      "cell_type": "code",
      "source": [
        "print('결측치 처리전 pandas 데이터프레임\\n',pandas_dataframe)\n",
        "pandas_dataframe = pandas_dataframe.dropna()\n",
        "print('결측치 처리후 pandas 데이터프레임\\n',pandas_dataframe)"
      ],
      "metadata": {
        "colab": {
          "base_uri": "https://localhost:8080/"
        },
        "id": "0BhPhCk7RSVE",
        "outputId": "061687a4-8172-4272-ffad-f10a7cec2a51"
      },
      "execution_count": null,
      "outputs": [
        {
          "output_type": "stream",
          "name": "stdout",
          "text": [
            "결측치 처리전 pandas 데이터프레임\n",
            "       국어     영어     수학\n",
            "0  100.0    NaN   50.0\n",
            "1   95.0   95.0   -inf\n",
            "2    NaN    NaN    NaN\n",
            "3   95.0   70.0   80.0\n",
            "4   90.0   75.0   90.0\n",
            "5    inf  100.0  100.0\n",
            "결측치 처리후 pandas 데이터프레임\n",
            "      국어     영어     수학\n",
            "1  95.0   95.0   -inf\n",
            "3  95.0   70.0   80.0\n",
            "4  90.0   75.0   90.0\n",
            "5   inf  100.0  100.0\n"
          ]
        }
      ]
    },
    {
      "cell_type": "code",
      "source": [
        "import pandas as pd\n",
        "\n",
        "pandas_dataframe = pd.DataFrame({'국어':[100,95,None,95,90,85],\n",
        "                                 '영어':[90,95,None,70,75,100],\n",
        "                                 '수학':[50,60,None,80,90,100]})\n",
        "pandas_dataframe['국어'][5] = pandas_dataframe['국어'][5]/0\n",
        "pandas_dataframe['영어'][0] = 0\n",
        "pandas_dataframe['영어'][0] = pandas_dataframe['영어'][0]/0\n",
        "pandas_dataframe['수학'][1] = -1\n",
        "pandas_dataframe['수학'][1] = pandas_dataframe['수학'][1]/0\n",
        "\n",
        "pandas_dataframe.dropna(how='all',inplace=True)\n",
        "print('pandas 데이터프레임\\n',pandas_dataframe)"
      ],
      "metadata": {
        "colab": {
          "base_uri": "https://localhost:8080/"
        },
        "id": "cWKcCG9yGnVw",
        "outputId": "10c730ee-897e-4d15-8a86-ec6a470bf787"
      },
      "execution_count": null,
      "outputs": [
        {
          "output_type": "stream",
          "name": "stdout",
          "text": [
            "pandas 데이터프레임\n",
            "       국어     영어     수학\n",
            "0  100.0    NaN   50.0\n",
            "1   95.0   95.0   -inf\n",
            "3   95.0   70.0   80.0\n",
            "4   90.0   75.0   90.0\n",
            "5    inf  100.0  100.0\n"
          ]
        },
        {
          "output_type": "stream",
          "name": "stderr",
          "text": [
            "<ipython-input-13-1dfa5f4c7f70>:6: RuntimeWarning: divide by zero encountered in double_scalars\n",
            "  pandas_dataframe['국어'][5] = pandas_dataframe['국어'][5]/0\n",
            "<ipython-input-13-1dfa5f4c7f70>:8: RuntimeWarning: invalid value encountered in double_scalars\n",
            "  pandas_dataframe['영어'][0] = pandas_dataframe['영어'][0]/0\n",
            "<ipython-input-13-1dfa5f4c7f70>:10: RuntimeWarning: divide by zero encountered in double_scalars\n",
            "  pandas_dataframe['수학'][1] = pandas_dataframe['수학'][1]/0\n"
          ]
        }
      ]
    },
    {
      "cell_type": "code",
      "source": [
        "original_number = 10\n",
        "copied_number = original_number\n",
        "print(\"원본 숫자:\",original_number,\",복사본 숫자(변경전):\",copied_number)\n",
        "copied_number = 99\n",
        "print(\"원본 숫자:\",original_number,\",복사본 숫자(변경후):\",copied_number)\n",
        "\n",
        "original_string = \"Before\"\n",
        "copied_string = original_string\n",
        "print(\"원본 문자열:\",original_string,\",복사본 문자열(변경전):\",copied_string)\n",
        "copied_string = \"After\"\n",
        "print(\"원본 문자열:\",original_string,\",복사본 문자열(변경후):\",copied_string)"
      ],
      "metadata": {
        "colab": {
          "base_uri": "https://localhost:8080/"
        },
        "id": "xkigFB342rWT",
        "outputId": "0de6d1db-ee24-4256-d35b-7df4f8a15e1b"
      },
      "execution_count": null,
      "outputs": [
        {
          "output_type": "stream",
          "name": "stdout",
          "text": [
            "원본 숫자: 10 ,복사본 숫자(변경전): 10\n",
            "원본 숫자: 10 ,복사본 숫자(변경후): 99\n",
            "원본 문자열: Before ,복사본 문자열(변경전): Before\n",
            "원본 문자열: Before ,복사본 문자열(변경후): After\n"
          ]
        }
      ]
    },
    {
      "cell_type": "code",
      "source": [
        "import numpy as np\n",
        "\n",
        "original_array = np.array([1,2,3])\n",
        "copied_array = original_array\n",
        "print(\"원본 배열:\",original_array,\",복사본 배열(변경전):\",copied_array)\n",
        "copied_array[1] = 99\n",
        "print(\"원본 배열:\",original_array,\",복사본 배열(변경후):\",copied_array)"
      ],
      "metadata": {
        "colab": {
          "base_uri": "https://localhost:8080/"
        },
        "id": "FMOQaSxl8uDU",
        "outputId": "6673b950-c9af-41a0-f065-6de69dea2120"
      },
      "execution_count": null,
      "outputs": [
        {
          "output_type": "stream",
          "name": "stdout",
          "text": [
            "원본 배열: [1 2 3] ,복사본 배열(변경전): [1 2 3]\n",
            "원본 배열: [ 1 99  3] ,복사본 배열(변경후): [ 1 99  3]\n"
          ]
        }
      ]
    },
    {
      "cell_type": "code",
      "source": [
        "import pandas as pd\n",
        "original_dataframe = pd.DataFrame({'국어':[100,95,None,95,90,85],\n",
        "                                   '영어':[90,95,None,70,75,100],\n",
        "                                   '수학':[50,60,None,80,90,100]})\n",
        "copied_dataframe = original_dataframe\n",
        "print(\"원본 데이터프레임:\\n\",original_dataframe)\n",
        "print(\"복사본 데이터프레임(변경전):\\n\",copied_dataframe)\n",
        "copied_dataframe['국어'][5] = copied_dataframe['국어'][5]/0\n",
        "copied_dataframe['영어'][0] = 0\n",
        "copied_dataframe['영어'][0] = copied_dataframe['영어'][0]/0\n",
        "copied_dataframe['수학'][1] = -1\n",
        "copied_dataframe['수학'][1] = copied_dataframe['수학'][1]/0\n",
        "print(\"원본 데이터프레임:\\n\",original_dataframe)\n",
        "print(\"복사본 데이터프레임(변경후):\\n\",copied_dataframe)"
      ],
      "metadata": {
        "colab": {
          "base_uri": "https://localhost:8080/"
        },
        "id": "4gbVoBt9-rea",
        "outputId": "0d7952be-7694-4b00-97f3-3ad8622068d6"
      },
      "execution_count": null,
      "outputs": [
        {
          "output_type": "stream",
          "name": "stdout",
          "text": [
            "원본 데이터프레임:\n",
            "       국어     영어     수학\n",
            "0  100.0   90.0   50.0\n",
            "1   95.0   95.0   60.0\n",
            "2    NaN    NaN    NaN\n",
            "3   95.0   70.0   80.0\n",
            "4   90.0   75.0   90.0\n",
            "5   85.0  100.0  100.0\n",
            "복사본 데이터프레임(변경전):\n",
            "       국어     영어     수학\n",
            "0  100.0   90.0   50.0\n",
            "1   95.0   95.0   60.0\n",
            "2    NaN    NaN    NaN\n",
            "3   95.0   70.0   80.0\n",
            "4   90.0   75.0   90.0\n",
            "5   85.0  100.0  100.0\n",
            "원본 데이터프레임:\n",
            "       국어     영어     수학\n",
            "0  100.0    NaN   50.0\n",
            "1   95.0   95.0   -inf\n",
            "2    NaN    NaN    NaN\n",
            "3   95.0   70.0   80.0\n",
            "4   90.0   75.0   90.0\n",
            "5    inf  100.0  100.0\n",
            "복사본 데이터프레임(변경후):\n",
            "       국어     영어     수학\n",
            "0  100.0    NaN   50.0\n",
            "1   95.0   95.0   -inf\n",
            "2    NaN    NaN    NaN\n",
            "3   95.0   70.0   80.0\n",
            "4   90.0   75.0   90.0\n",
            "5    inf  100.0  100.0\n"
          ]
        },
        {
          "output_type": "stream",
          "name": "stderr",
          "text": [
            "<ipython-input-11-dfa9844e59b6>:8: RuntimeWarning: divide by zero encountered in double_scalars\n",
            "  copied_dataframe['국어'][5] = copied_dataframe['국어'][5]/0\n",
            "<ipython-input-11-dfa9844e59b6>:10: RuntimeWarning: invalid value encountered in double_scalars\n",
            "  copied_dataframe['영어'][0] = copied_dataframe['영어'][0]/0\n",
            "<ipython-input-11-dfa9844e59b6>:12: RuntimeWarning: divide by zero encountered in double_scalars\n",
            "  copied_dataframe['수학'][1] = copied_dataframe['수학'][1]/0\n"
          ]
        }
      ]
    },
    {
      "cell_type": "code",
      "source": [
        "print(\"original_array 변수의 id:\",id(original_array))\n",
        "print(\"copied_array 변수의 id:\",id(copied_array))"
      ],
      "metadata": {
        "colab": {
          "base_uri": "https://localhost:8080/"
        },
        "id": "T_w19YKHZFPW",
        "outputId": "40e0615d-ce64-4e88-b2de-cf0654613320"
      },
      "execution_count": null,
      "outputs": [
        {
          "output_type": "stream",
          "name": "stdout",
          "text": [
            "original_array 변수의 id: 140546308617584\n",
            "copied_array 변수의 id: 140546308617584\n"
          ]
        }
      ]
    },
    {
      "cell_type": "code",
      "source": [
        "print(\"original_dataframe 변수의 id:\",id(original_dataframe))\n",
        "print(\"copied_dataframe 변수의 id:\",id(copied_dataframe))"
      ],
      "metadata": {
        "colab": {
          "base_uri": "https://localhost:8080/"
        },
        "id": "cMSpBt_vZZCj",
        "outputId": "dd84c668-28fa-4889-8472-86b4f20e838e"
      },
      "execution_count": null,
      "outputs": [
        {
          "output_type": "stream",
          "name": "stdout",
          "text": [
            "original_dataframe 변수의 id: 140545740359904\n",
            "copied_dataframe 변수의 id: 140545740359904\n"
          ]
        }
      ]
    },
    {
      "cell_type": "code",
      "source": [
        "def reference_test_func(list_param):\n",
        "  print(\"인자의 변경을 의도하지 않은 함수가 호출되었습니다.\")\n",
        "  list_param[0] = 999\n",
        "\n",
        "list_var = [1,2,3]\n",
        "print('함수 호출전 list_var:',list_var)\n",
        "reference_test_func(list_var)\n",
        "print('함수 호출후 list_var:',list_var)"
      ],
      "metadata": {
        "colab": {
          "base_uri": "https://localhost:8080/"
        },
        "id": "SWdkHn-8dnVY",
        "outputId": "53ec760b-c9fa-45a7-c6f2-de00954ed5c3"
      },
      "execution_count": 2,
      "outputs": [
        {
          "output_type": "stream",
          "name": "stdout",
          "text": [
            "함수 호출전 list_var: [1, 2, 3]\n",
            "인자의 변경을 의도하지 않은 함수가 호출되었습니다.\n",
            "함수 호출후 list_var: [999, 2, 3]\n"
          ]
        }
      ]
    },
    {
      "cell_type": "code",
      "source": [
        "import numpy as np\n",
        "\n",
        "original_array = np.array([1,2,3])\n",
        "copied_array = original_array.view()\n",
        "print(\"원본 배열:\",original_array,\",복사본 배열(변경전):\",copied_array)\n",
        "copied_array[1] = 99\n",
        "print(\"원본 배열:\",original_array,\",복사본 배열(변경후):\",copied_array)"
      ],
      "metadata": {
        "colab": {
          "base_uri": "https://localhost:8080/"
        },
        "id": "yD1fd68vGvdH",
        "outputId": "2757f47b-6283-458b-cf23-9f710a75c1ec"
      },
      "execution_count": null,
      "outputs": [
        {
          "output_type": "stream",
          "name": "stdout",
          "text": [
            "원본 배열: [1 2 3] ,복사본 배열(변경전): [1 2 3]\n",
            "원본 배열: [ 1 99  3] ,복사본 배열(변경후): [ 1 99  3]\n"
          ]
        }
      ]
    },
    {
      "cell_type": "code",
      "source": [
        "print(\"original_array 변수의 id:\",id(original_array))\n",
        "print(\"copied_array 변수의 id:\",id(copied_array))"
      ],
      "metadata": {
        "colab": {
          "base_uri": "https://localhost:8080/"
        },
        "id": "BY3K1IvaG2eT",
        "outputId": "7a8f18e2-ddd5-4019-997f-e7c65c8d085d"
      },
      "execution_count": null,
      "outputs": [
        {
          "output_type": "stream",
          "name": "stdout",
          "text": [
            "original_array 변수의 id: 136051460891216\n",
            "copied_array 변수의 id: 136051445581840\n"
          ]
        }
      ]
    },
    {
      "cell_type": "code",
      "source": [
        "import numpy as np\n",
        "\n",
        "original_array = np.array([1,2,3])\n",
        "copied_array = original_array.copy()\n",
        "print(\"원본 배열:\",original_array,\",복사본 배열(변경전):\",copied_array)\n",
        "copied_array[1] = 99\n",
        "print(\"원본 배열:\",original_array,\",복사본 배열(변경후):\",copied_array)"
      ],
      "metadata": {
        "colab": {
          "base_uri": "https://localhost:8080/"
        },
        "id": "cJ5fjLlnwh6_",
        "outputId": "8a285137-c5d2-4a7a-d45a-78725feca0da"
      },
      "execution_count": null,
      "outputs": [
        {
          "output_type": "stream",
          "name": "stdout",
          "text": [
            "원본 배열: [1 2 3] ,복사본 배열(변경전): [1 2 3]\n",
            "원본 배열: [1 2 3] ,복사본 배열(변경후): [ 1 99  3]\n"
          ]
        }
      ]
    },
    {
      "cell_type": "code",
      "source": [
        "import pandas as pd\n",
        "original_dataframe = pd.DataFrame({'국어':[100,95,None,95,90,85],\n",
        "                                   '영어':[90,95,None,70,75,100],\n",
        "                                   '수학':[50,60,None,80,90,100]})\n",
        "copied_dataframe = original_dataframe.copy()\n",
        "#print(\"원본 데이터프레임:\\n\",original_dataframe)\n",
        "#print(\"복사본 데이터프레임(변경전):\\n\",copied_dataframe)\n",
        "copied_dataframe['국어'][5] = copied_dataframe['국어'][5]/0\n",
        "copied_dataframe['영어'][0] = 0\n",
        "copied_dataframe['영어'][0] = copied_dataframe['영어'][0]/0\n",
        "copied_dataframe['수학'][1] = -1\n",
        "copied_dataframe['수학'][1] = copied_dataframe['수학'][1]/0\n",
        "print(\"원본 데이터프레임:\\n\",original_dataframe)\n",
        "print(\"복사본 데이터프레임(변경후):\\n\",copied_dataframe)"
      ],
      "metadata": {
        "colab": {
          "base_uri": "https://localhost:8080/"
        },
        "id": "X3L78CuLwzFQ",
        "outputId": "104aba9e-5416-4135-caff-558e037c29d5"
      },
      "execution_count": null,
      "outputs": [
        {
          "output_type": "stream",
          "name": "stdout",
          "text": [
            "원본 데이터프레임:\n",
            "       국어     영어     수학\n",
            "0  100.0   90.0   50.0\n",
            "1   95.0   95.0   60.0\n",
            "2    NaN    NaN    NaN\n",
            "3   95.0   70.0   80.0\n",
            "4   90.0   75.0   90.0\n",
            "5   85.0  100.0  100.0\n",
            "복사본 데이터프레임(변경후):\n",
            "       국어     영어     수학\n",
            "0  100.0    NaN   50.0\n",
            "1   95.0   95.0   -inf\n",
            "2    NaN    NaN    NaN\n",
            "3   95.0   70.0   80.0\n",
            "4   90.0   75.0   90.0\n",
            "5    inf  100.0  100.0\n"
          ]
        },
        {
          "output_type": "stream",
          "name": "stderr",
          "text": [
            "<ipython-input-16-039003de77e9>:8: RuntimeWarning: divide by zero encountered in double_scalars\n",
            "  copied_dataframe['국어'][5] = copied_dataframe['국어'][5]/0\n",
            "<ipython-input-16-039003de77e9>:10: RuntimeWarning: invalid value encountered in double_scalars\n",
            "  copied_dataframe['영어'][0] = copied_dataframe['영어'][0]/0\n",
            "<ipython-input-16-039003de77e9>:12: RuntimeWarning: divide by zero encountered in double_scalars\n",
            "  copied_dataframe['수학'][1] = copied_dataframe['수학'][1]/0\n"
          ]
        }
      ]
    },
    {
      "cell_type": "code",
      "source": [
        "print(\"original_array 변수의 id:\",id(original_array))\n",
        "print(\"copied_array 변수의 id:\",id(copied_array))"
      ],
      "metadata": {
        "colab": {
          "base_uri": "https://localhost:8080/"
        },
        "id": "e3IGFIJWzbYO",
        "outputId": "f99617fe-e379-4540-91d0-883a878267d8"
      },
      "execution_count": null,
      "outputs": [
        {
          "output_type": "stream",
          "name": "stdout",
          "text": [
            "original_array 변수의 id: 140545740327984\n",
            "copied_array 변수의 id: 140545739948272\n"
          ]
        }
      ]
    },
    {
      "cell_type": "code",
      "source": [
        "print(\"original_dataframe 변수의 id:\",id(original_dataframe))\n",
        "print(\"copied_dataframe 변수의 id:\",id(copied_dataframe))"
      ],
      "metadata": {
        "id": "Nn5MLt93zeKx",
        "outputId": "d48ce667-09d8-4be8-fe32-ad0d3531349a",
        "colab": {
          "base_uri": "https://localhost:8080/"
        }
      },
      "execution_count": null,
      "outputs": [
        {
          "output_type": "stream",
          "name": "stdout",
          "text": [
            "original_dataframe 변수의 id: 140545738633520\n",
            "copied_dataframe 변수의 id: 140545738623488\n"
          ]
        }
      ]
    },
    {
      "cell_type": "code",
      "source": [
        "import numpy as np\n",
        "\n",
        "print('데이터프레임의 inf/-inf 불리언 인덱스\\n',pandas_dataframe.isin([np.inf,-np.inf]))\n",
        "print('데이터프레임의 inf/-inf 값의 개수\\n',pandas_dataframe.isin([np.inf,-np.inf]).sum().sum())"
      ],
      "metadata": {
        "colab": {
          "base_uri": "https://localhost:8080/"
        },
        "id": "rYyRJZYVC_DH",
        "outputId": "a1131a89-f20c-4cf6-a6ad-858fcd5b6c08"
      },
      "execution_count": null,
      "outputs": [
        {
          "output_type": "stream",
          "name": "stdout",
          "text": [
            "데이터프레임의 inf/-inf 불리언 인덱스\n",
            "       국어     영어     수학\n",
            "0  False  False  False\n",
            "1  False  False   True\n",
            "3  False  False  False\n",
            "4  False  False  False\n",
            "5   True  False  False\n",
            "데이터프레임의 inf/-inf 값의 개수\n",
            " 2\n"
          ]
        }
      ]
    },
    {
      "cell_type": "code",
      "source": [
        "pandas_dataframe[pandas_dataframe.isin([np.inf,-np.inf])] = np.nan\n",
        "print('pandas 데이터프레임\\n',pandas_dataframe)"
      ],
      "metadata": {
        "colab": {
          "base_uri": "https://localhost:8080/"
        },
        "id": "pz4u2vQEAne9",
        "outputId": "9eac5b5c-3211-4da7-c71e-85bf978a140b"
      },
      "execution_count": null,
      "outputs": [
        {
          "output_type": "stream",
          "name": "stdout",
          "text": [
            "pandas 데이터프레임\n",
            "       국어     영어     수학\n",
            "0  100.0    NaN   50.0\n",
            "1   95.0   95.0    NaN\n",
            "3   95.0   70.0   80.0\n",
            "4   90.0   75.0   90.0\n",
            "5    NaN  100.0  100.0\n"
          ]
        }
      ]
    },
    {
      "cell_type": "code",
      "source": [
        "pandas_dataframe.fillna(pandas_dataframe.mean(),inplace=True)\n",
        "print('pandas 데이터프레임\\n',pandas_dataframe)"
      ],
      "metadata": {
        "colab": {
          "base_uri": "https://localhost:8080/"
        },
        "id": "GKikLwYamzYx",
        "outputId": "1b736924-d05c-4316-a5f3-fb307908655e"
      },
      "execution_count": null,
      "outputs": [
        {
          "output_type": "stream",
          "name": "stdout",
          "text": [
            "pandas 데이터프레임\n",
            "       국어     영어     수학\n",
            "0  100.0   85.0   50.0\n",
            "1   95.0   95.0   80.0\n",
            "3   95.0   70.0   80.0\n",
            "4   90.0   75.0   90.0\n",
            "5   95.0  100.0  100.0\n"
          ]
        }
      ]
    },
    {
      "cell_type": "code",
      "source": [
        "print(pandas_dataframe.mean())"
      ],
      "metadata": {
        "colab": {
          "base_uri": "https://localhost:8080/"
        },
        "id": "39QS_N4KopVx",
        "outputId": "02f89480-1978-4a4b-8ab1-e9e6efee6094"
      },
      "execution_count": null,
      "outputs": [
        {
          "output_type": "stream",
          "name": "stdout",
          "text": [
            "국어    95.0\n",
            "영어    85.0\n",
            "수학    80.0\n",
            "dtype: float64\n"
          ]
        }
      ]
    },
    {
      "cell_type": "code",
      "source": [
        "import numpy as np\n",
        "import pandas as pd\n",
        "\n",
        "print('NaN이 포함된 numpy  평균:',np.array([10,20,np.nan]).mean())\n",
        "print('NaN이 포함된 pandas 평균:',pd.Series([10,20,np.nan]).mean())"
      ],
      "metadata": {
        "colab": {
          "base_uri": "https://localhost:8080/"
        },
        "id": "rLxglaIhp_DN",
        "outputId": "5d4c1939-aabc-4ffa-f2d5-e4056ff00ffa"
      },
      "execution_count": null,
      "outputs": [
        {
          "output_type": "stream",
          "name": "stdout",
          "text": [
            "NaN이 포함된 numpy  평균: nan\n",
            "NaN이 포함된 pandas 평균: 15.0\n"
          ]
        }
      ]
    },
    {
      "cell_type": "code",
      "source": [
        "import numpy as np\n",
        "import pandas as pd\n",
        "\n",
        "pandas_dataframe['국어'][5] = np.nan\n",
        "pandas_dataframe['영어'][0] = np.nan\n",
        "pandas_dataframe['수학'][1] = np.nan\n",
        "print('pandas 데이터프레임\\n',pandas_dataframe)\n",
        "\n",
        "print('정방향채우기:\\n',pandas_dataframe.fillna(method='ffill'))\n",
        "print('역방향채우기\\n:',pandas_dataframe.fillna(method='bfill'))"
      ],
      "metadata": {
        "colab": {
          "base_uri": "https://localhost:8080/"
        },
        "id": "Uo_21LPTMqD4",
        "outputId": "3bf81177-44c5-4e6a-9c09-da46d2eff579"
      },
      "execution_count": null,
      "outputs": [
        {
          "output_type": "stream",
          "name": "stdout",
          "text": [
            "pandas 데이터프레임\n",
            "       국어     영어     수학\n",
            "0  100.0    NaN   50.0\n",
            "1   95.0   95.0    NaN\n",
            "3   95.0   70.0   80.0\n",
            "4   90.0   75.0   90.0\n",
            "5    NaN  100.0  100.0\n",
            "정방향채우기:\n",
            "       국어     영어     수학\n",
            "0  100.0    NaN   50.0\n",
            "1   95.0   95.0   50.0\n",
            "3   95.0   70.0   80.0\n",
            "4   90.0   75.0   90.0\n",
            "5   90.0  100.0  100.0\n",
            "역방향채우기\n",
            ":       국어     영어     수학\n",
            "0  100.0   95.0   50.0\n",
            "1   95.0   95.0   80.0\n",
            "3   95.0   70.0   80.0\n",
            "4   90.0   75.0   90.0\n",
            "5    NaN  100.0  100.0\n"
          ]
        }
      ]
    },
    {
      "cell_type": "code",
      "source": [
        "print('정방향채우기:\\n',pandas_dataframe.fillna(method='ffill',axis=1))\n",
        "print('역방향채우기\\n:',pandas_dataframe.fillna(method='bfill',axis=1))"
      ],
      "metadata": {
        "colab": {
          "base_uri": "https://localhost:8080/"
        },
        "id": "ZUC-gvwR3gIO",
        "outputId": "b2dcc860-0387-4402-9b84-584741e7f00f"
      },
      "execution_count": null,
      "outputs": [
        {
          "output_type": "stream",
          "name": "stdout",
          "text": [
            "정방향채우기:\n",
            "       국어     영어     수학\n",
            "0  100.0  100.0   50.0\n",
            "1   95.0   95.0   95.0\n",
            "3   95.0   70.0   80.0\n",
            "4   90.0   75.0   90.0\n",
            "5    NaN  100.0  100.0\n",
            "역방향채우기\n",
            ":       국어     영어     수학\n",
            "0  100.0   50.0   50.0\n",
            "1   95.0   95.0    NaN\n",
            "3   95.0   70.0   80.0\n",
            "4   90.0   75.0   90.0\n",
            "5  100.0  100.0  100.0\n"
          ]
        }
      ]
    },
    {
      "cell_type": "markdown",
      "source": [
        "중복 데이터 처리"
      ],
      "metadata": {
        "id": "CBXnxyznzX0_"
      }
    },
    {
      "cell_type": "code",
      "source": [
        "import pandas as pd\n",
        "\n",
        "pandas_dataframe = pd.DataFrame({'이름':['홍길동','강감찬','강감찬'],'국어':[100,95,95],'영어':[90,95,95]})\n",
        "print('pandas 데이터프레임\\n',pandas_dataframe)\n",
        "\n",
        "print('중복 데이터 불리언 인덱스\\n',pandas_dataframe.duplicated())"
      ],
      "metadata": {
        "colab": {
          "base_uri": "https://localhost:8080/"
        },
        "id": "DKJCeP3VDinn",
        "outputId": "9ace499c-f45c-4241-efa4-96327cc3dab3"
      },
      "execution_count": null,
      "outputs": [
        {
          "output_type": "stream",
          "name": "stdout",
          "text": [
            "pandas 데이터프레임\n",
            "     이름   국어  영어\n",
            "0  홍길동  100  90\n",
            "1  강감찬   95  95\n",
            "2  강감찬   95  95\n",
            "중복 데이터 불리언 인덱스\n",
            " 0    False\n",
            "1    False\n",
            "2     True\n",
            "dtype: bool\n"
          ]
        }
      ]
    },
    {
      "cell_type": "code",
      "source": [
        "print('중복이 제거된 성적 데이터프레임\\n',pandas_dataframe.drop_duplicates())"
      ],
      "metadata": {
        "colab": {
          "base_uri": "https://localhost:8080/"
        },
        "id": "KwgeckUSG5Ps",
        "outputId": "6b090ee2-700b-45de-d761-f4ebf937ea11"
      },
      "execution_count": null,
      "outputs": [
        {
          "output_type": "stream",
          "name": "stdout",
          "text": [
            "중복이 제거된 성적 데이터프레임\n",
            "     이름   국어  영어\n",
            "0  홍길동  100  90\n",
            "1  강감찬   95  95\n"
          ]
        }
      ]
    },
    {
      "cell_type": "code",
      "source": [
        "import pandas as pd\n",
        "\n",
        "pandas_dataframe = pd.DataFrame({'이름':['홍길동','강감찬','강감찬'],'국어':[100,95,95],'영어':[90,95,90]})\n",
        "print('pandas 데이터프레임\\n',pandas_dataframe)\n",
        "\n",
        "print('중복이 제거된 성적 데이터프레임\\n',pandas_dataframe.drop_duplicates())"
      ],
      "metadata": {
        "colab": {
          "base_uri": "https://localhost:8080/"
        },
        "id": "lfmFpgeMH9L7",
        "outputId": "e783834e-66a4-4f67-c05a-abc381586613"
      },
      "execution_count": null,
      "outputs": [
        {
          "output_type": "stream",
          "name": "stdout",
          "text": [
            "pandas 데이터프레임\n",
            "     이름   국어  영어\n",
            "0  홍길동  100  90\n",
            "1  강감찬   95  95\n",
            "2  강감찬   95  90\n",
            "중복이 제거된 성적 데이터프레임\n",
            "     이름   국어  영어\n",
            "0  홍길동  100  90\n",
            "1  강감찬   95  95\n",
            "2  강감찬   95  90\n"
          ]
        }
      ]
    },
    {
      "cell_type": "code",
      "source": [
        "print('중복이 제거된 성적 데이터프레임(첫데이터 남기기)\\n',pandas_dataframe.drop_duplicates(['이름']))\n",
        "print('중복이 제거된 성적 데이터프레임(뒷데이터 남기기)\\n',pandas_dataframe.drop_duplicates(['이름'],keep='last'))"
      ],
      "metadata": {
        "colab": {
          "base_uri": "https://localhost:8080/"
        },
        "id": "6_cIdwYqKvpL",
        "outputId": "07ad9ecc-4996-4423-a738-733a53cdc10b"
      },
      "execution_count": null,
      "outputs": [
        {
          "output_type": "stream",
          "name": "stdout",
          "text": [
            "중복이 제거된 성적 데이터프레임(첫데이터 남기기)\n",
            "     이름   국어  영어\n",
            "0  홍길동  100  90\n",
            "1  강감찬   95  95\n",
            "중복이 제거된 성적 데이터프레임(뒷데이터 남기기)\n",
            "     이름   국어  영어\n",
            "0  홍길동  100  90\n",
            "2  강감찬   95  90\n"
          ]
        }
      ]
    },
    {
      "cell_type": "markdown",
      "source": [
        "윈도우"
      ],
      "metadata": {
        "id": "x1BP2aHvPKJR"
      }
    },
    {
      "cell_type": "code",
      "source": [
        "import pandas as pd\n",
        "import matplotlib.pyplot as plt\n",
        "\n",
        "scores = pd.Series([100,95,75,95,90,80,90,95,95,70,75,90,60,60,70,80,90,80])\n",
        "\n",
        "plt.figure(figsize=(5,2))\n",
        "plt.plot(scores)\n",
        "plt.show()"
      ],
      "metadata": {
        "colab": {
          "base_uri": "https://localhost:8080/",
          "height": 214
        },
        "id": "iUROxZ3_POEm",
        "outputId": "f25336f2-00e9-429d-c78e-0d7c64121f54"
      },
      "execution_count": null,
      "outputs": [
        {
          "output_type": "display_data",
          "data": {
            "text/plain": [
              "<Figure size 500x200 with 1 Axes>"
            ],
            "image/png": "[encoded data removed]"
          },
          "metadata": {}
        }
      ]
    },
    {
      "cell_type": "code",
      "source": [
        "plt.figure(figsize=(5,2))\n",
        "plt.plot(scores.rolling(window=3).mean())\n",
        "plt.show()"
      ],
      "metadata": {
        "colab": {
          "base_uri": "https://localhost:8080/",
          "height": 214
        },
        "id": "ZMRy7dC1QGCe",
        "outputId": "7404481b-d779-451f-bb31-0c8f0f38a7f3"
      },
      "execution_count": null,
      "outputs": [
        {
          "output_type": "display_data",
          "data": {
            "text/plain": [
              "<Figure size 500x200 with 1 Axes>"
            ],
            "image/png": "[encoded data removed]"
          },
          "metadata": {}
        }
      ]
    },
    {
      "cell_type": "code",
      "source": [
        "print('3개씩 이동평균한 성적\\n',scores.rolling(window=3).mean())"
      ],
      "metadata": {
        "colab": {
          "base_uri": "https://localhost:8080/"
        },
        "id": "er4kbDysWo9Q",
        "outputId": "b331e13a-b3d5-4ffe-da35-cace176ffc05"
      },
      "execution_count": null,
      "outputs": [
        {
          "output_type": "stream",
          "name": "stdout",
          "text": [
            "3개씩 이동평균한 성적\n",
            " 0           NaN\n",
            "1           NaN\n",
            "2     90.000000\n",
            "3     88.333333\n",
            "4     86.666667\n",
            "5     88.333333\n",
            "6     86.666667\n",
            "7     88.333333\n",
            "8     93.333333\n",
            "9     86.666667\n",
            "10    80.000000\n",
            "11    78.333333\n",
            "12    75.000000\n",
            "13    70.000000\n",
            "14    63.333333\n",
            "15    70.000000\n",
            "16    80.000000\n",
            "17    83.333333\n",
            "dtype: float64\n"
          ]
        }
      ]
    },
    {
      "cell_type": "code",
      "source": [
        "import tensorflow as tf\n",
        "\n",
        "scores_tf = tf.data.Dataset.from_tensor_slices(scores.values)\n",
        "\n",
        "scores_window = scores_tf.window(4)\n",
        "\n",
        "for score_window in scores_window:\n",
        "  print(list(score_window.as_numpy_iterator()))"
      ],
      "metadata": {
        "colab": {
          "base_uri": "https://localhost:8080/"
        },
        "id": "oV9LkLtIZatI",
        "outputId": "3627918d-07f5-4e34-a599-d5499c59d1ca"
      },
      "execution_count": null,
      "outputs": [
        {
          "output_type": "stream",
          "name": "stdout",
          "text": [
            "[100, 95, 75, 95]\n",
            "[90, 80, 90, 95]\n",
            "[95, 70, 75, 90]\n",
            "[60, 60, 70, 80]\n",
            "[90, 80]\n"
          ]
        }
      ]
    },
    {
      "cell_type": "code",
      "source": [
        "import tensorflow as tf\n",
        "\n",
        "scores_tf = tf.data.Dataset.from_tensor_slices(scores.values)\n",
        "\n",
        "scores_window = scores_tf.window(4,drop_remainder=True)\n",
        "\n",
        "for score_window in scores_window:\n",
        "  print(list(score_window.as_numpy_iterator()))"
      ],
      "metadata": {
        "colab": {
          "base_uri": "https://localhost:8080/"
        },
        "id": "sodZILWgKutx",
        "outputId": "dc1a1792-abb2-4612-fe05-a53854afc5ea"
      },
      "execution_count": null,
      "outputs": [
        {
          "output_type": "stream",
          "name": "stdout",
          "text": [
            "[100, 95, 75, 95]\n",
            "[90, 80, 90, 95]\n",
            "[95, 70, 75, 90]\n",
            "[60, 60, 70, 80]\n"
          ]
        }
      ]
    },
    {
      "cell_type": "code",
      "source": [
        "import tensorflow as tf\n",
        "import numpy as np\n",
        "\n",
        "scores_tf = tf.data.Dataset.from_tensor_slices(scores.values)\n",
        "\n",
        "scores_window = scores_tf.window(3,shift=1,drop_remainder=True)\n",
        "\n",
        "for score_window in scores_window:\n",
        "  print(np.mean(list(score_window.as_numpy_iterator())))"
      ],
      "metadata": {
        "colab": {
          "base_uri": "https://localhost:8080/"
        },
        "id": "abGt7xECd1Uf",
        "outputId": "82803c2c-b67a-44c5-f336-b2005988066b"
      },
      "execution_count": null,
      "outputs": [
        {
          "output_type": "stream",
          "name": "stdout",
          "text": [
            "90.0\n",
            "88.33333333333333\n",
            "86.66666666666667\n",
            "88.33333333333333\n",
            "86.66666666666667\n",
            "88.33333333333333\n",
            "93.33333333333333\n",
            "86.66666666666667\n",
            "80.0\n",
            "78.33333333333333\n",
            "75.0\n",
            "70.0\n",
            "63.333333333333336\n",
            "70.0\n",
            "80.0\n",
            "83.33333333333333\n"
          ]
        }
      ]
    }
  ]
}