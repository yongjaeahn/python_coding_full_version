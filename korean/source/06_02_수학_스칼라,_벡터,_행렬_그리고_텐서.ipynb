{
  "nbformat": 4,
  "nbformat_minor": 0,
  "metadata": {
    "colab": {
      "provenance": [],
      "mount_file_id": "1w-ki0Gpgts7Bv_raABHmpDGxnrhUYoGT",
      "authorship_tag": "ABX9TyOg6rL5LPEPFWExc9R6tER3",
      "include_colab_link": true
    },
    "kernelspec": {
      "name": "python3",
      "display_name": "Python 3"
    },
    "language_info": {
      "name": "python"
    }
  },
  "cells": [
    {
      "cell_type": "markdown",
      "metadata": {
        "id": "view-in-github",
        "colab_type": "text"
      },
      "source": [
        "<a href=\"https://colab.research.google.com/github/yongjaeahn/python_coding/blob/main/korean/source/06_02_%EC%88%98%ED%95%99_%EC%8A%A4%EC%B9%BC%EB%9D%BC%2C_%EB%B2%A1%ED%84%B0%2C_%ED%96%89%EB%A0%AC_%EA%B7%B8%EB%A6%AC%EA%B3%A0_%ED%85%90%EC%84%9C.ipynb\" target=\"_parent\"><img src=\"https://colab.research.google.com/assets/colab-badge.svg\" alt=\"Open In Colab\"/></a>"
      ]
    },
    {
      "cell_type": "markdown",
      "source": [
        "\t스칼라, 벡터, 행렬 그리고 텐서"
      ],
      "metadata": {
        "id": "yNiBhuEpJ22j"
      }
    },
    {
      "cell_type": "markdown",
      "source": [
        "스칼라"
      ],
      "metadata": {
        "id": "W-507pbJJs6z"
      }
    },
    {
      "cell_type": "code",
      "source": [
        "def add_two_numbers(number1, number2):\n",
        "  sum = number1 + number2\n",
        "  return sum\n",
        "\n",
        "print(add_two_numbers(10,20))"
      ],
      "metadata": {
        "colab": {
          "base_uri": "https://localhost:8080/"
        },
        "id": "ZhKmCuEJnbg8",
        "outputId": "79bcc9ca-7211-4723-88b5-dd6608be5a5d"
      },
      "execution_count": null,
      "outputs": [
        {
          "output_type": "stream",
          "name": "stdout",
          "text": [
            "30\n"
          ]
        }
      ]
    },
    {
      "cell_type": "code",
      "source": [
        "print(add_two_numbers(number2=20,number1=10))"
      ],
      "metadata": {
        "colab": {
          "base_uri": "https://localhost:8080/"
        },
        "id": "MY1sk11Fqagx",
        "outputId": "0bee9430-90d7-4fcd-ca99-8cb8081366c4"
      },
      "execution_count": null,
      "outputs": [
        {
          "output_type": "stream",
          "name": "stdout",
          "text": [
            "30\n"
          ]
        }
      ]
    },
    {
      "cell_type": "code",
      "source": [
        "print(add_two_numbers(10,number2=20))"
      ],
      "metadata": {
        "colab": {
          "base_uri": "https://localhost:8080/"
        },
        "id": "jo-q7jZpvreT",
        "outputId": "0349beba-82fb-497c-df65-ccd731f9e64a"
      },
      "execution_count": null,
      "outputs": [
        {
          "output_type": "stream",
          "name": "stdout",
          "text": [
            "30\n"
          ]
        }
      ]
    },
    {
      "cell_type": "code",
      "source": [
        "def add_numbers(*numbers):   # 가변 위치 인자 정의\n",
        "  sum = 0\n",
        "  for number in numbers:\n",
        "    print(\"number :\", number)\n",
        "    sum = sum + number\n",
        "  return sum\n",
        "\n",
        "print(add_numbers())         # 가변 위치 인자 바인딩\n",
        "print(add_numbers(10))\n",
        "print(add_numbers(10,20))\n",
        "print(add_numbers(10,20,30))"
      ],
      "metadata": {
        "colab": {
          "base_uri": "https://localhost:8080/"
        },
        "id": "x8NYGV0VzRlj",
        "outputId": "e6b8594c-6dc1-483d-b6ec-31e3a88519ed"
      },
      "execution_count": null,
      "outputs": [
        {
          "output_type": "stream",
          "name": "stdout",
          "text": [
            "0\n",
            "number : 10\n",
            "10\n",
            "number : 10\n",
            "number : 20\n",
            "30\n",
            "number : 10\n",
            "number : 20\n",
            "number : 30\n",
            "60\n"
          ]
        }
      ]
    },
    {
      "cell_type": "code",
      "source": [
        "def add_numbers(*numbers,start=0):   # start 인자의 초기값 지정\n",
        "  sum = start\n",
        "  for number in numbers:\n",
        "    #print(\"number :\", number)\n",
        "    sum = sum + number\n",
        "  return sum\n",
        "\n",
        "print(add_numbers(10,20))            # start 인자의 초기값 사용\n",
        "print(add_numbers(10,20,start=100))  # start 인자의 값 별도 지정"
      ],
      "metadata": {
        "colab": {
          "base_uri": "https://localhost:8080/"
        },
        "id": "gR8XWs6JCMXV",
        "outputId": "91c2b16d-ed5f-4f94-f59a-9554e6b322bc"
      },
      "execution_count": null,
      "outputs": [
        {
          "output_type": "stream",
          "name": "stdout",
          "text": [
            "30\n",
            "130\n"
          ]
        }
      ]
    },
    {
      "cell_type": "code",
      "source": [
        "def list_keyword_args(**kwargs):  # 가변 키워드 인자 정의\n",
        "  print('list_keyword_args() 함수 시작')\n",
        "  for key, value in kwargs.items():\n",
        "    print(key, '=',value)\n",
        "\n",
        "list_keyword_args()               # 가변 키워드 인자 바인딩\n",
        "list_keyword_args(name=\"홍길동\")\n",
        "list_keyword_args(name=\"홍길동\", age=25)\n",
        "list_keyword_args(name=\"홍길동\", age=25, address=\"율도국\")"
      ],
      "metadata": {
        "colab": {
          "base_uri": "https://localhost:8080/"
        },
        "id": "YEhcTf80E2Sc",
        "outputId": "ae916d99-d5ce-4db5-fd5f-efcfe5a29713"
      },
      "execution_count": null,
      "outputs": [
        {
          "output_type": "stream",
          "name": "stdout",
          "text": [
            "list_keyword_args() 함수 시작\n",
            "list_keyword_args() 함수 시작\n",
            "name = 홍길동\n",
            "list_keyword_args() 함수 시작\n",
            "name = 홍길동\n",
            "age = 25\n",
            "list_keyword_args() 함수 시작\n",
            "name = 홍길동\n",
            "age = 25\n",
            "address = 율도국\n"
          ]
        }
      ]
    },
    {
      "cell_type": "code",
      "source": [
        "print(add_two_numbers(number2=20,10))"
      ],
      "metadata": {
        "colab": {
          "base_uri": "https://localhost:8080/",
          "height": 148
        },
        "id": "wRWO9JZBxjZW",
        "outputId": "8773c85f-28c0-4086-9b4f-7f01bc83081d"
      },
      "execution_count": null,
      "outputs": [
        {
          "output_type": "error",
          "ename": "SyntaxError",
          "evalue": "ignored",
          "traceback": [
            "\u001b[0;36m  File \u001b[0;32m\"<ipython-input-4-0c08b7d0e03a>\"\u001b[0;36m, line \u001b[0;32m1\u001b[0m\n\u001b[0;31m    print(add_two_numbers(number2=20,10))\u001b[0m\n\u001b[0m                                       ^\u001b[0m\n\u001b[0;31mSyntaxError\u001b[0m\u001b[0;31m:\u001b[0m positional argument follows keyword argument\n"
          ]
        }
      ]
    },
    {
      "cell_type": "code",
      "source": [
        "print(\"Python 연산자\")\n",
        "print(\"2의 세제곱 : \", 2**3)\n",
        "print(\"2.0의 세제곱 : \", 2.0**3)\n",
        "print(\"1+2j의 세제곱 : \", (1+2j)**3)\n",
        "print(\"2의 제곱근 : \", 2**0.5)\n",
        "print()\n",
        "\n",
        "print(\"Python 내장 수학 함수\")\n",
        "print(\"-3의 절대값 : \", abs(-3))\n",
        "print(\"-3.5의 절대값 : \", abs(-3.5))\n",
        "print(\"1+2j의 절대값 : \", abs(1+2j))\n",
        "print(\"2의 세제곱 : \", pow(2,3))\n",
        "print(\"2.0의 세제곱 : \", pow(2.,3))\n",
        "print(\"리스트의 합 : \", sum([.1, .1, .1, .1, .1, .1, .1, .1, .1, .1]))\n",
        "print()\n",
        "\n",
        "import math\n",
        "print(\"math 모듈 수학 함수\")\n",
        "print(\"-3의 절대값 : \", math.fabs(-3))\n",
        "print(\"-3.5의 절대값 : \", math.fabs(-3.5))\n",
        "#print(\"1+2j의 절대값 : \", math.fabs(1+2j))     # 오류가 발생하여 주석 처리\n",
        "print(\"2의 세제곱 : \", math.pow(2,3))\n",
        "print(\"리스트의 합 : \", math.fsum([.1, .1, .1, .1, .1, .1, .1, .1, .1, .1]))\n",
        "print(\"2의 제곱근 : \", math.sqrt(2))"
      ],
      "metadata": {
        "colab": {
          "base_uri": "https://localhost:8080/"
        },
        "id": "eRDuXTuxlViY",
        "outputId": "ec3a0f2d-f078-4a8d-97ae-700cb9743227"
      },
      "execution_count": null,
      "outputs": [
        {
          "output_type": "stream",
          "name": "stdout",
          "text": [
            "Python 연산자\n",
            "2의 세제곱 :  8\n",
            "2.0의 세제곱 :  8.0\n",
            "1+2j의 세제곱 :  (-11-2j)\n",
            "2의 제곱근 :  1.4142135623730951\n",
            "\n",
            "Python 내장 수학 함수\n",
            "-3의 절대값 :  3\n",
            "-3.5의 절대값 :  3.5\n",
            "1+2j의 절대값 :  2.23606797749979\n",
            "2의 세제곱 :  8\n",
            "2.0의 세제곱 :  8.0\n",
            "리스트의 합 :  0.9999999999999999\n",
            "\n",
            "math 모듈 수학 함수\n",
            "-3의 절대값 :  3.0\n",
            "-3.5의 절대값 :  3.5\n",
            "2의 세제곱 :  8.0\n",
            "리스트의 합 :  1.0\n",
            "2의 제곱근 :  1.4142135623730951\n"
          ]
        }
      ]
    },
    {
      "cell_type": "markdown",
      "source": [
        "벡터"
      ],
      "metadata": {
        "id": "19KdBGW8Q7F6"
      }
    },
    {
      "cell_type": "code",
      "source": [
        "list_vector1 = [1,2,3,4,5]\n",
        "list_vector2 = [5,4,3,2,1]\n",
        "print(\"벡터의 덧셈 : \",list_vector1 + list_vector2)\n",
        "print(\"벡터의 뺄셈 : \",list_vector1 - list_vector2)"
      ],
      "metadata": {
        "colab": {
          "base_uri": "https://localhost:8080/",
          "height": 242
        },
        "id": "grcKrPLnoJ9S",
        "outputId": "604499f2-1efd-4330-9a1f-8240321b7d35"
      },
      "execution_count": null,
      "outputs": [
        {
          "output_type": "stream",
          "name": "stdout",
          "text": [
            "벡터의 덧셈 :  [1, 2, 3, 4, 5, 5, 4, 3, 2, 1]\n"
          ]
        },
        {
          "output_type": "error",
          "ename": "TypeError",
          "evalue": "ignored",
          "traceback": [
            "\u001b[0;31m---------------------------------------------------------------------------\u001b[0m",
            "\u001b[0;31mTypeError\u001b[0m                                 Traceback (most recent call last)",
            "\u001b[0;32m<ipython-input-1-562db46bf9cd>\u001b[0m in \u001b[0;36m<cell line: 4>\u001b[0;34m()\u001b[0m\n\u001b[1;32m      2\u001b[0m \u001b[0mlist_vector2\u001b[0m \u001b[0;34m=\u001b[0m \u001b[0;34m[\u001b[0m\u001b[0;36m5\u001b[0m\u001b[0;34m,\u001b[0m\u001b[0;36m4\u001b[0m\u001b[0;34m,\u001b[0m\u001b[0;36m3\u001b[0m\u001b[0;34m,\u001b[0m\u001b[0;36m2\u001b[0m\u001b[0;34m,\u001b[0m\u001b[0;36m1\u001b[0m\u001b[0;34m]\u001b[0m\u001b[0;34m\u001b[0m\u001b[0;34m\u001b[0m\u001b[0m\n\u001b[1;32m      3\u001b[0m \u001b[0mprint\u001b[0m\u001b[0;34m(\u001b[0m\u001b[0;34m\"벡터의 덧셈 : \"\u001b[0m\u001b[0;34m,\u001b[0m\u001b[0mlist_vector1\u001b[0m \u001b[0;34m+\u001b[0m \u001b[0mlist_vector2\u001b[0m\u001b[0;34m)\u001b[0m\u001b[0;34m\u001b[0m\u001b[0;34m\u001b[0m\u001b[0m\n\u001b[0;32m----> 4\u001b[0;31m \u001b[0mprint\u001b[0m\u001b[0;34m(\u001b[0m\u001b[0;34m\"벡터의 뺄셈 : \"\u001b[0m\u001b[0;34m,\u001b[0m\u001b[0mlist_vector1\u001b[0m \u001b[0;34m-\u001b[0m \u001b[0mlist_vector2\u001b[0m\u001b[0;34m)\u001b[0m\u001b[0;34m\u001b[0m\u001b[0;34m\u001b[0m\u001b[0m\n\u001b[0m",
            "\u001b[0;31mTypeError\u001b[0m: unsupported operand type(s) for -: 'list' and 'list'"
          ]
        }
      ]
    },
    {
      "cell_type": "code",
      "source": [
        "import numpy as np\n",
        "array_vector1 = np.array([1,2,3,4,5])\n",
        "array_vector2 = np.array([5,4,3,2,1])\n",
        "print(\"벡터의 덧셈 : \",array_vector1 + array_vector2)\n",
        "print(\"벡터의 뺄셈 : \",array_vector1 - array_vector2)\n",
        "print(\"벡터의 곱셈 : \",array_vector1 * array_vector2)\n",
        "print(\"벡터의 나눗셈 : \",array_vector1 / array_vector2)\n",
        "print(\"벡터의 자승 : \",array_vector1 ** array_vector2)"
      ],
      "metadata": {
        "colab": {
          "base_uri": "https://localhost:8080/"
        },
        "id": "b2_NBKMoqAqK",
        "outputId": "10a54b0b-ab87-4327-e196-3ac1b2037c3e"
      },
      "execution_count": null,
      "outputs": [
        {
          "output_type": "stream",
          "name": "stdout",
          "text": [
            "벡터의 덧셈 :  [6 6 6 6 6]\n",
            "벡터의 뺄셈 :  [-4 -2  0  2  4]\n",
            "벡터의 곱셈 :  [5 8 9 8 5]\n",
            "벡터의 나눗셈 :  [0.2 0.5 1.  2.  5. ]\n",
            "벡터의 자승 :  [ 1 16 27 16  5]\n"
          ]
        }
      ]
    },
    {
      "cell_type": "code",
      "source": [
        "import numpy as np\n",
        "array_vector = np.array([1,2,3,4,5])\n",
        "print(\"벡터와 스칼라의 덧셈 : \", array_vector + 2)\n",
        "print(\"벡터와 스칼라의 뺄셈 : \", array_vector - 2)\n",
        "print(\"벡터와 스칼라의 곱셈 : \", array_vector * 2)\n",
        "print(\"벡터와 스칼라의 나눗셈 : \", array_vector / 2)\n",
        "print(\"벡터와 스칼라의 자승 : \", array_vector ** 2)\n",
        "print()\n",
        "print(\"스칼라와 벡터의 덧셈 : \", 2 + array_vector)\n",
        "print(\"스칼라와 벡터의 뺄셈 : \", 2 - array_vector)\n",
        "print(\"스칼라와 벡터의 곱셈 : \", 2 * array_vector)\n",
        "print(\"스칼라와 벡터의 나눗셈 : \", 2 / array_vector)\n",
        "print(\"스칼라와 벡터의 자승 : \", 2 ** array_vector)"
      ],
      "metadata": {
        "colab": {
          "base_uri": "https://localhost:8080/"
        },
        "id": "yHkYxS68fT9L",
        "outputId": "cc241159-8a64-4104-f99a-03c57d318eb7"
      },
      "execution_count": null,
      "outputs": [
        {
          "output_type": "stream",
          "name": "stdout",
          "text": [
            "벡터와 스칼라의 덧셈 :  [3 4 5 6 7]\n",
            "벡터와 스칼라의 뺄셈 :  [-1  0  1  2  3]\n",
            "벡터와 스칼라의 곱셈 :  [ 2  4  6  8 10]\n",
            "벡터와 스칼라의 나눗셈 :  [0.5 1.  1.5 2.  2.5]\n",
            "벡터와 스칼라의 자승 :  [ 1  4  9 16 25]\n",
            "\n",
            "스칼라와 벡터의 덧셈 :  [3 4 5 6 7]\n",
            "스칼라와 벡터의 뺄셈 :  [ 1  0 -1 -2 -3]\n",
            "스칼라와 벡터의 곱셈 :  [ 2  4  6  8 10]\n",
            "스칼라와 벡터의 나눗셈 :  [2.         1.         0.66666667 0.5        0.4       ]\n",
            "스칼라와 벡터의 자승 :  [ 2  4  8 16 32]\n"
          ]
        }
      ]
    },
    {
      "cell_type": "code",
      "source": [
        "list_vector = [1,-2,3,-4,5]\n",
        "abs(list_vector)"
      ],
      "metadata": {
        "colab": {
          "base_uri": "https://localhost:8080/",
          "height": 204
        },
        "id": "PXDp2dNEkLtx",
        "outputId": "15bc6291-ccbb-413b-96b9-14d4bc8c2a1f"
      },
      "execution_count": null,
      "outputs": [
        {
          "output_type": "error",
          "ename": "TypeError",
          "evalue": "ignored",
          "traceback": [
            "\u001b[0;31m---------------------------------------------------------------------------\u001b[0m",
            "\u001b[0;31mTypeError\u001b[0m                                 Traceback (most recent call last)",
            "\u001b[0;32m<ipython-input-7-d10b98147fb9>\u001b[0m in \u001b[0;36m<cell line: 2>\u001b[0;34m()\u001b[0m\n\u001b[1;32m      1\u001b[0m \u001b[0mlist_vector\u001b[0m \u001b[0;34m=\u001b[0m \u001b[0;34m[\u001b[0m\u001b[0;36m1\u001b[0m\u001b[0;34m,\u001b[0m\u001b[0;34m-\u001b[0m\u001b[0;36m2\u001b[0m\u001b[0;34m,\u001b[0m\u001b[0;36m3\u001b[0m\u001b[0;34m,\u001b[0m\u001b[0;34m-\u001b[0m\u001b[0;36m4\u001b[0m\u001b[0;34m,\u001b[0m\u001b[0;36m5\u001b[0m\u001b[0;34m]\u001b[0m\u001b[0;34m\u001b[0m\u001b[0;34m\u001b[0m\u001b[0m\n\u001b[0;32m----> 2\u001b[0;31m \u001b[0mabs\u001b[0m\u001b[0;34m(\u001b[0m\u001b[0mlist_vector\u001b[0m\u001b[0;34m)\u001b[0m\u001b[0;34m\u001b[0m\u001b[0;34m\u001b[0m\u001b[0m\n\u001b[0m",
            "\u001b[0;31mTypeError\u001b[0m: bad operand type for abs(): 'list'"
          ]
        }
      ]
    },
    {
      "cell_type": "code",
      "source": [
        "list_vector = [1,-2,3,-4,5]\n",
        "\n",
        "for scala in list_vector:\n",
        "  print(\"abs(\"+str(scala)+\") = \", abs(scala))"
      ],
      "metadata": {
        "colab": {
          "base_uri": "https://localhost:8080/"
        },
        "id": "78AdgmTAl5yV",
        "outputId": "3cef586b-51e6-429a-d729-b1ebf018f35c"
      },
      "execution_count": null,
      "outputs": [
        {
          "output_type": "stream",
          "name": "stdout",
          "text": [
            "abs(1) =  1\n",
            "abs(-2) =  2\n",
            "abs(3) =  3\n",
            "abs(-4) =  4\n",
            "abs(5) =  5\n"
          ]
        }
      ]
    },
    {
      "cell_type": "code",
      "source": [
        "import numpy as np\n",
        "array_vector = np.array([1,-2,3,-4,5])\n",
        "abs(array_vector)"
      ],
      "metadata": {
        "colab": {
          "base_uri": "https://localhost:8080/"
        },
        "id": "oTL-bvyRmrMu",
        "outputId": "337d7888-6de6-4bba-c66d-331f031fd457"
      },
      "execution_count": null,
      "outputs": [
        {
          "output_type": "execute_result",
          "data": {
            "text/plain": [
              "array([1, 2, 3, 4, 5])"
            ]
          },
          "metadata": {},
          "execution_count": 9
        }
      ]
    },
    {
      "cell_type": "code",
      "source": [
        "import numpy as np\n",
        "array_vector = np.array([1,-2,3,-4,5])\n",
        "\n",
        "for scala in array_vector:\n",
        "  print(\"abs(\"+str(scala)+\") = \", abs(scala))"
      ],
      "metadata": {
        "colab": {
          "base_uri": "https://localhost:8080/"
        },
        "id": "zI4CA6cxnfJP",
        "outputId": "b74c5c23-59ef-43ce-b520-c8a209aaa67e"
      },
      "execution_count": null,
      "outputs": [
        {
          "output_type": "stream",
          "name": "stdout",
          "text": [
            "abs(1) =  1\n",
            "abs(-2) =  2\n",
            "abs(3) =  3\n",
            "abs(-4) =  4\n",
            "abs(5) =  5\n"
          ]
        }
      ]
    },
    {
      "cell_type": "code",
      "source": [
        "import numpy as np\n",
        "import math\n",
        "\n",
        "#list_vector = [1,-2,3,-4,5]           # 오류가 발생하여 주석 처리\n",
        "#print(math.fabs(list_vector))         # 오류가 발생하여 주석 처리\n",
        "\n",
        "array_vector = np.array([1,-2,3,-4,5])\n",
        "print(math.fabs(array_vector))"
      ],
      "metadata": {
        "colab": {
          "base_uri": "https://localhost:8080/",
          "height": 223
        },
        "id": "vR7AWZPqEeYG",
        "outputId": "768f2bcc-1606-4e7d-ff24-b433c4164a92"
      },
      "execution_count": null,
      "outputs": [
        {
          "output_type": "error",
          "ename": "TypeError",
          "evalue": "ignored",
          "traceback": [
            "\u001b[0;31m---------------------------------------------------------------------------\u001b[0m",
            "\u001b[0;31mTypeError\u001b[0m                                 Traceback (most recent call last)",
            "\u001b[0;32m<ipython-input-11-1c721d757f96>\u001b[0m in \u001b[0;36m<cell line: 8>\u001b[0;34m()\u001b[0m\n\u001b[1;32m      6\u001b[0m \u001b[0;34m\u001b[0m\u001b[0m\n\u001b[1;32m      7\u001b[0m \u001b[0marray_vector\u001b[0m \u001b[0;34m=\u001b[0m \u001b[0mnp\u001b[0m\u001b[0;34m.\u001b[0m\u001b[0marray\u001b[0m\u001b[0;34m(\u001b[0m\u001b[0;34m[\u001b[0m\u001b[0;36m1\u001b[0m\u001b[0;34m,\u001b[0m\u001b[0;34m-\u001b[0m\u001b[0;36m2\u001b[0m\u001b[0;34m,\u001b[0m\u001b[0;36m3\u001b[0m\u001b[0;34m,\u001b[0m\u001b[0;34m-\u001b[0m\u001b[0;36m4\u001b[0m\u001b[0;34m,\u001b[0m\u001b[0;36m5\u001b[0m\u001b[0;34m]\u001b[0m\u001b[0;34m)\u001b[0m\u001b[0;34m\u001b[0m\u001b[0;34m\u001b[0m\u001b[0m\n\u001b[0;32m----> 8\u001b[0;31m \u001b[0mprint\u001b[0m\u001b[0;34m(\u001b[0m\u001b[0mmath\u001b[0m\u001b[0;34m.\u001b[0m\u001b[0mfabs\u001b[0m\u001b[0;34m(\u001b[0m\u001b[0marray_vector\u001b[0m\u001b[0;34m)\u001b[0m\u001b[0;34m)\u001b[0m\u001b[0;34m\u001b[0m\u001b[0;34m\u001b[0m\u001b[0m\n\u001b[0m",
            "\u001b[0;31mTypeError\u001b[0m: only size-1 arrays can be converted to Python scalars"
          ]
        }
      ]
    },
    {
      "cell_type": "code",
      "source": [
        "import numpy as np\n",
        "\n",
        "array_vector = np.array([1,-2,3,-4,5])\n",
        "print(np.abs(array_vector))"
      ],
      "metadata": {
        "colab": {
          "base_uri": "https://localhost:8080/"
        },
        "id": "FODr3Jd-8DRg",
        "outputId": "838d2ddc-f864-48ea-b427-d38194602f14"
      },
      "execution_count": null,
      "outputs": [
        {
          "output_type": "stream",
          "name": "stdout",
          "text": [
            "[1 2 3 4 5]\n"
          ]
        }
      ]
    },
    {
      "cell_type": "markdown",
      "source": [
        "행렬"
      ],
      "metadata": {
        "id": "ydTIy_oVvauz"
      }
    },
    {
      "cell_type": "code",
      "source": [
        "list_matrix = [[1,2,3],[4,5,6],[7,8,9]]\n",
        "print(list_matrix)"
      ],
      "metadata": {
        "colab": {
          "base_uri": "https://localhost:8080/"
        },
        "id": "0rSw7UAyh93o",
        "outputId": "861ce3cd-e95d-49df-c93f-2a65e92026cb"
      },
      "execution_count": null,
      "outputs": [
        {
          "output_type": "stream",
          "name": "stdout",
          "text": [
            "[[1, 2, 3], [4, 5, 6], [7, 8, 9]]\n"
          ]
        }
      ]
    },
    {
      "cell_type": "code",
      "source": [
        "import numpy as np\n",
        "array_matrix = np.array([[1,2,3],[4,5,6],[7,8,9]])\n",
        "print(array_matrix)"
      ],
      "metadata": {
        "colab": {
          "base_uri": "https://localhost:8080/"
        },
        "id": "-ulM2FT8itb1",
        "outputId": "94097429-0337-46a0-fe08-2485f7b94f86"
      },
      "execution_count": null,
      "outputs": [
        {
          "output_type": "stream",
          "name": "stdout",
          "text": [
            "[[1 2 3]\n",
            " [4 5 6]\n",
            " [7 8 9]]\n"
          ]
        }
      ]
    },
    {
      "cell_type": "code",
      "source": [
        "import numpy as np\n",
        "array_tensor3d = np.array([[[1,2,3],[4,5,6],[7,8,9]],\n",
        "                           [[10,11,12],[13,14,15],[16,17,18]],\n",
        "                           [[10,20,21],[22,23,24],[25,26,27]]])\n",
        "print(array_tensor3d)"
      ],
      "metadata": {
        "colab": {
          "base_uri": "https://localhost:8080/"
        },
        "id": "OfupfoBqmmzN",
        "outputId": "9a4d3be6-c3b4-4101-a6b2-92a27ebc4d3b"
      },
      "execution_count": null,
      "outputs": [
        {
          "output_type": "stream",
          "name": "stdout",
          "text": [
            "[[[ 1  2  3]\n",
            "  [ 4  5  6]\n",
            "  [ 7  8  9]]\n",
            "\n",
            " [[10 11 12]\n",
            "  [13 14 15]\n",
            "  [16 17 18]]\n",
            "\n",
            " [[10 20 21]\n",
            "  [22 23 24]\n",
            "  [25 26 27]]]\n"
          ]
        }
      ]
    },
    {
      "cell_type": "code",
      "source": [
        "import numpy as np\n",
        "\n",
        "array1d = np.arange(1,10)\n",
        "print(array1d)\n",
        "\n",
        "array2d = np.arange(1,10).reshape(3,3)\n",
        "print(array_matrix)\n",
        "\n",
        "array3d = np.arange(1,28).reshape(3,3,3)\n",
        "print(array3d)"
      ],
      "metadata": {
        "colab": {
          "base_uri": "https://localhost:8080/"
        },
        "id": "qf-MJB_poeOK",
        "outputId": "c4bac75b-1f2b-42b4-89f9-da0668b0766e"
      },
      "execution_count": null,
      "outputs": [
        {
          "output_type": "stream",
          "name": "stdout",
          "text": [
            "[1 2 3 4 5 6 7 8 9]\n",
            "[[1 2 3]\n",
            " [4 5 6]\n",
            " [7 8 9]]\n",
            "[[[ 1  2  3]\n",
            "  [ 4  5  6]\n",
            "  [ 7  8  9]]\n",
            "\n",
            " [[10 11 12]\n",
            "  [13 14 15]\n",
            "  [16 17 18]]\n",
            "\n",
            " [[19 20 21]\n",
            "  [22 23 24]\n",
            "  [25 26 27]]]\n"
          ]
        }
      ]
    },
    {
      "cell_type": "code",
      "source": [
        "import numpy as np\n",
        "\n",
        "array1d = np.arange(1,10).reshape(3,3).reshape(9)\n",
        "print(array1d)\n",
        "\n",
        "array3d = np.arange(1,28).reshape(3,3,3)\n",
        "print(array3d)\n",
        "print(array3d.reshape(-1))"
      ],
      "metadata": {
        "colab": {
          "base_uri": "https://localhost:8080/"
        },
        "id": "GunGvxllhuYY",
        "outputId": "ba641579-2622-4a27-d2e5-393254c7df04"
      },
      "execution_count": null,
      "outputs": [
        {
          "output_type": "stream",
          "name": "stdout",
          "text": [
            "[1 2 3 4 5 6 7 8 9]\n",
            "[[[ 1  2  3]\n",
            "  [ 4  5  6]\n",
            "  [ 7  8  9]]\n",
            "\n",
            " [[10 11 12]\n",
            "  [13 14 15]\n",
            "  [16 17 18]]\n",
            "\n",
            " [[19 20 21]\n",
            "  [22 23 24]\n",
            "  [25 26 27]]]\n",
            "[ 1  2  3  4  5  6  7  8  9 10 11 12 13 14 15 16 17 18 19 20 21 22 23 24\n",
            " 25 26 27]\n"
          ]
        }
      ]
    },
    {
      "cell_type": "code",
      "source": [
        "import numpy as np\n",
        "\n",
        "array2d = np.arange(1,10).reshape(3,3)\n",
        "print('array2d\\n',array2d)\n",
        "\n",
        "print('1차원-reshape() 메소드',array2d.reshape(-1))\n",
        "print('1차원-revel() 메소드',array2d.ravel())\n",
        "print('1차원-flat 속성',array2d.flat)\n",
        "for element in array2d.flat:\n",
        "  print(element,end=' ')"
      ],
      "metadata": {
        "colab": {
          "base_uri": "https://localhost:8080/"
        },
        "id": "kXqFOUdyTlNQ",
        "outputId": "00485878-934d-4f7f-cff3-efa4810f3221"
      },
      "execution_count": null,
      "outputs": [
        {
          "output_type": "stream",
          "name": "stdout",
          "text": [
            "array2d\n",
            " [[1 2 3]\n",
            " [4 5 6]\n",
            " [7 8 9]]\n",
            "1차원-reshape() 메소드 [1 2 3 4 5 6 7 8 9]\n",
            "1차원-revel() 메소드 [1 2 3 4 5 6 7 8 9]\n",
            "1차원-flat 속성 <numpy.flatiter object at 0x564506f74a40>\n",
            "1 2 3 4 5 6 7 8 9 "
          ]
        }
      ]
    },
    {
      "cell_type": "code",
      "source": [
        "import numpy as np\n",
        "\n",
        "list4d = [[[['R111','G111','B111'],['R112','G112','B112']],\n",
        "           [['R121','G121','B121'],['R122','G122','B122']]],\n",
        "\n",
        "          [[['R211','G211','B211'],['R212','G212','B212']],\n",
        "           [['R221','G221','B221'],['R222','G222','B222']]]]\n",
        "\n",
        "array4d = np.array(list4d)\n",
        "print('array4d의 형상:',array4d.shape)"
      ],
      "metadata": {
        "colab": {
          "base_uri": "https://localhost:8080/"
        },
        "id": "DvaxOcQQdofY",
        "outputId": "7b5e7527-fee0-4268-8691-79d0889f142e"
      },
      "execution_count": null,
      "outputs": [
        {
          "output_type": "stream",
          "name": "stdout",
          "text": [
            "array4d의 형상: (2, 2, 2, 3)\n"
          ]
        }
      ]
    },
    {
      "cell_type": "code",
      "source": [
        "array2d = array4d.reshape(2,12)\n",
        "print('array2d\\n',array2d)"
      ],
      "metadata": {
        "colab": {
          "base_uri": "https://localhost:8080/"
        },
        "id": "J3D0cwnNnxPx",
        "outputId": "836d9570-b8be-4939-b033-3e6adcc79973"
      },
      "execution_count": null,
      "outputs": [
        {
          "output_type": "stream",
          "name": "stdout",
          "text": [
            "array2d\n",
            " [['R111' 'G111' 'B111' 'R112' 'G112' 'B112' 'R121' 'G121' 'B121' 'R122'\n",
            "  'G122' 'B122']\n",
            " ['R211' 'G211' 'B211' 'R212' 'G212' 'B212' 'R221' 'G221' 'B221' 'R222'\n",
            "  'G222' 'B222']]\n"
          ]
        }
      ]
    },
    {
      "cell_type": "code",
      "source": [
        "array2d = array4d.reshape(2,-1)\n",
        "print('array2d\\n',array2d)"
      ],
      "metadata": {
        "colab": {
          "base_uri": "https://localhost:8080/"
        },
        "id": "qOs1ubSmqKQc",
        "outputId": "b4f1e5f0-ba76-4fe3-e9f7-369f0e6b6bd4"
      },
      "execution_count": null,
      "outputs": [
        {
          "output_type": "stream",
          "name": "stdout",
          "text": [
            "array2d\n",
            " [['R111' 'G111' 'B111' 'R112' 'G112' 'B112' 'R121' 'G121' 'B121' 'R122'\n",
            "  'G122' 'B122']\n",
            " ['R211' 'G211' 'B211' 'R212' 'G212' 'B212' 'R221' 'G221' 'B221' 'R222'\n",
            "  'G222' 'B222']]\n"
          ]
        }
      ]
    },
    {
      "cell_type": "code",
      "source": [
        "import numpy as np\n",
        "\n",
        "print(np.random.rand(2,3))                # 1을 포함하지 않는 0~1사이의 실수 난수\n",
        "print(np.random.randint(6,size=(2,3)))    # 0~5사이의 정수 난수\n",
        "print(np.random.randint(1,7,size=(2,3)))  # 1~6사이의 정수 난수\n",
        "print(np.random.randn(2,3))               # 정규분포(평균 0, 표준편자 1) 실수 난수"
      ],
      "metadata": {
        "colab": {
          "base_uri": "https://localhost:8080/"
        },
        "id": "ENv5GzPLZQzw",
        "outputId": "c7b7075e-484c-4857-9ed4-833100c611b6"
      },
      "execution_count": null,
      "outputs": [
        {
          "output_type": "stream",
          "name": "stdout",
          "text": [
            "[[0.5745447  0.55074943 0.9991471 ]\n",
            " [0.81930482 0.33285708 0.41793689]]\n",
            "[[5 2 2]\n",
            " [0 2 3]]\n",
            "[[6 3 6]\n",
            " [1 2 1]]\n",
            "[[-0.73245638 -0.28201239  1.37501889]\n",
            " [-0.94309531 -0.21941694 -0.62192199]]\n"
          ]
        }
      ]
    },
    {
      "cell_type": "code",
      "source": [
        "import random\n",
        "import numpy as np\n",
        "\n",
        "for _ in range(20):\n",
        "  print(random.randrange(1,7),end=' ')\n",
        "print()\n",
        "for _ in range(20):\n",
        "  print(np.random.randint(1,7),end=' ')"
      ],
      "metadata": {
        "colab": {
          "base_uri": "https://localhost:8080/"
        },
        "id": "nviBYlT7sDOI",
        "outputId": "b4c0a684-b301-4cd0-bce7-994fe0f2d77f"
      },
      "execution_count": null,
      "outputs": [
        {
          "output_type": "stream",
          "name": "stdout",
          "text": [
            "5 1 5 1 2 3 5 2 3 1 6 5 6 1 4 5 3 4 1 2 \n",
            "3 5 5 5 3 2 3 6 4 3 1 4 1 1 2 4 1 6 4 2 "
          ]
        }
      ]
    },
    {
      "cell_type": "code",
      "source": [
        "print(random.randrange(1,7,2))            # 홀수 난수\n",
        "print(random.randrange(2,7,2))            # 짝수 난수\n",
        "print(np.random.randint(1,7,(2,3)))       # 2 X 3 행렬 난수\n",
        "print(np.random.randint(1,7,size=(2,2)))  # 2 X 2 행렬 난수"
      ],
      "metadata": {
        "colab": {
          "base_uri": "https://localhost:8080/"
        },
        "id": "n7GIPtApuwgK",
        "outputId": "21d90038-57fe-46bc-b68a-0a4090fa2ccc"
      },
      "execution_count": null,
      "outputs": [
        {
          "output_type": "stream",
          "name": "stdout",
          "text": [
            "3\n",
            "2\n",
            "[[6 2 1]\n",
            " [6 5 5]]\n",
            "[[4 5]\n",
            " [3 1]]\n"
          ]
        }
      ]
    },
    {
      "cell_type": "code",
      "source": [
        "print(random.random())        # 1을 포함하지 않는 0~1사이의 실수 난수\n",
        "print(np.random.rand())       # 1을 포함하지 않는 0~1사이의 실수 난수\n",
        "print(np.random.rand(2,3))    # 1을 포함하지 않는 0~1사이의 실수 난수 (2 X 3 배열)"
      ],
      "metadata": {
        "colab": {
          "base_uri": "https://localhost:8080/"
        },
        "id": "ibjkycSqwQgQ",
        "outputId": "ebb8584b-3483-4614-e168-92deeea164f0"
      },
      "execution_count": null,
      "outputs": [
        {
          "output_type": "stream",
          "name": "stdout",
          "text": [
            "0.5081139706913528\n",
            "0.3021189758113202\n",
            "[[0.19033745 0.93991803 0.71004323]\n",
            " [0.65664406 0.85566369 0.06733242]]\n"
          ]
        }
      ]
    },
    {
      "cell_type": "code",
      "source": [
        "for _ in range(5):\n",
        "  print(random.uniform(5,10),end=' ')   # 10을 포함하지 않는 5~10사이의 실수 난수\n",
        "print()\n",
        "for _ in range(5):\n",
        "  print(5+random.random()*5,end=' ')    # 10을 포함하지 않는 5~10사이의 실수 난수\n",
        "print()\n",
        "for _ in range(5):\n",
        "  print(5+np.random.rand()*5,end=' ')   # 10을 포함하지 않는 5~10사이의 실수 난수"
      ],
      "metadata": {
        "colab": {
          "base_uri": "https://localhost:8080/"
        },
        "id": "xnKXFgE9wp1v",
        "outputId": "2b823aec-1715-48a3-dd86-0d474f728623"
      },
      "execution_count": null,
      "outputs": [
        {
          "output_type": "stream",
          "name": "stdout",
          "text": [
            "5.873825578410558 8.246097794989007 7.351412435455403 6.944546912041011 6.300053051146852 \n",
            "5.153590191862248 8.749435658950635 6.4213044954353204 7.479888277273383 7.573006362049832 \n",
            "7.97455337185401 9.786406918448337 7.46870576827795 6.957089900993886 5.649770196652527 "
          ]
        }
      ]
    },
    {
      "cell_type": "code",
      "source": [
        "# 하나의 난수\n",
        "print(np.random.randn())                  # 정규분포(평균 0, 표준편자 1) 실수 난수\n",
        "print(np.random.normal(90,10))            # 정규분포(평균 90, 표준편자 10) 실수 난수\n",
        "# 길이가 5인 벡터\n",
        "print(np.random.randn(5))                 # 정규분포(평균 0, 표준편자 1) 실수 난수\n",
        "print(np.random.normal(90,10,size=5))     # 정규분포(평균 90, 표준편자 10) 실수 난수\n",
        "# 2X3 배열\n",
        "print(np.random.randn(2,3))               # 정규분포(평균 0, 표준편자 1) 실수 난수\n",
        "print(np.random.normal(90,10,size=(2,3))) # 정규분포(평균 90, 표준편자 10) 실수 난수"
      ],
      "metadata": {
        "colab": {
          "base_uri": "https://localhost:8080/"
        },
        "id": "jGCFc6_Prccq",
        "outputId": "46f8e352-1c81-4c84-fd0a-fdf8ab40bd9b"
      },
      "execution_count": null,
      "outputs": [
        {
          "output_type": "stream",
          "name": "stdout",
          "text": [
            "0.6597870858335965\n",
            "103.56408831174102\n",
            "[ 1.49772671 -0.3393504  -0.43236208  1.14342066 -0.69243313]\n",
            "[68.81885619 73.34441971 95.45176389 94.69085933 87.69411168]\n",
            "[[ 0.32585796 -1.38560498  0.33753711]\n",
            " [ 0.5015135  -0.83120397 -0.20219147]]\n",
            "[[ 82.99569654 102.02835877  83.25308744]\n",
            " [ 83.86473348  83.83988809  95.25141292]]\n"
          ]
        }
      ]
    },
    {
      "cell_type": "code",
      "source": [
        "for _ in range(5):\n",
        "  print(random.randrange(1,11),end=' ')\n",
        "print()\n",
        "for _ in range(5):\n",
        "  print(np.random.randint(1,11),end=' ')"
      ],
      "metadata": {
        "colab": {
          "base_uri": "https://localhost:8080/"
        },
        "id": "oVPbzEoK0Usj",
        "outputId": "9c2046c3-4980-47d0-c966-5b6f5fbda9e7"
      },
      "execution_count": null,
      "outputs": [
        {
          "output_type": "stream",
          "name": "stdout",
          "text": [
            "3 3 7 4 8 \n",
            "10 2 2 1 9 "
          ]
        }
      ]
    },
    {
      "cell_type": "code",
      "source": [
        "for _ in range(5):\n",
        "  print(random.randrange(1,11),end=' ')\n",
        "print()\n",
        "for _ in range(5):\n",
        "  print(np.random.randint(1,11),end=' ')"
      ],
      "metadata": {
        "colab": {
          "base_uri": "https://localhost:8080/"
        },
        "id": "rqzw9orb2tOi",
        "outputId": "c231a192-7666-4334-f334-7ab45c153daf"
      },
      "execution_count": null,
      "outputs": [
        {
          "output_type": "stream",
          "name": "stdout",
          "text": [
            "3 8 6 3 3 \n",
            "4 10 2 6 3 "
          ]
        }
      ]
    },
    {
      "cell_type": "code",
      "source": [
        "random.seed(1234)\n",
        "for _ in range(5):\n",
        "  print(random.randrange(1,11),end=' ')\n",
        "print()\n",
        "np.random.seed(1234)\n",
        "for _ in range(5):\n",
        "  print(np.random.randint(1,11),end=' ')"
      ],
      "metadata": {
        "colab": {
          "base_uri": "https://localhost:8080/"
        },
        "id": "olbNIbk-2_j1",
        "outputId": "3b092a8b-4457-47a0-d4e4-0428a4b91b40"
      },
      "execution_count": null,
      "outputs": [
        {
          "output_type": "stream",
          "name": "stdout",
          "text": [
            "8 2 1 2 10 \n",
            "4 7 6 5 9 "
          ]
        }
      ]
    },
    {
      "cell_type": "code",
      "source": [
        "random.seed(1234)\n",
        "for _ in range(5):\n",
        "  print(random.randrange(1,11),end=' ')\n",
        "print()\n",
        "np.random.seed(1234)\n",
        "for _ in range(5):\n",
        "  print(np.random.randint(1,11),end=' ')"
      ],
      "metadata": {
        "id": "Yp7tUM493Kbj",
        "outputId": "0fe04927-6ff3-4275-b1d6-073b9854e122",
        "colab": {
          "base_uri": "https://localhost:8080/"
        }
      },
      "execution_count": null,
      "outputs": [
        {
          "output_type": "stream",
          "name": "stdout",
          "text": [
            "8 2 1 2 10 \n",
            "4 7 6 5 9 "
          ]
        }
      ]
    },
    {
      "cell_type": "code",
      "source": [
        "import numpy as np\n",
        "\n",
        "array_matrix = np.arange(1,10).reshape(3,3)\n",
        "print(\"행렬 : \\n\", array_matrix)\n",
        "\n",
        "print(\"행렬 덧셈 : \\n\", array_matrix + array_matrix)\n",
        "print(\"행렬 나눗셈 : \\n\", array_matrix / array_matrix)"
      ],
      "metadata": {
        "colab": {
          "base_uri": "https://localhost:8080/"
        },
        "id": "Eywh-MKG5sE4",
        "outputId": "4a217a30-5d38-4be3-e8bc-5a6c7de6f988"
      },
      "execution_count": null,
      "outputs": [
        {
          "output_type": "stream",
          "name": "stdout",
          "text": [
            "행렬 : \n",
            " [[1 2 3]\n",
            " [4 5 6]\n",
            " [7 8 9]]\n",
            "행렬 덧셈 : \n",
            " [[ 2  4  6]\n",
            " [ 8 10 12]\n",
            " [14 16 18]]\n",
            "행렬 나눗셈 : \n",
            " [[1. 1. 1.]\n",
            " [1. 1. 1.]\n",
            " [1. 1. 1.]]\n"
          ]
        }
      ]
    },
    {
      "cell_type": "code",
      "source": [
        "import numpy as np\n",
        "\n",
        "array_matrix = np.arange(9).reshape(3,3)\n",
        "print(\"행렬 : \\n\", array_matrix)\n",
        "\n",
        "print(\"행렬의 배열 곱셈 : \\n\", array_matrix * array_matrix)\n",
        "print(\"행렬의 행렬 곱셈 : \\n\", array_matrix @ array_matrix)"
      ],
      "metadata": {
        "colab": {
          "base_uri": "https://localhost:8080/"
        },
        "id": "ZTuJi9A-V9kk",
        "outputId": "28358e33-6211-4382-ecdd-3be256e3b6df"
      },
      "execution_count": null,
      "outputs": [
        {
          "output_type": "stream",
          "name": "stdout",
          "text": [
            "행렬 : \n",
            " [[0 1 2]\n",
            " [3 4 5]\n",
            " [6 7 8]]\n",
            "행렬의 배열 곱셈 : \n",
            " [[ 0  1  4]\n",
            " [ 9 16 25]\n",
            " [36 49 64]]\n",
            "행렬의 행렬 곱셈 : \n",
            " [[ 15  18  21]\n",
            " [ 42  54  66]\n",
            " [ 69  90 111]]\n"
          ]
        }
      ]
    },
    {
      "cell_type": "code",
      "source": [
        "import numpy as np\n",
        "\n",
        "array_matrix = np.arange(9).reshape(3,3)\n",
        "print(\"행렬 : \\n\", array_matrix)\n",
        "\n",
        "print(\"행렬과 스칼라 곱셈 : \\n\", array_matrix * 2)\n",
        "print(\"행렬 제곱근 : \\n\", np.sqrt(array_matrix))"
      ],
      "metadata": {
        "colab": {
          "base_uri": "https://localhost:8080/"
        },
        "id": "uaQImhX6QRZM",
        "outputId": "564ea83e-7801-4cbc-b158-e593c6e611eb"
      },
      "execution_count": null,
      "outputs": [
        {
          "output_type": "stream",
          "name": "stdout",
          "text": [
            "행렬 : \n",
            " [[0 1 2]\n",
            " [3 4 5]\n",
            " [6 7 8]]\n",
            "행렬과 스칼라 곱셈 : \n",
            " [[ 0  2  4]\n",
            " [ 6  8 10]\n",
            " [12 14 16]]\n",
            "행렬 제곱근 : \n",
            " [[0.         1.         1.41421356]\n",
            " [1.73205081 2.         2.23606798]\n",
            " [2.44948974 2.64575131 2.82842712]]\n"
          ]
        }
      ]
    },
    {
      "cell_type": "code",
      "source": [
        "result = 0 / 0"
      ],
      "metadata": {
        "colab": {
          "base_uri": "https://localhost:8080/",
          "height": 186
        },
        "id": "JwVlFOG8rEe5",
        "outputId": "c84a6d1e-54d4-4f93-9925-5cd0b51d92a3"
      },
      "execution_count": null,
      "outputs": [
        {
          "output_type": "error",
          "ename": "ZeroDivisionError",
          "evalue": "ignored",
          "traceback": [
            "\u001b[0;31m---------------------------------------------------------------------------\u001b[0m",
            "\u001b[0;31mZeroDivisionError\u001b[0m                         Traceback (most recent call last)",
            "\u001b[0;32m<ipython-input-32-c03388a78094>\u001b[0m in \u001b[0;36m<cell line: 1>\u001b[0;34m()\u001b[0m\n\u001b[0;32m----> 1\u001b[0;31m \u001b[0mresult\u001b[0m \u001b[0;34m=\u001b[0m \u001b[0;36m0\u001b[0m \u001b[0;34m/\u001b[0m \u001b[0;36m0\u001b[0m\u001b[0;34m\u001b[0m\u001b[0;34m\u001b[0m\u001b[0m\n\u001b[0m",
            "\u001b[0;31mZeroDivisionError\u001b[0m: division by zero"
          ]
        }
      ]
    },
    {
      "cell_type": "code",
      "source": [
        "import numpy as np\n",
        "\n",
        "array_matrix01 = np.array([[-2,-1,0,1,2],[1,2,3,4,5]])\n",
        "print(\"나누어지는 행렬 : \\n\", array_matrix01)\n",
        "array_matrix02 = np.array([[1,0,0,0,1],[5,4,3,2,1]])\n",
        "print(\"나누는 행렬 : \\n\", array_matrix02)\n",
        "array_matrix03 = array_matrix01 / array_matrix02\n",
        "print(\"나누어진 행렬 : \\n\", array_matrix03)"
      ],
      "metadata": {
        "colab": {
          "base_uri": "https://localhost:8080/"
        },
        "id": "sJcckszDsflh",
        "outputId": "2f105920-0d41-4a06-b4c8-5e4e601af0b9"
      },
      "execution_count": null,
      "outputs": [
        {
          "output_type": "stream",
          "name": "stdout",
          "text": [
            "나누어지는 행렬 : \n",
            " [[-2 -1  0  1  2]\n",
            " [ 1  2  3  4  5]]\n",
            "나누는 행렬 : \n",
            " [[1 0 0 0 1]\n",
            " [5 4 3 2 1]]\n",
            "나누어진 행렬 : \n",
            " [[-2.  -inf  nan  inf  2. ]\n",
            " [ 0.2  0.5  1.   2.   5. ]]\n"
          ]
        },
        {
          "output_type": "stream",
          "name": "stderr",
          "text": [
            "<ipython-input-33-10d794c47070>:7: RuntimeWarning: divide by zero encountered in true_divide\n",
            "  array_matrix03 = array_matrix01 / array_matrix02\n",
            "<ipython-input-33-10d794c47070>:7: RuntimeWarning: invalid value encountered in true_divide\n",
            "  array_matrix03 = array_matrix01 / array_matrix02\n"
          ]
        }
      ]
    },
    {
      "cell_type": "code",
      "source": [
        "print(\"np.sqrt(-1) : \", np.sqrt(-1))\n",
        "print(\"np.sqrt(np.inf) : \", np.sqrt(np.inf))\n",
        "print(\"np.log(0) : \", np.log(0))\n",
        "print(\"np.exp(-np.inf) : \", np.exp(-np.inf))"
      ],
      "metadata": {
        "colab": {
          "base_uri": "https://localhost:8080/"
        },
        "id": "-edhZTVXzjeh",
        "outputId": "aee45ce2-b955-46de-a1ab-41a5fc7b9eef"
      },
      "execution_count": null,
      "outputs": [
        {
          "output_type": "stream",
          "name": "stdout",
          "text": [
            "np.sqrt(-1) :  nan\n",
            "np.sqrt(np.inf) :  inf\n",
            "np.log(0) :  -inf\n",
            "np.exp(-np.inf) :  0.0\n"
          ]
        },
        {
          "output_type": "stream",
          "name": "stderr",
          "text": [
            "<ipython-input-34-943bd00e8266>:1: RuntimeWarning: invalid value encountered in sqrt\n",
            "  print(\"np.sqrt(-1) : \", np.sqrt(-1))\n",
            "<ipython-input-34-943bd00e8266>:3: RuntimeWarning: divide by zero encountered in log\n",
            "  print(\"np.log(0) : \", np.log(0))\n"
          ]
        }
      ]
    },
    {
      "cell_type": "code",
      "source": [
        "import math\n",
        "\n",
        "print(\"math.sqrt(-1) :\", math.sqrt(-1))"
      ],
      "metadata": {
        "colab": {
          "base_uri": "https://localhost:8080/",
          "height": 223
        },
        "id": "p7X_xX811zHz",
        "outputId": "0ec7c523-794c-4faf-fb37-7a819603a555"
      },
      "execution_count": null,
      "outputs": [
        {
          "output_type": "error",
          "ename": "ValueError",
          "evalue": "ignored",
          "traceback": [
            "\u001b[0;31m---------------------------------------------------------------------------\u001b[0m",
            "\u001b[0;31mValueError\u001b[0m                                Traceback (most recent call last)",
            "\u001b[0;32m<ipython-input-35-f291a4c89219>\u001b[0m in \u001b[0;36m<cell line: 3>\u001b[0;34m()\u001b[0m\n\u001b[1;32m      1\u001b[0m \u001b[0;32mimport\u001b[0m \u001b[0mmath\u001b[0m\u001b[0;34m\u001b[0m\u001b[0;34m\u001b[0m\u001b[0m\n\u001b[1;32m      2\u001b[0m \u001b[0;34m\u001b[0m\u001b[0m\n\u001b[0;32m----> 3\u001b[0;31m \u001b[0mprint\u001b[0m\u001b[0;34m(\u001b[0m\u001b[0;34m\"math.sqrt(-1) :\"\u001b[0m\u001b[0;34m,\u001b[0m \u001b[0mmath\u001b[0m\u001b[0;34m.\u001b[0m\u001b[0msqrt\u001b[0m\u001b[0;34m(\u001b[0m\u001b[0;34m-\u001b[0m\u001b[0;36m1\u001b[0m\u001b[0;34m)\u001b[0m\u001b[0;34m)\u001b[0m\u001b[0;34m\u001b[0m\u001b[0;34m\u001b[0m\u001b[0m\n\u001b[0m",
            "\u001b[0;31mValueError\u001b[0m: math domain error"
          ]
        }
      ]
    },
    {
      "cell_type": "code",
      "source": [
        "coupon = None\n",
        "\n",
        "if coupon is not None:\n",
        "  print(\"여기에 쿠폰 처리 로직을 기술합니다.\")\n",
        "else:\n",
        "  print(\"여기에 쿠폰이 발급되지 않은 경우의 로직을 기술합니다.\")"
      ],
      "metadata": {
        "colab": {
          "base_uri": "https://localhost:8080/"
        },
        "id": "_6_cq_54o6jc",
        "outputId": "5e7ec123-dcd9-4cbd-b125-8072ab86edd3"
      },
      "execution_count": null,
      "outputs": [
        {
          "output_type": "stream",
          "name": "stdout",
          "text": [
            "여기에 쿠폰이 발급되지 않은 경우의 로직을 기술합니다.\n"
          ]
        }
      ]
    },
    {
      "cell_type": "code",
      "source": [
        "coupon = None\n",
        "\n",
        "if coupon != None:\n",
        "  print(\"여기에 쿠폰 처리 로직을 기술합니다.\")\n",
        "else:\n",
        "  print(\"여기에 쿠폰이 발급되지 않은 경우의 로직을 기술합니다.\")"
      ],
      "metadata": {
        "colab": {
          "base_uri": "https://localhost:8080/"
        },
        "id": "96mQXVQ5pRjV",
        "outputId": "9e1e592c-3d22-4f2b-88d2-09d946b27a04"
      },
      "execution_count": null,
      "outputs": [
        {
          "output_type": "stream",
          "name": "stdout",
          "text": [
            "여기에 쿠폰이 발급되지 않은 경우의 로직을 기술합니다.\n"
          ]
        }
      ]
    },
    {
      "cell_type": "code",
      "source": [
        "coupon = None\n",
        "\n",
        "if coupon:\n",
        "  print(\"여기에 쿠폰 처리 로직을 기술합니다.\")\n",
        "else:\n",
        "  print(\"여기에 쿠폰이 발급되지 않은 경우의 로직을 기술합니다.\")"
      ],
      "metadata": {
        "colab": {
          "base_uri": "https://localhost:8080/"
        },
        "id": "Z1elRiZwmxrm",
        "outputId": "d6dd6353-0843-4ef2-bac4-417094f3986d"
      },
      "execution_count": null,
      "outputs": [
        {
          "output_type": "stream",
          "name": "stdout",
          "text": [
            "여기에 쿠폰이 발급되지 않은 경우의 로직을 기술합니다.\n"
          ]
        }
      ]
    },
    {
      "cell_type": "code",
      "source": [
        "product_list = []\n",
        "\n",
        "if product_list:\n",
        "  print(\"여기에 제품 처리 로직을 기술합니다.\")\n",
        "else:\n",
        "  print(\"여기에 제품이 없을 경우의 로직을 기술합니다.\")"
      ],
      "metadata": {
        "colab": {
          "base_uri": "https://localhost:8080/"
        },
        "id": "1GNKO3ErrTrP",
        "outputId": "f8b405d9-5910-4883-f337-ca34b6937eaf"
      },
      "execution_count": null,
      "outputs": [
        {
          "output_type": "stream",
          "name": "stdout",
          "text": [
            "여기에 제품이 없을 경우의 로직을 기술합니다.\n"
          ]
        }
      ]
    },
    {
      "cell_type": "code",
      "source": [
        "cart = {}\n",
        "\n",
        "if cart:\n",
        "  print(\"여기에 장바구니 처리 로직을 기술합니다.\")\n",
        "else:\n",
        "  print(\"여기에 장바구니가 빈 경우의 로직을 기술합니다.\")"
      ],
      "metadata": {
        "colab": {
          "base_uri": "https://localhost:8080/"
        },
        "id": "FQl7RLSXOF_L",
        "outputId": "d1a523b2-5b0e-4d40-831a-4b2853488a27"
      },
      "execution_count": 1,
      "outputs": [
        {
          "output_type": "stream",
          "name": "stdout",
          "text": [
            "여기에 장바구니가 빈 경우의 로직을 기술합니다.\n"
          ]
        }
      ]
    },
    {
      "cell_type": "code",
      "source": [
        "number = 0\n",
        "\n",
        "if number is 0:\n",
        "  print(\"여기에 숫자가 0일때의 처리 로직을 기술합니다.\")\n",
        "else:\n",
        "  print(\"여기에 숫자가 0이 아닐 경우의 로직을 기술합니다.\")"
      ],
      "metadata": {
        "colab": {
          "base_uri": "https://localhost:8080/"
        },
        "id": "5tZLwQG9umfV",
        "outputId": "30dacb76-79ec-4515-f0b5-e9be1772cb47"
      },
      "execution_count": null,
      "outputs": [
        {
          "output_type": "stream",
          "name": "stdout",
          "text": [
            "여기에 숫자가 0일때의 처리 로직을 기술합니다.\n"
          ]
        },
        {
          "output_type": "stream",
          "name": "stderr",
          "text": [
            "<>:3: SyntaxWarning: \"is\" with a literal. Did you mean \"==\"?\n",
            "<>:3: SyntaxWarning: \"is\" with a literal. Did you mean \"==\"?\n",
            "<ipython-input-15-5841845ef4ab>:3: SyntaxWarning: \"is\" with a literal. Did you mean \"==\"?\n",
            "  if number is 0:\n"
          ]
        }
      ]
    },
    {
      "cell_type": "code",
      "source": [
        "number = 0\n",
        "\n",
        "if number == 0:\n",
        "  print(\"여기에 숫자가 0일때의 처리 로직을 기술합니다.\")\n",
        "else:\n",
        "  print(\"여기에 숫자가 0이 아닐 경우의 로직을 기술합니다.\")"
      ],
      "metadata": {
        "colab": {
          "base_uri": "https://localhost:8080/"
        },
        "id": "2JwqJhloqXfU",
        "outputId": "a8a0cb76-7915-45e5-8f9c-15b9506a03c0"
      },
      "execution_count": null,
      "outputs": [
        {
          "output_type": "stream",
          "name": "stdout",
          "text": [
            "여기에 숫자가 0일때의 처리 로직을 기술합니다.\n"
          ]
        }
      ]
    },
    {
      "cell_type": "code",
      "source": [
        "number = 0\n",
        "\n",
        "if number:\n",
        "  print(\"여기에 숫자가 0일때의 처리 로직을 기술합니다.\")\n",
        "else:\n",
        "  print(\"여기에 숫자가 0이 아닐 경우의 로직을 기술합니다.\")"
      ],
      "metadata": {
        "colab": {
          "base_uri": "https://localhost:8080/"
        },
        "id": "fu9wO3wjsOUO",
        "outputId": "4372f4b3-91b7-4311-e6dd-55539765f56a"
      },
      "execution_count": null,
      "outputs": [
        {
          "output_type": "stream",
          "name": "stdout",
          "text": [
            "여기에 숫자가 0이 아닐 경우의 로직을 기술합니다.\n"
          ]
        }
      ]
    },
    {
      "cell_type": "code",
      "source": [
        "import numpy as np\n",
        "\n",
        "array_matrix = np.arange(9).reshape(3,3)\n",
        "print(\"행렬 : \\n\", array_matrix)\n",
        "\n",
        "print(\"전치 행렬 (array_matrix.T) : \\n\", array_matrix.T)\n",
        "print(\"전치 행렬 (np.transpose(array_matrix)) : \\n\", np.transpose(array_matrix))"
      ],
      "metadata": {
        "colab": {
          "base_uri": "https://localhost:8080/"
        },
        "id": "5z1CS50FUm1a",
        "outputId": "ce2baa4f-a478-4584-b16a-8f374dfd803b"
      },
      "execution_count": null,
      "outputs": [
        {
          "output_type": "stream",
          "name": "stdout",
          "text": [
            "행렬 : \n",
            " [[0 1 2]\n",
            " [3 4 5]\n",
            " [6 7 8]]\n",
            "전치 행렬 (array_matrix.T) : \n",
            " [[0 3 6]\n",
            " [1 4 7]\n",
            " [2 5 8]]\n",
            "전치 행렬 (np.transpose(array_matrix)) : \n",
            " [[0 3 6]\n",
            " [1 4 7]\n",
            " [2 5 8]]\n"
          ]
        }
      ]
    }
  ]
}