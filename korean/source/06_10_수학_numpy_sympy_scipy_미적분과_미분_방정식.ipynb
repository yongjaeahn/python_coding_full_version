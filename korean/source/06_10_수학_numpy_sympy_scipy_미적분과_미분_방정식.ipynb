{
  "nbformat": 4,
  "nbformat_minor": 0,
  "metadata": {
    "colab": {
      "provenance": [],
      "authorship_tag": "ABX9TyMl3M2uqfIYJ+dn9+pDM46X",
      "include_colab_link": true
    },
    "kernelspec": {
      "name": "python3",
      "display_name": "Python 3"
    },
    "language_info": {
      "name": "python"
    }
  },
  "cells": [
    {
      "cell_type": "markdown",
      "metadata": {
        "id": "view-in-github",
        "colab_type": "text"
      },
      "source": [
        "<a href=\"https://colab.research.google.com/github/yongjaeahn/python_coding/blob/main/korean/source/06_10_%EC%88%98%ED%95%99_numpy_sympy_scipy_%EB%AF%B8%EC%A0%81%EB%B6%84%EA%B3%BC_%EB%AF%B8%EB%B6%84_%EB%B0%A9%EC%A0%95%EC%8B%9D.ipynb\" target=\"_parent\"><img src=\"https://colab.research.google.com/assets/colab-badge.svg\" alt=\"Open In Colab\"/></a>"
      ]
    },
    {
      "cell_type": "markdown",
      "source": [
        "\tnumpy/sympy/scipy 미적분과 미분 방정식"
      ],
      "metadata": {
        "id": "Zi6dxcluLGHS"
      }
    },
    {
      "cell_type": "markdown",
      "source": [
        "미분"
      ],
      "metadata": {
        "id": "qrL1ODW3LMak"
      }
    },
    {
      "cell_type": "code",
      "source": [
        "import numpy as np\n",
        "\n",
        "f = np.poly1d([3,-2,0,4])\n",
        "\n",
        "f_diff = np.polyder(f)\n",
        "f_2nd_diff = np.polyder(f,2)\n",
        "f_3rd_diff = np.polyder(f,3)\n",
        "print('방정식 : f(x)=\\n', f)\n",
        "print('미분한 방정식 :\\n',f_diff)\n",
        "print('2차 미분한 방정식 :',f_2nd_diff)\n",
        "print('3차 미분한 방정식 :',f_3rd_diff)"
      ],
      "metadata": {
        "colab": {
          "base_uri": "https://localhost:8080/"
        },
        "id": "9zPkk8dSdNGc",
        "outputId": "1e59678b-7fab-4130-91e6-e7e7f115297a"
      },
      "execution_count": null,
      "outputs": [
        {
          "output_type": "stream",
          "name": "stdout",
          "text": [
            "방정식 : f(x)=\n",
            "    3     2\n",
            "3 x - 2 x + 4\n",
            "미분한 방정식 :\n",
            "    2\n",
            "9 x - 4 x\n",
            "2차 미분한 방정식 :  \n",
            "18 x - 4\n",
            "3차 미분한 방정식 :  \n",
            "18\n"
          ]
        }
      ]
    },
    {
      "cell_type": "code",
      "source": [
        "print('x값이 [-1,0,1]일때 미분계수 :', f_diff([-1,0,1]))"
      ],
      "metadata": {
        "colab": {
          "base_uri": "https://localhost:8080/"
        },
        "id": "sRkWD2rAweO2",
        "outputId": "d2655129-32ee-4ac0-cf41-cff52cc55047"
      },
      "execution_count": null,
      "outputs": [
        {
          "output_type": "stream",
          "name": "stdout",
          "text": [
            "x값이 [-1,0,1]일때 미분계수 : [13  0  5]\n"
          ]
        }
      ]
    },
    {
      "cell_type": "code",
      "source": [
        "def my_poly_der(x, delta_x):\n",
        "  return abs(f(x+delta_x) - f(x)) / delta_x\n",
        "\n",
        "delta_x = 0.001\n",
        "print('x값이 -1일때 미분계수 :', my_poly_der(-1,delta_x))\n",
        "print('x값이 0일때 미분계수 :', my_poly_der(0,delta_x))\n",
        "print('x값이 1일때 미분계수 :', my_poly_der(1,delta_x))"
      ],
      "metadata": {
        "colab": {
          "base_uri": "https://localhost:8080/"
        },
        "id": "Y2zjOvQD31Ja",
        "outputId": "99a334ff-cbbd-4874-aae2-e2f903a76f06"
      },
      "execution_count": null,
      "outputs": [
        {
          "output_type": "stream",
          "name": "stdout",
          "text": [
            "x값이 -1일때 미분계수 : 12.989003000000388\n",
            "x값이 0일때 미분계수 : 0.001997000000031335\n",
            "x값이 1일때 미분계수 : 5.007002999999344\n"
          ]
        }
      ]
    },
    {
      "cell_type": "code",
      "source": [
        "delta_x = 0.0001\n",
        "print('x값이 -1일때 미분계수 :', my_poly_der(-1,delta_x))\n",
        "print('x값이 0일때 미분계수 :', my_poly_der(0,delta_x))\n",
        "print('x값이 1일때 미분계수 :', my_poly_der(1,delta_x))"
      ],
      "metadata": {
        "colab": {
          "base_uri": "https://localhost:8080/"
        },
        "id": "_rx3Cdkg9CLk",
        "outputId": "da699625-c07d-4a87-dd44-600b7302f19f"
      },
      "execution_count": null,
      "outputs": [
        {
          "output_type": "stream",
          "name": "stdout",
          "text": [
            "x값이 -1일때 미분계수 : 12.998900029996818\n",
            "x값이 0일때 미분계수 : 0.00019997000055838043\n",
            "x값이 1일때 미분계수 : 5.0007000300045235\n"
          ]
        }
      ]
    },
    {
      "cell_type": "code",
      "source": [
        "num_of_xs = 10000\n",
        "x = np.linspace(-1,1,num_of_xs)\n",
        "y = f(x)\n",
        "\n",
        "dx = np.diff(x)\n",
        "dy = np.diff(y)\n",
        "derivative = dy/dx\n",
        "\n",
        "print(x[0],derivative[0])\n",
        "print(x[num_of_xs-1],derivative[num_of_xs-2])"
      ],
      "metadata": {
        "colab": {
          "base_uri": "https://localhost:8080/"
        },
        "id": "S20xHqgiDHXX",
        "outputId": "6626e743-94f3-4547-bc05-a0e1e05669ca"
      },
      "execution_count": null,
      "outputs": [
        {
          "output_type": "stream",
          "name": "stdout",
          "text": [
            "-1.0 12.997799900003047\n",
            "1.0 4.998599980008064\n"
          ]
        }
      ]
    },
    {
      "cell_type": "code",
      "source": [
        "import numpy as np\n",
        "import matplotlib.pyplot as plt\n",
        "\n",
        "f = np.poly1d([1,2,1])\n",
        "\n",
        "f_diff = np.polyder(f)\n",
        "print('방정식 : f(x)=\\n', f)\n",
        "print('미분한 방정식 :\\n',f_diff)\n",
        "\n",
        "diff_coef = f_diff([-7.5,0,5])\n",
        "print('x값이 [-7.5,0,5]일때 미분계수 :', diff_coef)\n",
        "\n",
        "x = np.linspace(-10,10,50)\n",
        "y = f(x)\n",
        "plt.plot(x,y,'b-',label=r'f(x)=$x^2 + 2x + 1$')\n",
        "\n",
        "f_diff1 = np.poly1d([diff_coef[0],-56])\n",
        "x_diff1 = np.linspace(-10,-5,20)\n",
        "y_diff1 = f_diff1(x_diff1)\n",
        "plt.plot(x_diff1,y_diff1,'r:',label='Diff Coef at -7.5')\n",
        "\n",
        "f_diff2 = np.poly1d([diff_coef[1],0])\n",
        "x_diff2 = np.linspace(-2.5,2.5,20)\n",
        "y_diff2 = f_diff2(x_diff2)\n",
        "plt.plot(x_diff2,y_diff2,'g--',label='Diff Coef at 0')\n",
        "\n",
        "f_diff3 = np.poly1d([diff_coef[2],-25])\n",
        "x_diff3 = np.linspace(2.5,7.5,20)\n",
        "y_diff3 = f_diff3(x_diff3)\n",
        "plt.plot(x_diff3,y_diff3,'b-.',label='Diff Coef at 5')\n",
        "\n",
        "plt.legend()\n",
        "plt.show()"
      ],
      "metadata": {
        "colab": {
          "base_uri": "https://localhost:8080/",
          "height": 561
        },
        "id": "mmE9otE6H9W7",
        "outputId": "c35013d9-47ae-4cca-dd43-9b53a29ff708"
      },
      "execution_count": null,
      "outputs": [
        {
          "output_type": "stream",
          "name": "stdout",
          "text": [
            "방정식 : f(x)=\n",
            "    2\n",
            "1 x + 2 x + 1\n",
            "미분한 방정식 :\n",
            "  \n",
            "2 x + 2\n",
            "x값이 [-7.5,0,5]일때 미분계수 : [-13.   2.  12.]\n"
          ]
        },
        {
          "output_type": "display_data",
          "data": {
            "text/plain": [
              "<Figure size 640x480 with 1 Axes>"
            ],
            "image/png": "[encoded data removed]"
          },
          "metadata": {}
        }
      ]
    },
    {
      "cell_type": "code",
      "source": [
        "import sympy as sp\n",
        "\n",
        "x = sp.Symbol('x')\n",
        "f = 3*x**3 - 2*x**2 + 4\n",
        "\n",
        "f_diff = sp.diff(f, x)\n",
        "f_2nd_diff = sp.diff(f, x, x)\n",
        "f_3rd_diff = sp.diff(f, x, x, x)\n",
        "print('방정식 : f(x)=', f)\n",
        "print('미분한 방정식 :',f_diff)\n",
        "print('2차 미분한 방정식 :',f_2nd_diff)\n",
        "print('3차 미분한 방정식 :',f_3rd_diff)\n",
        "\n",
        "print('x값이 -1일때 미분계수 :', f_diff.subs({x:-1}))\n",
        "print('x값이 0일때 미분계수 :', f_diff.subs({x:0}))\n",
        "print('x값이 1일때 미분계수 :', f_diff.subs({x:1}))"
      ],
      "metadata": {
        "colab": {
          "base_uri": "https://localhost:8080/"
        },
        "id": "5BSpRihO7d8O",
        "outputId": "b3a8458c-5535-424a-c92a-db553ef40783"
      },
      "execution_count": null,
      "outputs": [
        {
          "output_type": "stream",
          "name": "stdout",
          "text": [
            "방정식 : f(x)= 3*x**3 - 2*x**2 + 4\n",
            "미분한 방정식 : 9*x**2 - 4*x\n",
            "2차 미분한 방정식 : 2*(9*x - 2)\n",
            "3차 미분한 방정식 : 18\n",
            "x값이 -1일때 미분계수 : 13\n",
            "x값이 0일때 미분계수 : 0\n",
            "x값이 1일때 미분계수 : 5\n"
          ]
        }
      ]
    },
    {
      "cell_type": "code",
      "source": [
        "import sympy as sp\n",
        "\n",
        "x = sp.Symbol('x')\n",
        "y = sp.Symbol('y')\n",
        "z = sp.Symbol('z')\n",
        "\n",
        "f = 3*x**3 - 2*x**2 + 4 + 2*y**3 - 2*z**2\n",
        "print('방정식 :', f)\n",
        "\n",
        "f_diff_x = sp.diff(f, x)\n",
        "print('x 편미분 :', f_diff_x)\n",
        "f_2nd_diffx = sp.diff(f, x, 2)\n",
        "print('x 2차 편미분 :', f_2nd_diffx)\n",
        "f_diff_y = sp.diff(f, y)\n",
        "print('y 편미분 :', f_diff_y)\n",
        "f_diff_z = sp.diff(f, z)\n",
        "print('z 편미분 :', f_diff_z)"
      ],
      "metadata": {
        "colab": {
          "base_uri": "https://localhost:8080/"
        },
        "id": "0QfQcttYGZ75",
        "outputId": "1f735c9c-3387-4dd5-d2fe-136d933a0fe3"
      },
      "execution_count": null,
      "outputs": [
        {
          "output_type": "stream",
          "name": "stdout",
          "text": [
            "방정식 : 3*x**3 - 2*x**2 + 2*y**3 - 2*z**2 + 4\n",
            "x 편미분 : 9*x**2 - 4*x\n",
            "x 2차 편미분 : 2*(9*x - 2)\n",
            "y 편미분 : 6*y**2\n",
            "z 편미분 : -4*z\n"
          ]
        }
      ]
    },
    {
      "cell_type": "code",
      "source": [
        "print('dy/dx =', sp.idiff(f, y, x))\n",
        "print('dx/dy =',sp.idiff(f, x, y))\n",
        "print('dz/dy =', sp.idiff(f, z, y))"
      ],
      "metadata": {
        "colab": {
          "base_uri": "https://localhost:8080/"
        },
        "id": "t3l5rqeX7VrR",
        "outputId": "18b203e0-ac40-4fc4-c676-ba0a0641cb0e"
      },
      "execution_count": null,
      "outputs": [
        {
          "output_type": "stream",
          "name": "stdout",
          "text": [
            "dy/dx = x*(4 - 9*x)/(6*y**2)\n",
            "dx/dy = -6*y**2/(x*(9*x - 4))\n",
            "dz/dy = 3*y**2/(2*z)\n"
          ]
        }
      ]
    },
    {
      "cell_type": "markdown",
      "source": [
        "적분"
      ],
      "metadata": {
        "id": "gctU057_LYel"
      }
    },
    {
      "cell_type": "code",
      "source": [
        "import numpy as np\n",
        "import matplotlib.pyplot as plt\n",
        "\n",
        "f = np.poly1d([3,-2,0,4])\n",
        "num_of_xs = 5\n",
        "x = np.linspace(-1,1,num_of_xs)\n",
        "y = f(x)\n",
        "\n",
        "plt.plot(x,y)\n",
        "plt.axvline(x=0, color='k') # 검정색 x축\n",
        "plt.axhline(y=0, color='k') # 검정색 y축\n",
        "plt.fill_between(x, y, 0, facecolor='g')\n",
        "plt.show()"
      ],
      "metadata": {
        "colab": {
          "base_uri": "https://localhost:8080/",
          "height": 430
        },
        "id": "nsSNSRxWTUd6",
        "outputId": "4683d404-9ca2-4c8c-8f22-d58b54bb3a82"
      },
      "execution_count": null,
      "outputs": [
        {
          "output_type": "display_data",
          "data": {
            "text/plain": [
              "<Figure size 640x480 with 1 Axes>"
            ],
            "image/png": "[encoded data removed]"
          },
          "metadata": {}
        }
      ]
    },
    {
      "cell_type": "code",
      "source": [
        "area = np.trapz(y,x)\n",
        "print('적분값 :', area)"
      ],
      "metadata": {
        "colab": {
          "base_uri": "https://localhost:8080/"
        },
        "id": "blkfcTz5fTQ2",
        "outputId": "e8e990b5-65fe-4959-ad9c-b8e5caffcb6a"
      },
      "execution_count": null,
      "outputs": [
        {
          "output_type": "stream",
          "name": "stdout",
          "text": [
            "적분값 : 6.5\n"
          ]
        }
      ]
    },
    {
      "cell_type": "code",
      "source": [
        "from scipy import integrate\n",
        "import numpy as np\n",
        "\n",
        "f = np.poly1d([3,-2,0,4])\n",
        "print(integrate.quad(f,-1,1))"
      ],
      "metadata": {
        "colab": {
          "base_uri": "https://localhost:8080/"
        },
        "id": "n5K08lngtQOx",
        "outputId": "7afd4c21-cbeb-4bc2-d839-65c2af284f99"
      },
      "execution_count": null,
      "outputs": [
        {
          "output_type": "stream",
          "name": "stdout",
          "text": [
            "(6.666666666666667, 7.49189256220043e-14)\n"
          ]
        }
      ]
    },
    {
      "cell_type": "code",
      "source": [
        "from scipy import integrate\n",
        "\n",
        "#f = np.poly1d([3,-2,0,4])\n",
        "def f(x):\n",
        "  return 3*x**3 - 2*x**2 + 4\n",
        "\n",
        "print(integrate.quad(f,-1,1))"
      ],
      "metadata": {
        "colab": {
          "base_uri": "https://localhost:8080/"
        },
        "id": "jau3ho1yIJbh",
        "outputId": "c1086ddf-1eb7-4b95-846a-b02a7ab666a0"
      },
      "execution_count": null,
      "outputs": [
        {
          "output_type": "stream",
          "name": "stdout",
          "text": [
            "(6.666666666666667, 7.49189256220043e-14)\n"
          ]
        }
      ]
    },
    {
      "cell_type": "code",
      "source": [
        "from scipy import integrate\n",
        "\n",
        "print(integrate.quad(lambda x: 3*x**3 - 2*x**2 + 4,-1,1))"
      ],
      "metadata": {
        "colab": {
          "base_uri": "https://localhost:8080/"
        },
        "id": "8MR3500tmZIA",
        "outputId": "d9b9f1e3-b2c0-4813-c81e-d83a43c316f2"
      },
      "execution_count": null,
      "outputs": [
        {
          "output_type": "stream",
          "name": "stdout",
          "text": [
            "(6.666666666666667, 7.49189256220043e-14)\n"
          ]
        }
      ]
    },
    {
      "cell_type": "code",
      "source": [
        "from scipy import integrate\n",
        "import numpy as np\n",
        "\n",
        "def f(x):\n",
        "  return np.exp(x)\n",
        "\n",
        "print(integrate.quad(f,-np.inf,0))"
      ],
      "metadata": {
        "colab": {
          "base_uri": "https://localhost:8080/"
        },
        "id": "loxf_MpOLd-U",
        "outputId": "b795e6b3-b4f3-4358-d99d-bc39bcb1c846"
      },
      "execution_count": null,
      "outputs": [
        {
          "output_type": "stream",
          "name": "stdout",
          "text": [
            "(1.0000000000000002, 5.842606742906004e-11)\n"
          ]
        }
      ]
    },
    {
      "cell_type": "code",
      "source": [
        "import math\n",
        "import sympy as sp\n",
        "\n",
        "x = sp.Symbol('x')\n",
        "f = sp.exp(x)\n",
        "\n",
        "sp.plot(f,xlim=(-10,0),ylim=(0,1))"
      ],
      "metadata": {
        "colab": {
          "base_uri": "https://localhost:8080/",
          "height": 315
        },
        "id": "h4uONu6nf4dV",
        "outputId": "52ed4b40-2b9b-4b7f-f7b3-1bca4ef9ccfb"
      },
      "execution_count": null,
      "outputs": [
        {
          "output_type": "display_data",
          "data": {
            "text/plain": [
              "<Figure size 432x288 with 1 Axes>"
            ],
            "image/png": "[encoded data removed]"
          },
          "metadata": {
            "needs_background": "light"
          }
        },
        {
          "output_type": "execute_result",
          "data": {
            "text/plain": [
              "<sympy.plotting.plot.Plot at 0x7f5685890730>"
            ]
          },
          "metadata": {},
          "execution_count": 7
        }
      ]
    },
    {
      "cell_type": "code",
      "source": [
        "import numpy as np\n",
        "import matplotlib.pyplot as plt\n",
        "\n",
        "f = np.poly1d([3,-2,0,4])\n",
        "num_of_xs = 10000\n",
        "x = np.linspace(-1,1,num_of_xs)\n",
        "y = f(x)\n",
        "\n",
        "plt.plot(x,y)\n",
        "plt.axvline(x=0, color='k') # 검정색 x축\n",
        "plt.axhline(y=0, color='k') # 검정색 y축\n",
        "plt.show()\n",
        "\n",
        "area = np.trapz(y,x)\n",
        "print('적분값 :', area)"
      ],
      "metadata": {
        "colab": {
          "base_uri": "https://localhost:8080/",
          "height": 283
        },
        "id": "SJmu4kA4fCRn",
        "outputId": "1a312df3-ff4c-4a6d-db5b-66c07c7526e3"
      },
      "execution_count": null,
      "outputs": [
        {
          "output_type": "display_data",
          "data": {
            "text/plain": [
              "<Figure size 432x288 with 1 Axes>"
            ],
            "image/png": "[encoded data removed]"
          },
          "metadata": {
            "needs_background": "light"
          }
        },
        {
          "output_type": "stream",
          "name": "stdout",
          "text": [
            "적분값 : 6.666666639994666\n"
          ]
        }
      ]
    },
    {
      "cell_type": "code",
      "source": [
        "import numpy as np\n",
        "import matplotlib.pyplot as plt\n",
        "\n",
        "f = np.poly1d([3,-2,0,4])\n",
        "num_of_xs = 100000000\n",
        "x = np.linspace(-1,1,num_of_xs)\n",
        "y = f(x)\n",
        "\n",
        "plt.plot(x,y)\n",
        "plt.axvline(x=0, color='k') # 검정색 x축\n",
        "plt.axhline(y=0, color='k') # 검정색 y축\n",
        "plt.show()\n",
        "\n",
        "area = np.trapz(y,x)\n",
        "print('적분값 :', area)"
      ],
      "metadata": {
        "id": "L5iybm7eG5w7"
      },
      "execution_count": null,
      "outputs": []
    },
    {
      "cell_type": "code",
      "source": [
        "import sympy as sp\n",
        "\n",
        "x = sp.Symbol('x')\n",
        "\n",
        "f = 3*x**3 - 2*x**2 + 4\n",
        "\n",
        "print('적분한 방정식 :', sp.integrate(f,x))\n",
        "print('적분값 :', eval(str(sp.integrate(f,(x,-1,1)))))"
      ],
      "metadata": {
        "colab": {
          "base_uri": "https://localhost:8080/"
        },
        "id": "cQWEMkut1Wcp",
        "outputId": "bee7b8ed-cb05-4732-c7f1-d97e900621cf"
      },
      "execution_count": null,
      "outputs": [
        {
          "output_type": "stream",
          "name": "stdout",
          "text": [
            "적분한 방정식 : 3*x**4/4 - 2*x**3/3 + 4*x\n",
            "적분값 : 6.666666666666667\n"
          ]
        }
      ]
    },
    {
      "cell_type": "code",
      "source": [
        "def F(x):\n",
        "  return 3*x**4/4 - 2*x**3/3 + 4*x\n",
        "\n",
        "print('적분값 :', F(1) - F(-1))"
      ],
      "metadata": {
        "colab": {
          "base_uri": "https://localhost:8080/"
        },
        "id": "XiNXh9-k4p2u",
        "outputId": "23c3bead-396a-4c94-d2b3-68538331e6b5"
      },
      "execution_count": null,
      "outputs": [
        {
          "output_type": "stream",
          "name": "stdout",
          "text": [
            "적분값 : 6.666666666666666\n"
          ]
        }
      ]
    },
    {
      "cell_type": "code",
      "source": [
        "import sympy as sp\n",
        "\n",
        "x = sp.Symbol('x')\n",
        "a = sp.Symbol('a')\n",
        "\n",
        "f = a*x**3 - 2*x**2 + 4\n",
        "\n",
        "print('미분한 방정식 :', sp.diff(f,x))\n",
        "print('적분한 방정식 :', sp.integrate(f,x))"
      ],
      "metadata": {
        "colab": {
          "base_uri": "https://localhost:8080/"
        },
        "id": "r0kLM-px3dYn",
        "outputId": "5b4e5bf5-2223-4d87-e3c8-5f2abbc94dba"
      },
      "execution_count": null,
      "outputs": [
        {
          "output_type": "stream",
          "name": "stdout",
          "text": [
            "미분한 방정식 : 3*a*x**2 - 4*x\n",
            "적분한 방정식 : a*x**4/4 - 2*x**3/3 + 4*x\n"
          ]
        }
      ]
    },
    {
      "cell_type": "code",
      "source": [
        "import sympy as sp\n",
        "\n",
        "x = sp.Symbol('x')\n",
        "\n",
        "f = sp.sin(x**3-10)\n",
        "\n",
        "print('적분한 방정식 :', sp.integrate(f,x))"
      ],
      "metadata": {
        "colab": {
          "base_uri": "https://localhost:8080/"
        },
        "id": "neDPtWRClaTX",
        "outputId": "a2e4ced9-299b-46c4-efd4-182de498c24b"
      },
      "execution_count": null,
      "outputs": [
        {
          "output_type": "stream",
          "name": "stdout",
          "text": [
            "적분한 방정식 : Integral(sin(x**3 - 10), x)\n"
          ]
        }
      ]
    },
    {
      "cell_type": "markdown",
      "source": [
        "미분 방정식"
      ],
      "metadata": {
        "id": "HvgkDgKcL7h2"
      }
    },
    {
      "cell_type": "code",
      "source": [
        "# 코딩을 위한 사전준비\n",
        "import sympy as sp\n",
        "\n",
        "x = sp.Symbol('x')\n",
        "f = sp.Function('f')\n",
        "y = f(x)\n",
        "\n",
        "# 입력 (미분방정식)\n",
        "diff_eq = sp.Eq(sp.diff(y,x,1),2*y)\n",
        "print(diff_eq)\n",
        "diff_eq"
      ],
      "metadata": {
        "colab": {
          "base_uri": "https://localhost:8080/",
          "height": 71
        },
        "id": "SFcYyxWXo_lC",
        "outputId": "e08e377e-d7c5-4f05-8f92-0f52544f4d67"
      },
      "execution_count": null,
      "outputs": [
        {
          "output_type": "stream",
          "name": "stdout",
          "text": [
            "Eq(Derivative(f(x), x), 2*f(x))\n"
          ]
        },
        {
          "output_type": "execute_result",
          "data": {
            "text/plain": [
              "Eq(Derivative(f(x), x), 2*f(x))"
            ],
            "text/latex": "$\\displaystyle \\frac{d}{d x} f{\\left(x \\right)} = 2 f{\\left(x \\right)}$"
          },
          "metadata": {},
          "execution_count": 19
        }
      ]
    },
    {
      "cell_type": "code",
      "source": [
        "# 처리 (미분방정식 풀기)\n",
        "solution = sp.dsolve(diff_eq,y)\n",
        "\n",
        "# 출력 (미분방정식의 해)\n",
        "print(solution)\n",
        "solution"
      ],
      "metadata": {
        "colab": {
          "base_uri": "https://localhost:8080/",
          "height": 57
        },
        "id": "0BP20d0CpXAU",
        "outputId": "cd166730-1e11-414a-f5ee-1a0f8357dfe1"
      },
      "execution_count": null,
      "outputs": [
        {
          "output_type": "stream",
          "name": "stdout",
          "text": [
            "Eq(f(x), C1*exp(2*x))\n"
          ]
        },
        {
          "output_type": "execute_result",
          "data": {
            "text/plain": [
              "Eq(f(x), C1*exp(2*x))"
            ],
            "text/latex": "$\\displaystyle f{\\left(x \\right)} = C_{1} e^{2 x}$"
          },
          "metadata": {},
          "execution_count": 20
        }
      ]
    },
    {
      "cell_type": "code",
      "source": [
        "import sympy as sp\n",
        "\n",
        "x = sp.Symbol('x')\n",
        "y = sp.Function('y')\n",
        "\n",
        "diff_eq = sp.Eq(sp.diff(y(x),x,1),2*y(x))\n",
        "print(diff_eq)\n",
        "diff_eq"
      ],
      "metadata": {
        "colab": {
          "base_uri": "https://localhost:8080/",
          "height": 71
        },
        "id": "oJZXzYfNVbEw",
        "outputId": "70b4b8b9-47d1-4f2e-9f53-badd72e88a5d"
      },
      "execution_count": null,
      "outputs": [
        {
          "output_type": "stream",
          "name": "stdout",
          "text": [
            "Eq(Derivative(y(x), x), 2*y(x))\n"
          ]
        },
        {
          "output_type": "execute_result",
          "data": {
            "text/plain": [
              "Eq(Derivative(y(x), x), 2*y(x))"
            ],
            "text/latex": "$\\displaystyle \\frac{d}{d x} y{\\left(x \\right)} = 2 y{\\left(x \\right)}$"
          },
          "metadata": {},
          "execution_count": 21
        }
      ]
    },
    {
      "cell_type": "code",
      "source": [
        "import sympy as sp\n",
        "\n",
        "x = sp.Symbol('x')\n",
        "a = sp.Symbol('a')\n",
        "f = sp.Function('f')\n",
        "y = f(x)\n",
        "\n",
        "diff_eq = sp.Eq(sp.diff(y,x,2) + 2 * sp.diff(y,x,1),a*y + 3)\n",
        "print('미분방정식 :', diff_eq)\n",
        "print('미분방정식의 해 :')\n",
        "sp.dsolve(diff_eq,y)"
      ],
      "metadata": {
        "colab": {
          "base_uri": "https://localhost:8080/",
          "height": 88
        },
        "id": "yDXqwXGQ-O_8",
        "outputId": "6a2dd869-ed1d-4fb6-bbe4-d571e17f3459"
      },
      "execution_count": null,
      "outputs": [
        {
          "output_type": "stream",
          "name": "stdout",
          "text": [
            "미분방정식 : Eq(2*Derivative(f(x), x) + Derivative(f(x), (x, 2)), a*f(x) + 3)\n",
            "미분방정식의 해 :\n"
          ]
        },
        {
          "output_type": "execute_result",
          "data": {
            "text/plain": [
              "Eq(f(x), C1*exp(x*(-sqrt(a + 1) - 1)) + C2*exp(x*(sqrt(a + 1) - 1)) - 3/a)"
            ],
            "text/latex": "$\\displaystyle f{\\left(x \\right)} = C_{1} e^{x \\left(- \\sqrt{a + 1} - 1\\right)} + C_{2} e^{x \\left(\\sqrt{a + 1} - 1\\right)} - \\frac{3}{a}$"
          },
          "metadata": {},
          "execution_count": 11
        }
      ]
    },
    {
      "cell_type": "code",
      "source": [
        "import sympy as sp\n",
        "\n",
        "x = sp.Symbol('x')\n",
        "a = sp.Symbol('a')\n",
        "f = sp.Function('f')\n",
        "y = f(x)\n",
        "\n",
        "diff_eq = sp.Eq(sp.diff(y,x,2) + 2 * sp.diff(y,x,1),a*y + 3)\n",
        "print('미분방정식 :', diff_eq)\n",
        "print('미분방정식의 해 :')\n",
        "sp.dsolve(diff_eq,y,ics={f(0):0})"
      ],
      "metadata": {
        "colab": {
          "base_uri": "https://localhost:8080/",
          "height": 95
        },
        "id": "0hfuCrjDK8tS",
        "outputId": "e72791a4-2ee8-454f-8c70-d758182c1293"
      },
      "execution_count": null,
      "outputs": [
        {
          "output_type": "stream",
          "name": "stdout",
          "text": [
            "미분방정식 : Eq(2*Derivative(f(x), x) + Derivative(f(x), (x, 2)), a*f(x) + 3)\n",
            "미분방정식의 해 :\n"
          ]
        },
        {
          "output_type": "execute_result",
          "data": {
            "text/plain": [
              "Eq(f(x), C2*exp(x*(sqrt(a + 1) - 1)) + (-C2 + 3/a)*exp(x*(-sqrt(a + 1) - 1)) - 3/a)"
            ],
            "text/latex": "$\\displaystyle f{\\left(x \\right)} = C_{2} e^{x \\left(\\sqrt{a + 1} - 1\\right)} + \\left(- C_{2} + \\frac{3}{a}\\right) e^{x \\left(- \\sqrt{a + 1} - 1\\right)} - \\frac{3}{a}$"
          },
          "metadata": {},
          "execution_count": 12
        }
      ]
    },
    {
      "cell_type": "code",
      "source": [
        "import sympy as sp\n",
        "\n",
        "x = sp.Symbol('x')\n",
        "a = sp.Symbol('a')\n",
        "f = sp.Function('f')\n",
        "y = f(x)\n",
        "\n",
        "diff_eq = sp.Eq(sp.diff(y,x,2) + 2 * sp.diff(y,x,1),a*y + 3)\n",
        "print('미분방정식 :', diff_eq)\n",
        "print('미분방정식의 해 :')\n",
        "sp.dsolve(diff_eq,y,ics={f(0):0,sp.diff(y,x).subs(x,0):1})"
      ],
      "metadata": {
        "colab": {
          "base_uri": "https://localhost:8080/",
          "height": 97
        },
        "id": "1-9-2IuLNCQ-",
        "outputId": "1c772d6b-4cf0-44f2-c200-52f7ac65caf3"
      },
      "execution_count": null,
      "outputs": [
        {
          "output_type": "stream",
          "name": "stdout",
          "text": [
            "미분방정식 : Eq(2*Derivative(f(x), x) + Derivative(f(x), (x, 2)), a*f(x) + 3)\n",
            "미분방정식의 해 :\n"
          ]
        },
        {
          "output_type": "execute_result",
          "data": {
            "text/plain": [
              "Eq(f(x), (1/(2*sqrt(a + 1)) + 3/(2*a) + 3/(2*a*sqrt(a + 1)))*exp(x*(sqrt(a + 1) - 1)) + (-a*sqrt(a + 1)/(2*a**2 + 2*a) + 3*a/(2*a**2 + 2*a) - 3*sqrt(a + 1)/(2*a**2 + 2*a) + 3/(2*a**2 + 2*a))*exp(x*(-sqrt(a + 1) - 1)) - 3/a)"
            ],
            "text/latex": "$\\displaystyle f{\\left(x \\right)} = \\left(\\frac{1}{2 \\sqrt{a + 1}} + \\frac{3}{2 a} + \\frac{3}{2 a \\sqrt{a + 1}}\\right) e^{x \\left(\\sqrt{a + 1} - 1\\right)} + \\left(- \\frac{a \\sqrt{a + 1}}{2 a^{2} + 2 a} + \\frac{3 a}{2 a^{2} + 2 a} - \\frac{3 \\sqrt{a + 1}}{2 a^{2} + 2 a} + \\frac{3}{2 a^{2} + 2 a}\\right) e^{x \\left(- \\sqrt{a + 1} - 1\\right)} - \\frac{3}{a}$"
          },
          "metadata": {},
          "execution_count": 18
        }
      ]
    },
    {
      "cell_type": "code",
      "source": [
        "sp.diff(y,x).subs(x,0)"
      ],
      "metadata": {
        "colab": {
          "base_uri": "https://localhost:8080/",
          "height": 61
        },
        "id": "P2mLslRFPcTd",
        "outputId": "dc92775f-69cc-45ac-8e87-19a056699926"
      },
      "execution_count": null,
      "outputs": [
        {
          "output_type": "execute_result",
          "data": {
            "text/plain": [
              "Subs(Derivative(f(x), x), x, 0)"
            ],
            "text/latex": "$\\displaystyle \\left. \\frac{d}{d x} f{\\left(x \\right)} \\right|_{\\substack{ x=0 }}$"
          },
          "metadata": {},
          "execution_count": 19
        }
      ]
    },
    {
      "cell_type": "code",
      "source": [
        "import sympy as sp\n",
        "\n",
        "t = sp.Symbol('t')\n",
        "f = sp.Function('f')\n",
        "y = f(t)\n",
        "\n",
        "diff_eq = sp.Eq(sp.diff(y,t,1),-3*y)\n",
        "print('미분방정식 :', diff_eq)\n",
        "solution = sp.dsolve(diff_eq,y,ics={f(0):2})\n",
        "print('미분방정식의 해 :', solution)\n",
        "solution"
      ],
      "metadata": {
        "colab": {
          "base_uri": "https://localhost:8080/",
          "height": 76
        },
        "id": "o89d8C1pmTg0",
        "outputId": "a564a6bc-9533-46e1-c52b-66b592d84f67"
      },
      "execution_count": null,
      "outputs": [
        {
          "output_type": "stream",
          "name": "stdout",
          "text": [
            "미분방정식 : Eq(Derivative(f(t), t), -3*f(t))\n",
            "미분방정식의 해 : Eq(f(t), 2*exp(-3*t))\n"
          ]
        },
        {
          "output_type": "execute_result",
          "data": {
            "text/plain": [
              "Eq(f(t), 2*exp(-3*t))"
            ],
            "text/latex": "$\\displaystyle f{\\left(t \\right)} = 2 e^{- 3 t}$"
          },
          "metadata": {},
          "execution_count": 24
        }
      ]
    },
    {
      "cell_type": "code",
      "source": [
        "sp.plot(solution.rhs, (t,0,10))"
      ],
      "metadata": {
        "colab": {
          "base_uri": "https://localhost:8080/",
          "height": 503
        },
        "id": "KBeWUiXKqOKH",
        "outputId": "d5a5fcc4-6206-4beb-d834-ce968d086363"
      },
      "execution_count": null,
      "outputs": [
        {
          "output_type": "display_data",
          "data": {
            "text/plain": [
              "<Figure size 640x480 with 1 Axes>"
            ],
            "image/png": "[encoded data removed]"
          },
          "metadata": {}
        },
        {
          "output_type": "execute_result",
          "data": {
            "text/plain": [
              "<sympy.plotting.plot.Plot at 0x7e059ca685e0>"
            ]
          },
          "metadata": {},
          "execution_count": 25
        }
      ]
    },
    {
      "cell_type": "code",
      "source": [
        "solution.lhs"
      ],
      "metadata": {
        "colab": {
          "base_uri": "https://localhost:8080/",
          "height": 39
        },
        "id": "5JZiDiDErLsV",
        "outputId": "5f9940fe-3836-4261-8ff9-fb73ef19f7a6"
      },
      "execution_count": null,
      "outputs": [
        {
          "output_type": "execute_result",
          "data": {
            "text/plain": [
              "f(t)"
            ],
            "text/latex": "$\\displaystyle f{\\left(t \\right)}$"
          },
          "metadata": {},
          "execution_count": 26
        }
      ]
    },
    {
      "cell_type": "code",
      "source": [
        "solution.rhs"
      ],
      "metadata": {
        "colab": {
          "base_uri": "https://localhost:8080/",
          "height": 39
        },
        "id": "pAxQqcKtrQB_",
        "outputId": "6aa0cb16-c259-42f8-9428-c71aa95c25e4"
      },
      "execution_count": null,
      "outputs": [
        {
          "output_type": "execute_result",
          "data": {
            "text/plain": [
              "2*exp(-3*t)"
            ],
            "text/latex": "$\\displaystyle 2 e^{- 3 t}$"
          },
          "metadata": {},
          "execution_count": 27
        }
      ]
    },
    {
      "cell_type": "code",
      "source": [
        "print('t가 1일 때 y :',solution.rhs.subs({t:1}))\n",
        "solution.rhs.subs({t:1})"
      ],
      "metadata": {
        "colab": {
          "base_uri": "https://localhost:8080/",
          "height": 70
        },
        "id": "hM7zMHJxHnng",
        "outputId": "551fe430-c61b-474c-eb7c-0f0a27fca67d"
      },
      "execution_count": null,
      "outputs": [
        {
          "output_type": "stream",
          "name": "stdout",
          "text": [
            "t가 1일 때 y : 2*exp(-3)\n"
          ]
        },
        {
          "output_type": "execute_result",
          "data": {
            "text/plain": [
              "2*exp(-3)"
            ],
            "text/latex": "$\\displaystyle \\frac{2}{e^{3}}$"
          },
          "metadata": {},
          "execution_count": 28
        }
      ]
    },
    {
      "cell_type": "code",
      "source": [
        "from math import exp\n",
        "print('t가 1일 때 y :',eval(str(solution.rhs.subs({t:1}))))"
      ],
      "metadata": {
        "colab": {
          "base_uri": "https://localhost:8080/"
        },
        "id": "yIAsxzAhMLLM",
        "outputId": "d6e40e3b-5e93-41d9-a6ba-0b7f9388f9a5"
      },
      "execution_count": null,
      "outputs": [
        {
          "output_type": "stream",
          "name": "stdout",
          "text": [
            "t가 1일 때 y : 0.09957413673572789\n"
          ]
        }
      ]
    },
    {
      "cell_type": "code",
      "source": [
        "import numpy as np\n",
        "import matplotlib.pyplot as plt\n",
        "\n",
        "def ft(t):\n",
        "  return 2 * np.exp(-3*t)\n",
        "\n",
        "t = np.linspace(0,10,50)\n",
        "y = ft(t)\n",
        "\n",
        "plt.plot(t,y)\n",
        "plt.xlim(0,10)\n",
        "plt.ylim(0,2)\n",
        "plt.show()"
      ],
      "metadata": {
        "colab": {
          "base_uri": "https://localhost:8080/",
          "height": 435
        },
        "id": "aA3MpsNsztzI",
        "outputId": "aba5378c-83d0-4e93-88b0-39001c198e17"
      },
      "execution_count": null,
      "outputs": [
        {
          "output_type": "display_data",
          "data": {
            "text/plain": [
              "<Figure size 640x480 with 1 Axes>"
            ],
            "image/png": "[encoded data removed]"
          },
          "metadata": {}
        }
      ]
    },
    {
      "cell_type": "markdown",
      "source": [
        "연립미분방정식"
      ],
      "metadata": {
        "id": "QLWfH-_3MHCv"
      }
    },
    {
      "cell_type": "code",
      "source": [
        "import sympy as sp\n",
        "\n",
        "t = sp.Symbol('t')\n",
        "y1 = sp.Function('y1')\n",
        "y2 = sp.Function('y2')\n",
        "\n",
        "diff_eq1 = sp.Eq(sp.diff(y1(t),t,1),y1(t) + 2*y2(t))\n",
        "print('연립미분방정식 1 :', diff_eq1)\n",
        "diff_eq2 = sp.Eq(sp.diff(y2(t),t,1),3*y1(t) + 2*y2(t))\n",
        "print('연립미분방정식 2 :', diff_eq2)\n",
        "solution = sp.dsolve((diff_eq1,diff_eq2))\n",
        "print('연립미분방정식의 해 (초기값 없음-일반해) :', solution)\n",
        "solution = sp.dsolve((diff_eq1,diff_eq2),ics={y1(0):1,y2(0):1})\n",
        "print('연립미분방정식의 해 (초기값 있음-수치해) :', solution)"
      ],
      "metadata": {
        "colab": {
          "base_uri": "https://localhost:8080/"
        },
        "id": "-fb_Qj_TBU_l",
        "outputId": "4f3d6277-7894-46e7-ca47-83edd5fb7ab4"
      },
      "execution_count": null,
      "outputs": [
        {
          "output_type": "stream",
          "name": "stdout",
          "text": [
            "연립미분방정식 1 : Eq(Derivative(y1(t), t), y1(t) + 2*y2(t))\n",
            "연립미분방정식 2 : Eq(Derivative(y2(t), t), 3*y1(t) + 2*y2(t))\n",
            "연립미분방정식의 해 (초기값 없음-일반해) : [Eq(y1(t), -C1*exp(-t) + 2*C2*exp(4*t)/3), Eq(y2(t), C1*exp(-t) + C2*exp(4*t))]\n",
            "연립미분방정식의 해 (초기값 있음-수치해) : [Eq(y1(t), 4*exp(4*t)/5 + exp(-t)/5), Eq(y2(t), 6*exp(4*t)/5 - exp(-t)/5)]\n"
          ]
        }
      ]
    },
    {
      "cell_type": "code",
      "source": [
        "graphs = sp.plot(solution[0].rhs,solution[1].rhs,(t,95,100),show=False)\n",
        "graphs.legend = True\n",
        "graphs[0].line_color = 'g'\n",
        "graphs[1].line_color = 'r'\n",
        "graphs.show()"
      ],
      "metadata": {
        "colab": {
          "base_uri": "https://localhost:8080/",
          "height": 297
        },
        "id": "zAyiAcIAFl3h",
        "outputId": "796d9bb6-e9d8-43f8-ccdc-4e62a42692b4"
      },
      "execution_count": null,
      "outputs": [
        {
          "output_type": "display_data",
          "data": {
            "text/plain": [
              "<Figure size 432x288 with 1 Axes>"
            ],
            "image/png": "[encoded data removed]"
          },
          "metadata": {
            "needs_background": "light"
          }
        }
      ]
    }
  ]
}