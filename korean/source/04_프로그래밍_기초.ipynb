{
  "nbformat": 4,
  "nbformat_minor": 0,
  "metadata": {
    "colab": {
      "provenance": [],
      "authorship_tag": "ABX9TyP8Y5A/sfYvxLiOuOmYIqdz",
      "include_colab_link": true
    },
    "kernelspec": {
      "name": "python3",
      "display_name": "Python 3"
    },
    "language_info": {
      "name": "python"
    }
  },
  "cells": [
    {
      "cell_type": "markdown",
      "metadata": {
        "id": "view-in-github",
        "colab_type": "text"
      },
      "source": [
        "<a href=\"https://colab.research.google.com/github/yongjaeahn/python_coding/blob/main/korean/source/04_%ED%94%84%EB%A1%9C%EA%B7%B8%EB%9E%98%EB%B0%8D_%EA%B8%B0%EC%B4%88.ipynb\" target=\"_parent\"><img src=\"https://colab.research.google.com/assets/colab-badge.svg\" alt=\"Open In Colab\"/></a>"
      ]
    },
    {
      "cell_type": "markdown",
      "source": [
        "\t프로그램의 기본 구조"
      ],
      "metadata": {
        "id": "fDUXdBpPOLwf"
      }
    },
    {
      "cell_type": "code",
      "source": [
        "# 입력(input)\n",
        "first_number = input(\"덧셈을 할 첫번째 숫자 : \")\n",
        "second_number = input(\"덧셈을 할 두번째 숫자 : \")\n",
        "\n",
        "# 처리(process)\n",
        "added_result = first_number + second_number\n",
        "\n",
        "# 출력(output)\n",
        "print(first_number + \"와 \" + second_number + \"의 합은 \" + added_result + \"입니다.\")\n"
      ],
      "metadata": {
        "id": "vZ7PTBOiX34e"
      },
      "execution_count": null,
      "outputs": []
    },
    {
      "cell_type": "markdown",
      "source": [
        "\t자료형"
      ],
      "metadata": {
        "id": "9B8goCJzcLW2"
      }
    },
    {
      "cell_type": "markdown",
      "source": [
        "\t연산"
      ],
      "metadata": {
        "id": "adAnzRFNOV5I"
      }
    },
    {
      "cell_type": "markdown",
      "source": [
        "실수 연산"
      ],
      "metadata": {
        "id": "R8K7hMDeYweH"
      }
    },
    {
      "cell_type": "code",
      "source": [
        "10.0 + 25.0\n",
        "10.0 - 25.0\n",
        "10.0 * 25.0\n",
        "10.0 / 25.0\n",
        "25.0 / 10.0\n",
        "25.0 ** 2"
      ],
      "metadata": {
        "id": "p3Dizubfevoi"
      },
      "execution_count": null,
      "outputs": []
    },
    {
      "cell_type": "code",
      "source": [
        "10.0 + 25.0\n",
        "10.0 - 25.0\n",
        "10.0 * 25.0\n",
        "10.0 / 25.0\n",
        "25.0 / 10.0\n",
        "25.0 ** 2"
      ],
      "metadata": {
        "colab": {
          "base_uri": "https://localhost:8080/"
        },
        "id": "yxrv9IF5U9qc",
        "outputId": "58717ad6-5f6d-47bc-8480-1115b6373407"
      },
      "execution_count": null,
      "outputs": [
        {
          "output_type": "execute_result",
          "data": {
            "text/plain": [
              "625.0"
            ]
          },
          "metadata": {},
          "execution_count": 1
        }
      ]
    },
    {
      "cell_type": "code",
      "source": [
        "10.0 + 25.0"
      ],
      "metadata": {
        "colab": {
          "base_uri": "https://localhost:8080/"
        },
        "id": "nfkaXn9_VP0R",
        "outputId": "12070c0c-a7a5-42fe-877b-4f89da5192b3"
      },
      "execution_count": null,
      "outputs": [
        {
          "output_type": "execute_result",
          "data": {
            "text/plain": [
              "35.0"
            ]
          },
          "metadata": {},
          "execution_count": 2
        }
      ]
    },
    {
      "cell_type": "code",
      "source": [
        "10.0 - 25.0"
      ],
      "metadata": {
        "colab": {
          "base_uri": "https://localhost:8080/"
        },
        "id": "vcHlp4cCVRm7",
        "outputId": "b9c815fa-13f7-4c58-f8d0-13abd84e0aeb"
      },
      "execution_count": null,
      "outputs": [
        {
          "output_type": "execute_result",
          "data": {
            "text/plain": [
              "-15.0"
            ]
          },
          "metadata": {},
          "execution_count": 3
        }
      ]
    },
    {
      "cell_type": "code",
      "source": [
        "10.0 * 25.0"
      ],
      "metadata": {
        "colab": {
          "base_uri": "https://localhost:8080/"
        },
        "id": "seAroL0eVRzB",
        "outputId": "94dbdaf3-0267-4f9f-e71f-ae4090bbb726"
      },
      "execution_count": null,
      "outputs": [
        {
          "output_type": "execute_result",
          "data": {
            "text/plain": [
              "250.0"
            ]
          },
          "metadata": {},
          "execution_count": 4
        }
      ]
    },
    {
      "cell_type": "code",
      "source": [
        "10.0 / 25.0"
      ],
      "metadata": {
        "colab": {
          "base_uri": "https://localhost:8080/"
        },
        "id": "NNqFyyDkVR9g",
        "outputId": "6e766b2b-fc0f-4970-fa26-b7c68acb4eb6"
      },
      "execution_count": null,
      "outputs": [
        {
          "output_type": "execute_result",
          "data": {
            "text/plain": [
              "0.4"
            ]
          },
          "metadata": {},
          "execution_count": 5
        }
      ]
    },
    {
      "cell_type": "code",
      "source": [
        "25.0 / 10.0"
      ],
      "metadata": {
        "colab": {
          "base_uri": "https://localhost:8080/"
        },
        "id": "VR9H3VjLVSGp",
        "outputId": "dec9770b-5165-4f34-c90c-31f9705c6df8"
      },
      "execution_count": null,
      "outputs": [
        {
          "output_type": "execute_result",
          "data": {
            "text/plain": [
              "2.5"
            ]
          },
          "metadata": {},
          "execution_count": 6
        }
      ]
    },
    {
      "cell_type": "code",
      "source": [
        "25.0 ** 2"
      ],
      "metadata": {
        "colab": {
          "base_uri": "https://localhost:8080/"
        },
        "id": "J7jczH0tVSPZ",
        "outputId": "699716ef-7b4d-418e-b36e-20c05127b9fd"
      },
      "execution_count": null,
      "outputs": [
        {
          "output_type": "execute_result",
          "data": {
            "text/plain": [
              "625.0"
            ]
          },
          "metadata": {},
          "execution_count": 7
        }
      ]
    },
    {
      "cell_type": "markdown",
      "source": [
        "정수 연산"
      ],
      "metadata": {
        "id": "8M5rUgiYY4m2"
      }
    },
    {
      "cell_type": "code",
      "source": [
        "10 + 25\n",
        "10 - 25\n",
        "10 * 25\n",
        "10 / 25\n",
        "25 / 10\n",
        "10 // 25\n",
        "25 // 10\n",
        "10 % 25\n",
        "25 % 10\n",
        "25 ** 2"
      ],
      "metadata": {
        "id": "rkz3hKo7-ea-"
      },
      "execution_count": null,
      "outputs": []
    },
    {
      "cell_type": "markdown",
      "source": [
        "정수와 실수가 혼합된 연산"
      ],
      "metadata": {
        "id": "wZyJZErYeJVD"
      }
    },
    {
      "cell_type": "code",
      "source": [
        "10 + 25.0\n",
        "10.0 - 25\n",
        "10 / 25.0\n",
        "25 / 10.0\n",
        "25.0 ** 2"
      ],
      "metadata": {
        "id": "gW9bk3uEP5e-"
      },
      "execution_count": null,
      "outputs": []
    },
    {
      "cell_type": "markdown",
      "source": [
        "복소수 연산"
      ],
      "metadata": {
        "id": "aAs4ywQqeTC6"
      }
    },
    {
      "cell_type": "code",
      "source": [
        "(1+2j) + (3+4j)\n",
        "(1+2j) - (3+4j)\n",
        "(1+2j) * (3+4j)\n",
        "(1+2j) / (3+4j)\n",
        "(1+2j) * 2\n",
        "(1+2j) * 2.1\n",
        "(1+2j) ** 2"
      ],
      "metadata": {
        "id": "Y_rI4Qv_QcgM"
      },
      "execution_count": null,
      "outputs": []
    },
    {
      "cell_type": "markdown",
      "source": [
        "문자열 연산"
      ],
      "metadata": {
        "id": "in2GTb53eZR5"
      }
    },
    {
      "cell_type": "code",
      "source": [
        "\"10\" + \"20\"\n",
        "\"10 \" + \"20\"\n",
        "\"10\" * 3\n",
        "\"10\" - \"20\"\n",
        "\"10\" * \"20\"\n",
        "\"10\" / \"20\"\n",
        "\"10\" ** \"20\""
      ],
      "metadata": {
        "id": "1-4l8pdHRhZW"
      },
      "execution_count": null,
      "outputs": []
    },
    {
      "cell_type": "code",
      "source": [
        "len('12345')"
      ],
      "metadata": {
        "id": "2ND9yGYpen4E"
      },
      "execution_count": null,
      "outputs": []
    },
    {
      "cell_type": "markdown",
      "source": [
        "리스트 연산"
      ],
      "metadata": {
        "id": "g7kfseS1eiWk"
      }
    },
    {
      "cell_type": "code",
      "source": [
        "[\"홍길동\",\"서울시 양천구\"] + [175.5,265] + [10,90,95]\n",
        "[\"Python\",\"C\"] * 3\n",
        "2 in [1,3,5,7,9]\n",
        "\"C++\" in [\"Python\",\"C\",\"C++\",\"Java\"]\n",
        "len([0,2,4,6,8])"
      ],
      "metadata": {
        "id": "UCme2j6tSt-c"
      },
      "execution_count": null,
      "outputs": []
    },
    {
      "cell_type": "markdown",
      "source": [
        "\t자료형 변환"
      ],
      "metadata": {
        "id": "WAeRirDfaE-c"
      }
    },
    {
      "cell_type": "code",
      "source": [
        "int(\"10\")\n",
        "str(10)\n",
        "str(10.0)\n",
        "float(\"10.1\")\n",
        "float(10)\n",
        "complex(10,5)\n",
        "int(10.6)\n",
        "int(\"10.x\")\n",
        "\"10\" + \"20\"\n",
        "int(\"10\") + int(\"20\")"
      ],
      "metadata": {
        "id": "SXR6Wi5mVv5U"
      },
      "execution_count": null,
      "outputs": []
    },
    {
      "cell_type": "code",
      "source": [
        "# 입력(input)\n",
        "first_number = int(input(\"덧셈을 할 첫번째 숫자 : \"))\n",
        "second_number = int(input(\"덧셈을 할 두번째 숫자 : \"))\n",
        "\n",
        "# 처리(process)\n",
        "added_result = first_number + second_number\n",
        "\n",
        "# 출력(output)\n",
        "print(str(first_number) + \"와 \" + str(second_number) + \"의 합은 \" + str(added_result) + \"입니다.\")"
      ],
      "metadata": {
        "id": "PpEtP7jVaUOE"
      },
      "execution_count": null,
      "outputs": []
    },
    {
      "cell_type": "markdown",
      "source": [
        "\t변수와 상수"
      ],
      "metadata": {
        "id": "z3ldPO1Wb3ZN"
      }
    },
    {
      "cell_type": "code",
      "source": [
        "sum = 10 + 20"
      ],
      "metadata": {
        "id": "4Hn3SumLb2su"
      },
      "execution_count": null,
      "outputs": []
    },
    {
      "cell_type": "code",
      "source": [
        "sum"
      ],
      "metadata": {
        "colab": {
          "base_uri": "https://localhost:8080/"
        },
        "id": "lcWSmKajcYz1",
        "outputId": "de1ff845-c508-4adb-cf7f-0e5245842600"
      },
      "execution_count": null,
      "outputs": [
        {
          "output_type": "execute_result",
          "data": {
            "text/plain": [
              "30"
            ]
          },
          "metadata": {},
          "execution_count": 13
        }
      ]
    },
    {
      "cell_type": "code",
      "source": [
        "국어성적 = 100\n",
        "국어성적"
      ],
      "metadata": {
        "colab": {
          "base_uri": "https://localhost:8080/"
        },
        "id": "en5txNkXdKuV",
        "outputId": "b4d9a915-f340-4bb1-ff2f-367854c4ffa9"
      },
      "execution_count": null,
      "outputs": [
        {
          "output_type": "execute_result",
          "data": {
            "text/plain": [
              "100"
            ]
          },
          "metadata": {},
          "execution_count": 14
        }
      ]
    },
    {
      "cell_type": "code",
      "source": [
        "sum = sum + 30\n",
        "sum"
      ],
      "metadata": {
        "colab": {
          "base_uri": "https://localhost:8080/"
        },
        "id": "C-lPUj-7dfa9",
        "outputId": "b751a52d-62c6-4115-b986-2587aed9553b"
      },
      "execution_count": null,
      "outputs": [
        {
          "output_type": "execute_result",
          "data": {
            "text/plain": [
              "60"
            ]
          },
          "metadata": {},
          "execution_count": 15
        }
      ]
    },
    {
      "cell_type": "code",
      "source": [
        "60 = 30 + 30"
      ],
      "metadata": {
        "colab": {
          "base_uri": "https://localhost:8080/",
          "height": 138
        },
        "id": "qu3YOSLtdqfc",
        "outputId": "5371b9f2-b07c-442e-cfff-ab066a27c6a6"
      },
      "execution_count": null,
      "outputs": [
        {
          "output_type": "error",
          "ename": "SyntaxError",
          "evalue": "ignored",
          "traceback": [
            "\u001b[0;36m  File \u001b[0;32m\"<ipython-input-16-70577814c1b0>\"\u001b[0;36m, line \u001b[0;32m1\u001b[0m\n\u001b[0;31m    60 = 30 + 30\u001b[0m\n\u001b[0m    ^\u001b[0m\n\u001b[0;31mSyntaxError\u001b[0m\u001b[0;31m:\u001b[0m cannot assign to literal\n"
          ]
        }
      ]
    },
    {
      "cell_type": "code",
      "source": [
        "type(sum)\n",
        "type(\"10\")"
      ],
      "metadata": {
        "id": "kglbtva2enPr"
      },
      "execution_count": null,
      "outputs": []
    },
    {
      "cell_type": "code",
      "source": [
        "(\"홍길동\",\"서울시 양천구\") + (175.5,265) + (10,90,95)\n",
        "(\"Python\",\"C\") * 3\n",
        "2 in (1,3,5,7,9)\n",
        "\"C++\" in (\"Python\",\"C\",\"C++\",\"Java\")\n",
        "len((0,2,4,6,8))"
      ],
      "metadata": {
        "id": "cIEMrGszh3uM"
      },
      "execution_count": null,
      "outputs": []
    },
    {
      "cell_type": "code",
      "source": [
        "list_var = [0,2,4,6,8]\n",
        "tuple_var = (0,2,4,6,8)\n",
        "list_var[0]\n",
        "tuple_var[-1]\n",
        "list_var[1]\n",
        "tuple_var[3]\n",
        "list_var[3] = 10\n",
        "list_var\n",
        "tuple_var[3] = 10"
      ],
      "metadata": {
        "id": "aYIcL0fvi3tg"
      },
      "execution_count": null,
      "outputs": []
    },
    {
      "cell_type": "markdown",
      "source": [
        "\t프로그램 문장"
      ],
      "metadata": {
        "id": "042SFwVjlmqe"
      }
    },
    {
      "cell_type": "code",
      "source": [
        "score = 90\n",
        "score == 90\n",
        "score != 90\n",
        "score < 90\n",
        "score <= 90\n",
        "score > 90\n",
        "score >= 90\n",
        "score >= 80 and score <= 100\n",
        "90 <= score <= 100\n",
        "score <= 80 or score >= 100\n",
        "not (90 <= score <= 100)"
      ],
      "metadata": {
        "id": "-1lEh6N0rJAS"
      },
      "execution_count": null,
      "outputs": []
    },
    {
      "cell_type": "code",
      "source": [
        "a = \"첫번째 변수값\"\n",
        "b = \"두번째 변수값\"\n",
        "temp = a\n",
        "a = b\n",
        "b = temp\n",
        "a\n",
        "b"
      ],
      "metadata": {
        "id": "smxetOfhuAQp"
      },
      "execution_count": null,
      "outputs": []
    },
    {
      "cell_type": "code",
      "source": [
        "a = \"첫번째 변수값\"\n",
        "b = \"두번째 변수값\"\n",
        "a, b = b, a\n",
        "a\n",
        "b"
      ],
      "metadata": {
        "id": "WxO0nc6BuaP5"
      },
      "execution_count": null,
      "outputs": []
    },
    {
      "cell_type": "markdown",
      "source": [
        "\t함수"
      ],
      "metadata": {
        "id": "_q67EpSvvtzn"
      }
    },
    {
      "cell_type": "code",
      "source": [
        "function_output = input(\"함수의 입력 : \")\n",
        "function_output"
      ],
      "metadata": {
        "id": "a3OSGISGtB7V"
      },
      "execution_count": null,
      "outputs": []
    },
    {
      "cell_type": "code",
      "source": [
        "print(10,20,30)"
      ],
      "metadata": {
        "id": "g3Ffdw_jl6Sl"
      },
      "execution_count": null,
      "outputs": []
    },
    {
      "cell_type": "code",
      "source": [
        "print(10,\"+\",20,\"=\",30)"
      ],
      "metadata": {
        "id": "xtdfPM4ggJdi"
      },
      "execution_count": null,
      "outputs": []
    },
    {
      "cell_type": "code",
      "source": [
        "help(input)"
      ],
      "metadata": {
        "id": "pIjHAtxZyB5N"
      },
      "execution_count": null,
      "outputs": []
    },
    {
      "cell_type": "code",
      "source": [
        "first_number = input()\n",
        "10\n",
        "first_number"
      ],
      "metadata": {
        "id": "9Ojsbuextm8b"
      },
      "execution_count": null,
      "outputs": []
    },
    {
      "cell_type": "code",
      "source": [
        "input(\"덧셈을 할 첫번째 숫자 : \")\n",
        "10"
      ],
      "metadata": {
        "id": "RFmy3Ik8t_AT"
      },
      "execution_count": null,
      "outputs": []
    },
    {
      "cell_type": "code",
      "source": [
        "help(print)"
      ],
      "metadata": {
        "id": "hHOWc91oy7te"
      },
      "execution_count": null,
      "outputs": []
    },
    {
      "cell_type": "code",
      "source": [
        "first_number = \"10\"\n",
        "second_number = \"20\"\n",
        "added_result = \"30\"\n",
        "print(first_number, \"와\", second_number, \"의 합은\", added_result, \"입니다.\")"
      ],
      "metadata": {
        "id": "IJUpitQhupQZ"
      },
      "execution_count": null,
      "outputs": []
    },
    {
      "cell_type": "code",
      "source": [
        "print(first_number + \"와 \" + second_number + \"의 합은 \" + added_result + \"입니다.\")"
      ],
      "metadata": {
        "id": "0WeQcXKfpITp"
      },
      "execution_count": null,
      "outputs": []
    },
    {
      "cell_type": "code",
      "source": [
        "print(10,20,30,sep=\",\")"
      ],
      "metadata": {
        "id": "s3wq9tpqselL"
      },
      "execution_count": null,
      "outputs": []
    },
    {
      "cell_type": "code",
      "source": [
        "def add_two_numbers():\n",
        "    print(\"add_two_numbers() 함수의 처리문장 1\")"
      ],
      "metadata": {
        "id": "_98AVyzSEd7y"
      },
      "execution_count": null,
      "outputs": []
    },
    {
      "cell_type": "code",
      "source": [
        "type(add_two_numbers)"
      ],
      "metadata": {
        "id": "kHkIfwuVGWtd"
      },
      "execution_count": null,
      "outputs": []
    },
    {
      "cell_type": "code",
      "source": [
        "add_two_numbers()"
      ],
      "metadata": {
        "id": "vkhGNK7wHkvF"
      },
      "execution_count": null,
      "outputs": []
    },
    {
      "cell_type": "code",
      "source": [
        "def add_two_numbers(number1, number2):\n",
        "    sum = number1 + number2\n",
        "    return sum\n",
        "\n",
        "returned_value = add_two_numbers(10,20)\n",
        "returned_value"
      ],
      "metadata": {
        "id": "kKY0W-kbcikG"
      },
      "execution_count": null,
      "outputs": []
    },
    {
      "cell_type": "code",
      "source": [
        "def add_two_numbers(number1, number2):\n",
        "  sum = number1 + number2\n",
        "  return sum\n",
        "\n",
        "returned_value = add_two_numbers(10,20)\n",
        "print('10과 20의 합:',returned_value)"
      ],
      "metadata": {
        "colab": {
          "base_uri": "https://localhost:8080/"
        },
        "id": "i3kchxFKBY6w",
        "outputId": "3ff26928-ba73-42b6-d5b0-3e97d1cc29a3"
      },
      "execution_count": null,
      "outputs": [
        {
          "output_type": "stream",
          "name": "stdout",
          "text": [
            "10과 20의 합: 30\n"
          ]
        }
      ]
    },
    {
      "cell_type": "code",
      "source": [
        "def add_two_numbers(number1, number2):\n",
        "  sum = number1 + number2\n",
        "  return sum\n",
        "\n",
        "sum = add_two_numbers(10,20)\n",
        "print('10과 20의 합:',sum)"
      ],
      "metadata": {
        "id": "Ya3K615TMySE"
      },
      "execution_count": null,
      "outputs": []
    },
    {
      "cell_type": "code",
      "source": [
        "def variable_scope_test(local_parameter):\n",
        "  local_variable = \"지역변수\"\n",
        "  print(\"variable_scope_test() 함수의 지역 변수\",locals())\n",
        "\n",
        "global_variable = \"전역변수\"\n",
        "variable_scope_test(\"인자\")"
      ],
      "metadata": {
        "colab": {
          "base_uri": "https://localhost:8080/"
        },
        "id": "0LL0ylHY0JKk",
        "outputId": "6d53b6b9-6861-417b-aee6-d3d88b005670"
      },
      "execution_count": null,
      "outputs": [
        {
          "output_type": "stream",
          "name": "stdout",
          "text": [
            "variable_scope_test() 함수의 지역 변수 {'local_parameter': '인자', 'local_variable': '지역변수'}\n"
          ]
        }
      ]
    },
    {
      "cell_type": "code",
      "source": [
        "def variable_scope_test(local_parameter):\n",
        "  local_variable = \"지역변수\"\n",
        "  print(\"variable_scope_test() 함수의 지역 변수\",locals())\n",
        "  print(\"global_variable :\",global_variable)\n",
        "\n",
        "global_variable = \"전역변수\"\n",
        "variable_scope_test(\"인자\")"
      ],
      "metadata": {
        "colab": {
          "base_uri": "https://localhost:8080/"
        },
        "id": "y3kjXAqI0ndd",
        "outputId": "9df54100-a7a4-4c97-b088-d72d3a395def"
      },
      "execution_count": null,
      "outputs": [
        {
          "output_type": "stream",
          "name": "stdout",
          "text": [
            "variable_scope_test() 함수의 지역 변수 {'local_parameter': '인자', 'local_variable': '지역변수'}\n",
            "global_variable : 전역변수\n"
          ]
        }
      ]
    },
    {
      "cell_type": "code",
      "source": [
        "def variable_scope_test(local_parameter):\n",
        "  local_variable = \"지역변수\"\n",
        "  print(\"variable_scope_test() 함수의 지역 변수\",locals())\n",
        "  print(\"global_variable :\",global_variable)\n",
        "  global_variable = \"전역변수 변경\"\n",
        "\n",
        "global_variable = \"전역변수\"\n",
        "variable_scope_test(\"인자\")"
      ],
      "metadata": {
        "colab": {
          "base_uri": "https://localhost:8080/",
          "height": 363
        },
        "id": "3xSFgenV1NJW",
        "outputId": "c0e875fc-27a7-419c-ada6-c7a863c7c2eb"
      },
      "execution_count": null,
      "outputs": [
        {
          "output_type": "stream",
          "name": "stdout",
          "text": [
            "variable_scope_test() 함수의 지역 변수 {'local_parameter': '인자', 'local_variable': '지역변수'}\n"
          ]
        },
        {
          "output_type": "error",
          "ename": "UnboundLocalError",
          "evalue": "ignored",
          "traceback": [
            "\u001b[0;31m---------------------------------------------------------------------------\u001b[0m",
            "\u001b[0;31mUnboundLocalError\u001b[0m                         Traceback (most recent call last)",
            "\u001b[0;32m<ipython-input-3-b3f63e773617>\u001b[0m in \u001b[0;36m<cell line: 8>\u001b[0;34m()\u001b[0m\n\u001b[1;32m      6\u001b[0m \u001b[0;34m\u001b[0m\u001b[0m\n\u001b[1;32m      7\u001b[0m \u001b[0mglobal_variable\u001b[0m \u001b[0;34m=\u001b[0m \u001b[0;34m\"전역변수\"\u001b[0m\u001b[0;34m\u001b[0m\u001b[0;34m\u001b[0m\u001b[0m\n\u001b[0;32m----> 8\u001b[0;31m \u001b[0mvariable_scope_test\u001b[0m\u001b[0;34m(\u001b[0m\u001b[0;34m\"인자\"\u001b[0m\u001b[0;34m)\u001b[0m\u001b[0;34m\u001b[0m\u001b[0;34m\u001b[0m\u001b[0m\n\u001b[0m",
            "\u001b[0;32m<ipython-input-3-b3f63e773617>\u001b[0m in \u001b[0;36mvariable_scope_test\u001b[0;34m(local_parameter)\u001b[0m\n\u001b[1;32m      2\u001b[0m   \u001b[0mlocal_variable\u001b[0m \u001b[0;34m=\u001b[0m \u001b[0;34m\"지역변수\"\u001b[0m\u001b[0;34m\u001b[0m\u001b[0;34m\u001b[0m\u001b[0m\n\u001b[1;32m      3\u001b[0m   \u001b[0mprint\u001b[0m\u001b[0;34m(\u001b[0m\u001b[0;34m\"variable_scope_test() 함수의 지역 변수\"\u001b[0m\u001b[0;34m,\u001b[0m\u001b[0mlocals\u001b[0m\u001b[0;34m(\u001b[0m\u001b[0;34m)\u001b[0m\u001b[0;34m)\u001b[0m\u001b[0;34m\u001b[0m\u001b[0;34m\u001b[0m\u001b[0m\n\u001b[0;32m----> 4\u001b[0;31m   \u001b[0mprint\u001b[0m\u001b[0;34m(\u001b[0m\u001b[0;34m\"global_variable :\"\u001b[0m\u001b[0;34m,\u001b[0m\u001b[0mglobal_variable\u001b[0m\u001b[0;34m)\u001b[0m\u001b[0;34m\u001b[0m\u001b[0;34m\u001b[0m\u001b[0m\n\u001b[0m\u001b[1;32m      5\u001b[0m   \u001b[0mglobal_variable\u001b[0m \u001b[0;34m=\u001b[0m \u001b[0;34m\"전역변수 변경\"\u001b[0m\u001b[0;34m\u001b[0m\u001b[0;34m\u001b[0m\u001b[0m\n\u001b[1;32m      6\u001b[0m \u001b[0;34m\u001b[0m\u001b[0m\n",
            "\u001b[0;31mUnboundLocalError\u001b[0m: local variable 'global_variable' referenced before assignment"
          ]
        }
      ]
    },
    {
      "cell_type": "code",
      "source": [
        "def variable_scope_test(local_parameter):\n",
        "  global global_variable\n",
        "\n",
        "  local_variable = \"지역변수\"\n",
        "  print(\"variable_scope_test() 함수의 지역 변수\",locals())\n",
        "  print(\"global_variable :\",global_variable)\n",
        "  global_variable = \"전역변수 변경\"\n",
        "\n",
        "global_variable = \"전역변수\"\n",
        "variable_scope_test(\"인자\")\n",
        "print(\"global_variable :\",global_variable)"
      ],
      "metadata": {
        "colab": {
          "base_uri": "https://localhost:8080/"
        },
        "id": "c9oElqrJ1o-s",
        "outputId": "2bbb0ee9-6220-4ef4-e12f-d9fd36a45bf7"
      },
      "execution_count": null,
      "outputs": [
        {
          "output_type": "stream",
          "name": "stdout",
          "text": [
            "variable_scope_test() 함수의 지역 변수 {'local_parameter': '인자', 'local_variable': '지역변수'}\n",
            "global_variable : 전역변수\n",
            "global_variable : 전역변수 변경\n"
          ]
        }
      ]
    },
    {
      "cell_type": "code",
      "source": [
        "def variable_scope_test(local_parameter):\n",
        "  global global_variable\n",
        "\n",
        "  local_variable = \"지역변수\"\n",
        "  print(\"variable_scope_test() 함수의 지역 변수\",locals())\n",
        "  print(\"global_variable :\",global_variable)\n",
        "  global_variable = \"전역변수 변경\"\n",
        "  print(\"variable_scope_test() 함수의 전역 변수\",globals())\n",
        "\n",
        "global_variable = \"전역변수\"\n",
        "variable_scope_test(\"인자\")"
      ],
      "metadata": {
        "colab": {
          "base_uri": "https://localhost:8080/"
        },
        "id": "GmZJ0DBGWzaH",
        "outputId": "c6436ccc-8094-4eba-a845-3e5ee7842a31"
      },
      "execution_count": null,
      "outputs": [
        {
          "output_type": "stream",
          "name": "stdout",
          "text": [
            "variable_scope_test() 함수의 지역 변수 {'local_parameter': '인자', 'local_variable': '지역변수'}\n",
            "global_variable : 전역변수\n",
            "variable_scope_test() 함수의 전역 변수 {'__name__': '__main__', '__doc__': 'Automatically created module for IPython interactive environment', '__package__': None, '__loader__': None, '__spec__': None, '__builtin__': <module 'builtins' (built-in)>, '__builtins__': <module 'builtins' (built-in)>, '_ih': ['', 'def variable_scope_test(local_parameter):\\n  local_variable = \"지역변수\"\\n  print(\"variable_scope_test() 함수의 지역 변수\",locals())\\n\\nglobal_variable = \"전역변수\"\\nvariable_scope_test(\"인자\")', 'def variable_scope_test(local_parameter):\\n  local_variable = \"지역변수\"\\n  print(\"variable_scope_test() 함수의 지역 변수\",locals())\\n  print(\"global_variable :\",global_variable)\\n\\nglobal_variable = \"전역변수\"\\nvariable_scope_test(\"인자\")', 'def variable_scope_test(local_parameter):\\n  local_variable = \"지역변수\"\\n  print(\"variable_scope_test() 함수의 지역 변수\",locals())\\n  print(\"global_variable :\",global_variable)\\n  global_variable = \"전역변수 변경\"\\n\\nglobal_variable = \"전역변수\"\\nvariable_scope_test(\"인자\")', 'def variable_scope_test(local_parameter):\\n  global global_variable\\n\\n  local_variable = \"지역변수\"\\n  print(\"variable_scope_test() 함수의 지역 변수\",locals())\\n  print(\"global_variable :\",global_variable)\\n  global_variable = \"전역변수 변경\"\\n\\nglobal_variable = \"전역변수\"\\nvariable_scope_test(\"인자\")\\nprint(\"global_variable :\",global_variable)', 'def variable_scope_test(local_parameter):\\n  global global_variable\\n\\n  local_variable = \"지역변수\"\\n  print(\"variable_scope_test() 함수의 지역 변수\",locals())\\n  print(\"global_variable :\",global_variable)\\n  global_variable = \"전역변수 변경\"\\n  print(\"variable_scope_test() 함수의 전역 변수\",globals())\\n\\nglobal_variable = \"전역변수\"\\nvariable_scope_test(\"인자\")'], '_oh': {}, '_dh': ['/content'], 'In': ['', 'def variable_scope_test(local_parameter):\\n  local_variable = \"지역변수\"\\n  print(\"variable_scope_test() 함수의 지역 변수\",locals())\\n\\nglobal_variable = \"전역변수\"\\nvariable_scope_test(\"인자\")', 'def variable_scope_test(local_parameter):\\n  local_variable = \"지역변수\"\\n  print(\"variable_scope_test() 함수의 지역 변수\",locals())\\n  print(\"global_variable :\",global_variable)\\n\\nglobal_variable = \"전역변수\"\\nvariable_scope_test(\"인자\")', 'def variable_scope_test(local_parameter):\\n  local_variable = \"지역변수\"\\n  print(\"variable_scope_test() 함수의 지역 변수\",locals())\\n  print(\"global_variable :\",global_variable)\\n  global_variable = \"전역변수 변경\"\\n\\nglobal_variable = \"전역변수\"\\nvariable_scope_test(\"인자\")', 'def variable_scope_test(local_parameter):\\n  global global_variable\\n\\n  local_variable = \"지역변수\"\\n  print(\"variable_scope_test() 함수의 지역 변수\",locals())\\n  print(\"global_variable :\",global_variable)\\n  global_variable = \"전역변수 변경\"\\n\\nglobal_variable = \"전역변수\"\\nvariable_scope_test(\"인자\")\\nprint(\"global_variable :\",global_variable)', 'def variable_scope_test(local_parameter):\\n  global global_variable\\n\\n  local_variable = \"지역변수\"\\n  print(\"variable_scope_test() 함수의 지역 변수\",locals())\\n  print(\"global_variable :\",global_variable)\\n  global_variable = \"전역변수 변경\"\\n  print(\"variable_scope_test() 함수의 전역 변수\",globals())\\n\\nglobal_variable = \"전역변수\"\\nvariable_scope_test(\"인자\")'], 'Out': {}, 'get_ipython': <bound method InteractiveShell.get_ipython of <google.colab._shell.Shell object at 0x79cf3fc3c3d0>>, 'exit': <IPython.core.autocall.ZMQExitAutocall object at 0x79cf3fc3cdc0>, 'quit': <IPython.core.autocall.ZMQExitAutocall object at 0x79cf3fc3cdc0>, '_': '', '__': '', '___': '', '_i': 'def variable_scope_test(local_parameter):\\n  global global_variable\\n\\n  local_variable = \"지역변수\"\\n  print(\"variable_scope_test() 함수의 지역 변수\",locals())\\n  print(\"global_variable :\",global_variable)\\n  global_variable = \"전역변수 변경\"\\n\\nglobal_variable = \"전역변수\"\\nvariable_scope_test(\"인자\")\\nprint(\"global_variable :\",global_variable)', '_ii': 'def variable_scope_test(local_parameter):\\n  local_variable = \"지역변수\"\\n  print(\"variable_scope_test() 함수의 지역 변수\",locals())\\n  print(\"global_variable :\",global_variable)\\n  global_variable = \"전역변수 변경\"\\n\\nglobal_variable = \"전역변수\"\\nvariable_scope_test(\"인자\")', '_iii': 'def variable_scope_test(local_parameter):\\n  local_variable = \"지역변수\"\\n  print(\"variable_scope_test() 함수의 지역 변수\",locals())\\n  print(\"global_variable :\",global_variable)\\n\\nglobal_variable = \"전역변수\"\\nvariable_scope_test(\"인자\")', '_i1': 'def variable_scope_test(local_parameter):\\n  local_variable = \"지역변수\"\\n  print(\"variable_scope_test() 함수의 지역 변수\",locals())\\n\\nglobal_variable = \"전역변수\"\\nvariable_scope_test(\"인자\")', 'variable_scope_test': <function variable_scope_test at 0x79cf2e7bc310>, 'global_variable': '전역변수 변경', '_i2': 'def variable_scope_test(local_parameter):\\n  local_variable = \"지역변수\"\\n  print(\"variable_scope_test() 함수의 지역 변수\",locals())\\n  print(\"global_variable :\",global_variable)\\n\\nglobal_variable = \"전역변수\"\\nvariable_scope_test(\"인자\")', '_i3': 'def variable_scope_test(local_parameter):\\n  local_variable = \"지역변수\"\\n  print(\"variable_scope_test() 함수의 지역 변수\",locals())\\n  print(\"global_variable :\",global_variable)\\n  global_variable = \"전역변수 변경\"\\n\\nglobal_variable = \"전역변수\"\\nvariable_scope_test(\"인자\")', '_i4': 'def variable_scope_test(local_parameter):\\n  global global_variable\\n\\n  local_variable = \"지역변수\"\\n  print(\"variable_scope_test() 함수의 지역 변수\",locals())\\n  print(\"global_variable :\",global_variable)\\n  global_variable = \"전역변수 변경\"\\n\\nglobal_variable = \"전역변수\"\\nvariable_scope_test(\"인자\")\\nprint(\"global_variable :\",global_variable)', '_i5': 'def variable_scope_test(local_parameter):\\n  global global_variable\\n\\n  local_variable = \"지역변수\"\\n  print(\"variable_scope_test() 함수의 지역 변수\",locals())\\n  print(\"global_variable :\",global_variable)\\n  global_variable = \"전역변수 변경\"\\n  print(\"variable_scope_test() 함수의 전역 변수\",globals())\\n\\nglobal_variable = \"전역변수\"\\nvariable_scope_test(\"인자\")'}\n"
          ]
        }
      ]
    },
    {
      "cell_type": "code",
      "source": [
        "def return_multiple_values():\n",
        "  #return (10,20,30)\n",
        "  return 10,20,30\n",
        "\n",
        "returned_values = return_multiple_values()\n",
        "print(\"함수 반환값 :\", returned_values)\n",
        "print(\"함수 반환값 :\", returned_values[0],returned_values[1],returned_values[2])\n",
        "print(\"함수가 반환한 자료형 :\", type(returned_values))\n",
        "\n",
        "returned_value1, returned_value2, returned_value3 = return_multiple_values()\n",
        "print(\"함수 반환값 :\", returned_value1, returned_value2, returned_value3)"
      ],
      "metadata": {
        "colab": {
          "base_uri": "https://localhost:8080/"
        },
        "id": "aEb0fs17NoiS",
        "outputId": "f537b7c9-30af-4538-be79-fe1ff7c1b3de"
      },
      "execution_count": null,
      "outputs": [
        {
          "output_type": "stream",
          "name": "stdout",
          "text": [
            "함수 반환값 : (10, 20, 30)\n",
            "함수 반환값 : 10 20 30\n",
            "함수가 반환한 자료형 : <class 'tuple'>\n",
            "함수 반환값 : 10 20 30\n"
          ]
        }
      ]
    },
    {
      "cell_type": "code",
      "source": [
        "returned_values[0] = 5"
      ],
      "metadata": {
        "id": "rOVcfHBoxBYH",
        "colab": {
          "base_uri": "https://localhost:8080/",
          "height": 186
        },
        "outputId": "06310a18-622a-4f38-a51f-7ce9fecd7c64"
      },
      "execution_count": null,
      "outputs": [
        {
          "output_type": "error",
          "ename": "TypeError",
          "evalue": "ignored",
          "traceback": [
            "\u001b[0;31m---------------------------------------------------------------------------\u001b[0m",
            "\u001b[0;31mTypeError\u001b[0m                                 Traceback (most recent call last)",
            "\u001b[0;32m<ipython-input-2-b48cee1533e2>\u001b[0m in \u001b[0;36m<cell line: 1>\u001b[0;34m()\u001b[0m\n\u001b[0;32m----> 1\u001b[0;31m \u001b[0mreturned_values\u001b[0m\u001b[0;34m[\u001b[0m\u001b[0;36m0\u001b[0m\u001b[0;34m]\u001b[0m \u001b[0;34m=\u001b[0m \u001b[0;36m5\u001b[0m\u001b[0;34m\u001b[0m\u001b[0;34m\u001b[0m\u001b[0m\n\u001b[0m",
            "\u001b[0;31mTypeError\u001b[0m: 'tuple' object does not support item assignment"
          ]
        }
      ]
    },
    {
      "cell_type": "code",
      "source": [
        "returned_values = (40,50,60,70)\n",
        "print(\"returned_values :\", returned_values)"
      ],
      "metadata": {
        "colab": {
          "base_uri": "https://localhost:8080/"
        },
        "id": "AxVdWVXAUCZ7",
        "outputId": "f2a9ec6c-8e7c-437f-8d29-a8a07c476209"
      },
      "execution_count": null,
      "outputs": [
        {
          "output_type": "stream",
          "name": "stdout",
          "text": [
            "returned_values : (40, 50, 60, 70)\n"
          ]
        }
      ]
    },
    {
      "cell_type": "markdown",
      "source": [
        "\t구조적 프로그래밍"
      ],
      "metadata": {
        "id": "VFLpAgii2xXK"
      }
    },
    {
      "cell_type": "markdown",
      "source": [
        "\t제어문 – 선택 구조"
      ],
      "metadata": {
        "id": "7noxytWX4uOB"
      }
    },
    {
      "cell_type": "markdown",
      "source": [
        "참의 조건만 처리하는 if 선택문"
      ],
      "metadata": {
        "id": "mo9xu59_U9BK"
      }
    },
    {
      "cell_type": "code",
      "source": [
        "number1 = 10\n",
        "number2 = 20\n",
        "operator = \"+\"\n",
        "if operator == \"+\":\n",
        "  sum = number1 + number2\n",
        "  print(number1, \"+\", number2, \"=\", sum)"
      ],
      "metadata": {
        "colab": {
          "base_uri": "https://localhost:8080/"
        },
        "id": "5-8X9OmKFxxY",
        "outputId": "97344ac0-927b-44ef-a0d3-656b3f5a2c29"
      },
      "execution_count": null,
      "outputs": [
        {
          "output_type": "stream",
          "name": "stdout",
          "text": [
            "10 + 20 = 30\n"
          ]
        }
      ]
    },
    {
      "cell_type": "markdown",
      "source": [
        "참과 거짓의 조건을 함께 처리하는 if 선택문"
      ],
      "metadata": {
        "id": "pKHQ3PDGVug9"
      }
    },
    {
      "cell_type": "code",
      "source": [
        "number1 = 10\n",
        "number2 = 20\n",
        "operator = \"-\"\n",
        "if operator == \"+\":\n",
        "  sum = number1 + number2\n",
        "  print(number1, \"+\", number2, \"=\", sum)\n",
        "else:\n",
        "  print(\"덧셈 이외의 기능은 아직 구현되지 않았습니다.\")"
      ],
      "metadata": {
        "colab": {
          "base_uri": "https://localhost:8080/"
        },
        "id": "DYCmKfa-HHAI",
        "outputId": "9278433e-9260-4716-f91e-e0d5d5c0ccb9"
      },
      "execution_count": null,
      "outputs": [
        {
          "output_type": "stream",
          "name": "stdout",
          "text": [
            "덧셈 이외의 기능은 아직 구현되지 않았습니다.\n"
          ]
        }
      ]
    },
    {
      "cell_type": "markdown",
      "source": [
        "중첩 if 선택문"
      ],
      "metadata": {
        "id": "u4Gkyc_pV-Pg"
      }
    },
    {
      "cell_type": "code",
      "source": [
        "number1 = 10\n",
        "number2 = 20\n",
        "operator = \"-\"\n",
        "if operator == '+':\n",
        "  sum = number1 + number2\n",
        "  print(number1, \"+\", number2, \"=\", sum)\n",
        "else:\n",
        "  if operator == \"-\":\n",
        "    minus = number1 - number2\n",
        "    print(number1, \"-\", number2, \"=\", minus)\n",
        "  else:\n",
        "    print(\"덧셈과 뺄셈 이외의 기능은 아직 구현되지 않았습니다.\")"
      ],
      "metadata": {
        "colab": {
          "base_uri": "https://localhost:8080/"
        },
        "id": "RHT2QyK_HfU4",
        "outputId": "85ddc052-22ca-4212-da5c-ced543669465"
      },
      "execution_count": null,
      "outputs": [
        {
          "output_type": "stream",
          "name": "stdout",
          "text": [
            "10 - 20 = -10\n"
          ]
        }
      ]
    },
    {
      "cell_type": "markdown",
      "source": [
        "if:와 elif: 문장을 함께 활용한 다중 선택 구조"
      ],
      "metadata": {
        "id": "_WxXzHn8WSrQ"
      }
    },
    {
      "cell_type": "code",
      "source": [
        "number1 = 10\n",
        "number2 = 20\n",
        "operator = \"/\"\n",
        "if operator == \"+\":\n",
        "  sum = number1 + number2\n",
        "  print(number1, \"+\", number2, \"=\", sum)\n",
        "elif operator == '-':\n",
        "  minus = number1 - number2\n",
        "  print(number1, \"-\", number2, \"=\", minus)\n",
        "elif operator == '*':\n",
        "  mul = number1 * number2\n",
        "  print(number1, \"*\", number2, \"=\", mul)\n",
        "elif operator == '/':\n",
        "  div = number1 / number2\n",
        "  print(number1, \"/\", number2, \"=\", div)\n",
        "else:\n",
        "  print(\"사칙연산 이외의 기능은 아직 구현되지 않았습니다.\")"
      ],
      "metadata": {
        "colab": {
          "base_uri": "https://localhost:8080/"
        },
        "id": "kJbCHhZOhnSX",
        "outputId": "5f479114-56dc-4860-d449-8a4ee2172778"
      },
      "execution_count": null,
      "outputs": [
        {
          "output_type": "stream",
          "name": "stdout",
          "text": [
            "10 / 20 = 0.5\n"
          ]
        }
      ]
    },
    {
      "cell_type": "code",
      "source": [
        "operator = '/'\n",
        "divisor = 5\n",
        "if operator == '/' and divisor != 0:\n",
        "  print(\"나눗셈이 가능합니다.\")"
      ],
      "metadata": {
        "colab": {
          "base_uri": "https://localhost:8080/"
        },
        "id": "ej5VoHtkkz50",
        "outputId": "a45709c4-b3bb-4e08-8035-1939af6990ed"
      },
      "execution_count": null,
      "outputs": [
        {
          "output_type": "stream",
          "name": "stdout",
          "text": [
            "나눗셈이 가능합니다.\n"
          ]
        }
      ]
    },
    {
      "cell_type": "code",
      "source": [
        "operator = '/'\n",
        "divisor = 5\n",
        "if operator == '/':\n",
        "  if divisor != 0:\n",
        "    print(\"나눗셈이 가능합니다.\")"
      ],
      "metadata": {
        "colab": {
          "base_uri": "https://localhost:8080/"
        },
        "id": "-s0w9bDdlKwx",
        "outputId": "8ef89d7e-b934-4a5c-d593-d22a95727602"
      },
      "execution_count": null,
      "outputs": [
        {
          "output_type": "stream",
          "name": "stdout",
          "text": [
            "나눗셈이 가능합니다.\n"
          ]
        }
      ]
    },
    {
      "cell_type": "code",
      "source": [
        "valid_operators = ['+','-','*','/']\n",
        "operator = '/'\n",
        "divisor = 0\n",
        "if operator in valid_operators and (operator == '/' and divisor == 0):\n",
        "  print(\"0으로 나눌 수 없어 연산이 가능하지 않습니다.\")"
      ],
      "metadata": {
        "colab": {
          "base_uri": "https://localhost:8080/"
        },
        "id": "RjO6K2MOmWoV",
        "outputId": "5c4da623-45ed-4a54-8eae-c330a54d5822"
      },
      "execution_count": null,
      "outputs": [
        {
          "output_type": "stream",
          "name": "stdout",
          "text": [
            "0으로 나눌 수 없어 연산이 가능하지 않습니다.\n"
          ]
        }
      ]
    },
    {
      "cell_type": "code",
      "source": [
        "valid_operators = ['+','-','*','/']\n",
        "operator = '/'\n",
        "divisor = 0\n",
        "if operator in valid_operators:\n",
        "  if operator == '/' and divisor == 0:\n",
        "    print(\"0으로 나눌 수 없어 연산이 가능하지 않습니다.\")"
      ],
      "metadata": {
        "colab": {
          "base_uri": "https://localhost:8080/"
        },
        "id": "JAIgNa1dnxUo",
        "outputId": "df7ac41f-e60c-4e4c-b552-6f25067e211e"
      },
      "execution_count": null,
      "outputs": [
        {
          "output_type": "stream",
          "name": "stdout",
          "text": [
            "0으로 나눌 수 없어 연산이 가능하지 않습니다.\n"
          ]
        }
      ]
    },
    {
      "cell_type": "markdown",
      "source": [
        "\t제어문 –  반복 구조"
      ],
      "metadata": {
        "id": "vpcGHCE8oUGS"
      }
    },
    {
      "cell_type": "markdown",
      "source": [
        "for 반복문"
      ],
      "metadata": {
        "id": "sQA0-WMfzXte"
      }
    },
    {
      "cell_type": "code",
      "source": [
        "values = ['one','two','three']\n",
        "for value in values:\n",
        "  print(value)"
      ],
      "metadata": {
        "colab": {
          "base_uri": "https://localhost:8080/"
        },
        "id": "V3ztOD_coxY2",
        "outputId": "3a378c5a-39c9-446e-f442-3d0374efd2f0"
      },
      "execution_count": null,
      "outputs": [
        {
          "output_type": "stream",
          "name": "stdout",
          "text": [
            "one\n",
            "two\n",
            "three\n"
          ]
        }
      ]
    },
    {
      "cell_type": "code",
      "source": [
        "for i in range(5):\n",
        "  print(i)"
      ],
      "metadata": {
        "colab": {
          "base_uri": "https://localhost:8080/"
        },
        "id": "dT6xA63jpzf0",
        "outputId": "dd896a91-518c-4fe1-ea7f-f569d5a7bcaa"
      },
      "execution_count": null,
      "outputs": [
        {
          "output_type": "stream",
          "name": "stdout",
          "text": [
            "0\n",
            "1\n",
            "2\n",
            "3\n",
            "4\n"
          ]
        }
      ]
    },
    {
      "cell_type": "code",
      "source": [
        "for _ in range(5):\n",
        "  print('처리할 문장들')"
      ],
      "metadata": {
        "colab": {
          "base_uri": "https://localhost:8080/"
        },
        "id": "3-oPvWa9pZhX",
        "outputId": "199dad1f-bdc0-477d-82f4-d0344be4ab57"
      },
      "execution_count": null,
      "outputs": [
        {
          "output_type": "stream",
          "name": "stdout",
          "text": [
            "처리할 문장들\n",
            "처리할 문장들\n",
            "처리할 문장들\n",
            "처리할 문장들\n",
            "처리할 문장들\n"
          ]
        }
      ]
    },
    {
      "cell_type": "code",
      "source": [
        "sum = 0\n",
        "\n",
        "for i in range(10):\n",
        "  print(i + 1)\n",
        "  sum += i + 1\n",
        "\n",
        "print(\"1부터 10까지의 합은\",sum)"
      ],
      "metadata": {
        "colab": {
          "base_uri": "https://localhost:8080/"
        },
        "id": "Yj75lo_GSY2I",
        "outputId": "e01f795d-3f3c-49cd-9de7-0c4218083bd4"
      },
      "execution_count": null,
      "outputs": [
        {
          "output_type": "stream",
          "name": "stdout",
          "text": [
            "1\n",
            "2\n",
            "3\n",
            "4\n",
            "5\n",
            "6\n",
            "7\n",
            "8\n",
            "9\n",
            "10\n",
            "1부터 10까지의 합은 55\n"
          ]
        }
      ]
    },
    {
      "cell_type": "code",
      "source": [
        "help(range)"
      ],
      "metadata": {
        "colab": {
          "base_uri": "https://localhost:8080/"
        },
        "id": "vGcQz5edqw21",
        "outputId": "576e9f41-c945-49ea-eeb7-309ba5ce292a"
      },
      "execution_count": null,
      "outputs": [
        {
          "output_type": "stream",
          "name": "stdout",
          "text": [
            "Help on class range in module builtins:\n",
            "\n",
            "class range(object)\n",
            " |  range(stop) -> range object\n",
            " |  range(start, stop[, step]) -> range object\n",
            " |  \n",
            " |  Return an object that produces a sequence of integers from start (inclusive)\n",
            " |  to stop (exclusive) by step.  range(i, j) produces i, i+1, i+2, ..., j-1.\n",
            " |  start defaults to 0, and stop is omitted!  range(4) produces 0, 1, 2, 3.\n",
            " |  These are exactly the valid indices for a list of 4 elements.\n",
            " |  When step is given, it specifies the increment (or decrement).\n",
            " |  \n",
            " |  Methods defined here:\n",
            " |  \n",
            " |  __bool__(self, /)\n",
            " |      self != 0\n",
            " |  \n",
            " |  __contains__(self, key, /)\n",
            " |      Return key in self.\n",
            " |  \n",
            " |  __eq__(self, value, /)\n",
            " |      Return self==value.\n",
            " |  \n",
            " |  __ge__(self, value, /)\n",
            " |      Return self>=value.\n",
            " |  \n",
            " |  __getattribute__(self, name, /)\n",
            " |      Return getattr(self, name).\n",
            " |  \n",
            " |  __getitem__(self, key, /)\n",
            " |      Return self[key].\n",
            " |  \n",
            " |  __gt__(self, value, /)\n",
            " |      Return self>value.\n",
            " |  \n",
            " |  __hash__(self, /)\n",
            " |      Return hash(self).\n",
            " |  \n",
            " |  __iter__(self, /)\n",
            " |      Implement iter(self).\n",
            " |  \n",
            " |  __le__(self, value, /)\n",
            " |      Return self<=value.\n",
            " |  \n",
            " |  __len__(self, /)\n",
            " |      Return len(self).\n",
            " |  \n",
            " |  __lt__(self, value, /)\n",
            " |      Return self<value.\n",
            " |  \n",
            " |  __ne__(self, value, /)\n",
            " |      Return self!=value.\n",
            " |  \n",
            " |  __reduce__(...)\n",
            " |      Helper for pickle.\n",
            " |  \n",
            " |  __repr__(self, /)\n",
            " |      Return repr(self).\n",
            " |  \n",
            " |  __reversed__(...)\n",
            " |      Return a reverse iterator.\n",
            " |  \n",
            " |  count(...)\n",
            " |      rangeobject.count(value) -> integer -- return number of occurrences of value\n",
            " |  \n",
            " |  index(...)\n",
            " |      rangeobject.index(value) -> integer -- return index of value.\n",
            " |      Raise ValueError if the value is not present.\n",
            " |  \n",
            " |  ----------------------------------------------------------------------\n",
            " |  Static methods defined here:\n",
            " |  \n",
            " |  __new__(*args, **kwargs) from builtins.type\n",
            " |      Create and return a new object.  See help(type) for accurate signature.\n",
            " |  \n",
            " |  ----------------------------------------------------------------------\n",
            " |  Data descriptors defined here:\n",
            " |  \n",
            " |  start\n",
            " |  \n",
            " |  step\n",
            " |  \n",
            " |  stop\n",
            "\n"
          ]
        }
      ]
    },
    {
      "cell_type": "code",
      "source": [
        "sum = 0\n",
        "\n",
        "for i in range(1,10,2):\n",
        "  print(i)\n",
        "  sum += i\n",
        "\n",
        "print(\"1부터 10까지의 홀수의 합은\",sum)"
      ],
      "metadata": {
        "colab": {
          "base_uri": "https://localhost:8080/"
        },
        "id": "5NhW3GKGUqRS",
        "outputId": "9e1e2121-46fc-45c7-f91c-e22555ba458e"
      },
      "execution_count": null,
      "outputs": [
        {
          "output_type": "stream",
          "name": "stdout",
          "text": [
            "1\n",
            "3\n",
            "5\n",
            "7\n",
            "9\n",
            "1부터 10까지의 홀수의 합은 25\n"
          ]
        }
      ]
    },
    {
      "cell_type": "code",
      "source": [
        "sum = 0\n",
        "\n",
        "for i in range(2,10,2):\n",
        "  print(i)\n",
        "  sum += i\n",
        "\n",
        "print(\"1부터 10까지의 짝수의 합은\",sum)"
      ],
      "metadata": {
        "colab": {
          "base_uri": "https://localhost:8080/"
        },
        "id": "qTc-ErK1XmzU",
        "outputId": "db269b43-c0bf-4444-a4c1-ef5bbd201884"
      },
      "execution_count": null,
      "outputs": [
        {
          "output_type": "stream",
          "name": "stdout",
          "text": [
            "2\n",
            "4\n",
            "6\n",
            "8\n",
            "1부터 10까지의 짝수의 합은 20\n"
          ]
        }
      ]
    },
    {
      "cell_type": "code",
      "source": [
        "sum = 0\n",
        "\n",
        "for i in range(2,10+1,2):\n",
        "  print(i)\n",
        "  sum += i\n",
        "\n",
        "print(\"1부터 10까지의 짝수의 합은\",sum)"
      ],
      "metadata": {
        "colab": {
          "base_uri": "https://localhost:8080/"
        },
        "id": "s09TzYFwYcMb",
        "outputId": "5ceba201-8a41-4491-a4c1-d8fddbc7ba14"
      },
      "execution_count": null,
      "outputs": [
        {
          "output_type": "stream",
          "name": "stdout",
          "text": [
            "2\n",
            "4\n",
            "6\n",
            "8\n",
            "10\n",
            "1부터 10까지의 짝수의 합은 30\n"
          ]
        }
      ]
    },
    {
      "cell_type": "code",
      "source": [
        "for i in range(2,5,2):\n",
        "  for j in range(1,4):\n",
        "    print(i, \"x\", j, \"=\", i*j)"
      ],
      "metadata": {
        "colab": {
          "base_uri": "https://localhost:8080/"
        },
        "id": "_u6112OasAp0",
        "outputId": "2048be3d-7106-403a-a03e-4f1b07a47bcf"
      },
      "execution_count": null,
      "outputs": [
        {
          "output_type": "stream",
          "name": "stdout",
          "text": [
            "2 x 1 = 2\n",
            "2 x 2 = 4\n",
            "2 x 3 = 6\n",
            "4 x 1 = 4\n",
            "4 x 2 = 8\n",
            "4 x 3 = 12\n"
          ]
        }
      ]
    },
    {
      "cell_type": "markdown",
      "source": [
        "리스트 컴프리헨션"
      ],
      "metadata": {
        "id": "YyJejwTxziZL"
      }
    },
    {
      "cell_type": "code",
      "source": [
        "squared_values = [i**2 for i in range(1,6)]\n",
        "print(squared_values)"
      ],
      "metadata": {
        "colab": {
          "base_uri": "https://localhost:8080/"
        },
        "id": "ZyxGOrPqv0cx",
        "outputId": "c5175c65-64a4-4025-f711-c554f4749e5b"
      },
      "execution_count": null,
      "outputs": [
        {
          "output_type": "stream",
          "name": "stdout",
          "text": [
            "[1, 4, 9, 16, 25]\n"
          ]
        }
      ]
    },
    {
      "cell_type": "code",
      "source": [
        "squared_values = [i**2 for i in range(1,6) if i%2 == 1]\n",
        "print(squared_values)"
      ],
      "metadata": {
        "colab": {
          "base_uri": "https://localhost:8080/"
        },
        "id": "Csvck0Ikw6zI",
        "outputId": "9cf0f527-e643-4de1-b290-77f234271cff"
      },
      "execution_count": null,
      "outputs": [
        {
          "output_type": "stream",
          "name": "stdout",
          "text": [
            "[1, 9, 25]\n"
          ]
        }
      ]
    },
    {
      "cell_type": "code",
      "source": [
        "list2d = [[1,2,3,],[4,5,6]]\n",
        "squared_values = [[elem**2 for elem in sublist1d] for sublist1d in list2d]\n",
        "print(squared_values)"
      ],
      "metadata": {
        "colab": {
          "base_uri": "https://localhost:8080/"
        },
        "id": "YTEgL5A1yMsM",
        "outputId": "d3e2e559-d9ad-47fe-a109-967b7dd3fb3d"
      },
      "execution_count": null,
      "outputs": [
        {
          "output_type": "stream",
          "name": "stdout",
          "text": [
            "[[1, 4, 9], [16, 25, 36]]\n"
          ]
        }
      ]
    },
    {
      "cell_type": "code",
      "source": [
        "word2vec = {'apple': 1,'banana': 2, 'peach': 10}\n",
        "print(word2vec)\n",
        "vec2word = { vector: word for word, vector in word2vec.items() if vector < 5 }\n",
        "print(vec2word)"
      ],
      "metadata": {
        "colab": {
          "base_uri": "https://localhost:8080/"
        },
        "id": "R2CpAezJdb26",
        "outputId": "d2f79205-34bb-4b55-b2ed-4dbcb7e8f95e"
      },
      "execution_count": null,
      "outputs": [
        {
          "output_type": "stream",
          "name": "stdout",
          "text": [
            "{'apple': 1, 'banana': 2, 'peach': 10}\n",
            "{1: 'apple', 2: 'banana'}\n"
          ]
        }
      ]
    },
    {
      "cell_type": "markdown",
      "source": [
        "while 반복문"
      ],
      "metadata": {
        "id": "bz60DdomzrX6"
      }
    },
    {
      "cell_type": "code",
      "source": [
        "i = 0\n",
        "while i < 3:\n",
        "  print(i)\n",
        "  i = i + 1"
      ],
      "metadata": {
        "colab": {
          "base_uri": "https://localhost:8080/"
        },
        "id": "roiLtTtGyZgF",
        "outputId": "52511c85-ea0c-4a6a-aa8b-b167e925ba78"
      },
      "execution_count": null,
      "outputs": [
        {
          "output_type": "stream",
          "name": "stdout",
          "text": [
            "0\n",
            "1\n",
            "2\n"
          ]
        }
      ]
    },
    {
      "cell_type": "code",
      "source": [
        "# 초기 반복조건 설정\n",
        "print(\"연산자를 입력하세요. 연산을 종료하려면 q를 입력한 후 Enter 키를 치세요.\")\n",
        "operator = input(\"연산자 : \")\n",
        "\n",
        "while operator != 'q':          # 반복조건을 판단하는 논리식\n",
        "    # 입력(input)\n",
        "    first_number = int(input(\"첫번째 숫자 : \"))\n",
        "    second_number = int(input(\"두번째 숫자 : \"))\n",
        "\n",
        "    # 처리(process)\n",
        "    added_result = first_number + second_number\n",
        "\n",
        "    # 출력(output)\n",
        "    print(str(first_number), operator, str(second_number), \"=\", str(added_result))\n",
        "\n",
        "    # 반복조건 변경\n",
        "    print(\"연산자를 입력하세요. 연산을 종료하려면 q를 입력한 후 Enter 키를 치세요.\")\n",
        "    operator = input(\"연산자 : \")"
      ],
      "metadata": {
        "id": "7BFktbr-16VO"
      },
      "execution_count": null,
      "outputs": []
    },
    {
      "cell_type": "code",
      "source": [
        "import math\n",
        "\n",
        "# 초기 반복조건 설정\n",
        "오차 = 100\n",
        "허용오차 = 0.001\n",
        "\n",
        "x = 3\n",
        "old_exp_x = 1\n",
        "i = 1\n",
        "\n",
        "while 오차 > 허용오차:          # 반복조건을 판단하는 논리식\n",
        "    exp_x = old_exp_x + 1/math.factorial(i) * x**i\n",
        "\n",
        "    오차 = abs(exp_x - old_exp_x)  # 반복조건 변경\n",
        "\n",
        "    old_exp_x = exp_x\n",
        "    i = i + 1\n",
        "\n",
        "print(\"무한급수를\",i,\"번 반복하여 찾아낸 exp(3) =\",exp_x)\n",
        "print(\"급수간 오차는\",오차,\"입니다.\")"
      ],
      "metadata": {
        "id": "QNKs64id1_1o"
      },
      "execution_count": null,
      "outputs": []
    },
    {
      "cell_type": "code",
      "source": [
        "import math\n",
        "\n",
        "# 초기 반복조건 설정\n",
        "오차 = 100\n",
        "허용오차 = 0.001\n",
        "\n",
        "x = 3\n",
        "old_exp_x = 1\n",
        "i = 1\n",
        "\n",
        "#while 오차 > 허용오차:          # 반복조건을 판단하는 논리식\n",
        "while True:\n",
        "    if 오차 <= 허용오차: break\n",
        "\n",
        "    exp_x = old_exp_x + 1/math.factorial(i) * x**i\n",
        "\n",
        "    오차 = abs(exp_x - old_exp_x)  # 반복조건 변경\n",
        "\n",
        "    old_exp_x = exp_x\n",
        "    i = i + 1\n",
        "\n",
        "print(\"무한급수를\",i,\"번 반복하여 찾아낸 exp(3) =\",exp_x)\n",
        "print(\"급수간 오차는\",오차,\"입니다.\")"
      ],
      "metadata": {
        "id": "F1SBrJxf3OPF"
      },
      "execution_count": null,
      "outputs": []
    },
    {
      "cell_type": "markdown",
      "source": [
        "재귀적 함수 호출을 통한 반복"
      ],
      "metadata": {
        "id": "XdSVC_dc1dmv"
      }
    },
    {
      "cell_type": "code",
      "source": [
        "sum = 0\n",
        "\n",
        "for i in range(1,11):\n",
        "  sum = sum + i\n",
        "\n",
        "print('1~10까지 더한 합은',sum,'입니다.')"
      ],
      "metadata": {
        "colab": {
          "base_uri": "https://localhost:8080/"
        },
        "id": "4A2R7gD21mGa",
        "outputId": "18ffb953-7488-42ee-c7e5-b17e970572be"
      },
      "execution_count": null,
      "outputs": [
        {
          "output_type": "stream",
          "name": "stdout",
          "text": [
            "1~10까지 더한 합은 55 입니다.\n"
          ]
        }
      ]
    },
    {
      "cell_type": "code",
      "source": [
        "sum = 0\n",
        "i = 1\n",
        "\n",
        "while i <= 10:\n",
        "  sum = sum + i\n",
        "  i = i + 1\n",
        "\n",
        "print('1~10까지 더한 합은',sum,'입니다.')"
      ],
      "metadata": {
        "colab": {
          "base_uri": "https://localhost:8080/"
        },
        "id": "qsNC4_iX85UW",
        "outputId": "b6f03b0e-7a76-4901-bc58-840daf88607b"
      },
      "execution_count": null,
      "outputs": [
        {
          "output_type": "stream",
          "name": "stdout",
          "text": [
            "1~10까지 더한 합은 55 입니다.\n"
          ]
        }
      ]
    },
    {
      "cell_type": "code",
      "source": [
        "def add_to_10(i,sum):\n",
        "  if i <= 10:\n",
        "    sum = sum + i\n",
        "    print('i :',i,', sum :',sum)\n",
        "    i = i + 1\n",
        "    add_to_10(i,sum)\n",
        "  else:\n",
        "    print('i :',i,', sum :',sum)\n",
        "    print('1~10까지 더한 합은',sum,'입니다.')\n",
        "    return\n",
        "\n",
        "sum = 0\n",
        "i = 1\n",
        "add_to_10(i,sum)"
      ],
      "metadata": {
        "colab": {
          "base_uri": "https://localhost:8080/"
        },
        "id": "pcZqFyj17dLg",
        "outputId": "5067a032-6284-459a-ac0c-47d77ea00125"
      },
      "execution_count": null,
      "outputs": [
        {
          "output_type": "stream",
          "name": "stdout",
          "text": [
            "i : 1 , sum : 1\n",
            "i : 2 , sum : 3\n",
            "i : 3 , sum : 6\n",
            "i : 4 , sum : 10\n",
            "i : 5 , sum : 15\n",
            "i : 6 , sum : 21\n",
            "i : 7 , sum : 28\n",
            "i : 8 , sum : 36\n",
            "i : 9 , sum : 45\n",
            "i : 10 , sum : 55\n",
            "i : 11 , sum : 55\n",
            "1~10까지 더한 합은 55 입니다.\n"
          ]
        }
      ]
    },
    {
      "cell_type": "code",
      "source": [
        "def add_to_10(i):\n",
        "  if i == 10: return i\n",
        "\n",
        "  return i + add_to_10(i+1)\n",
        "\n",
        "sum = add_to_10(1)\n",
        "print('1~10까지 더한 합은',sum,'입니다.')"
      ],
      "metadata": {
        "colab": {
          "base_uri": "https://localhost:8080/"
        },
        "id": "163tIOT_JvQ1",
        "outputId": "1d49ddb7-289d-4eae-eb4c-ae8c7f3f4e9e"
      },
      "execution_count": null,
      "outputs": [
        {
          "output_type": "stream",
          "name": "stdout",
          "text": [
            "1~10까지 더한 합은 55 입니다.\n"
          ]
        }
      ]
    },
    {
      "cell_type": "code",
      "source": [
        "def func():\n",
        "print(\"함수의 본문\")"
      ],
      "metadata": {
        "id": "CREvvpimyhDg"
      },
      "execution_count": null,
      "outputs": []
    },
    {
      "cell_type": "code",
      "source": [
        "def func():\n",
        "  print(\"함수의 본문\")"
      ],
      "metadata": {
        "id": "WLFryCmD0P5g"
      },
      "execution_count": null,
      "outputs": []
    },
    {
      "cell_type": "code",
      "source": [
        "list_var = [1,2,3,4,5]\n",
        "print(list_var[5])"
      ],
      "metadata": {
        "id": "h18OTzyf0oou"
      },
      "execution_count": null,
      "outputs": []
    },
    {
      "cell_type": "code",
      "source": [
        "list_var = [1,2,3,4,5]\n",
        "print(list_var[5])"
      ],
      "metadata": {
        "colab": {
          "base_uri": "https://localhost:8080/",
          "height": 204
        },
        "id": "yAifIfGPwhXx",
        "outputId": "5f2cc493-9c6b-43da-eab3-b31eefe132f3"
      },
      "execution_count": null,
      "outputs": [
        {
          "output_type": "error",
          "ename": "IndexError",
          "evalue": "ignored",
          "traceback": [
            "\u001b[0;31m---------------------------------------------------------------------------\u001b[0m",
            "\u001b[0;31mIndexError\u001b[0m                                Traceback (most recent call last)",
            "\u001b[0;32m<ipython-input-3-6a5d794f26b0>\u001b[0m in \u001b[0;36m<cell line: 2>\u001b[0;34m()\u001b[0m\n\u001b[1;32m      1\u001b[0m \u001b[0mlist_var\u001b[0m \u001b[0;34m=\u001b[0m \u001b[0;34m[\u001b[0m\u001b[0;36m1\u001b[0m\u001b[0;34m,\u001b[0m\u001b[0;36m2\u001b[0m\u001b[0;34m,\u001b[0m\u001b[0;36m3\u001b[0m\u001b[0;34m,\u001b[0m\u001b[0;36m4\u001b[0m\u001b[0;34m,\u001b[0m\u001b[0;36m5\u001b[0m\u001b[0;34m]\u001b[0m\u001b[0;34m\u001b[0m\u001b[0;34m\u001b[0m\u001b[0m\n\u001b[0;32m----> 2\u001b[0;31m \u001b[0mprint\u001b[0m\u001b[0;34m(\u001b[0m\u001b[0mlist_var\u001b[0m\u001b[0;34m[\u001b[0m\u001b[0;36m5\u001b[0m\u001b[0;34m]\u001b[0m\u001b[0;34m)\u001b[0m\u001b[0;34m\u001b[0m\u001b[0;34m\u001b[0m\u001b[0m\n\u001b[0m",
            "\u001b[0;31mIndexError\u001b[0m: list index out of range"
          ]
        }
      ]
    },
    {
      "cell_type": "code",
      "source": [
        "list_var = [1,2,3,4,5]\n",
        "print(list_var[4])"
      ],
      "metadata": {
        "colab": {
          "base_uri": "https://localhost:8080/"
        },
        "id": "IQdLEh432tym",
        "outputId": "cc40d0f4-d5bb-401d-b087-ebfa4835b1ff"
      },
      "execution_count": null,
      "outputs": [
        {
          "output_type": "stream",
          "name": "stdout",
          "text": [
            "5\n"
          ]
        }
      ]
    },
    {
      "cell_type": "code",
      "source": [
        "r = 5\n",
        "pi = 4.14159\n",
        "print(\"원의 넓이:\",pi * r ** 2)"
      ],
      "metadata": {
        "colab": {
          "base_uri": "https://localhost:8080/"
        },
        "id": "PDf1jKzC3j-s",
        "outputId": "0f6e276c-3120-4073-f177-c3267fb46f31"
      },
      "execution_count": null,
      "outputs": [
        {
          "output_type": "stream",
          "name": "stdout",
          "text": [
            "원의 넓이: 103.53975\n"
          ]
        }
      ]
    },
    {
      "cell_type": "code",
      "source": [
        "r = 5\n",
        "pi = 3.14159\n",
        "print(\"원의 넓이:\",pi * r ** 2)"
      ],
      "metadata": {
        "colab": {
          "base_uri": "https://localhost:8080/"
        },
        "id": "Tvf72f9j5IRh",
        "outputId": "3d461307-12ed-476c-c16b-ddb94917786b"
      },
      "execution_count": null,
      "outputs": [
        {
          "output_type": "stream",
          "name": "stdout",
          "text": [
            "원의 넓이: 78.53975\n"
          ]
        }
      ]
    },
    {
      "cell_type": "code",
      "source": [
        "import math\n",
        "r = 5\n",
        "print(\"원의 넓이:\",math.pi * r ** 2)"
      ],
      "metadata": {
        "colab": {
          "base_uri": "https://localhost:8080/"
        },
        "id": "hj6yJ0VeDAVR",
        "outputId": "9f37de25-17cb-4b6c-b003-04514815a75b"
      },
      "execution_count": null,
      "outputs": [
        {
          "output_type": "stream",
          "name": "stdout",
          "text": [
            "원의 넓이: 78.53981633974483\n"
          ]
        }
      ]
    },
    {
      "cell_type": "code",
      "source": [
        "r = 5\n",
        "pi = 3.14159\n",
        "area = round(pi * r ** 2,2)\n",
        "expected_result = 78.54\n",
        "print(\"실제값:\",area)\n",
        "print(\"예측값:\",expected_result)\n",
        "assert area == expected_result, \"원의 넓이가 예상하는 결과와 다릅니다.\""
      ],
      "metadata": {
        "colab": {
          "base_uri": "https://localhost:8080/"
        },
        "id": "OwFyRVMfF9wu",
        "outputId": "ee5c4143-cbc3-4bed-c69c-16dd81b4f8fe"
      },
      "execution_count": null,
      "outputs": [
        {
          "output_type": "stream",
          "name": "stdout",
          "text": [
            "실제값: 78.54\n",
            "예측값: 78.54\n"
          ]
        }
      ]
    },
    {
      "cell_type": "code",
      "source": [
        "r = 5\n",
        "pi = 3.14159\n",
        "area = pi * r ** 2\n",
        "expected_result = 78.53981633974483\n",
        "print(\"실제값:\",area)\n",
        "print(\"예측값:\",expected_result)\n",
        "assert area == expected_result, \"원의 넓이가 예상하는 결과와 다릅니다.\""
      ],
      "metadata": {
        "colab": {
          "base_uri": "https://localhost:8080/",
          "height": 261
        },
        "id": "FprBzKhZHpvK",
        "outputId": "c3ba21f9-23ab-4b8f-bd92-603bdd1a04bb"
      },
      "execution_count": null,
      "outputs": [
        {
          "output_type": "stream",
          "name": "stdout",
          "text": [
            "실제값: 78.53975\n",
            "예측값: 78.53981633974483\n"
          ]
        },
        {
          "output_type": "error",
          "ename": "AssertionError",
          "evalue": "ignored",
          "traceback": [
            "\u001b[0;31m---------------------------------------------------------------------------\u001b[0m",
            "\u001b[0;31mAssertionError\u001b[0m                            Traceback (most recent call last)",
            "\u001b[0;32m<ipython-input-26-2fbb9d13d482>\u001b[0m in \u001b[0;36m<cell line: 7>\u001b[0;34m()\u001b[0m\n\u001b[1;32m      5\u001b[0m \u001b[0mprint\u001b[0m\u001b[0;34m(\u001b[0m\u001b[0;34m\"실제값:\"\u001b[0m\u001b[0;34m,\u001b[0m\u001b[0marea\u001b[0m\u001b[0;34m)\u001b[0m\u001b[0;34m\u001b[0m\u001b[0;34m\u001b[0m\u001b[0m\n\u001b[1;32m      6\u001b[0m \u001b[0mprint\u001b[0m\u001b[0;34m(\u001b[0m\u001b[0;34m\"예측값:\"\u001b[0m\u001b[0;34m,\u001b[0m\u001b[0mexpected_result\u001b[0m\u001b[0;34m)\u001b[0m\u001b[0;34m\u001b[0m\u001b[0;34m\u001b[0m\u001b[0m\n\u001b[0;32m----> 7\u001b[0;31m \u001b[0;32massert\u001b[0m \u001b[0marea\u001b[0m \u001b[0;34m==\u001b[0m \u001b[0mexpected_result\u001b[0m\u001b[0;34m,\u001b[0m \u001b[0;34m\"원의 넓이가 예상하는 결과와 다릅니다.\"\u001b[0m\u001b[0;34m\u001b[0m\u001b[0;34m\u001b[0m\u001b[0m\n\u001b[0m",
            "\u001b[0;31mAssertionError\u001b[0m: 원의 넓이가 예상하는 결과와 다릅니다."
          ]
        }
      ]
    },
    {
      "cell_type": "code",
      "source": [
        "import math\n",
        "r = 5\n",
        "#pi = 3.14159\n",
        "#area = pi * r ** 2\n",
        "area = math.pi * r ** 2\n",
        "expected_result = 78.53981633974483\n",
        "print(\"실제값:\",area)\n",
        "print(\"예측값:\",expected_result)\n",
        "assert area == expected_result, \"원의 넓이가 예상하는 결과와 다릅니다.\""
      ],
      "metadata": {
        "colab": {
          "base_uri": "https://localhost:8080/"
        },
        "id": "CxQtho3tofEx",
        "outputId": "12588615-edc7-4a57-c549-d2f7eb17a272"
      },
      "execution_count": 1,
      "outputs": [
        {
          "output_type": "stream",
          "name": "stdout",
          "text": [
            "실제값: 78.53981633974483\n",
            "예측값: 78.53981633974483\n"
          ]
        }
      ]
    },
    {
      "cell_type": "code",
      "source": [
        "def add_to_10(i):\n",
        "  if i == 10: return i\n",
        "\n",
        "  return i + add_to_10(i+1)\n",
        "\n",
        "sum = add_to_10(1)\n",
        "print('1~10까지 더한 합은',sum,'입니다.')"
      ],
      "metadata": {
        "id": "UPnUtrT5gUTm"
      },
      "execution_count": null,
      "outputs": []
    },
    {
      "cell_type": "code",
      "source": [
        "def add_to_10(i):\n",
        "  if i == 10:\n",
        "    return i\n",
        "\n",
        "  return i + add_to_10(i+1)\n",
        "\n",
        "sum = add_to_10(1)\n",
        "print('1~10까지 더한 합은',sum,'입니다.')"
      ],
      "metadata": {
        "id": "hoGefg3ogC4Y"
      },
      "execution_count": null,
      "outputs": []
    },
    {
      "cell_type": "code",
      "source": [
        "def add_to_10(i):\n",
        "  if i == 10:\n",
        "    return i\n",
        "\n",
        "  sum = i + add_to_10(i+1)\n",
        "  return sum\n",
        "\n",
        "sum = add_to_10(1)\n",
        "print('1~10까지 더한 합은',sum,'입니다.')"
      ],
      "metadata": {
        "id": "N_NdTtEIxaM4"
      },
      "execution_count": null,
      "outputs": []
    },
    {
      "cell_type": "code",
      "source": [
        "# 초기 반복조건 설정\n",
        "print(\"연산자를 입력하세요. 연산을 종료하려면 q를 입력한 후 Enter 키를 치세요.\")\n",
        "operator = input(\"연산자 : \")\n",
        "\n",
        "while operator != 'q':          # 반복조건을 판단하는 논리식\n",
        "    # 입력(Input)\n",
        "    first_number = int(input(\"첫번째 숫자 : \"))\n",
        "    second_number = int(input(\"두번째 숫자 : \"))\n",
        "\n",
        "    # 처리(Process)\n",
        "    if operator == '+':\n",
        "        result = first_number + second_number\n",
        "    elif operator == '-':\n",
        "        result = first_number - second_number\n",
        "    elif operator == '*':\n",
        "        result = first_number * second_number\n",
        "    elif operator == '/':\n",
        "        result = first_number / second_number\n",
        "    else:\n",
        "        print(\"사칙연산 이외의 기능은 아직 구현되지 않았습니다.\")\n",
        "\n",
        "    # 출력(Output)\n",
        "    print(str(first_number), operator, str(second_number), \"=\", str(result))\n",
        "\n",
        "    # 반복조건 변경\n",
        "    print(\"연산자를 입력하세요. 연산을 종료하려면 q를 입력한 후 Enter 키를 치세요.\")\n",
        "    operator = input(\"연산자 : \")"
      ],
      "metadata": {
        "id": "hjO30cit4Orq"
      },
      "execution_count": null,
      "outputs": []
    },
    {
      "cell_type": "code",
      "source": [
        "eval(\"10+20\")"
      ],
      "metadata": {
        "colab": {
          "base_uri": "https://localhost:8080/"
        },
        "id": "v-V4q--W51SB",
        "outputId": "e0c7b8d9-f7dd-4a64-8afc-0c7939875b18"
      },
      "execution_count": null,
      "outputs": [
        {
          "output_type": "execute_result",
          "data": {
            "text/plain": [
              "30"
            ]
          },
          "metadata": {},
          "execution_count": 28
        }
      ]
    },
    {
      "cell_type": "code",
      "source": [
        "valid_operators = ['+','-','*','/']\n",
        "\n",
        "# 초기 반복조건 설정\n",
        "print(\"연산자를 입력하세요. 연산을 종료하려면 q를 입력한 후 Enter 키를 치세요.\")\n",
        "operator = input(\"연산자 : \")\n",
        "\n",
        "while operator != 'q':          # 반복조건을 판단하는 논리식\n",
        "    if operator in valid_operators:\n",
        "        # 입력(Input)\n",
        "        first_number = int(input(\"첫번째 숫자 : \"))\n",
        "        second_number = int(input(\"두번째 숫자 : \"))\n",
        "\n",
        "        # 처리(Process)\n",
        "        result = eval(str(first_number) + operator + str(second_number))\n",
        "\n",
        "        # 출력(Output)\n",
        "        print(str(first_number), operator, str(second_number), \"=\", str(result))\n",
        "    else:\n",
        "        print(\"사칙연산 이외의 기능은 아직 구현되지 않았습니다.\")\n",
        "\n",
        "    # 반복조건 변경\n",
        "    print(\"연산자를 입력하세요. 연산을 종료하려면 q를 입력한 후 Enter 키를 치세요.\")\n",
        "    operator = input(\"연산자 : \")"
      ],
      "metadata": {
        "id": "CjQ70jaO6Pu9"
      },
      "execution_count": null,
      "outputs": []
    },
    {
      "cell_type": "code",
      "source": [
        "def calculate(operator):\n",
        "    # 입력(Input)\n",
        "    first_number = int(input(\"첫번째 숫자 : \"))\n",
        "    second_number = int(input(\"두번째 숫자 : \"))\n",
        "\n",
        "    # 처리(Process)\n",
        "    result = eval(str(first_number) + operator + str(second_number))\n",
        "\n",
        "    # 출력(Output)\n",
        "    print(str(first_number), operator, str(second_number), \"=\", str(result))\n",
        "\n",
        "valid_operators = ['+','-','*','/']\n",
        "\n",
        "# 초기 반복조건 설정\n",
        "print(\"연산자를 입력하세요. 연산을 종료하려면 q를 입력한 후 Enter 키를 치세요.\")\n",
        "operator = input(\"연산자 : \")\n",
        "\n",
        "while operator != 'q':          # 반복조건을 판단하는 논리식\n",
        "    if operator in valid_operators:\n",
        "        calculate(operator)\n",
        "    else:\n",
        "        print(\"사칙연산 이외의 기능은 아직 구현되지 않았습니다.\")\n",
        "\n",
        "    # 반복조건 변경\n",
        "    print(\"연산자를 입력하세요. 연산을 종료하려면 q를 입력한 후 Enter 키를 치세요.\")\n",
        "    operator = input(\"연산자 : \")"
      ],
      "metadata": {
        "id": "Aw86Tf1g6sgx"
      },
      "execution_count": null,
      "outputs": []
    },
    {
      "cell_type": "markdown",
      "source": [
        "\t모듈, 패키지 그리고 import"
      ],
      "metadata": {
        "id": "TnABr9cy8YYv"
      }
    },
    {
      "cell_type": "code",
      "source": [
        "import math\n",
        "math.exp(3)"
      ],
      "metadata": {
        "id": "yJhlqSLW8aT9"
      },
      "execution_count": null,
      "outputs": []
    },
    {
      "cell_type": "code",
      "source": [
        "pip install matplotlib"
      ],
      "metadata": {
        "id": "pCh9C0Oq9CUZ"
      },
      "execution_count": null,
      "outputs": []
    },
    {
      "cell_type": "code",
      "source": [
        "import matplotlib"
      ],
      "metadata": {
        "id": "2CYH2ba1-Rxm"
      },
      "execution_count": null,
      "outputs": []
    },
    {
      "cell_type": "code",
      "source": [
        "import matplotlib.pyplot\n",
        "x = [1,2,3]\n",
        "y = [1,3,1]\n",
        "matplotlib.pyplot.plot(x,y)\n",
        "matplotlib.pyplot.show()"
      ],
      "metadata": {
        "id": "68jbabOo--bl"
      },
      "execution_count": null,
      "outputs": []
    },
    {
      "cell_type": "code",
      "source": [
        "import matplotlib.pyplot as plt\n",
        "x = [1,2,3]\n",
        "y = [1,3,1]\n",
        "plt.plot(x,y)\n",
        "plt.show()"
      ],
      "metadata": {
        "id": "hU1UEw9MARbA"
      },
      "execution_count": null,
      "outputs": []
    },
    {
      "cell_type": "code",
      "source": [
        "import matplotlib\n",
        "type(matplotlib)\n",
        "import matplotlib.pyplot as plt\n",
        "type(matplotlib.pyplot)\n",
        "type(plt)"
      ],
      "metadata": {
        "id": "gccJbRHfBjTY"
      },
      "execution_count": null,
      "outputs": []
    },
    {
      "cell_type": "code",
      "source": [
        "import math\n",
        "exp(3)\n",
        "math.exp(3)\n",
        "from math import exp\n",
        "exp(3)\n",
        "from math import sin, cos\n",
        "sin(0)\n",
        "cos(0)\n",
        "from math import *\n",
        "tan(0)"
      ],
      "metadata": {
        "id": "6TNHxUX5CtXr"
      },
      "execution_count": null,
      "outputs": []
    },
    {
      "cell_type": "code",
      "source": [
        "python.exe\n",
        "import calculator"
      ],
      "metadata": {
        "id": "Mb7aBlhzFL2l"
      },
      "execution_count": null,
      "outputs": []
    },
    {
      "cell_type": "code",
      "source": [
        "def calculate(operator):\n",
        "    # 입력(Input)\n",
        "    first_number = int(input(\"첫번째 숫자 : \"))\n",
        "    second_number = int(input(\"두번째 숫자 : \"))\n",
        "\n",
        "    # 처리(Process)\n",
        "    result = eval(str(first_number) + operator + str(second_number))\n",
        "\n",
        "    # 출력(Output)\n",
        "    print(str(first_number), operator, str(second_number), \"=\", str(result))\n",
        "\n",
        "def main():\n",
        "    valid_operators = ['+','-','*','/']\n",
        "\n",
        "    # 초기 반복조건 설정\n",
        "    print(\"연산자를 입력하세요. 연산을 종료하려면 q를 입력한 후 Enter 키를 치세요.\")\n",
        "    operator = input(\"연산자 : \")\n",
        "\n",
        "    while operator != 'q':          # 반복조건을 판단하는 논리식\n",
        "        if operator in valid_operators:\n",
        "            calculate(operator)\n",
        "        else:\n",
        "            print(\"사칙연산 이외의 기능은 아직 구현되지 않았습니다.\")\n",
        "\n",
        "        # 반복조건 변경\n",
        "        print(\"연산자를 입력하세요. 연산을 종료하려면 q를 입력한 후 Enter 키를 치세요.\")\n",
        "        operator = input(\"연산자 : \")"
      ],
      "metadata": {
        "id": "hnXU9fxgFi3J"
      },
      "execution_count": null,
      "outputs": []
    },
    {
      "cell_type": "code",
      "source": [
        "q\n",
        "import calculator\n",
        "calculator.calculate(\"*\")"
      ],
      "metadata": {
        "id": "PlCZX6O4Fz8K"
      },
      "execution_count": null,
      "outputs": []
    },
    {
      "cell_type": "code",
      "source": [
        "exit()"
      ],
      "metadata": {
        "id": "oOvSYb62GjrW"
      },
      "execution_count": null,
      "outputs": []
    },
    {
      "cell_type": "markdown",
      "source": [
        "\t객체"
      ],
      "metadata": {
        "id": "snru1cv3HFVC"
      }
    },
    {
      "cell_type": "code",
      "source": [
        "python.exe"
      ],
      "metadata": {
        "id": "tbGtCmxiBLpQ"
      },
      "execution_count": null,
      "outputs": []
    },
    {
      "cell_type": "code",
      "source": [
        "import calculator\n",
        "type(calculator)\n",
        "type(calculator.calculate)"
      ],
      "metadata": {
        "id": "B33CkOACA16p"
      },
      "execution_count": null,
      "outputs": []
    },
    {
      "cell_type": "code",
      "source": [
        "first_number = 10\n",
        "dir(int)\n",
        "dir(first_number)"
      ],
      "metadata": {
        "id": "ac2U5HmoBjOO"
      },
      "execution_count": null,
      "outputs": []
    },
    {
      "cell_type": "code",
      "source": [
        "first_number = 10\n",
        "type(first_number)\n",
        "type(first_number.__dir__)\n",
        "type(first_number.bit_count)\n",
        "type(first_number.denominator)"
      ],
      "metadata": {
        "id": "fxB9AZCMJQJA"
      },
      "execution_count": null,
      "outputs": []
    },
    {
      "cell_type": "code",
      "source": [
        "string_variable = \"My name is Yong Jae Ahn\"\n",
        "type(string_variable)\n",
        "string_variable.split()\n",
        "string_variable.isupper()\n",
        "string_variable.upper()\n",
        "string_variable.upper().isupper()"
      ],
      "metadata": {
        "id": "-q3J59WDKCN2"
      },
      "execution_count": null,
      "outputs": []
    },
    {
      "cell_type": "code",
      "source": [
        "complex_variable = 3 + 4j\n",
        "type(complex_variable)\n",
        "complex_variable.real\n",
        "complex_variable.imag\n",
        "complex_variable.conjugate()"
      ],
      "metadata": {
        "id": "pXfcra8qLMEf"
      },
      "execution_count": null,
      "outputs": []
    },
    {
      "cell_type": "code",
      "source": [
        "import math\n",
        "(complex_variable.real**2 + complex_variable.imag**2)**(1/2)\n",
        "abs(complex_variable)\n",
        "math.sqrt(complex_variable.real**2 + complex_variable.imag**2)"
      ],
      "metadata": {
        "id": "PxWLzeyxMFk8"
      },
      "execution_count": null,
      "outputs": []
    },
    {
      "cell_type": "code",
      "source": [
        "import math\n",
        "radius = 5\n",
        "area = math.pi * radius**2\n",
        "area\n",
        "math.pi = 5\n",
        "area = math.pi * radius**2\n",
        "area\n",
        "math.pi = None\n",
        "area = math.pi * radius**2"
      ],
      "metadata": {
        "id": "VHTI4gOgQBHk"
      },
      "execution_count": null,
      "outputs": []
    },
    {
      "cell_type": "code",
      "source": [
        "def calculate(operator):\n",
        "    # 입력(Input)\n",
        "    first_number = int(input(\"첫번째 숫자 : \"))\n",
        "    second_number = int(input(\"두번째 숫자 : \"))\n",
        "\n",
        "    # 처리(Process)\n",
        "    result = eval(str(first_number) + operator + str(second_number))\n",
        "\n",
        "    # 출력(Output)\n",
        "    print(str(first_number), operator, str(second_number), \"=\", str(result))\n",
        "\n",
        "def main():\n",
        "    valid_operators = ['+','-','*','/']\n",
        "\n",
        "    # 초기 반복조건 설정\n",
        "    print(\"연산자를 입력하세요. 연산을 종료하려면 q를 입력한 후 Enter 키를 치세요.\")\n",
        "    operator = input(\"연산자 : \")\n",
        "\n",
        "    while operator != 'q':          # 반복조건을 판단하는 논리식\n",
        "        if operator in valid_operators:\n",
        "            calculate(operator)\n",
        "        else:\n",
        "            print(\"사칙연산 이외의 기능은 아직 구현되지 않았습니다.\")\n",
        "\n",
        "        # 반복조건 변경\n",
        "        print(\"연산자를 입력하세요. 연산을 종료하려면 q를 입력한 후 Enter 키를 치세요.\")\n",
        "        operator = input(\"연산자 : \")\n",
        "\n",
        "main()"
      ],
      "metadata": {
        "id": "XMLn1vcXRd9Q"
      },
      "execution_count": null,
      "outputs": []
    },
    {
      "cell_type": "code",
      "source": [
        "python.exe\n",
        "import calculator"
      ],
      "metadata": {
        "id": "cLH2Q-riRzyJ"
      },
      "execution_count": null,
      "outputs": []
    },
    {
      "cell_type": "code",
      "source": [
        "import calculator\n",
        "print(calculator.__name__)\n",
        "print(__name__)"
      ],
      "metadata": {
        "id": "2gmIqACUS5W1"
      },
      "execution_count": null,
      "outputs": []
    },
    {
      "cell_type": "code",
      "source": [
        "def calculate(operator):\n",
        "    # 입력(Input)\n",
        "    first_number = int(input(\"첫번째 숫자 : \"))\n",
        "    second_number = int(input(\"두번째 숫자 : \"))\n",
        "\n",
        "    # 처리(Process)\n",
        "    result = eval(str(first_number) + operator + str(second_number))\n",
        "\n",
        "    # 출력(Output)\n",
        "    print(str(first_number), operator, str(second_number), \"=\", str(result))\n",
        "\n",
        "def main():\n",
        "    valid_operators = ['+','-','*','/']\n",
        "\n",
        "    # 초기 반복조건 설정\n",
        "    print(\"연산자를 입력하세요. 연산을 종료하려면 q를 입력한 후 Enter 키를 치세요.\")\n",
        "    operator = input(\"연산자 : \")\n",
        "\n",
        "    while operator != 'q':          # 반복조건을 판단하는 논리식\n",
        "        if operator in valid_operators:\n",
        "            calculate(operator)\n",
        "        else:\n",
        "            print(\"사칙연산 이외의 기능은 아직 구현되지 않았습니다.\")\n",
        "\n",
        "        # 반복조건 변경\n",
        "        print(\"연산자를 입력하세요. 연산을 종료하려면 q를 입력한 후 Enter 키를 치세요.\")\n",
        "        operator = input(\"연산자 : \")\n",
        "\n",
        "if __name__ == \"__main__\":\n",
        "    main()"
      ],
      "metadata": {
        "id": "lFSJFEz0TeBC"
      },
      "execution_count": null,
      "outputs": []
    },
    {
      "cell_type": "code",
      "source": [
        "python.exe\n",
        "import calculator\n",
        "exit()"
      ],
      "metadata": {
        "id": "gza8xES8TqYm"
      },
      "execution_count": null,
      "outputs": []
    },
    {
      "cell_type": "code",
      "source": [
        "help(help)"
      ],
      "metadata": {
        "id": "6D45Q96uC4OB"
      },
      "execution_count": null,
      "outputs": []
    },
    {
      "cell_type": "code",
      "source": [
        "help(math)\n",
        "import math\n",
        "help(math)"
      ],
      "metadata": {
        "id": "fOCGKA3nDcwf"
      },
      "execution_count": null,
      "outputs": []
    },
    {
      "cell_type": "code",
      "source": [
        "help(math.sin)"
      ],
      "metadata": {
        "id": "L3Vp5NETEYhX"
      },
      "execution_count": null,
      "outputs": []
    },
    {
      "cell_type": "code",
      "source": [
        "import matplotlib\n",
        "help(matplotlib)"
      ],
      "metadata": {
        "id": "rS2VtQHxEjQH"
      },
      "execution_count": null,
      "outputs": []
    },
    {
      "cell_type": "code",
      "source": [
        "def calculate(operator):\n",
        "    # 입력(Input)\n",
        "    first_number = int(input(\"첫번째 숫자 : \"))\n",
        "    second_number = int(input(\"두번째 숫자 : \"))\n",
        "\n",
        "    # 처리(Process)\n",
        "    result = eval(str(first_number) + operator + str(second_number))\n",
        "\n",
        "    # 출력(Output)\n",
        "    print(str(first_number), operator, str(second_number), \"=\", str(result))\n",
        "\n",
        "def get_operator():\n",
        "    print(\"연산자를 입력하세요. 연산을 종료하려면 q를 입력한 후 Enter 키를 치세요.\")\n",
        "    operator = input(\"연산자 : \")\n",
        "    return operator\n",
        "\n",
        "def main():\n",
        "    valid_operators = ['+','-','*','/']\n",
        "\n",
        "    # 초기 반복조건 설정\n",
        "    #print(\"연산자를 입력하세요. 연산을 종료하려면 q를 입력한 후 Enter 키를 치세요.\")\n",
        "    #operator = input(\"연산자 : \")\n",
        "    operator = get_operator()\n",
        "\n",
        "    while operator != 'q':          # 반복조건을 판단하는 논리식\n",
        "        if operator in valid_operators:\n",
        "            calculate(operator)\n",
        "        else:\n",
        "            print(\"사칙연산 이외의 기능은 아직 구현되지 않았습니다.\")\n",
        "\n",
        "        # 반복조건 변경\n",
        "        #print(\"연산자를 입력하세요. 연산을 종료하려면 q를 입력한 후 Enter 키를 치세요.\")\n",
        "        #operator = input(\"연산자 : \")\n",
        "        operator = get_operator()\n",
        "\n",
        "if __name__ == \"__main__\":\n",
        "    main()"
      ],
      "metadata": {
        "id": "sJyBRjVjB1Cn"
      },
      "execution_count": null,
      "outputs": []
    },
    {
      "cell_type": "code",
      "source": [
        "def calculate(operator):\n",
        "    # 입력(Input)\n",
        "    first_number = int(input(\"첫번째 숫자 : \"))\n",
        "    second_number = int(input(\"두번째 숫자 : \"))\n",
        "\n",
        "    # 처리(Process)\n",
        "    result = eval(str(first_number) + operator + str(second_number))\n",
        "\n",
        "    # 출력(Output)\n",
        "    print(str(first_number), operator, str(second_number), \"=\", str(result))\n",
        "\n",
        "def get_operator():\n",
        "    print(\"연산자를 입력하세요. 연산을 종료하려면 q를 입력한 후 Enter 키를 치세요.\")\n",
        "    operator = input(\"연산자 : \")\n",
        "    return operator\n",
        "\n",
        "def main():\n",
        "    valid_operators = ['+','-','*','/']\n",
        "\n",
        "    # 초기 반복조건 설정\n",
        "    #print(\"연산자를 입력하세요. 연산을 종료하려면 q를 입력한 후 Enter 키를 치세요.\")\n",
        "    #operator = input(\"연산자 : \")\n",
        "    #operator = get_operator()\n",
        "\n",
        "    #while operator != 'q':          # 반복조건을 판단하는 논리식\n",
        "    while (operator := get_operator()) != 'q':          # 반복조건을 판단하는 논리식\n",
        "        if operator in valid_operators:\n",
        "            calculate(operator)\n",
        "        else:\n",
        "            print(\"사칙연산 이외의 기능은 아직 구현되지 않았습니다.\")\n",
        "\n",
        "        # 반복조건 변경\n",
        "        #print(\"연산자를 입력하세요. 연산을 종료하려면 q를 입력한 후 Enter 키를 치세요.\")\n",
        "        #operator = input(\"연산자 : \")\n",
        "        #operator = get_operator()\n",
        "\n",
        "if __name__ == \"__main__\":\n",
        "    main()"
      ],
      "metadata": {
        "id": "5DUGztoIwZ7m"
      },
      "execution_count": null,
      "outputs": []
    },
    {
      "cell_type": "code",
      "source": [
        "operator = '+'\n",
        "operator := '+'"
      ],
      "metadata": {
        "id": "EzKFNMjs9ZBy"
      },
      "execution_count": null,
      "outputs": []
    },
    {
      "cell_type": "code",
      "source": [
        "while operator = '+' != 'q':"
      ],
      "metadata": {
        "id": "9u8llIyqDKWO"
      },
      "execution_count": null,
      "outputs": []
    },
    {
      "cell_type": "code",
      "source": [
        "if operator := '+' != 'q':\n",
        "    print(operator)"
      ],
      "metadata": {
        "id": "SEehk2ZWDezj"
      },
      "execution_count": null,
      "outputs": []
    },
    {
      "cell_type": "code",
      "source": [
        "if (operator := '+') != 'q':\n",
        "    print(operator)"
      ],
      "metadata": {
        "id": "c5ryXzrCDuLC"
      },
      "execution_count": null,
      "outputs": []
    }
  ]
}