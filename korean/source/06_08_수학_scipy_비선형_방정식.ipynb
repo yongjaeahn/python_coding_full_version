{
  "nbformat": 4,
  "nbformat_minor": 0,
  "metadata": {
    "colab": {
      "provenance": [],
      "authorship_tag": "ABX9TyMzTSjMHoa9Omhpsgm5HK72",
      "include_colab_link": true
    },
    "kernelspec": {
      "name": "python3",
      "display_name": "Python 3"
    },
    "language_info": {
      "name": "python"
    }
  },
  "cells": [
    {
      "cell_type": "markdown",
      "metadata": {
        "id": "view-in-github",
        "colab_type": "text"
      },
      "source": [
        "<a href=\"https://colab.research.google.com/github/yongjaeahn/python_coding/blob/main/korean/source/06_08_%EC%88%98%ED%95%99_scipy_%EB%B9%84%EC%84%A0%ED%98%95_%EB%B0%A9%EC%A0%95%EC%8B%9D.ipynb\" target=\"_parent\"><img src=\"https://colab.research.google.com/assets/colab-badge.svg\" alt=\"Open In Colab\"/></a>"
      ]
    },
    {
      "cell_type": "markdown",
      "source": [
        "\tscipy 비선형 방정식"
      ],
      "metadata": {
        "id": "nqWxg7veKmKs"
      }
    },
    {
      "cell_type": "code",
      "execution_count": null,
      "metadata": {
        "colab": {
          "base_uri": "https://localhost:8080/"
        },
        "id": "u_LDM0VSn-pW",
        "outputId": "aff22504-1927-4dcf-890e-c94a05a894a7"
      },
      "outputs": [
        {
          "output_type": "stream",
          "name": "stdout",
          "text": [
            "방정식의 해 : [LambertW(1)]\n"
          ]
        }
      ],
      "source": [
        "import sympy as sp\n",
        "\n",
        "x = sp.Symbol('x')\n",
        "f = sp.Eq(x,sp.exp(-x))\n",
        "solutions = sp.solve(f)\n",
        "print('방정식의 해 :', solutions)"
      ]
    },
    {
      "cell_type": "code",
      "source": [
        "import numpy as np\n",
        "import matplotlib.pyplot as plt\n",
        "\n",
        "x = np.linspace(-2,2,100)\n",
        "y = np.exp(-x)\n",
        "\n",
        "plt.plot(x,x,label='x')\n",
        "plt.plot(x,y,label=r'$e^{-x}$')\n",
        "plt.legend()\n",
        "plt.show()"
      ],
      "metadata": {
        "colab": {
          "base_uri": "https://localhost:8080/",
          "height": 265
        },
        "id": "dcYts1Tdpnde",
        "outputId": "89174b8a-b720-40c5-bed7-48ac68d61722"
      },
      "execution_count": null,
      "outputs": [
        {
          "output_type": "display_data",
          "data": {
            "text/plain": [
              "<Figure size 432x288 with 1 Axes>"
            ],
            "image/png": "[encoded data removed]"
          },
          "metadata": {
            "needs_background": "light"
          }
        }
      ]
    },
    {
      "cell_type": "code",
      "source": [
        "import numpy as np\n",
        "from scipy import optimize\n",
        "\n",
        "def f(x):\n",
        "  return x - np.exp(-x)\n",
        "\n",
        "print(optimize.fsolve(f,0.0))\n",
        "print(optimize.fsolve(f,1.0))"
      ],
      "metadata": {
        "colab": {
          "base_uri": "https://localhost:8080/"
        },
        "id": "SqH5vYC2wbMq",
        "outputId": "7595a21e-e5e2-459f-e58d-46ac04481693"
      },
      "execution_count": 2,
      "outputs": [
        {
          "output_type": "stream",
          "name": "stdout",
          "text": [
            "[0.56714329]\n",
            "[0.56714329]\n"
          ]
        }
      ]
    },
    {
      "cell_type": "code",
      "source": [
        "import numpy as np\n",
        "from scipy import optimize\n",
        "\n",
        "def f(x):\n",
        "  return x - np.exp(-x)\n",
        "\n",
        "print('Python 함수로 생성된 방정식의 객체유형(클래스,class) :', type(f))\n",
        "root = optimize.fsolve(f,0.0)\n",
        "print('근을 사용한 방정식의 계산 결과 :', f(root[0]))\n",
        "print(f)\n",
        "f"
      ],
      "metadata": {
        "colab": {
          "base_uri": "https://localhost:8080/"
        },
        "id": "CXaEY0s6nq5A",
        "outputId": "50630f95-443b-43ba-ca54-42830cb31975"
      },
      "execution_count": 3,
      "outputs": [
        {
          "output_type": "stream",
          "name": "stdout",
          "text": [
            "Python 함수로 생성된 방정식의 객체유형(클래스,class) : <class 'function'>\n",
            "근을 사용한 방정식의 계산 결과 : 0.0\n",
            "<function f at 0x7c4d7a868c10>\n"
          ]
        },
        {
          "output_type": "execute_result",
          "data": {
            "text/plain": [
              "<function __main__.f(x)>"
            ]
          },
          "metadata": {},
          "execution_count": 3
        }
      ]
    },
    {
      "cell_type": "code",
      "source": [
        "from scipy import optimize\n",
        "\n",
        "def f(x):\n",
        "  return x**2 + 2*x + 1\n",
        "\n",
        "print(optimize.fsolve(f,-2))\n",
        "print(optimize.fsolve(f,0))"
      ],
      "metadata": {
        "colab": {
          "base_uri": "https://localhost:8080/"
        },
        "id": "cZvfUGR43mlC",
        "outputId": "448ba45f-ec8c-4a6e-fd6d-4317c60ce946"
      },
      "execution_count": 4,
      "outputs": [
        {
          "output_type": "stream",
          "name": "stdout",
          "text": [
            "[-1.00000001]\n",
            "[-1.]\n"
          ]
        }
      ]
    },
    {
      "cell_type": "code",
      "source": [
        "from scipy import optimize\n",
        "\n",
        "def f(x):\n",
        "  return 3*x**3 - 2*x**2 + 4\n",
        "\n",
        "print(optimize.fsolve(f,0.7))\n",
        "print(optimize.fsolve(f,-1.0))"
      ],
      "metadata": {
        "colab": {
          "base_uri": "https://localhost:8080/"
        },
        "id": "1wy7o47i3Bj9",
        "outputId": "8383280c-3fdd-4c8a-e444-995efb21f7e0"
      },
      "execution_count": 5,
      "outputs": [
        {
          "output_type": "stream",
          "name": "stdout",
          "text": [
            "[0.44422218]\n",
            "[-0.91743916]\n"
          ]
        },
        {
          "output_type": "stream",
          "name": "stderr",
          "text": [
            "/usr/local/lib/python3.10/dist-packages/scipy/optimize/_minpack_py.py:178: RuntimeWarning: The iteration is not making good progress, as measured by the \n",
            "  improvement from the last five Jacobian evaluations.\n",
            "  warnings.warn(msg, RuntimeWarning)\n"
          ]
        }
      ]
    },
    {
      "cell_type": "code",
      "source": [
        "import numpy as np\n",
        "import matplotlib.pyplot as plt\n",
        "\n",
        "x = np.linspace(-1,1,100)\n",
        "y = 3*x**3 - 2*x**2 + 4\n",
        "\n",
        "plt.plot(x,y)\n",
        "plt.hlines(y=0,xmin=-1,xmax=-0.75,linestyles=':')\n",
        "plt.show()"
      ],
      "metadata": {
        "colab": {
          "base_uri": "https://localhost:8080/",
          "height": 265
        },
        "id": "Yatlvl5z87GX",
        "outputId": "72834ea0-57e6-4d1a-cade-23c24d8976a4"
      },
      "execution_count": null,
      "outputs": [
        {
          "output_type": "display_data",
          "data": {
            "text/plain": [
              "<Figure size 432x288 with 1 Axes>"
            ],
            "image/png": "[encoded data removed]"
          },
          "metadata": {
            "needs_background": "light"
          }
        }
      ]
    },
    {
      "cell_type": "code",
      "source": [
        "from scipy import optimize\n",
        "\n",
        "def f(x):\n",
        "  return 3*x**3 - 2*x**2 + 4\n",
        "\n",
        "print(optimize.fsolve(f,-0.75))\n",
        "print(optimize.fsolve(f,-1.0))"
      ],
      "metadata": {
        "colab": {
          "base_uri": "https://localhost:8080/"
        },
        "id": "NtVbTe17CUbW",
        "outputId": "c4302ac5-57d4-470d-bac5-0172b4c1cf63"
      },
      "execution_count": null,
      "outputs": [
        {
          "output_type": "stream",
          "name": "stdout",
          "text": [
            "[-0.91743916]\n",
            "[-0.91743916]\n"
          ]
        }
      ]
    },
    {
      "cell_type": "code",
      "source": [
        "import numpy as np\n",
        "import matplotlib.pyplot as plt\n",
        "\n",
        "def f(x):\n",
        "  return 3**(2*x)\n",
        "\n",
        "x = np.linspace(-100,100)\n",
        "y = f(x)\n",
        "plt.plot(x,y)\n",
        "plt.show()"
      ],
      "metadata": {
        "colab": {
          "base_uri": "https://localhost:8080/",
          "height": 276
        },
        "id": "EeM54baADdxh",
        "outputId": "40043199-d72e-4c04-8cf2-ee530c78fdf7"
      },
      "execution_count": null,
      "outputs": [
        {
          "output_type": "display_data",
          "data": {
            "text/plain": [
              "<Figure size 432x288 with 1 Axes>"
            ],
            "image/png": "[encoded data removed]"
          },
          "metadata": {
            "needs_background": "light"
          }
        }
      ]
    },
    {
      "cell_type": "code",
      "source": [
        "x = np.linspace(-100,-99,20)\n",
        "y = f(x)\n",
        "plt.plot(x,y)\n",
        "plt.show()"
      ],
      "metadata": {
        "colab": {
          "base_uri": "https://localhost:8080/",
          "height": 276
        },
        "id": "pBXWA7qHDigY",
        "outputId": "d72a956a-afda-424c-d238-b876d7440fc0"
      },
      "execution_count": null,
      "outputs": [
        {
          "output_type": "display_data",
          "data": {
            "text/plain": [
              "<Figure size 432x288 with 1 Axes>"
            ],
            "image/png": "[encoded data removed]"
          },
          "metadata": {
            "needs_background": "light"
          }
        }
      ]
    },
    {
      "cell_type": "code",
      "source": [
        "import numpy as np\n",
        "import matplotlib.pyplot as plt\n",
        "\n",
        "def f(x):\n",
        "  return np.sin(x) - 0.5 * x\n",
        "\n",
        "x = np.linspace(0,np.pi,50)\n",
        "y = f(x)\n",
        "plt.plot(x,y)\n",
        "plt.hlines(y=0,xmin=1.5,xmax=2.5,linestyles=':')\n",
        "plt.show()"
      ],
      "metadata": {
        "colab": {
          "base_uri": "https://localhost:8080/",
          "height": 265
        },
        "id": "YB55jVFh5elO",
        "outputId": "7ebd7a17-d52e-4634-9284-79243e308253"
      },
      "execution_count": null,
      "outputs": [
        {
          "output_type": "display_data",
          "data": {
            "text/plain": [
              "<Figure size 432x288 with 1 Axes>"
            ],
            "image/png": "[encoded data removed]"
          },
          "metadata": {
            "needs_background": "light"
          }
        }
      ]
    },
    {
      "cell_type": "code",
      "source": [
        "from scipy import optimize\n",
        "\n",
        "print(optimize.fsolve(f,1.5))\n",
        "print(optimize.fsolve(f,2.5))"
      ],
      "metadata": {
        "colab": {
          "base_uri": "https://localhost:8080/"
        },
        "id": "A6O1VM3g6M9N",
        "outputId": "d7250c0c-39b2-4c2c-9668-03c039610b77"
      },
      "execution_count": null,
      "outputs": [
        {
          "output_type": "stream",
          "name": "stdout",
          "text": [
            "[1.89549427]\n",
            "[1.89549427]\n"
          ]
        }
      ]
    }
  ]
}